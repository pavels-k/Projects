{
 "cells": [
  {
   "cell_type": "markdown",
   "metadata": {},
   "source": [
    "# Решение тестового задания\n",
    "    Для того, чтобы определить, в какой день были обычные результаты, а в какой необычные, построим кривую, которая описывается полиномом с помощью метода наименьших квадратов. Для определения лучшей степени полинома построим несколько графиков разных степеней. Также построим границы, с помощью которых можно ответить на вопрос, был ли обычный день или нет. Границы будут отличаться от изначально построенной прямой только свободным многочленом. В таком случае будет зависимость между периодами и шагами, так как в какой-то момент жизни пользователь может ходить меньше или больше другого периода. "
   ]
  },
  {
   "cell_type": "markdown",
   "metadata": {},
   "source": [
    "Подключаем необходимые библиотеки:"
   ]
  },
  {
   "cell_type": "code",
   "execution_count": 2,
   "metadata": {},
   "outputs": [],
   "source": [
    "import pandas as pd\n",
    "import numpy as np\n",
    "from collections import defaultdict\n",
    "import matplotlib.pyplot as plt"
   ]
  },
  {
   "cell_type": "code",
   "execution_count": 3,
   "metadata": {},
   "outputs": [
    {
     "data": {
      "text/html": [
       "<div>\n",
       "<style scoped>\n",
       "    .dataframe tbody tr th:only-of-type {\n",
       "        vertical-align: middle;\n",
       "    }\n",
       "\n",
       "    .dataframe tbody tr th {\n",
       "        vertical-align: top;\n",
       "    }\n",
       "\n",
       "    .dataframe thead th {\n",
       "        text-align: right;\n",
       "    }\n",
       "</style>\n",
       "<table border=\"1\" class=\"dataframe\">\n",
       "  <thead>\n",
       "    <tr style=\"text-align: right;\">\n",
       "      <th></th>\n",
       "      <th>Time End</th>\n",
       "      <th>Time End Local Tz</th>\n",
       "      <th>Time Offset</th>\n",
       "      <th>Time Start</th>\n",
       "      <th>Time Start Local Tz</th>\n",
       "      <th>User ID</th>\n",
       "      <th>Value</th>\n",
       "    </tr>\n",
       "  </thead>\n",
       "  <tbody>\n",
       "    <tr>\n",
       "      <th>0</th>\n",
       "      <td>2019-05-05T09:40:00+03:00</td>\n",
       "      <td>2019-05-05T12:40:00+03:00</td>\n",
       "      <td>10800</td>\n",
       "      <td>2019-05-05T09:39:59+03:00</td>\n",
       "      <td>2019-05-05T12:39:59+03:00</td>\n",
       "      <td>2166</td>\n",
       "      <td>1.0</td>\n",
       "    </tr>\n",
       "    <tr>\n",
       "      <th>1</th>\n",
       "      <td>2019-05-05T11:13:29+03:00</td>\n",
       "      <td>2019-05-05T14:13:29+03:00</td>\n",
       "      <td>10800</td>\n",
       "      <td>2019-05-05T11:12:51+03:00</td>\n",
       "      <td>2019-05-05T14:12:51+03:00</td>\n",
       "      <td>2166</td>\n",
       "      <td>34.0</td>\n",
       "    </tr>\n",
       "    <tr>\n",
       "      <th>2</th>\n",
       "      <td>2019-05-05T12:07:42+03:00</td>\n",
       "      <td>2019-05-05T15:07:42+03:00</td>\n",
       "      <td>10800</td>\n",
       "      <td>2019-05-05T12:07:39+03:00</td>\n",
       "      <td>2019-05-05T15:07:39+03:00</td>\n",
       "      <td>2166</td>\n",
       "      <td>1.0</td>\n",
       "    </tr>\n",
       "    <tr>\n",
       "      <th>3</th>\n",
       "      <td>2019-05-05T13:04:05+03:00</td>\n",
       "      <td>2019-05-05T16:04:05+03:00</td>\n",
       "      <td>10800</td>\n",
       "      <td>2019-05-05T13:04:02+03:00</td>\n",
       "      <td>2019-05-05T16:04:02+03:00</td>\n",
       "      <td>2166</td>\n",
       "      <td>3.0</td>\n",
       "    </tr>\n",
       "    <tr>\n",
       "      <th>4</th>\n",
       "      <td>2019-05-05T13:18:18+03:00</td>\n",
       "      <td>2019-05-05T16:18:18+03:00</td>\n",
       "      <td>10800</td>\n",
       "      <td>2019-05-05T13:18:13+03:00</td>\n",
       "      <td>2019-05-05T16:18:13+03:00</td>\n",
       "      <td>2166</td>\n",
       "      <td>6.0</td>\n",
       "    </tr>\n",
       "  </tbody>\n",
       "</table>\n",
       "</div>"
      ],
      "text/plain": [
       "                    Time End          Time End Local Tz  Time Offset  \\\n",
       "0  2019-05-05T09:40:00+03:00  2019-05-05T12:40:00+03:00        10800   \n",
       "1  2019-05-05T11:13:29+03:00  2019-05-05T14:13:29+03:00        10800   \n",
       "2  2019-05-05T12:07:42+03:00  2019-05-05T15:07:42+03:00        10800   \n",
       "3  2019-05-05T13:04:05+03:00  2019-05-05T16:04:05+03:00        10800   \n",
       "4  2019-05-05T13:18:18+03:00  2019-05-05T16:18:18+03:00        10800   \n",
       "\n",
       "                  Time Start        Time Start Local Tz  User ID  Value  \n",
       "0  2019-05-05T09:39:59+03:00  2019-05-05T12:39:59+03:00     2166    1.0  \n",
       "1  2019-05-05T11:12:51+03:00  2019-05-05T14:12:51+03:00     2166   34.0  \n",
       "2  2019-05-05T12:07:39+03:00  2019-05-05T15:07:39+03:00     2166    1.0  \n",
       "3  2019-05-05T13:04:02+03:00  2019-05-05T16:04:02+03:00     2166    3.0  \n",
       "4  2019-05-05T13:18:13+03:00  2019-05-05T16:18:13+03:00     2166    6.0  "
      ]
     },
     "execution_count": 3,
     "metadata": {},
     "output_type": "execute_result"
    }
   ],
   "source": [
    "df = pd.read_csv(\"data/query_result.csv\")\n",
    "df.head()"
   ]
  },
  {
   "cell_type": "markdown",
   "metadata": {},
   "source": [
    "Выберем столбцы \"Time End\" и \"Value\". Изменим тип данных столбца времени. "
   ]
  },
  {
   "cell_type": "code",
   "execution_count": 5,
   "metadata": {},
   "outputs": [],
   "source": [
    "x_labels = ['Time End', 'Value']\n",
    "X = df.loc[:, x_labels]\n",
    "end = X['Time End'].values\n",
    "end = pd.to_datetime(end)\n",
    "X['Time End'] = end"
   ]
  },
  {
   "cell_type": "markdown",
   "metadata": {},
   "source": [
    "По дню и месяцу определим, сколько было шагов у пользователя за определённый день. "
   ]
  },
  {
   "cell_type": "code",
   "execution_count": 6,
   "metadata": {},
   "outputs": [],
   "source": [
    "month = end.month\n",
    "month = month.unique()\n",
    "array = []\n",
    "for i in month:\n",
    "    date_month = X[pd.to_datetime(X['Time End'].values).month == i]\n",
    "    days = date_month['Time End'].values\n",
    "    days = pd.to_datetime(days)\n",
    "    days = days.day\n",
    "    days = days.unique()\n",
    "    for j in days:\n",
    "        sum = date_month.loc[pd.to_datetime(date_month['Time End'].values).day == j, 'Value'].sum()\n",
    "        array.append([sum,j,i])"
   ]
  },
  {
   "cell_type": "markdown",
   "metadata": {},
   "source": [
    "Отсортируем данные по дню и месяцу."
   ]
  },
  {
   "cell_type": "code",
   "execution_count": 7,
   "metadata": {},
   "outputs": [],
   "source": [
    "array = sorted(array, key=lambda x: (x[2], x[1]))"
   ]
  },
  {
   "cell_type": "markdown",
   "metadata": {},
   "source": [
    "Найдём последний дни месяца и с помощью них объединим все дни в одну группу."
   ]
  },
  {
   "cell_type": "code",
   "execution_count": 8,
   "metadata": {},
   "outputs": [],
   "source": [
    "def foo(arr):\n",
    "        mx = defaultdict(int)\n",
    "        for a in arr:\n",
    "                mx[a[2]] = (max(mx[a[2]], a[1]))\n",
    "        return mx\n",
    "\n",
    "dict_max = dict(foo(array))\n",
    "array_dict = list(dict_max.values())\n",
    "\n",
    "stop = array[0][2]\n",
    "all_days = []\n",
    "n = 0\n",
    "difference = array_dict[n]\n",
    "n = n + 1\n",
    "for i in array:\n",
    "        if i[2] == stop: all_days.append(i[1])\n",
    "        else: \n",
    "                all_days.append(i[1] + difference)\n",
    "                if(i[1] == array_dict[n]):\n",
    "                        difference = difference + array_dict[n]\n",
    "                        n = n + 1"
   ]
  },
  {
   "cell_type": "markdown",
   "metadata": {},
   "source": [
    "Построим полученные точки на плоскости и аппроксимирующую прямую при разных степенях многочлена."
   ]
  },
  {
   "cell_type": "code",
   "execution_count": 10,
   "metadata": {},
   "outputs": [
    {
     "data": {
      "image/png": "[encoded data removed]",
      "text/plain": [
       "<Figure size 576x432 with 1 Axes>"
      ]
     },
     "metadata": {
      "needs_background": "light"
     },
     "output_type": "display_data"
    }
   ],
   "source": [
    "steps = []\n",
    "for i in array:\n",
    "        steps.append(i[0])\n",
    "\n",
    "X = all_days\n",
    "y = steps\n",
    "plt.figure(figsize=(8, 6))\n",
    "plt.xlabel(\"Дни\")\n",
    "plt.ylabel(\"Шаги\")\n",
    "plt.scatter(X, y)\n",
    "\n",
    "legend = [] \n",
    "for i in range(1, 5):\n",
    "    func = np.poly1d(np.polyfit(X, y, i, full=True)[0])\n",
    "    x_points = np.linspace(min(X), max(X), 1000)\n",
    "    plt.plot(x_points, func(x_points)) \n",
    "    legend.append(\"Степень=%i\" % func.order)   \n",
    "\n",
    "plt.legend(legend, loc=\"upper left\")\n",
    "plt.show()\n",
    "plt.close()"
   ]
  },
  {
   "cell_type": "markdown",
   "metadata": {},
   "source": [
    "Из графика видно, что кривые по 2, 3 и 4 степеням почти совпадают. Оставим 2-ую степень, по которой будут построены границы. Разделим на 70% данных, которые будут находиться между границами. Эти данные отвечают за то, что день обычный."
   ]
  },
  {
   "cell_type": "code",
   "execution_count": 11,
   "metadata": {},
   "outputs": [
    {
     "data": {
      "image/png": "[encoded data removed]",
      "text/plain": [
       "<Figure size 576x432 with 1 Axes>"
      ]
     },
     "metadata": {
      "needs_background": "light"
     },
     "output_type": "display_data"
    }
   ],
   "source": [
    "def delta_find(x,y1,y2):\n",
    "        delta = 0\n",
    "        accuracy = 0.7\n",
    "        my_accuracy = 0\n",
    "    \n",
    "        while my_accuracy < accuracy :\n",
    "            counter = 0    \n",
    "            y_up = y1 + delta\n",
    "            y_down = y1 - delta\n",
    "            for i in range(len(y2)):\n",
    "                if y2[i]>=y_down[i] and y2[i]<=y_up[i]:\n",
    "                    counter+=1 \n",
    "            delta+=0.01       \n",
    "            my_accuracy = counter/(len(y2))\n",
    "        return(delta)\n",
    "    \n",
    "func = np.poly1d(np.polyfit(X, y, 2, full=True)[0])\n",
    "\n",
    "delta = delta_find(X, func(X), y) \n",
    "\n",
    "stat = []\n",
    "for i,j in zip(X, y):\n",
    "        if  (func(i) + delta > j) and (func(i)-delta < j):\n",
    "                stat.append([i, 'Usual day'])\n",
    "        else: stat.append([i, 'Unusual day'])\n",
    "\n",
    "x_points = np.linspace(min(X), max(X), 1000)\n",
    "\n",
    "plt.figure(figsize=(8, 6))\n",
    "plt.xlabel(\"Дни\")\n",
    "plt.ylabel(\"Шаги\")\n",
    "plt.scatter(X, y)\n",
    "plt.plot(x_points, func(x_points),'r')\n",
    "plt.plot(x_points, func(x_points)+delta,'g')\n",
    "plt.plot(x_points, func(x_points)-delta,'g')\n",
    "plt.show()\n",
    "plt.close()"
   ]
  },
  {
   "cell_type": "markdown",
   "metadata": {},
   "source": [
    "Теперь для последовательности дней имеем информацию о том, какой он был."
   ]
  },
  {
   "cell_type": "code",
   "execution_count": 15,
   "metadata": {},
   "outputs": [
    {
     "data": {
      "text/plain": [
       "[[1, 'Unusual day'],\n",
       " [2, 'Usual day'],\n",
       " [3, 'Unusual day'],\n",
       " [4, 'Usual day'],\n",
       " [5, 'Usual day'],\n",
       " [6, 'Unusual day'],\n",
       " [7, 'Usual day'],\n",
       " [8, 'Usual day'],\n",
       " [9, 'Usual day'],\n",
       " [10, 'Unusual day'],\n",
       " [11, 'Usual day'],\n",
       " [12, 'Unusual day'],\n",
       " [13, 'Usual day'],\n",
       " [14, 'Usual day'],\n",
       " [15, 'Usual day'],\n",
       " [16, 'Usual day'],\n",
       " [17, 'Usual day'],\n",
       " [18, 'Unusual day'],\n",
       " [19, 'Unusual day'],\n",
       " [20, 'Usual day'],\n",
       " [21, 'Usual day'],\n",
       " [22, 'Usual day'],\n",
       " [23, 'Unusual day'],\n",
       " [24, 'Unusual day'],\n",
       " [25, 'Usual day'],\n",
       " [26, 'Unusual day'],\n",
       " [27, 'Unusual day'],\n",
       " [29, 'Usual day'],\n",
       " [30, 'Usual day'],\n",
       " [31, 'Usual day'],\n",
       " [32, 'Unusual day'],\n",
       " [33, 'Usual day'],\n",
       " [34, 'Unusual day'],\n",
       " [35, 'Unusual day'],\n",
       " [36, 'Usual day'],\n",
       " [37, 'Usual day'],\n",
       " [38, 'Usual day'],\n",
       " [39, 'Usual day'],\n",
       " [40, 'Usual day'],\n",
       " [41, 'Usual day'],\n",
       " [42, 'Unusual day'],\n",
       " [43, 'Usual day'],\n",
       " [44, 'Usual day'],\n",
       " [45, 'Usual day'],\n",
       " [46, 'Usual day'],\n",
       " [47, 'Unusual day'],\n",
       " [48, 'Usual day'],\n",
       " [49, 'Usual day'],\n",
       " [50, 'Usual day'],\n",
       " [51, 'Unusual day'],\n",
       " [52, 'Usual day'],\n",
       " [53, 'Usual day'],\n",
       " [54, 'Usual day'],\n",
       " [55, 'Unusual day'],\n",
       " [56, 'Usual day'],\n",
       " [57, 'Unusual day'],\n",
       " [58, 'Usual day'],\n",
       " [59, 'Usual day'],\n",
       " [60, 'Usual day'],\n",
       " [61, 'Usual day'],\n",
       " [62, 'Usual day'],\n",
       " [63, 'Usual day'],\n",
       " [64, 'Usual day'],\n",
       " [65, 'Usual day'],\n",
       " [66, 'Usual day'],\n",
       " [67, 'Usual day'],\n",
       " [68, 'Usual day'],\n",
       " [69, 'Unusual day'],\n",
       " [70, 'Usual day'],\n",
       " [71, 'Unusual day'],\n",
       " [72, 'Usual day'],\n",
       " [73, 'Usual day'],\n",
       " [74, 'Usual day'],\n",
       " [75, 'Usual day'],\n",
       " [76, 'Usual day'],\n",
       " [77, 'Usual day'],\n",
       " [78, 'Usual day'],\n",
       " [79, 'Usual day'],\n",
       " [80, 'Unusual day'],\n",
       " [81, 'Unusual day'],\n",
       " [82, 'Unusual day'],\n",
       " [83, 'Unusual day'],\n",
       " [84, 'Usual day'],\n",
       " [85, 'Usual day'],\n",
       " [86, 'Unusual day'],\n",
       " [87, 'Unusual day'],\n",
       " [88, 'Unusual day'],\n",
       " [89, 'Usual day'],\n",
       " [90, 'Usual day'],\n",
       " [91, 'Usual day'],\n",
       " [92, 'Usual day'],\n",
       " [93, 'Usual day'],\n",
       " [94, 'Unusual day'],\n",
       " [95, 'Usual day'],\n",
       " [96, 'Unusual day'],\n",
       " [97, 'Usual day'],\n",
       " [98, 'Usual day'],\n",
       " [99, 'Usual day'],\n",
       " [100, 'Unusual day'],\n",
       " [101, 'Usual day'],\n",
       " [102, 'Usual day'],\n",
       " [103, 'Usual day'],\n",
       " [104, 'Usual day'],\n",
       " [105, 'Usual day'],\n",
       " [106, 'Usual day']]"
      ]
     },
     "execution_count": 15,
     "metadata": {},
     "output_type": "execute_result"
    }
   ],
   "source": [
    "stat"
   ]
  }
 ],
 "metadata": {
  "kernelspec": {
   "display_name": "Python 3",
   "language": "python",
   "name": "python3"
  },
  "language_info": {
   "codemirror_mode": {
    "name": "ipython",
    "version": 3
   },
   "file_extension": ".py",
   "mimetype": "text/x-python",
   "name": "python",
   "nbconvert_exporter": "python",
   "pygments_lexer": "ipython3",
   "version": "3.7.0"
  }
 },
 "nbformat": 4,
 "nbformat_minor": 2
}