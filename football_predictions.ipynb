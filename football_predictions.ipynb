{
 "cells": [
  {
   "cell_type": "code",
   "execution_count": 1,
   "metadata": {},
   "outputs": [],
   "source": [
    "import pandas as pd\n",
    "import numpy as np\n",
    "import collections"
   ]
  },
  {
   "cell_type": "code",
   "execution_count": 6,
   "metadata": {},
   "outputs": [],
   "source": [
    "data = pd.read_csv(\"data/RPL.csv\", encoding = 'cp1251', delimiter=';')\n",
    "teamList = pd.array(['Анжи', 'Ахмат', 'Зенит', 'Краснодар', 'Локомотив', 'Ростов', 'Рубин', 'Спартак', 'Урал', 'Уфа', 'ЦСКА'])"
   ]
  },
  {
   "cell_type": "markdown",
   "metadata": {},
   "source": [
    "Удаляем матчи с командами, которые не участвуют в сезоне 2018/2019:"
   ]
  },
  {
   "cell_type": "code",
   "execution_count": 7,
   "metadata": {},
   "outputs": [],
   "source": [
    "deleteTeam = [x for x in pd.unique(data['Соперник']) if x not in teamList]\n",
    "for name in deleteTeam:\n",
    "    data = data[data['Команда'] != name]\n",
    "    data = data[data['Соперник'] != name]\n",
    "data = data.reset_index(drop=True)"
   ]
  },
  {
   "cell_type": "code",
   "execution_count": 8,
   "metadata": {},
   "outputs": [],
   "source": [
    "#Функция, возвращающая статистику команды за сезон \n",
    "def GetSeasonTeamStat(team, season):\n",
    "    goalScored = 0 #Голов забито\n",
    "    goalAllowed = 0 #Голов пропущено\n",
    "\n",
    "    gameWin = 0 #Выиграно\n",
    "    gameDraw = 0 #Ничья\n",
    "    gameLost = 0 #Проиграно\n",
    "\n",
    "    totalScore = 0 #Количество набранных очков\n",
    "\n",
    "    matches = 0 #Количество сыгранных матчей\n",
    "    \n",
    "    xG = 0 #Ожидаемые голы\n",
    "    \n",
    "    shot = 0 #Удары\n",
    "    shotOnTarget = 0 #Удары в створ\n",
    "    \n",
    "    cross = 0 #Навесы\n",
    "    accurateCross = 0 #Точные навесы\n",
    "    \n",
    "    totalHandle = 0 #Владение мячом\n",
    "    averageHandle = 0 #Среднее владение мячом за матч\n",
    "    \n",
    "    Pass = 0 #Пасы\n",
    "    accuratePass = 0 #Точные пасы\n",
    "    \n",
    "    PPDA = 0 #Интенсивность прессинга в матче\n",
    "\n",
    "    for i in range(len(data)):\n",
    "        if (((data['Год'][i] == season) and (data['Команда'][i] == team) and (data['Часть'][i] == 2)) or ((data['Год'][i] == season-1) and (data['Команда'][i] == team) and (data['Часть'][i] == 1))):\n",
    "            matches += 1\n",
    "                \n",
    "            goalScored += data['Забито'][i]\n",
    "            goalAllowed += data['Пропущено'][i]\n",
    "\n",
    "            if (data['Забито'][i] > data['Пропущено'][i]):\n",
    "                totalScore += 3\n",
    "                gameWin += 1\n",
    "            elif (data['Забито'][i] < data['Пропущено'][i]):\n",
    "                gameLost +=1\n",
    "            else:\n",
    "                totalScore += 1\n",
    "                gameDraw += 1\n",
    "            \n",
    "            xG += data['xG'][i]\n",
    "            \n",
    "            shot += data['Удары'][i]\n",
    "            shotOnTarget += data['Удары в створ'][i]\n",
    "            \n",
    "            Pass += data['Передачи'][i]\n",
    "            accuratePass += data['Точные передачи'][i]\n",
    "            \n",
    "            totalHandle += data['Владение'][i]\n",
    "            \n",
    "            cross += data['Навесы'][i]\n",
    "            accurateCross += data['Точные навесы'][i]\n",
    "            \n",
    "            PPDA += data['PPDA'][i]\n",
    "\n",
    "    averageHandle = round(totalHandle/matches, 3) #Владение мячом в среднем за матч\n",
    "    \n",
    "    return [gameWin, gameDraw, gameLost, \n",
    "            goalScored, goalAllowed, totalScore, \n",
    "            round(xG, 3), round(PPDA, 3),\n",
    "            shot, shotOnTarget, \n",
    "            Pass, accuratePass,\n",
    "            cross, accurateCross,\n",
    "            round(averageHandle, 3)]"
   ]
  },
  {
   "cell_type": "code",
   "execution_count": 9,
   "metadata": {},
   "outputs": [
    {
     "data": {
      "text/plain": [
       "[12, 6, 2, 26, 12, 42, 24.87, 202.97, 214, 83, 8544, 6997, 244, 78, 49.454]"
      ]
     },
     "execution_count": 9,
     "metadata": {},
     "output_type": "execute_result"
    }
   ],
   "source": [
    "GetSeasonTeamStat(\"Локомотив\", 2018) #Статистика Локомотива за сезон 2017/2018"
   ]
  },
  {
   "cell_type": "code",
   "execution_count": 11,
   "metadata": {},
   "outputs": [
    {
     "name": "stdout",
     "output_type": "stream",
     "text": [
      "Выиграно 12\n",
      "Ничья 6\n",
      "Проиграно 2\n",
      "\n",
      "Голов забито 26\n",
      "Голов пропущено 12\n",
      "\n",
      "Набрано очков 42\n",
      "\n",
      "xG (за сезон) 24.87\n",
      "PPDA (за сезон) 202.97\n",
      "\n",
      "Удары 214\n",
      "Удары в створ 83\n",
      "\n",
      "Пасы 8544\n",
      "Точные пасы 6997\n",
      "\n",
      "Навесы 244\n",
      "Точные навесы 78\n",
      "\n",
      "Владение (в среднем за матч) 49.454\n"
     ]
    }
   ],
   "source": [
    "returnNames = [\"Выиграно\", \"Ничья\", \"Проиграно\",\n",
    "               \"\\nГолов забито\", \"Голов пропущено\", \"\\nНабрано очков\",\n",
    "               \"\\nxG (за сезон)\", \"PPDA (за сезон)\",\n",
    "               \"\\nУдары\", \"Удары в створ\", \n",
    "               \"\\nПасы\", \"Точные пасы\",\n",
    "               \"\\nНавесы\", \"Точные навесы\",\n",
    "                \"\\nВладение (в среднем за матч)\"]\n",
    "\n",
    "for i, n in zip(returnNames, GetSeasonTeamStat(\"Локомотив\", 2018)):\n",
    "        print(i, n)"
   ]
  },
  {
   "cell_type": "code",
   "execution_count": 12,
   "metadata": {},
   "outputs": [],
   "source": [
    "#Функция, возвращающая статистику всех команд за сезон\n",
    "def GetSeasonAllTeamStat(season):\n",
    "    annual = collections.defaultdict(list)\n",
    "    for team in teamList:\n",
    "        team_vector = GetSeasonTeamStat(team, season)\n",
    "        annual[team] = team_vector\n",
    "    return annual"
   ]
  },
  {
   "cell_type": "markdown",
   "metadata": {},
   "source": [
    "Функция, которая будет возвращать обучающие данные. Она создает словарь с векторами команд за все сезоны. Для каждой игры функция рассчитывает разницу между векторами команд за определенный сезон и записывает в xTrain. Затем функция присваивает yTrain значение 1, если команда хозяев выигрывает, и 0 в противном случае."
   ]
  },
  {
   "cell_type": "code",
   "execution_count": 13,
   "metadata": {},
   "outputs": [],
   "source": [
    "#Получение тренировычных данных\n",
    "def GetTrainingData(seasons):\n",
    "    totalNumGames = 0\n",
    "    for season in seasons:\n",
    "        annual = data[data['Год'] == season]\n",
    "        totalNumGames += len(annual.index)\n",
    "    numFeatures = len(GetSeasonTeamStat('Зенит', 2016)) #случайная команда для определения размерности\n",
    "    xTrain = np.zeros(( totalNumGames, numFeatures))\n",
    "    yTrain = np.zeros(( totalNumGames ))\n",
    "    indexCounter = 0\n",
    "    for season in seasons:\n",
    "        team_vectors = GetSeasonAllTeamStat(season)\n",
    "        annual = data[data['Год'] == season]\n",
    "        numGamesInYear = len(annual.index)\n",
    "        xTrainAnnual = np.zeros(( numGamesInYear, numFeatures))\n",
    "        yTrainAnnual = np.zeros(( numGamesInYear ))\n",
    "        counter = 0\n",
    "        for index, row in annual.iterrows():\n",
    "            team = row['Команда']\n",
    "            t_vector = team_vectors[team]\n",
    "            rivals = row['Соперник']\n",
    "            r_vector = team_vectors[rivals]\n",
    "            \n",
    "            diff = [a - b for a, b in zip(t_vector, r_vector)]\n",
    "            \n",
    "            if len(diff) != 0:\n",
    "                xTrainAnnual[counter] = diff\n",
    "            if team == row['Победитель']:\n",
    "                yTrainAnnual[counter] = 1\n",
    "            else: \n",
    "                yTrainAnnual[counter] = 0\n",
    "            counter += 1   \n",
    "        xTrain[indexCounter:numGamesInYear+indexCounter] = xTrainAnnual\n",
    "        yTrain[indexCounter:numGamesInYear+indexCounter] = yTrainAnnual\n",
    "        indexCounter += numGamesInYear\n",
    "    return xTrain, yTrain"
   ]
  },
  {
   "cell_type": "markdown",
   "metadata": {},
   "source": [
    "Поучаем обучающие данные за все сезоны с 2015/2016 по 2018/2019:"
   ]
  },
  {
   "cell_type": "code",
   "execution_count": 14,
   "metadata": {},
   "outputs": [],
   "source": [
    "years = range(2016,2019)\n",
    "xTrain, yTrain = GetTrainingData(years)"
   ]
  },
  {
   "cell_type": "markdown",
   "metadata": {},
   "source": [
    "Для прогнозирования вероятности выигрыша будем использовать алгоритм машинного обучения LinearRegression из библиотеки Scikit-Learn"
   ]
  },
  {
   "cell_type": "code",
   "execution_count": 15,
   "metadata": {},
   "outputs": [],
   "source": [
    "from sklearn.linear_model import LinearRegression"
   ]
  },
  {
   "cell_type": "code",
   "execution_count": 16,
   "metadata": {},
   "outputs": [
    {
     "data": {
      "text/plain": [
       "LinearRegression(copy_X=True, fit_intercept=True, n_jobs=None,\n",
       "         normalize=False)"
      ]
     },
     "execution_count": 16,
     "metadata": {},
     "output_type": "execute_result"
    }
   ],
   "source": [
    "model = LinearRegression()\n",
    "model.fit(xTrain, yTrain)"
   ]
  },
  {
   "cell_type": "markdown",
   "metadata": {},
   "source": [
    "Функция, которая будет возвращать прогнозы. Она будет возвращать значение в промежутке от 0 до 1, где 0 — это проигрыш, а 1 — это выигрыш."
   ]
  },
  {
   "cell_type": "code",
   "execution_count": 17,
   "metadata": {},
   "outputs": [],
   "source": [
    "def createGamePrediction(team1_vector, team2_vector):\n",
    "    diff = [[a - b for a, b in zip(team1_vector, team2_vector)]]\n",
    "    predictions = model.predict(diff)\n",
    "    return predictions"
   ]
  },
  {
   "cell_type": "code",
   "execution_count": 18,
   "metadata": {},
   "outputs": [
    {
     "name": "stdout",
     "output_type": "stream",
     "text": [
      "Вероятность, что выиграет Зенит: [0.50079336]\n",
      "Вероятность, что выиграет Локомотив: [0.22733164]\n"
     ]
    }
   ],
   "source": [
    "team1_name = \"Зенит\"\n",
    "team2_name = \"Локомотив\"\n",
    "\n",
    "team1_vector = GetSeasonTeamStat(team1_name, 2019)\n",
    "team2_vector = GetSeasonTeamStat(team2_name, 2019)\n",
    "\n",
    "print ('Вероятность, что выиграет ' + team1_name + ':', createGamePrediction(team1_vector, team2_vector))\n",
    "print ('Вероятность, что выиграет ' + team2_name + ':', createGamePrediction(team2_vector, team1_vector))"
   ]
  },
  {
   "cell_type": "markdown",
   "metadata": {},
   "source": [
    "Посчитаем вероятности победы Локомотива и победы всех остальных соперников Локомотива в конкретных матчах. "
   ]
  },
  {
   "cell_type": "code",
   "execution_count": 20,
   "metadata": {},
   "outputs": [
    {
     "name": "stdout",
     "output_type": "stream",
     "text": [
      "Локомотив [0.43707931]  -  Анжи [0.29104569]\n",
      "Локомотив [0.32953062]  -  Ахмат [0.39859438]\n",
      "Локомотив [0.22733164]  -  Зенит [0.50079336]\n",
      "Локомотив [0.31824276]  -  Краснодар [0.40988224]\n",
      "Локомотив [0.34857316]  -  Ростов [0.37955184]\n",
      "Локомотив [0.37248688]  -  Рубин [0.35563812]\n",
      "Локомотив [0.34254528]  -  Спартак [0.38557972]\n",
      "Локомотив [0.47676177]  -  Урал [0.25136323]\n",
      "Локомотив [0.35866025]  -  Уфа [0.36946475]\n",
      "Локомотив [0.22695704]  -  ЦСКА [0.50116796]\n"
     ]
    }
   ],
   "source": [
    "for team_name in teamList:\n",
    "    team1_name = \"Локомотив\"\n",
    "    team2_name = team_name\n",
    "    \n",
    "    if(team1_name != team2_name):\n",
    "        team1_vector = GetSeasonTeamStat(team1_name, 2019)\n",
    "        team2_vector = GetSeasonTeamStat(team2_name, 2019)\n",
    "\n",
    "        print(team1_name, createGamePrediction(team1_vector, team2_vector), \" - \", team2_name, createGamePrediction(team2_vector, team1_vector,))"
   ]
  }
 ],
 "metadata": {
  "kernelspec": {
   "display_name": "Python 3",
   "language": "python",
   "name": "python3"
  },
  "language_info": {
   "codemirror_mode": {
    "name": "ipython",
    "version": 3
   },
   "file_extension": ".py",
   "mimetype": "text/x-python",
   "name": "python",
   "nbconvert_exporter": "python",
   "pygments_lexer": "ipython3",
   "version": "3.7.0"
  }
 },
 "nbformat": 4,
 "nbformat_minor": 2
}
