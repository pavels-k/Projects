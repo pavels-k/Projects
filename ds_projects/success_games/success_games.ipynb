{
 "cells": [
  {
   "cell_type": "markdown",
   "metadata": {
    "toc": true
   },
   "source": [
    "<h1>Содержание<span class=\"tocSkip\"></span></h1>\n",
    "<div class=\"toc\"><ul class=\"toc-item\"><li><span><a href=\"#Общая-информация-о-данных\" data-toc-modified-id=\"Общая-информация-о-данных-1\"><span class=\"toc-item-num\">1&nbsp;&nbsp;</span>Общая информация о данных</a></span></li><li><span><a href=\"#Подготовка-данных\" data-toc-modified-id=\"Подготовка-данных-2\"><span class=\"toc-item-num\">2&nbsp;&nbsp;</span>Подготовка данных</a></span></li><li><span><a href=\"#Исследовательский-анализ-данных\" data-toc-modified-id=\"Исследовательский-анализ-данных-3\"><span class=\"toc-item-num\">3&nbsp;&nbsp;</span>Исследовательский анализ данных</a></span></li><li><span><a href=\"#Составление-портрета-пользователя-каждого-региона\" data-toc-modified-id=\"Составление-портрета-пользователя-каждого-региона-4\"><span class=\"toc-item-num\">4&nbsp;&nbsp;</span>Составление портрета пользователя каждого региона</a></span></li><li><span><a href=\"#Проверка-гипотез\" data-toc-modified-id=\"Проверка-гипотез-5\"><span class=\"toc-item-num\">5&nbsp;&nbsp;</span>Проверка гипотез</a></span></li><li><span><a href=\"#Общий-вывод\" data-toc-modified-id=\"Общий-вывод-6\"><span class=\"toc-item-num\">6&nbsp;&nbsp;</span>Общий вывод</a></span></li></ul></div>"
   ]
  },
  {
   "cell_type": "markdown",
   "metadata": {},
   "source": [
    "# Изучение закономерностей, определяющих успешность игр"
   ]
  },
  {
   "cell_type": "markdown",
   "metadata": {},
   "source": [
    "**Описание проекта**\n",
    "\n",
    "Из открытых источников интернет-магазина «Стримчик», который продаёт по всему миру компьютерные игры, доступны исторические данные о продажах игр, оценки пользователей и экспертов, жанры и платформы (например, Xbox или PlayStation).  Нужно выявить определяющие успешность игры закономерности. Это позволит сделать ставку на потенциально популярный продукт и спланировать рекламные кампании.\n",
    "\n",
    "\n",
    "Имеются данные до 2016 года. Мы планируем кампанию на 2017-й. Нужно отработать принцип работы с данными. "
   ]
  },
  {
   "cell_type": "code",
   "execution_count": 1,
   "metadata": {},
   "outputs": [],
   "source": [
    "# импорт библиотек\n",
    "import pandas as pd\n",
    "import numpy as np\n",
    "import seaborn as sns\n",
    "import matplotlib.pyplot as plt\n",
    "from scipy import stats as st"
   ]
  },
  {
   "cell_type": "markdown",
   "metadata": {},
   "source": [
    "## Общая информация о данных"
   ]
  },
  {
   "cell_type": "code",
   "execution_count": 2,
   "metadata": {},
   "outputs": [],
   "source": [
    "import os\n",
    "\n",
    "pth1 = 'games.csv'\n",
    "pth2 = 'datasets/games.csv'\n",
    "\n",
    "if os.path.exists(pth1):\n",
    "    df = pd.read_csv(pth1)\n",
    "elif os.path.exists(pth2):\n",
    "    df = pd.read_csv(pth2)\n",
    "else:\n",
    "    print('Something is wrong')"
   ]
  },
  {
   "cell_type": "markdown",
   "metadata": {},
   "source": [
    "Посмотрим на данные"
   ]
  },
  {
   "cell_type": "code",
   "execution_count": 3,
   "metadata": {},
   "outputs": [
    {
     "data": {
      "text/html": [
       "<div>\n",
       "<style scoped>\n",
       "    .dataframe tbody tr th:only-of-type {\n",
       "        vertical-align: middle;\n",
       "    }\n",
       "\n",
       "    .dataframe tbody tr th {\n",
       "        vertical-align: top;\n",
       "    }\n",
       "\n",
       "    .dataframe thead th {\n",
       "        text-align: right;\n",
       "    }\n",
       "</style>\n",
       "<table border=\"1\" class=\"dataframe\">\n",
       "  <thead>\n",
       "    <tr style=\"text-align: right;\">\n",
       "      <th></th>\n",
       "      <th>Name</th>\n",
       "      <th>Platform</th>\n",
       "      <th>Year_of_Release</th>\n",
       "      <th>Genre</th>\n",
       "      <th>NA_sales</th>\n",
       "      <th>EU_sales</th>\n",
       "      <th>JP_sales</th>\n",
       "      <th>Other_sales</th>\n",
       "      <th>Critic_Score</th>\n",
       "      <th>User_Score</th>\n",
       "      <th>Rating</th>\n",
       "    </tr>\n",
       "  </thead>\n",
       "  <tbody>\n",
       "    <tr>\n",
       "      <th>0</th>\n",
       "      <td>Wii Sports</td>\n",
       "      <td>Wii</td>\n",
       "      <td>2006.0</td>\n",
       "      <td>Sports</td>\n",
       "      <td>41.36</td>\n",
       "      <td>28.96</td>\n",
       "      <td>3.77</td>\n",
       "      <td>8.45</td>\n",
       "      <td>76.0</td>\n",
       "      <td>8</td>\n",
       "      <td>E</td>\n",
       "    </tr>\n",
       "    <tr>\n",
       "      <th>1</th>\n",
       "      <td>Super Mario Bros.</td>\n",
       "      <td>NES</td>\n",
       "      <td>1985.0</td>\n",
       "      <td>Platform</td>\n",
       "      <td>29.08</td>\n",
       "      <td>3.58</td>\n",
       "      <td>6.81</td>\n",
       "      <td>0.77</td>\n",
       "      <td>NaN</td>\n",
       "      <td>NaN</td>\n",
       "      <td>NaN</td>\n",
       "    </tr>\n",
       "    <tr>\n",
       "      <th>2</th>\n",
       "      <td>Mario Kart Wii</td>\n",
       "      <td>Wii</td>\n",
       "      <td>2008.0</td>\n",
       "      <td>Racing</td>\n",
       "      <td>15.68</td>\n",
       "      <td>12.76</td>\n",
       "      <td>3.79</td>\n",
       "      <td>3.29</td>\n",
       "      <td>82.0</td>\n",
       "      <td>8.3</td>\n",
       "      <td>E</td>\n",
       "    </tr>\n",
       "    <tr>\n",
       "      <th>3</th>\n",
       "      <td>Wii Sports Resort</td>\n",
       "      <td>Wii</td>\n",
       "      <td>2009.0</td>\n",
       "      <td>Sports</td>\n",
       "      <td>15.61</td>\n",
       "      <td>10.93</td>\n",
       "      <td>3.28</td>\n",
       "      <td>2.95</td>\n",
       "      <td>80.0</td>\n",
       "      <td>8</td>\n",
       "      <td>E</td>\n",
       "    </tr>\n",
       "    <tr>\n",
       "      <th>4</th>\n",
       "      <td>Pokemon Red/Pokemon Blue</td>\n",
       "      <td>GB</td>\n",
       "      <td>1996.0</td>\n",
       "      <td>Role-Playing</td>\n",
       "      <td>11.27</td>\n",
       "      <td>8.89</td>\n",
       "      <td>10.22</td>\n",
       "      <td>1.00</td>\n",
       "      <td>NaN</td>\n",
       "      <td>NaN</td>\n",
       "      <td>NaN</td>\n",
       "    </tr>\n",
       "  </tbody>\n",
       "</table>\n",
       "</div>"
      ],
      "text/plain": [
       "                       Name Platform  Year_of_Release         Genre  NA_sales  \\\n",
       "0                Wii Sports      Wii           2006.0        Sports     41.36   \n",
       "1         Super Mario Bros.      NES           1985.0      Platform     29.08   \n",
       "2            Mario Kart Wii      Wii           2008.0        Racing     15.68   \n",
       "3         Wii Sports Resort      Wii           2009.0        Sports     15.61   \n",
       "4  Pokemon Red/Pokemon Blue       GB           1996.0  Role-Playing     11.27   \n",
       "\n",
       "   EU_sales  JP_sales  Other_sales  Critic_Score User_Score Rating  \n",
       "0     28.96      3.77         8.45          76.0          8      E  \n",
       "1      3.58      6.81         0.77           NaN        NaN    NaN  \n",
       "2     12.76      3.79         3.29          82.0        8.3      E  \n",
       "3     10.93      3.28         2.95          80.0          8      E  \n",
       "4      8.89     10.22         1.00           NaN        NaN    NaN  "
      ]
     },
     "execution_count": 3,
     "metadata": {},
     "output_type": "execute_result"
    }
   ],
   "source": [
    "df.head()"
   ]
  },
  {
   "cell_type": "markdown",
   "metadata": {},
   "source": [
    "Получим общую информацию о данных"
   ]
  },
  {
   "cell_type": "code",
   "execution_count": 4,
   "metadata": {},
   "outputs": [
    {
     "name": "stdout",
     "output_type": "stream",
     "text": [
      "<class 'pandas.core.frame.DataFrame'>\n",
      "RangeIndex: 16715 entries, 0 to 16714\n",
      "Data columns (total 11 columns):\n",
      " #   Column           Non-Null Count  Dtype  \n",
      "---  ------           --------------  -----  \n",
      " 0   Name             16713 non-null  object \n",
      " 1   Platform         16715 non-null  object \n",
      " 2   Year_of_Release  16446 non-null  float64\n",
      " 3   Genre            16713 non-null  object \n",
      " 4   NA_sales         16715 non-null  float64\n",
      " 5   EU_sales         16715 non-null  float64\n",
      " 6   JP_sales         16715 non-null  float64\n",
      " 7   Other_sales      16715 non-null  float64\n",
      " 8   Critic_Score     8137 non-null   float64\n",
      " 9   User_Score       10014 non-null  object \n",
      " 10  Rating           9949 non-null   object \n",
      "dtypes: float64(6), object(5)\n",
      "memory usage: 1.4+ MB\n"
     ]
    }
   ],
   "source": [
    "df.info()"
   ]
  },
  {
   "cell_type": "code",
   "execution_count": 5,
   "metadata": {},
   "outputs": [
    {
     "data": {
      "text/html": [
       "<div>\n",
       "<style scoped>\n",
       "    .dataframe tbody tr th:only-of-type {\n",
       "        vertical-align: middle;\n",
       "    }\n",
       "\n",
       "    .dataframe tbody tr th {\n",
       "        vertical-align: top;\n",
       "    }\n",
       "\n",
       "    .dataframe thead th {\n",
       "        text-align: right;\n",
       "    }\n",
       "</style>\n",
       "<table border=\"1\" class=\"dataframe\">\n",
       "  <thead>\n",
       "    <tr style=\"text-align: right;\">\n",
       "      <th></th>\n",
       "      <th>Year_of_Release</th>\n",
       "      <th>NA_sales</th>\n",
       "      <th>EU_sales</th>\n",
       "      <th>JP_sales</th>\n",
       "      <th>Other_sales</th>\n",
       "      <th>Critic_Score</th>\n",
       "    </tr>\n",
       "  </thead>\n",
       "  <tbody>\n",
       "    <tr>\n",
       "      <th>count</th>\n",
       "      <td>16446.000000</td>\n",
       "      <td>16715.000000</td>\n",
       "      <td>16715.000000</td>\n",
       "      <td>16715.000000</td>\n",
       "      <td>16715.000000</td>\n",
       "      <td>8137.000000</td>\n",
       "    </tr>\n",
       "    <tr>\n",
       "      <th>mean</th>\n",
       "      <td>2006.484616</td>\n",
       "      <td>0.263377</td>\n",
       "      <td>0.145060</td>\n",
       "      <td>0.077617</td>\n",
       "      <td>0.047342</td>\n",
       "      <td>68.967679</td>\n",
       "    </tr>\n",
       "    <tr>\n",
       "      <th>std</th>\n",
       "      <td>5.877050</td>\n",
       "      <td>0.813604</td>\n",
       "      <td>0.503339</td>\n",
       "      <td>0.308853</td>\n",
       "      <td>0.186731</td>\n",
       "      <td>13.938165</td>\n",
       "    </tr>\n",
       "    <tr>\n",
       "      <th>min</th>\n",
       "      <td>1980.000000</td>\n",
       "      <td>0.000000</td>\n",
       "      <td>0.000000</td>\n",
       "      <td>0.000000</td>\n",
       "      <td>0.000000</td>\n",
       "      <td>13.000000</td>\n",
       "    </tr>\n",
       "    <tr>\n",
       "      <th>25%</th>\n",
       "      <td>2003.000000</td>\n",
       "      <td>0.000000</td>\n",
       "      <td>0.000000</td>\n",
       "      <td>0.000000</td>\n",
       "      <td>0.000000</td>\n",
       "      <td>60.000000</td>\n",
       "    </tr>\n",
       "    <tr>\n",
       "      <th>50%</th>\n",
       "      <td>2007.000000</td>\n",
       "      <td>0.080000</td>\n",
       "      <td>0.020000</td>\n",
       "      <td>0.000000</td>\n",
       "      <td>0.010000</td>\n",
       "      <td>71.000000</td>\n",
       "    </tr>\n",
       "    <tr>\n",
       "      <th>75%</th>\n",
       "      <td>2010.000000</td>\n",
       "      <td>0.240000</td>\n",
       "      <td>0.110000</td>\n",
       "      <td>0.040000</td>\n",
       "      <td>0.030000</td>\n",
       "      <td>79.000000</td>\n",
       "    </tr>\n",
       "    <tr>\n",
       "      <th>max</th>\n",
       "      <td>2016.000000</td>\n",
       "      <td>41.360000</td>\n",
       "      <td>28.960000</td>\n",
       "      <td>10.220000</td>\n",
       "      <td>10.570000</td>\n",
       "      <td>98.000000</td>\n",
       "    </tr>\n",
       "  </tbody>\n",
       "</table>\n",
       "</div>"
      ],
      "text/plain": [
       "       Year_of_Release      NA_sales      EU_sales      JP_sales  \\\n",
       "count     16446.000000  16715.000000  16715.000000  16715.000000   \n",
       "mean       2006.484616      0.263377      0.145060      0.077617   \n",
       "std           5.877050      0.813604      0.503339      0.308853   \n",
       "min        1980.000000      0.000000      0.000000      0.000000   \n",
       "25%        2003.000000      0.000000      0.000000      0.000000   \n",
       "50%        2007.000000      0.080000      0.020000      0.000000   \n",
       "75%        2010.000000      0.240000      0.110000      0.040000   \n",
       "max        2016.000000     41.360000     28.960000     10.220000   \n",
       "\n",
       "        Other_sales  Critic_Score  \n",
       "count  16715.000000   8137.000000  \n",
       "mean       0.047342     68.967679  \n",
       "std        0.186731     13.938165  \n",
       "min        0.000000     13.000000  \n",
       "25%        0.000000     60.000000  \n",
       "50%        0.010000     71.000000  \n",
       "75%        0.030000     79.000000  \n",
       "max       10.570000     98.000000  "
      ]
     },
     "execution_count": 5,
     "metadata": {},
     "output_type": "execute_result"
    }
   ],
   "source": [
    "df.describe()"
   ]
  },
  {
   "cell_type": "markdown",
   "metadata": {},
   "source": [
    "Переведём названия колонок в нижний регистр"
   ]
  },
  {
   "cell_type": "code",
   "execution_count": 6,
   "metadata": {},
   "outputs": [],
   "source": [
    "df.columns = df.columns.str.lower()"
   ]
  },
  {
   "cell_type": "code",
   "execution_count": 7,
   "metadata": {},
   "outputs": [
    {
     "data": {
      "text/html": [
       "<div>\n",
       "<style scoped>\n",
       "    .dataframe tbody tr th:only-of-type {\n",
       "        vertical-align: middle;\n",
       "    }\n",
       "\n",
       "    .dataframe tbody tr th {\n",
       "        vertical-align: top;\n",
       "    }\n",
       "\n",
       "    .dataframe thead th {\n",
       "        text-align: right;\n",
       "    }\n",
       "</style>\n",
       "<table border=\"1\" class=\"dataframe\">\n",
       "  <thead>\n",
       "    <tr style=\"text-align: right;\">\n",
       "      <th></th>\n",
       "      <th>name</th>\n",
       "      <th>platform</th>\n",
       "      <th>year_of_release</th>\n",
       "      <th>genre</th>\n",
       "      <th>na_sales</th>\n",
       "      <th>eu_sales</th>\n",
       "      <th>jp_sales</th>\n",
       "      <th>other_sales</th>\n",
       "      <th>critic_score</th>\n",
       "      <th>user_score</th>\n",
       "      <th>rating</th>\n",
       "    </tr>\n",
       "  </thead>\n",
       "  <tbody>\n",
       "    <tr>\n",
       "      <th>0</th>\n",
       "      <td>Wii Sports</td>\n",
       "      <td>Wii</td>\n",
       "      <td>2006.0</td>\n",
       "      <td>Sports</td>\n",
       "      <td>41.36</td>\n",
       "      <td>28.96</td>\n",
       "      <td>3.77</td>\n",
       "      <td>8.45</td>\n",
       "      <td>76.0</td>\n",
       "      <td>8</td>\n",
       "      <td>E</td>\n",
       "    </tr>\n",
       "    <tr>\n",
       "      <th>1</th>\n",
       "      <td>Super Mario Bros.</td>\n",
       "      <td>NES</td>\n",
       "      <td>1985.0</td>\n",
       "      <td>Platform</td>\n",
       "      <td>29.08</td>\n",
       "      <td>3.58</td>\n",
       "      <td>6.81</td>\n",
       "      <td>0.77</td>\n",
       "      <td>NaN</td>\n",
       "      <td>NaN</td>\n",
       "      <td>NaN</td>\n",
       "    </tr>\n",
       "    <tr>\n",
       "      <th>2</th>\n",
       "      <td>Mario Kart Wii</td>\n",
       "      <td>Wii</td>\n",
       "      <td>2008.0</td>\n",
       "      <td>Racing</td>\n",
       "      <td>15.68</td>\n",
       "      <td>12.76</td>\n",
       "      <td>3.79</td>\n",
       "      <td>3.29</td>\n",
       "      <td>82.0</td>\n",
       "      <td>8.3</td>\n",
       "      <td>E</td>\n",
       "    </tr>\n",
       "    <tr>\n",
       "      <th>3</th>\n",
       "      <td>Wii Sports Resort</td>\n",
       "      <td>Wii</td>\n",
       "      <td>2009.0</td>\n",
       "      <td>Sports</td>\n",
       "      <td>15.61</td>\n",
       "      <td>10.93</td>\n",
       "      <td>3.28</td>\n",
       "      <td>2.95</td>\n",
       "      <td>80.0</td>\n",
       "      <td>8</td>\n",
       "      <td>E</td>\n",
       "    </tr>\n",
       "    <tr>\n",
       "      <th>4</th>\n",
       "      <td>Pokemon Red/Pokemon Blue</td>\n",
       "      <td>GB</td>\n",
       "      <td>1996.0</td>\n",
       "      <td>Role-Playing</td>\n",
       "      <td>11.27</td>\n",
       "      <td>8.89</td>\n",
       "      <td>10.22</td>\n",
       "      <td>1.00</td>\n",
       "      <td>NaN</td>\n",
       "      <td>NaN</td>\n",
       "      <td>NaN</td>\n",
       "    </tr>\n",
       "  </tbody>\n",
       "</table>\n",
       "</div>"
      ],
      "text/plain": [
       "                       name platform  year_of_release         genre  na_sales  \\\n",
       "0                Wii Sports      Wii           2006.0        Sports     41.36   \n",
       "1         Super Mario Bros.      NES           1985.0      Platform     29.08   \n",
       "2            Mario Kart Wii      Wii           2008.0        Racing     15.68   \n",
       "3         Wii Sports Resort      Wii           2009.0        Sports     15.61   \n",
       "4  Pokemon Red/Pokemon Blue       GB           1996.0  Role-Playing     11.27   \n",
       "\n",
       "   eu_sales  jp_sales  other_sales  critic_score user_score rating  \n",
       "0     28.96      3.77         8.45          76.0          8      E  \n",
       "1      3.58      6.81         0.77           NaN        NaN    NaN  \n",
       "2     12.76      3.79         3.29          82.0        8.3      E  \n",
       "3     10.93      3.28         2.95          80.0          8      E  \n",
       "4      8.89     10.22         1.00           NaN        NaN    NaN  "
      ]
     },
     "execution_count": 7,
     "metadata": {},
     "output_type": "execute_result"
    }
   ],
   "source": [
    "df.head()"
   ]
  },
  {
   "cell_type": "markdown",
   "metadata": {},
   "source": [
    "Количественные столбцы - *year_of_release, na_sales, eu_sales, jp_sales, other_sales, critic_score, user_score*\n",
    "\n",
    "Категориальные столбцы - *name, platform, genre, rating* "
   ]
  },
  {
   "cell_type": "markdown",
   "metadata": {},
   "source": [
    "- *name* — название игры\n",
    "\n",
    "\n",
    "- *platform* — платформа\n",
    "\n",
    "\n",
    "- *year_of_release* — год выпуска\n",
    "\n",
    "\n",
    "- *genre* — жанр игры\n",
    "\n",
    "\n",
    "- *na_sales* — продажи в Северной Америке (миллионы проданных копий)\n",
    "\n",
    "\n",
    "- *eu_sales* — продажи в Европе (миллионы проданных копий)\n",
    "\n",
    "\n",
    "- *jp_sales* — продажи в Японии (миллионы проданных копий)\n",
    "\n",
    "\n",
    "- *other_sales* — продажи в других странах (миллионы проданных копий)\n",
    "\n",
    "\n",
    "- *critic_score* — оценка критиков (максимум 100)\n",
    "\n",
    "\n",
    "- *user_score* — оценка пользователей (максимум 10)\n",
    "\n",
    "\n",
    "- *rating* — рейтинг от организации ESRB (англ. Entertainment Software Rating Board). Эта ассоциация определяет рейтинг компьютерных игр и присваивает им подходящую возрастную категорию."
   ]
  },
  {
   "cell_type": "markdown",
   "metadata": {},
   "source": [
    "## Подготовка данных"
   ]
  },
  {
   "cell_type": "markdown",
   "metadata": {},
   "source": [
    "- Преобразуем данные в нужные типы. Опишем, в каких столбцах заменили тип данных."
   ]
  },
  {
   "cell_type": "code",
   "execution_count": 8,
   "metadata": {},
   "outputs": [
    {
     "data": {
      "text/plain": [
       "name                  2\n",
       "platform              0\n",
       "year_of_release     269\n",
       "genre                 2\n",
       "na_sales              0\n",
       "eu_sales              0\n",
       "jp_sales              0\n",
       "other_sales           0\n",
       "critic_score       8578\n",
       "user_score         6701\n",
       "rating             6766\n",
       "dtype: int64"
      ]
     },
     "execution_count": 8,
     "metadata": {},
     "output_type": "execute_result"
    }
   ],
   "source": [
    "df.isnull().sum()"
   ]
  },
  {
   "cell_type": "markdown",
   "metadata": {},
   "source": [
    "В столбце year_of_release нету данных, скорее всего из-за неточности в данных, т.к. год релиза игры можно узнать в интернете. "
   ]
  },
  {
   "cell_type": "code",
   "execution_count": 9,
   "metadata": {},
   "outputs": [],
   "source": [
    "df['year_of_release'] = df['year_of_release'].fillna(-1)\n",
    "df['user_score'] = df['user_score'].fillna(-1)"
   ]
  },
  {
   "cell_type": "markdown",
   "metadata": {},
   "source": [
    "Год - целое значение."
   ]
  },
  {
   "cell_type": "code",
   "execution_count": 10,
   "metadata": {},
   "outputs": [],
   "source": [
    "df['year_of_release'] = df['year_of_release'].astype('int')"
   ]
  },
  {
   "cell_type": "markdown",
   "metadata": {},
   "source": [
    "- Обработаем пропуски при необходимости"
   ]
  },
  {
   "cell_type": "markdown",
   "metadata": {},
   "source": [
    "Пропуски в столбцах:"
   ]
  },
  {
   "cell_type": "code",
   "execution_count": 11,
   "metadata": {},
   "outputs": [
    {
     "data": {
      "text/html": [
       "<div>\n",
       "<style scoped>\n",
       "    .dataframe tbody tr th:only-of-type {\n",
       "        vertical-align: middle;\n",
       "    }\n",
       "\n",
       "    .dataframe tbody tr th {\n",
       "        vertical-align: top;\n",
       "    }\n",
       "\n",
       "    .dataframe thead th {\n",
       "        text-align: right;\n",
       "    }\n",
       "</style>\n",
       "<table border=\"1\" class=\"dataframe\">\n",
       "  <thead>\n",
       "    <tr style=\"text-align: right;\">\n",
       "      <th></th>\n",
       "      <th>name</th>\n",
       "      <th>platform</th>\n",
       "      <th>year_of_release</th>\n",
       "      <th>genre</th>\n",
       "      <th>na_sales</th>\n",
       "      <th>eu_sales</th>\n",
       "      <th>jp_sales</th>\n",
       "      <th>other_sales</th>\n",
       "      <th>critic_score</th>\n",
       "      <th>user_score</th>\n",
       "      <th>rating</th>\n",
       "    </tr>\n",
       "  </thead>\n",
       "  <tbody>\n",
       "    <tr>\n",
       "      <th>659</th>\n",
       "      <td>NaN</td>\n",
       "      <td>GEN</td>\n",
       "      <td>1993</td>\n",
       "      <td>NaN</td>\n",
       "      <td>1.78</td>\n",
       "      <td>0.53</td>\n",
       "      <td>0.00</td>\n",
       "      <td>0.08</td>\n",
       "      <td>NaN</td>\n",
       "      <td>-1</td>\n",
       "      <td>NaN</td>\n",
       "    </tr>\n",
       "    <tr>\n",
       "      <th>14244</th>\n",
       "      <td>NaN</td>\n",
       "      <td>GEN</td>\n",
       "      <td>1993</td>\n",
       "      <td>NaN</td>\n",
       "      <td>0.00</td>\n",
       "      <td>0.00</td>\n",
       "      <td>0.03</td>\n",
       "      <td>0.00</td>\n",
       "      <td>NaN</td>\n",
       "      <td>-1</td>\n",
       "      <td>NaN</td>\n",
       "    </tr>\n",
       "  </tbody>\n",
       "</table>\n",
       "</div>"
      ],
      "text/plain": [
       "      name platform  year_of_release genre  na_sales  eu_sales  jp_sales  \\\n",
       "659    NaN      GEN             1993   NaN      1.78      0.53      0.00   \n",
       "14244  NaN      GEN             1993   NaN      0.00      0.00      0.03   \n",
       "\n",
       "       other_sales  critic_score user_score rating  \n",
       "659           0.08           NaN         -1    NaN  \n",
       "14244         0.00           NaN         -1    NaN  "
      ]
     },
     "execution_count": 11,
     "metadata": {},
     "output_type": "execute_result"
    }
   ],
   "source": [
    "df[df['name'].isnull()].head()"
   ]
  },
  {
   "cell_type": "markdown",
   "metadata": {},
   "source": [
    "Удалим пропуски по этим строкам, т.к. данных сильно не хватает"
   ]
  },
  {
   "cell_type": "code",
   "execution_count": 12,
   "metadata": {},
   "outputs": [],
   "source": [
    "df.dropna(subset=['name'], inplace=True)"
   ]
  },
  {
   "cell_type": "markdown",
   "metadata": {},
   "source": [
    "Рассмотрим пустые значения по столбцу critic_score и rating"
   ]
  },
  {
   "cell_type": "code",
   "execution_count": 13,
   "metadata": {},
   "outputs": [
    {
     "data": {
      "text/html": [
       "<div>\n",
       "<style scoped>\n",
       "    .dataframe tbody tr th:only-of-type {\n",
       "        vertical-align: middle;\n",
       "    }\n",
       "\n",
       "    .dataframe tbody tr th {\n",
       "        vertical-align: top;\n",
       "    }\n",
       "\n",
       "    .dataframe thead th {\n",
       "        text-align: right;\n",
       "    }\n",
       "</style>\n",
       "<table border=\"1\" class=\"dataframe\">\n",
       "  <thead>\n",
       "    <tr style=\"text-align: right;\">\n",
       "      <th></th>\n",
       "      <th>name</th>\n",
       "      <th>platform</th>\n",
       "      <th>year_of_release</th>\n",
       "      <th>genre</th>\n",
       "      <th>na_sales</th>\n",
       "      <th>eu_sales</th>\n",
       "      <th>jp_sales</th>\n",
       "      <th>other_sales</th>\n",
       "      <th>critic_score</th>\n",
       "      <th>user_score</th>\n",
       "      <th>rating</th>\n",
       "    </tr>\n",
       "  </thead>\n",
       "  <tbody>\n",
       "    <tr>\n",
       "      <th>1</th>\n",
       "      <td>Super Mario Bros.</td>\n",
       "      <td>NES</td>\n",
       "      <td>1985</td>\n",
       "      <td>Platform</td>\n",
       "      <td>29.08</td>\n",
       "      <td>3.58</td>\n",
       "      <td>6.81</td>\n",
       "      <td>0.77</td>\n",
       "      <td>NaN</td>\n",
       "      <td>-1</td>\n",
       "      <td>NaN</td>\n",
       "    </tr>\n",
       "    <tr>\n",
       "      <th>4</th>\n",
       "      <td>Pokemon Red/Pokemon Blue</td>\n",
       "      <td>GB</td>\n",
       "      <td>1996</td>\n",
       "      <td>Role-Playing</td>\n",
       "      <td>11.27</td>\n",
       "      <td>8.89</td>\n",
       "      <td>10.22</td>\n",
       "      <td>1.00</td>\n",
       "      <td>NaN</td>\n",
       "      <td>-1</td>\n",
       "      <td>NaN</td>\n",
       "    </tr>\n",
       "    <tr>\n",
       "      <th>5</th>\n",
       "      <td>Tetris</td>\n",
       "      <td>GB</td>\n",
       "      <td>1989</td>\n",
       "      <td>Puzzle</td>\n",
       "      <td>23.20</td>\n",
       "      <td>2.26</td>\n",
       "      <td>4.22</td>\n",
       "      <td>0.58</td>\n",
       "      <td>NaN</td>\n",
       "      <td>-1</td>\n",
       "      <td>NaN</td>\n",
       "    </tr>\n",
       "    <tr>\n",
       "      <th>9</th>\n",
       "      <td>Duck Hunt</td>\n",
       "      <td>NES</td>\n",
       "      <td>1984</td>\n",
       "      <td>Shooter</td>\n",
       "      <td>26.93</td>\n",
       "      <td>0.63</td>\n",
       "      <td>0.28</td>\n",
       "      <td>0.47</td>\n",
       "      <td>NaN</td>\n",
       "      <td>-1</td>\n",
       "      <td>NaN</td>\n",
       "    </tr>\n",
       "    <tr>\n",
       "      <th>10</th>\n",
       "      <td>Nintendogs</td>\n",
       "      <td>DS</td>\n",
       "      <td>2005</td>\n",
       "      <td>Simulation</td>\n",
       "      <td>9.05</td>\n",
       "      <td>10.95</td>\n",
       "      <td>1.93</td>\n",
       "      <td>2.74</td>\n",
       "      <td>NaN</td>\n",
       "      <td>-1</td>\n",
       "      <td>NaN</td>\n",
       "    </tr>\n",
       "  </tbody>\n",
       "</table>\n",
       "</div>"
      ],
      "text/plain": [
       "                        name platform  year_of_release         genre  \\\n",
       "1          Super Mario Bros.      NES             1985      Platform   \n",
       "4   Pokemon Red/Pokemon Blue       GB             1996  Role-Playing   \n",
       "5                     Tetris       GB             1989        Puzzle   \n",
       "9                  Duck Hunt      NES             1984       Shooter   \n",
       "10                Nintendogs       DS             2005    Simulation   \n",
       "\n",
       "    na_sales  eu_sales  jp_sales  other_sales  critic_score user_score rating  \n",
       "1      29.08      3.58      6.81         0.77           NaN         -1    NaN  \n",
       "4      11.27      8.89     10.22         1.00           NaN         -1    NaN  \n",
       "5      23.20      2.26      4.22         0.58           NaN         -1    NaN  \n",
       "9      26.93      0.63      0.28         0.47           NaN         -1    NaN  \n",
       "10      9.05     10.95      1.93         2.74           NaN         -1    NaN  "
      ]
     },
     "execution_count": 13,
     "metadata": {},
     "output_type": "execute_result"
    }
   ],
   "source": [
    "df[df['critic_score'].isnull()].head()"
   ]
  },
  {
   "cell_type": "code",
   "execution_count": 14,
   "metadata": {},
   "outputs": [
    {
     "name": "stdout",
     "output_type": "stream",
     "text": [
      "1980\n",
      "2016\n"
     ]
    }
   ],
   "source": [
    "print(df.loc[(df['critic_score'].isnull()) & (\n",
    "    df['year_of_release'] != -1), 'year_of_release'].min())\n",
    "print(df.loc[df['critic_score'].isnull(), 'year_of_release'].max())"
   ]
  },
  {
   "cell_type": "code",
   "execution_count": 15,
   "metadata": {},
   "outputs": [
    {
     "data": {
      "text/html": [
       "<div>\n",
       "<style scoped>\n",
       "    .dataframe tbody tr th:only-of-type {\n",
       "        vertical-align: middle;\n",
       "    }\n",
       "\n",
       "    .dataframe tbody tr th {\n",
       "        vertical-align: top;\n",
       "    }\n",
       "\n",
       "    .dataframe thead th {\n",
       "        text-align: right;\n",
       "    }\n",
       "</style>\n",
       "<table border=\"1\" class=\"dataframe\">\n",
       "  <thead>\n",
       "    <tr style=\"text-align: right;\">\n",
       "      <th></th>\n",
       "      <th>name</th>\n",
       "      <th>platform</th>\n",
       "      <th>year_of_release</th>\n",
       "      <th>genre</th>\n",
       "      <th>na_sales</th>\n",
       "      <th>eu_sales</th>\n",
       "      <th>jp_sales</th>\n",
       "      <th>other_sales</th>\n",
       "      <th>critic_score</th>\n",
       "      <th>user_score</th>\n",
       "      <th>rating</th>\n",
       "    </tr>\n",
       "  </thead>\n",
       "  <tbody>\n",
       "    <tr>\n",
       "      <th>822</th>\n",
       "      <td>R4: Ridge Racer Type 4</td>\n",
       "      <td>PS</td>\n",
       "      <td>1998</td>\n",
       "      <td>Racing</td>\n",
       "      <td>0.68</td>\n",
       "      <td>0.46</td>\n",
       "      <td>0.79</td>\n",
       "      <td>0.13</td>\n",
       "      <td>88.0</td>\n",
       "      <td>9.2</td>\n",
       "      <td>NaN</td>\n",
       "    </tr>\n",
       "    <tr>\n",
       "      <th>1763</th>\n",
       "      <td>Football Manager 2013</td>\n",
       "      <td>PC</td>\n",
       "      <td>2012</td>\n",
       "      <td>Sports</td>\n",
       "      <td>0.00</td>\n",
       "      <td>0.95</td>\n",
       "      <td>0.00</td>\n",
       "      <td>0.21</td>\n",
       "      <td>86.0</td>\n",
       "      <td>6.7</td>\n",
       "      <td>NaN</td>\n",
       "    </tr>\n",
       "    <tr>\n",
       "      <th>2054</th>\n",
       "      <td>Monster Rancher</td>\n",
       "      <td>PS</td>\n",
       "      <td>1997</td>\n",
       "      <td>Simulation</td>\n",
       "      <td>0.12</td>\n",
       "      <td>0.08</td>\n",
       "      <td>0.74</td>\n",
       "      <td>0.07</td>\n",
       "      <td>86.0</td>\n",
       "      <td>8.3</td>\n",
       "      <td>NaN</td>\n",
       "    </tr>\n",
       "    <tr>\n",
       "      <th>2195</th>\n",
       "      <td>MVP Baseball 2005</td>\n",
       "      <td>XB</td>\n",
       "      <td>2005</td>\n",
       "      <td>Sports</td>\n",
       "      <td>0.70</td>\n",
       "      <td>0.20</td>\n",
       "      <td>0.00</td>\n",
       "      <td>0.03</td>\n",
       "      <td>86.0</td>\n",
       "      <td>-1</td>\n",
       "      <td>NaN</td>\n",
       "    </tr>\n",
       "    <tr>\n",
       "      <th>3054</th>\n",
       "      <td>100 Classic Books</td>\n",
       "      <td>DS</td>\n",
       "      <td>2008</td>\n",
       "      <td>Misc</td>\n",
       "      <td>0.12</td>\n",
       "      <td>0.52</td>\n",
       "      <td>0.00</td>\n",
       "      <td>0.02</td>\n",
       "      <td>70.0</td>\n",
       "      <td>6</td>\n",
       "      <td>NaN</td>\n",
       "    </tr>\n",
       "  </tbody>\n",
       "</table>\n",
       "</div>"
      ],
      "text/plain": [
       "                        name platform  year_of_release       genre  na_sales  \\\n",
       "822   R4: Ridge Racer Type 4       PS             1998      Racing      0.68   \n",
       "1763   Football Manager 2013       PC             2012      Sports      0.00   \n",
       "2054         Monster Rancher       PS             1997  Simulation      0.12   \n",
       "2195       MVP Baseball 2005       XB             2005      Sports      0.70   \n",
       "3054       100 Classic Books       DS             2008        Misc      0.12   \n",
       "\n",
       "      eu_sales  jp_sales  other_sales  critic_score user_score rating  \n",
       "822       0.46      0.79         0.13          88.0        9.2    NaN  \n",
       "1763      0.95      0.00         0.21          86.0        6.7    NaN  \n",
       "2054      0.08      0.74         0.07          86.0        8.3    NaN  \n",
       "2195      0.20      0.00         0.03          86.0         -1    NaN  \n",
       "3054      0.52      0.00         0.02          70.0          6    NaN  "
      ]
     },
     "execution_count": 15,
     "metadata": {},
     "output_type": "execute_result"
    }
   ],
   "source": [
    "df[(df['rating'].isnull()) & (df['critic_score'].notnull())].head()"
   ]
  },
  {
   "cell_type": "markdown",
   "metadata": {},
   "source": [
    "Возможно пропуски в столбцах critic_score и rating связаны с тем, что критики и организация ESRB не пробовали играть в эти игры. Оставим эти значения пустыми, чтобы не исказить данные."
   ]
  },
  {
   "cell_type": "markdown",
   "metadata": {},
   "source": [
    "- Обратим внимание на аббревиатуру 'tbd' в столбце с оценкой пользователей."
   ]
  },
  {
   "cell_type": "code",
   "execution_count": 16,
   "metadata": {},
   "outputs": [
    {
     "data": {
      "text/plain": [
       "array(['8', -1, '8.3', '8.5', '6.6', '8.4', '8.6', '7.7', '6.3', '7.4',\n",
       "       '8.2', '9', '7.9', '8.1', '8.7', '7.1', '3.4', '5.3', '4.8', '3.2',\n",
       "       '8.9', '6.4', '7.8', '7.5', '2.6', '7.2', '9.2', '7', '7.3', '4.3',\n",
       "       '7.6', '5.7', '5', '9.1', '6.5', 'tbd', '8.8', '6.9', '9.4', '6.8',\n",
       "       '6.1', '6.7', '5.4', '4', '4.9', '4.5', '9.3', '6.2', '4.2', '6',\n",
       "       '3.7', '4.1', '5.8', '5.6', '5.5', '4.4', '4.6', '5.9', '3.9',\n",
       "       '3.1', '2.9', '5.2', '3.3', '4.7', '5.1', '3.5', '2.5', '1.9', '3',\n",
       "       '2.7', '2.2', '2', '9.5', '2.1', '3.6', '2.8', '1.8', '3.8', '0',\n",
       "       '1.6', '9.6', '2.4', '1.7', '1.1', '0.3', '1.5', '0.7', '1.2',\n",
       "       '2.3', '0.5', '1.3', '0.2', '0.6', '1.4', '0.9', '1', '9.7'],\n",
       "      dtype=object)"
      ]
     },
     "execution_count": 16,
     "metadata": {},
     "output_type": "execute_result"
    }
   ],
   "source": [
    "df['user_score'].unique()"
   ]
  },
  {
   "cell_type": "markdown",
   "metadata": {},
   "source": [
    "В столбце user_score заменим значение tbd на -1, и приведём столбце к целочисленному типу"
   ]
  },
  {
   "cell_type": "code",
   "execution_count": 17,
   "metadata": {},
   "outputs": [],
   "source": [
    "# df['user_score'] = df['user_score'].replace('tbd', np.nan)\n",
    "# df['user_score'] = pd.to_numeric(df['user_score'])\n",
    "\n",
    "df['user_score'] = df['user_score'].replace('tbd', -1)\n",
    "df['user_score'] = pd.to_numeric(df['user_score'])"
   ]
  },
  {
   "cell_type": "code",
   "execution_count": 18,
   "metadata": {},
   "outputs": [
    {
     "name": "stdout",
     "output_type": "stream",
     "text": [
      "<class 'pandas.core.frame.DataFrame'>\n",
      "Int64Index: 16713 entries, 0 to 16714\n",
      "Data columns (total 11 columns):\n",
      " #   Column           Non-Null Count  Dtype  \n",
      "---  ------           --------------  -----  \n",
      " 0   name             16713 non-null  object \n",
      " 1   platform         16713 non-null  object \n",
      " 2   year_of_release  16713 non-null  int64  \n",
      " 3   genre            16713 non-null  object \n",
      " 4   na_sales         16713 non-null  float64\n",
      " 5   eu_sales         16713 non-null  float64\n",
      " 6   jp_sales         16713 non-null  float64\n",
      " 7   other_sales      16713 non-null  float64\n",
      " 8   critic_score     8137 non-null   float64\n",
      " 9   user_score       16713 non-null  float64\n",
      " 10  rating           9949 non-null   object \n",
      "dtypes: float64(6), int64(1), object(4)\n",
      "memory usage: 1.5+ MB\n"
     ]
    }
   ],
   "source": [
    "df.info()"
   ]
  },
  {
   "cell_type": "markdown",
   "metadata": {},
   "source": [
    "- Посчитаем суммарные продажи во всех регионах и запишем их в отдельный столбец"
   ]
  },
  {
   "cell_type": "code",
   "execution_count": 19,
   "metadata": {},
   "outputs": [
    {
     "data": {
      "text/html": [
       "<div>\n",
       "<style scoped>\n",
       "    .dataframe tbody tr th:only-of-type {\n",
       "        vertical-align: middle;\n",
       "    }\n",
       "\n",
       "    .dataframe tbody tr th {\n",
       "        vertical-align: top;\n",
       "    }\n",
       "\n",
       "    .dataframe thead th {\n",
       "        text-align: right;\n",
       "    }\n",
       "</style>\n",
       "<table border=\"1\" class=\"dataframe\">\n",
       "  <thead>\n",
       "    <tr style=\"text-align: right;\">\n",
       "      <th></th>\n",
       "      <th>name</th>\n",
       "      <th>platform</th>\n",
       "      <th>year_of_release</th>\n",
       "      <th>genre</th>\n",
       "      <th>na_sales</th>\n",
       "      <th>eu_sales</th>\n",
       "      <th>jp_sales</th>\n",
       "      <th>other_sales</th>\n",
       "      <th>critic_score</th>\n",
       "      <th>user_score</th>\n",
       "      <th>rating</th>\n",
       "      <th>all_sales</th>\n",
       "    </tr>\n",
       "  </thead>\n",
       "  <tbody>\n",
       "    <tr>\n",
       "      <th>0</th>\n",
       "      <td>Wii Sports</td>\n",
       "      <td>Wii</td>\n",
       "      <td>2006</td>\n",
       "      <td>Sports</td>\n",
       "      <td>41.36</td>\n",
       "      <td>28.96</td>\n",
       "      <td>3.77</td>\n",
       "      <td>8.45</td>\n",
       "      <td>76.0</td>\n",
       "      <td>8.0</td>\n",
       "      <td>E</td>\n",
       "      <td>82.54</td>\n",
       "    </tr>\n",
       "    <tr>\n",
       "      <th>1</th>\n",
       "      <td>Super Mario Bros.</td>\n",
       "      <td>NES</td>\n",
       "      <td>1985</td>\n",
       "      <td>Platform</td>\n",
       "      <td>29.08</td>\n",
       "      <td>3.58</td>\n",
       "      <td>6.81</td>\n",
       "      <td>0.77</td>\n",
       "      <td>NaN</td>\n",
       "      <td>-1.0</td>\n",
       "      <td>NaN</td>\n",
       "      <td>40.24</td>\n",
       "    </tr>\n",
       "    <tr>\n",
       "      <th>2</th>\n",
       "      <td>Mario Kart Wii</td>\n",
       "      <td>Wii</td>\n",
       "      <td>2008</td>\n",
       "      <td>Racing</td>\n",
       "      <td>15.68</td>\n",
       "      <td>12.76</td>\n",
       "      <td>3.79</td>\n",
       "      <td>3.29</td>\n",
       "      <td>82.0</td>\n",
       "      <td>8.3</td>\n",
       "      <td>E</td>\n",
       "      <td>35.52</td>\n",
       "    </tr>\n",
       "    <tr>\n",
       "      <th>3</th>\n",
       "      <td>Wii Sports Resort</td>\n",
       "      <td>Wii</td>\n",
       "      <td>2009</td>\n",
       "      <td>Sports</td>\n",
       "      <td>15.61</td>\n",
       "      <td>10.93</td>\n",
       "      <td>3.28</td>\n",
       "      <td>2.95</td>\n",
       "      <td>80.0</td>\n",
       "      <td>8.0</td>\n",
       "      <td>E</td>\n",
       "      <td>32.77</td>\n",
       "    </tr>\n",
       "    <tr>\n",
       "      <th>4</th>\n",
       "      <td>Pokemon Red/Pokemon Blue</td>\n",
       "      <td>GB</td>\n",
       "      <td>1996</td>\n",
       "      <td>Role-Playing</td>\n",
       "      <td>11.27</td>\n",
       "      <td>8.89</td>\n",
       "      <td>10.22</td>\n",
       "      <td>1.00</td>\n",
       "      <td>NaN</td>\n",
       "      <td>-1.0</td>\n",
       "      <td>NaN</td>\n",
       "      <td>31.38</td>\n",
       "    </tr>\n",
       "  </tbody>\n",
       "</table>\n",
       "</div>"
      ],
      "text/plain": [
       "                       name platform  year_of_release         genre  na_sales  \\\n",
       "0                Wii Sports      Wii             2006        Sports     41.36   \n",
       "1         Super Mario Bros.      NES             1985      Platform     29.08   \n",
       "2            Mario Kart Wii      Wii             2008        Racing     15.68   \n",
       "3         Wii Sports Resort      Wii             2009        Sports     15.61   \n",
       "4  Pokemon Red/Pokemon Blue       GB             1996  Role-Playing     11.27   \n",
       "\n",
       "   eu_sales  jp_sales  other_sales  critic_score  user_score rating  all_sales  \n",
       "0     28.96      3.77         8.45          76.0         8.0      E      82.54  \n",
       "1      3.58      6.81         0.77           NaN        -1.0    NaN      40.24  \n",
       "2     12.76      3.79         3.29          82.0         8.3      E      35.52  \n",
       "3     10.93      3.28         2.95          80.0         8.0      E      32.77  \n",
       "4      8.89     10.22         1.00           NaN        -1.0    NaN      31.38  "
      ]
     },
     "execution_count": 19,
     "metadata": {},
     "output_type": "execute_result"
    }
   ],
   "source": [
    "df['all_sales'] = df['na_sales'] + df['eu_sales'] + \\\n",
    "    df['jp_sales'] + df['other_sales']\n",
    "df.head(5)"
   ]
  },
  {
   "cell_type": "markdown",
   "metadata": {},
   "source": [
    "Данные подготовлены к дальнейшему анализу"
   ]
  },
  {
   "cell_type": "markdown",
   "metadata": {},
   "source": [
    "Рассмотрим столбец rating"
   ]
  },
  {
   "cell_type": "code",
   "execution_count": 20,
   "metadata": {},
   "outputs": [
    {
     "data": {
      "text/plain": [
       "E       3990\n",
       "T       2961\n",
       "M       1563\n",
       "E10+    1420\n",
       "EC         8\n",
       "K-A        3\n",
       "RP         3\n",
       "AO         1\n",
       "Name: rating, dtype: int64"
      ]
     },
     "execution_count": 20,
     "metadata": {},
     "output_type": "execute_result"
    }
   ],
   "source": [
    "df['rating'].value_counts()"
   ]
  },
  {
   "cell_type": "markdown",
   "metadata": {},
   "source": [
    "Заменим значение K-A на E, т.к. K-A - это первоначальное название"
   ]
  },
  {
   "cell_type": "code",
   "execution_count": 21,
   "metadata": {},
   "outputs": [],
   "source": [
    "df['rating'] = df['rating'].replace('K-A', 'E')"
   ]
  },
  {
   "cell_type": "markdown",
   "metadata": {},
   "source": [
    "Уберём строки, где стоят рейтинги EC, RP, AO, т.к. таких значений очень мало "
   ]
  },
  {
   "cell_type": "code",
   "execution_count": 22,
   "metadata": {},
   "outputs": [],
   "source": [
    "df = df[~df['rating'].isin(['EC', 'RP', 'AO'])]"
   ]
  },
  {
   "cell_type": "code",
   "execution_count": 23,
   "metadata": {},
   "outputs": [
    {
     "data": {
      "text/plain": [
       "E       3993\n",
       "T       2961\n",
       "M       1563\n",
       "E10+    1420\n",
       "Name: rating, dtype: int64"
      ]
     },
     "execution_count": 23,
     "metadata": {},
     "output_type": "execute_result"
    }
   ],
   "source": [
    "df['rating'].value_counts()"
   ]
  },
  {
   "cell_type": "code",
   "execution_count": 24,
   "metadata": {},
   "outputs": [
    {
     "data": {
      "text/plain": [
       "6764"
      ]
     },
     "execution_count": 24,
     "metadata": {},
     "output_type": "execute_result"
    }
   ],
   "source": [
    "df['rating'].isna().sum()"
   ]
  },
  {
   "cell_type": "markdown",
   "metadata": {},
   "source": [
    "Заменим пустые значения на значение 'unknown'"
   ]
  },
  {
   "cell_type": "code",
   "execution_count": 25,
   "metadata": {},
   "outputs": [],
   "source": [
    "df['rating'] = df['rating'].fillna('unknown')"
   ]
  },
  {
   "cell_type": "markdown",
   "metadata": {},
   "source": [
    "## Исследовательский анализ данных"
   ]
  },
  {
   "cell_type": "markdown",
   "metadata": {},
   "source": [
    "- Посмотрим, сколько игр выпускалось в разные годы. Важны ли данные за все периоды?"
   ]
  },
  {
   "cell_type": "code",
   "execution_count": 26,
   "metadata": {},
   "outputs": [
    {
     "data": {
      "text/plain": [
       "Text(0, 0.5, 'Количество игр за год')"
      ]
     },
     "execution_count": 26,
     "metadata": {},
     "output_type": "execute_result"
    },
    {
     "data": {
      "image/png": "[encoded data removed]",
      "text/plain": [
       "<Figure size 1080x360 with 1 Axes>"
      ]
     },
     "metadata": {},
     "output_type": "display_data"
    }
   ],
   "source": [
    "sns.set(style=\"whitegrid\")\n",
    "plt.style.use('seaborn-pastel')\n",
    "figsize = (15, 5)\n",
    "plot = df[df['year_of_release'] > 0].groupby('year_of_release')['name'].count().plot(\n",
    "    kind='bar', y='name', figsize=figsize, ec='black',  title='График количества выпущенных игр за год')\n",
    "plot.set_xlabel(\"Год\")\n",
    "plot.set_ylabel(\"Количество игр за год\")"
   ]
  },
  {
   "cell_type": "code",
   "execution_count": 27,
   "metadata": {},
   "outputs": [],
   "source": [
    "df_year = df[df['year_of_release'] > 0].groupby(\n",
    "    'year_of_release')['name'].count().reset_index()"
   ]
  },
  {
   "cell_type": "markdown",
   "metadata": {},
   "source": [
    "Посмотрим, оценивали ли в разные года игры"
   ]
  },
  {
   "cell_type": "code",
   "execution_count": 28,
   "metadata": {},
   "outputs": [
    {
     "data": {
      "text/plain": [
       "Text(0, 0.5, 'Количество оценок критиков за год')"
      ]
     },
     "execution_count": 28,
     "metadata": {},
     "output_type": "execute_result"
    },
    {
     "data": {
      "image/png": "[encoded data removed]",
      "text/plain": [
       "<Figure size 1080x360 with 1 Axes>"
      ]
     },
     "metadata": {},
     "output_type": "display_data"
    }
   ],
   "source": [
    "figsize = (15, 5)\n",
    "plot = df[df['year_of_release'] > 0].groupby('year_of_release')['critic_score'].count().plot(\n",
    "    kind='bar', y='name', figsize=figsize, ec='black',  title='График  количества оценок критиков игр за год')\n",
    "plot.set_xlabel(\"Год\")\n",
    "plot.set_ylabel(\"Количество оценок критиков за год\")"
   ]
  },
  {
   "cell_type": "markdown",
   "metadata": {},
   "source": [
    "Видим, что критики начали оценивать не сразу."
   ]
  },
  {
   "cell_type": "markdown",
   "metadata": {},
   "source": [
    "Отфильтруем значение года в интервал трёх сигм:"
   ]
  },
  {
   "cell_type": "code",
   "execution_count": 29,
   "metadata": {},
   "outputs": [],
   "source": [
    "def sigma_rule(df, column):\n",
    "    Q1 = df[column].quantile(0.25)\n",
    "    Q3 = df[column].quantile(0.75)\n",
    "    IQR = Q3 - Q1\n",
    "    return df[df[column].between(Q1 - 1.5*IQR, Q3 + 1.5*IQR,\n",
    "                                 inclusive=True)]"
   ]
  },
  {
   "cell_type": "code",
   "execution_count": 30,
   "metadata": {},
   "outputs": [],
   "source": [
    "# Отфильтровали год\n",
    "df = sigma_rule(df[(df['year_of_release'] > 0) & (\n",
    "    df['critic_score'].notnull())], 'year_of_release')"
   ]
  },
  {
   "cell_type": "code",
   "execution_count": 31,
   "metadata": {},
   "outputs": [
    {
     "name": "stdout",
     "output_type": "stream",
     "text": [
      "1996\n",
      "2016\n"
     ]
    }
   ],
   "source": [
    "print(df['year_of_release'].min())\n",
    "print(df['year_of_release'].max())"
   ]
  },
  {
   "cell_type": "markdown",
   "metadata": {},
   "source": [
    "**Оставим данные с 1996 года**"
   ]
  },
  {
   "cell_type": "markdown",
   "metadata": {},
   "source": [
    "- Посмотрим, как менялись продажи по платформам. "
   ]
  },
  {
   "cell_type": "markdown",
   "metadata": {},
   "source": [
    "Выберем платформы с наибольшими суммарными продажами и построим распределение по годам."
   ]
  },
  {
   "cell_type": "code",
   "execution_count": 32,
   "metadata": {},
   "outputs": [],
   "source": [
    "pd.set_option('display.max_rows', None)  # Вывести неограниченное число строк"
   ]
  },
  {
   "cell_type": "code",
   "execution_count": 33,
   "metadata": {},
   "outputs": [
    {
     "data": {
      "text/html": [
       "<div>\n",
       "<style scoped>\n",
       "    .dataframe tbody tr th:only-of-type {\n",
       "        vertical-align: middle;\n",
       "    }\n",
       "\n",
       "    .dataframe tbody tr th {\n",
       "        vertical-align: top;\n",
       "    }\n",
       "\n",
       "    .dataframe thead th {\n",
       "        text-align: right;\n",
       "    }\n",
       "</style>\n",
       "<table border=\"1\" class=\"dataframe\">\n",
       "  <thead>\n",
       "    <tr style=\"text-align: right;\">\n",
       "      <th></th>\n",
       "      <th></th>\n",
       "      <th>all_sales</th>\n",
       "    </tr>\n",
       "    <tr>\n",
       "      <th>year_of_release</th>\n",
       "      <th>platform</th>\n",
       "      <th></th>\n",
       "    </tr>\n",
       "  </thead>\n",
       "  <tbody>\n",
       "    <tr>\n",
       "      <th rowspan=\"2\" valign=\"top\">1996</th>\n",
       "      <th>PC</th>\n",
       "      <td>2.62</td>\n",
       "    </tr>\n",
       "    <tr>\n",
       "      <th>PS</th>\n",
       "      <td>17.73</td>\n",
       "    </tr>\n",
       "    <tr>\n",
       "      <th rowspan=\"2\" valign=\"top\">1997</th>\n",
       "      <th>PC</th>\n",
       "      <td>6.56</td>\n",
       "    </tr>\n",
       "    <tr>\n",
       "      <th>PS</th>\n",
       "      <td>37.22</td>\n",
       "    </tr>\n",
       "    <tr>\n",
       "      <th rowspan=\"2\" valign=\"top\">1998</th>\n",
       "      <th>PC</th>\n",
       "      <td>0.10</td>\n",
       "    </tr>\n",
       "    <tr>\n",
       "      <th>PS</th>\n",
       "      <td>49.35</td>\n",
       "    </tr>\n",
       "    <tr>\n",
       "      <th rowspan=\"3\" valign=\"top\">1999</th>\n",
       "      <th>DC</th>\n",
       "      <td>2.04</td>\n",
       "    </tr>\n",
       "    <tr>\n",
       "      <th>PC</th>\n",
       "      <td>0.11</td>\n",
       "    </tr>\n",
       "    <tr>\n",
       "      <th>PS</th>\n",
       "      <td>52.05</td>\n",
       "    </tr>\n",
       "    <tr>\n",
       "      <th rowspan=\"5\" valign=\"top\">2000</th>\n",
       "      <th>DC</th>\n",
       "      <td>1.98</td>\n",
       "    </tr>\n",
       "    <tr>\n",
       "      <th>PC</th>\n",
       "      <td>3.17</td>\n",
       "    </tr>\n",
       "    <tr>\n",
       "      <th>PS</th>\n",
       "      <td>54.30</td>\n",
       "    </tr>\n",
       "    <tr>\n",
       "      <th>PS2</th>\n",
       "      <td>33.76</td>\n",
       "    </tr>\n",
       "    <tr>\n",
       "      <th>XB</th>\n",
       "      <td>0.99</td>\n",
       "    </tr>\n",
       "    <tr>\n",
       "      <th rowspan=\"7\" valign=\"top\">2001</th>\n",
       "      <th>DC</th>\n",
       "      <td>0.53</td>\n",
       "    </tr>\n",
       "    <tr>\n",
       "      <th>GBA</th>\n",
       "      <td>44.58</td>\n",
       "    </tr>\n",
       "    <tr>\n",
       "      <th>GC</th>\n",
       "      <td>26.34</td>\n",
       "    </tr>\n",
       "    <tr>\n",
       "      <th>PC</th>\n",
       "      <td>5.35</td>\n",
       "    </tr>\n",
       "    <tr>\n",
       "      <th>PS</th>\n",
       "      <td>19.58</td>\n",
       "    </tr>\n",
       "    <tr>\n",
       "      <th>PS2</th>\n",
       "      <td>151.29</td>\n",
       "    </tr>\n",
       "    <tr>\n",
       "      <th>XB</th>\n",
       "      <td>22.01</td>\n",
       "    </tr>\n",
       "    <tr>\n",
       "      <th rowspan=\"6\" valign=\"top\">2002</th>\n",
       "      <th>GBA</th>\n",
       "      <td>37.69</td>\n",
       "    </tr>\n",
       "    <tr>\n",
       "      <th>GC</th>\n",
       "      <td>45.25</td>\n",
       "    </tr>\n",
       "    <tr>\n",
       "      <th>PC</th>\n",
       "      <td>8.55</td>\n",
       "    </tr>\n",
       "    <tr>\n",
       "      <th>PS</th>\n",
       "      <td>0.11</td>\n",
       "    </tr>\n",
       "    <tr>\n",
       "      <th>PS2</th>\n",
       "      <td>174.80</td>\n",
       "    </tr>\n",
       "    <tr>\n",
       "      <th>XB</th>\n",
       "      <td>43.85</td>\n",
       "    </tr>\n",
       "    <tr>\n",
       "      <th rowspan=\"5\" valign=\"top\">2003</th>\n",
       "      <th>GBA</th>\n",
       "      <td>27.22</td>\n",
       "    </tr>\n",
       "    <tr>\n",
       "      <th>GC</th>\n",
       "      <td>38.95</td>\n",
       "    </tr>\n",
       "    <tr>\n",
       "      <th>PC</th>\n",
       "      <td>6.41</td>\n",
       "    </tr>\n",
       "    <tr>\n",
       "      <th>PS2</th>\n",
       "      <td>147.77</td>\n",
       "    </tr>\n",
       "    <tr>\n",
       "      <th>XB</th>\n",
       "      <td>46.29</td>\n",
       "    </tr>\n",
       "    <tr>\n",
       "      <th rowspan=\"7\" valign=\"top\">2004</th>\n",
       "      <th>DS</th>\n",
       "      <td>3.38</td>\n",
       "    </tr>\n",
       "    <tr>\n",
       "      <th>GBA</th>\n",
       "      <td>41.76</td>\n",
       "    </tr>\n",
       "    <tr>\n",
       "      <th>GC</th>\n",
       "      <td>25.76</td>\n",
       "    </tr>\n",
       "    <tr>\n",
       "      <th>PC</th>\n",
       "      <td>10.28</td>\n",
       "    </tr>\n",
       "    <tr>\n",
       "      <th>PS2</th>\n",
       "      <td>190.14</td>\n",
       "    </tr>\n",
       "    <tr>\n",
       "      <th>PSP</th>\n",
       "      <td>4.53</td>\n",
       "    </tr>\n",
       "    <tr>\n",
       "      <th>XB</th>\n",
       "      <td>61.64</td>\n",
       "    </tr>\n",
       "    <tr>\n",
       "      <th rowspan=\"8\" valign=\"top\">2005</th>\n",
       "      <th>DS</th>\n",
       "      <td>97.61</td>\n",
       "    </tr>\n",
       "    <tr>\n",
       "      <th>GBA</th>\n",
       "      <td>12.08</td>\n",
       "    </tr>\n",
       "    <tr>\n",
       "      <th>GC</th>\n",
       "      <td>22.81</td>\n",
       "    </tr>\n",
       "    <tr>\n",
       "      <th>PC</th>\n",
       "      <td>4.00</td>\n",
       "    </tr>\n",
       "    <tr>\n",
       "      <th>PS2</th>\n",
       "      <td>123.20</td>\n",
       "    </tr>\n",
       "    <tr>\n",
       "      <th>PSP</th>\n",
       "      <td>39.35</td>\n",
       "    </tr>\n",
       "    <tr>\n",
       "      <th>X360</th>\n",
       "      <td>7.64</td>\n",
       "    </tr>\n",
       "    <tr>\n",
       "      <th>XB</th>\n",
       "      <td>42.70</td>\n",
       "    </tr>\n",
       "    <tr>\n",
       "      <th rowspan=\"10\" valign=\"top\">2006</th>\n",
       "      <th>DS</th>\n",
       "      <td>75.88</td>\n",
       "    </tr>\n",
       "    <tr>\n",
       "      <th>GBA</th>\n",
       "      <td>3.03</td>\n",
       "    </tr>\n",
       "    <tr>\n",
       "      <th>GC</th>\n",
       "      <td>10.00</td>\n",
       "    </tr>\n",
       "    <tr>\n",
       "      <th>PC</th>\n",
       "      <td>2.56</td>\n",
       "    </tr>\n",
       "    <tr>\n",
       "      <th>PS2</th>\n",
       "      <td>77.86</td>\n",
       "    </tr>\n",
       "    <tr>\n",
       "      <th>PS3</th>\n",
       "      <td>20.12</td>\n",
       "    </tr>\n",
       "    <tr>\n",
       "      <th>PSP</th>\n",
       "      <td>45.67</td>\n",
       "    </tr>\n",
       "    <tr>\n",
       "      <th>Wii</th>\n",
       "      <td>135.95</td>\n",
       "    </tr>\n",
       "    <tr>\n",
       "      <th>X360</th>\n",
       "      <td>48.92</td>\n",
       "    </tr>\n",
       "    <tr>\n",
       "      <th>XB</th>\n",
       "      <td>7.93</td>\n",
       "    </tr>\n",
       "    <tr>\n",
       "      <th rowspan=\"10\" valign=\"top\">2007</th>\n",
       "      <th>DS</th>\n",
       "      <td>89.92</td>\n",
       "    </tr>\n",
       "    <tr>\n",
       "      <th>GBA</th>\n",
       "      <td>0.19</td>\n",
       "    </tr>\n",
       "    <tr>\n",
       "      <th>GC</th>\n",
       "      <td>0.26</td>\n",
       "    </tr>\n",
       "    <tr>\n",
       "      <th>PC</th>\n",
       "      <td>8.91</td>\n",
       "    </tr>\n",
       "    <tr>\n",
       "      <th>PS2</th>\n",
       "      <td>52.46</td>\n",
       "    </tr>\n",
       "    <tr>\n",
       "      <th>PS3</th>\n",
       "      <td>68.72</td>\n",
       "    </tr>\n",
       "    <tr>\n",
       "      <th>PSP</th>\n",
       "      <td>37.77</td>\n",
       "    </tr>\n",
       "    <tr>\n",
       "      <th>Wii</th>\n",
       "      <td>128.28</td>\n",
       "    </tr>\n",
       "    <tr>\n",
       "      <th>X360</th>\n",
       "      <td>90.24</td>\n",
       "    </tr>\n",
       "    <tr>\n",
       "      <th>XB</th>\n",
       "      <td>0.55</td>\n",
       "    </tr>\n",
       "    <tr>\n",
       "      <th rowspan=\"7\" valign=\"top\">2008</th>\n",
       "      <th>DS</th>\n",
       "      <td>78.86</td>\n",
       "    </tr>\n",
       "    <tr>\n",
       "      <th>PC</th>\n",
       "      <td>9.40</td>\n",
       "    </tr>\n",
       "    <tr>\n",
       "      <th>PS2</th>\n",
       "      <td>24.38</td>\n",
       "    </tr>\n",
       "    <tr>\n",
       "      <th>PS3</th>\n",
       "      <td>111.28</td>\n",
       "    </tr>\n",
       "    <tr>\n",
       "      <th>PSP</th>\n",
       "      <td>26.84</td>\n",
       "    </tr>\n",
       "    <tr>\n",
       "      <th>Wii</th>\n",
       "      <td>133.45</td>\n",
       "    </tr>\n",
       "    <tr>\n",
       "      <th>X360</th>\n",
       "      <td>130.07</td>\n",
       "    </tr>\n",
       "    <tr>\n",
       "      <th rowspan=\"7\" valign=\"top\">2009</th>\n",
       "      <th>DS</th>\n",
       "      <td>49.61</td>\n",
       "    </tr>\n",
       "    <tr>\n",
       "      <th>PC</th>\n",
       "      <td>15.52</td>\n",
       "    </tr>\n",
       "    <tr>\n",
       "      <th>PS2</th>\n",
       "      <td>5.28</td>\n",
       "    </tr>\n",
       "    <tr>\n",
       "      <th>PS3</th>\n",
       "      <td>118.90</td>\n",
       "    </tr>\n",
       "    <tr>\n",
       "      <th>PSP</th>\n",
       "      <td>21.11</td>\n",
       "    </tr>\n",
       "    <tr>\n",
       "      <th>Wii</th>\n",
       "      <td>161.29</td>\n",
       "    </tr>\n",
       "    <tr>\n",
       "      <th>X360</th>\n",
       "      <td>111.59</td>\n",
       "    </tr>\n",
       "    <tr>\n",
       "      <th rowspan=\"7\" valign=\"top\">2010</th>\n",
       "      <th>DS</th>\n",
       "      <td>30.73</td>\n",
       "    </tr>\n",
       "    <tr>\n",
       "      <th>PC</th>\n",
       "      <td>20.85</td>\n",
       "    </tr>\n",
       "    <tr>\n",
       "      <th>PS2</th>\n",
       "      <td>0.59</td>\n",
       "    </tr>\n",
       "    <tr>\n",
       "      <th>PS3</th>\n",
       "      <td>126.55</td>\n",
       "    </tr>\n",
       "    <tr>\n",
       "      <th>PSP</th>\n",
       "      <td>17.13</td>\n",
       "    </tr>\n",
       "    <tr>\n",
       "      <th>Wii</th>\n",
       "      <td>74.66</td>\n",
       "    </tr>\n",
       "    <tr>\n",
       "      <th>X360</th>\n",
       "      <td>159.85</td>\n",
       "    </tr>\n",
       "    <tr>\n",
       "      <th rowspan=\"8\" valign=\"top\">2011</th>\n",
       "      <th>3DS</th>\n",
       "      <td>44.72</td>\n",
       "    </tr>\n",
       "    <tr>\n",
       "      <th>DS</th>\n",
       "      <td>7.87</td>\n",
       "    </tr>\n",
       "    <tr>\n",
       "      <th>PC</th>\n",
       "      <td>31.15</td>\n",
       "    </tr>\n",
       "    <tr>\n",
       "      <th>PS3</th>\n",
       "      <td>135.97</td>\n",
       "    </tr>\n",
       "    <tr>\n",
       "      <th>PSP</th>\n",
       "      <td>4.04</td>\n",
       "    </tr>\n",
       "    <tr>\n",
       "      <th>PSV</th>\n",
       "      <td>3.88</td>\n",
       "    </tr>\n",
       "    <tr>\n",
       "      <th>Wii</th>\n",
       "      <td>35.63</td>\n",
       "    </tr>\n",
       "    <tr>\n",
       "      <th>X360</th>\n",
       "      <td>129.95</td>\n",
       "    </tr>\n",
       "    <tr>\n",
       "      <th rowspan=\"8\" valign=\"top\">2012</th>\n",
       "      <th>3DS</th>\n",
       "      <td>39.39</td>\n",
       "    </tr>\n",
       "    <tr>\n",
       "      <th>DS</th>\n",
       "      <td>1.02</td>\n",
       "    </tr>\n",
       "    <tr>\n",
       "      <th>PC</th>\n",
       "      <td>22.01</td>\n",
       "    </tr>\n",
       "    <tr>\n",
       "      <th>PS3</th>\n",
       "      <td>94.30</td>\n",
       "    </tr>\n",
       "    <tr>\n",
       "      <th>PSV</th>\n",
       "      <td>13.07</td>\n",
       "    </tr>\n",
       "    <tr>\n",
       "      <th>Wii</th>\n",
       "      <td>13.23</td>\n",
       "    </tr>\n",
       "    <tr>\n",
       "      <th>WiiU</th>\n",
       "      <td>14.85</td>\n",
       "    </tr>\n",
       "    <tr>\n",
       "      <th>X360</th>\n",
       "      <td>95.68</td>\n",
       "    </tr>\n",
       "    <tr>\n",
       "      <th rowspan=\"9\" valign=\"top\">2013</th>\n",
       "      <th>3DS</th>\n",
       "      <td>15.89</td>\n",
       "    </tr>\n",
       "    <tr>\n",
       "      <th>PC</th>\n",
       "      <td>10.98</td>\n",
       "    </tr>\n",
       "    <tr>\n",
       "      <th>PS3</th>\n",
       "      <td>102.71</td>\n",
       "    </tr>\n",
       "    <tr>\n",
       "      <th>PS4</th>\n",
       "      <td>25.07</td>\n",
       "    </tr>\n",
       "    <tr>\n",
       "      <th>PSP</th>\n",
       "      <td>0.15</td>\n",
       "    </tr>\n",
       "    <tr>\n",
       "      <th>PSV</th>\n",
       "      <td>5.96</td>\n",
       "    </tr>\n",
       "    <tr>\n",
       "      <th>WiiU</th>\n",
       "      <td>17.40</td>\n",
       "    </tr>\n",
       "    <tr>\n",
       "      <th>X360</th>\n",
       "      <td>75.17</td>\n",
       "    </tr>\n",
       "    <tr>\n",
       "      <th>XOne</th>\n",
       "      <td>14.92</td>\n",
       "    </tr>\n",
       "    <tr>\n",
       "      <th rowspan=\"8\" valign=\"top\">2014</th>\n",
       "      <th>3DS</th>\n",
       "      <td>11.71</td>\n",
       "    </tr>\n",
       "    <tr>\n",
       "      <th>PC</th>\n",
       "      <td>11.79</td>\n",
       "    </tr>\n",
       "    <tr>\n",
       "      <th>PS3</th>\n",
       "      <td>11.34</td>\n",
       "    </tr>\n",
       "    <tr>\n",
       "      <th>PS4</th>\n",
       "      <td>80.95</td>\n",
       "    </tr>\n",
       "    <tr>\n",
       "      <th>PSV</th>\n",
       "      <td>5.27</td>\n",
       "    </tr>\n",
       "    <tr>\n",
       "      <th>WiiU</th>\n",
       "      <td>15.22</td>\n",
       "    </tr>\n",
       "    <tr>\n",
       "      <th>X360</th>\n",
       "      <td>10.10</td>\n",
       "    </tr>\n",
       "    <tr>\n",
       "      <th>XOne</th>\n",
       "      <td>47.01</td>\n",
       "    </tr>\n",
       "    <tr>\n",
       "      <th rowspan=\"7\" valign=\"top\">2015</th>\n",
       "      <th>3DS</th>\n",
       "      <td>10.55</td>\n",
       "    </tr>\n",
       "    <tr>\n",
       "      <th>PC</th>\n",
       "      <td>7.18</td>\n",
       "    </tr>\n",
       "    <tr>\n",
       "      <th>PS3</th>\n",
       "      <td>0.02</td>\n",
       "    </tr>\n",
       "    <tr>\n",
       "      <th>PS4</th>\n",
       "      <td>81.07</td>\n",
       "    </tr>\n",
       "    <tr>\n",
       "      <th>PSV</th>\n",
       "      <td>1.83</td>\n",
       "    </tr>\n",
       "    <tr>\n",
       "      <th>WiiU</th>\n",
       "      <td>15.35</td>\n",
       "    </tr>\n",
       "    <tr>\n",
       "      <th>XOne</th>\n",
       "      <td>44.63</td>\n",
       "    </tr>\n",
       "    <tr>\n",
       "      <th rowspan=\"6\" valign=\"top\">2016</th>\n",
       "      <th>3DS</th>\n",
       "      <td>2.17</td>\n",
       "    </tr>\n",
       "    <tr>\n",
       "      <th>PC</th>\n",
       "      <td>4.89</td>\n",
       "    </tr>\n",
       "    <tr>\n",
       "      <th>PS4</th>\n",
       "      <td>57.40</td>\n",
       "    </tr>\n",
       "    <tr>\n",
       "      <th>PSV</th>\n",
       "      <td>0.93</td>\n",
       "    </tr>\n",
       "    <tr>\n",
       "      <th>WiiU</th>\n",
       "      <td>3.45</td>\n",
       "    </tr>\n",
       "    <tr>\n",
       "      <th>XOne</th>\n",
       "      <td>23.84</td>\n",
       "    </tr>\n",
       "  </tbody>\n",
       "</table>\n",
       "</div>"
      ],
      "text/plain": [
       "                          all_sales\n",
       "year_of_release platform           \n",
       "1996            PC             2.62\n",
       "                PS            17.73\n",
       "1997            PC             6.56\n",
       "                PS            37.22\n",
       "1998            PC             0.10\n",
       "                PS            49.35\n",
       "1999            DC             2.04\n",
       "                PC             0.11\n",
       "                PS            52.05\n",
       "2000            DC             1.98\n",
       "                PC             3.17\n",
       "                PS            54.30\n",
       "                PS2           33.76\n",
       "                XB             0.99\n",
       "2001            DC             0.53\n",
       "                GBA           44.58\n",
       "                GC            26.34\n",
       "                PC             5.35\n",
       "                PS            19.58\n",
       "                PS2          151.29\n",
       "                XB            22.01\n",
       "2002            GBA           37.69\n",
       "                GC            45.25\n",
       "                PC             8.55\n",
       "                PS             0.11\n",
       "                PS2          174.80\n",
       "                XB            43.85\n",
       "2003            GBA           27.22\n",
       "                GC            38.95\n",
       "                PC             6.41\n",
       "                PS2          147.77\n",
       "                XB            46.29\n",
       "2004            DS             3.38\n",
       "                GBA           41.76\n",
       "                GC            25.76\n",
       "                PC            10.28\n",
       "                PS2          190.14\n",
       "                PSP            4.53\n",
       "                XB            61.64\n",
       "2005            DS            97.61\n",
       "                GBA           12.08\n",
       "                GC            22.81\n",
       "                PC             4.00\n",
       "                PS2          123.20\n",
       "                PSP           39.35\n",
       "                X360           7.64\n",
       "                XB            42.70\n",
       "2006            DS            75.88\n",
       "                GBA            3.03\n",
       "                GC            10.00\n",
       "                PC             2.56\n",
       "                PS2           77.86\n",
       "                PS3           20.12\n",
       "                PSP           45.67\n",
       "                Wii          135.95\n",
       "                X360          48.92\n",
       "                XB             7.93\n",
       "2007            DS            89.92\n",
       "                GBA            0.19\n",
       "                GC             0.26\n",
       "                PC             8.91\n",
       "                PS2           52.46\n",
       "                PS3           68.72\n",
       "                PSP           37.77\n",
       "                Wii          128.28\n",
       "                X360          90.24\n",
       "                XB             0.55\n",
       "2008            DS            78.86\n",
       "                PC             9.40\n",
       "                PS2           24.38\n",
       "                PS3          111.28\n",
       "                PSP           26.84\n",
       "                Wii          133.45\n",
       "                X360         130.07\n",
       "2009            DS            49.61\n",
       "                PC            15.52\n",
       "                PS2            5.28\n",
       "                PS3          118.90\n",
       "                PSP           21.11\n",
       "                Wii          161.29\n",
       "                X360         111.59\n",
       "2010            DS            30.73\n",
       "                PC            20.85\n",
       "                PS2            0.59\n",
       "                PS3          126.55\n",
       "                PSP           17.13\n",
       "                Wii           74.66\n",
       "                X360         159.85\n",
       "2011            3DS           44.72\n",
       "                DS             7.87\n",
       "                PC            31.15\n",
       "                PS3          135.97\n",
       "                PSP            4.04\n",
       "                PSV            3.88\n",
       "                Wii           35.63\n",
       "                X360         129.95\n",
       "2012            3DS           39.39\n",
       "                DS             1.02\n",
       "                PC            22.01\n",
       "                PS3           94.30\n",
       "                PSV           13.07\n",
       "                Wii           13.23\n",
       "                WiiU          14.85\n",
       "                X360          95.68\n",
       "2013            3DS           15.89\n",
       "                PC            10.98\n",
       "                PS3          102.71\n",
       "                PS4           25.07\n",
       "                PSP            0.15\n",
       "                PSV            5.96\n",
       "                WiiU          17.40\n",
       "                X360          75.17\n",
       "                XOne          14.92\n",
       "2014            3DS           11.71\n",
       "                PC            11.79\n",
       "                PS3           11.34\n",
       "                PS4           80.95\n",
       "                PSV            5.27\n",
       "                WiiU          15.22\n",
       "                X360          10.10\n",
       "                XOne          47.01\n",
       "2015            3DS           10.55\n",
       "                PC             7.18\n",
       "                PS3            0.02\n",
       "                PS4           81.07\n",
       "                PSV            1.83\n",
       "                WiiU          15.35\n",
       "                XOne          44.63\n",
       "2016            3DS            2.17\n",
       "                PC             4.89\n",
       "                PS4           57.40\n",
       "                PSV            0.93\n",
       "                WiiU           3.45\n",
       "                XOne          23.84"
      ]
     },
     "execution_count": 33,
     "metadata": {},
     "output_type": "execute_result"
    }
   ],
   "source": [
    "platform_year = df.pivot_table(\n",
    "    index=['year_of_release', 'platform'], values='all_sales', aggfunc='sum')\n",
    "platform_year"
   ]
  },
  {
   "cell_type": "markdown",
   "metadata": {},
   "source": [
    "Выберем 5 платформ с наибольшими суммарными продажами и построим для каждой успешной платформы график зависимости года к суммарным продажам"
   ]
  },
  {
   "cell_type": "code",
   "execution_count": 34,
   "metadata": {},
   "outputs": [
    {
     "data": {
      "text/html": [
       "<div>\n",
       "<style scoped>\n",
       "    .dataframe tbody tr th:only-of-type {\n",
       "        vertical-align: middle;\n",
       "    }\n",
       "\n",
       "    .dataframe tbody tr th {\n",
       "        vertical-align: top;\n",
       "    }\n",
       "\n",
       "    .dataframe thead th {\n",
       "        text-align: right;\n",
       "    }\n",
       "</style>\n",
       "<table border=\"1\" class=\"dataframe\">\n",
       "  <thead>\n",
       "    <tr style=\"text-align: right;\">\n",
       "      <th></th>\n",
       "      <th>platform</th>\n",
       "      <th>all_sales</th>\n",
       "    </tr>\n",
       "  </thead>\n",
       "  <tbody>\n",
       "    <tr>\n",
       "      <th>0</th>\n",
       "      <td>PS2</td>\n",
       "      <td>981.53</td>\n",
       "    </tr>\n",
       "    <tr>\n",
       "      <th>1</th>\n",
       "      <td>X360</td>\n",
       "      <td>859.21</td>\n",
       "    </tr>\n",
       "    <tr>\n",
       "      <th>2</th>\n",
       "      <td>PS3</td>\n",
       "      <td>789.91</td>\n",
       "    </tr>\n",
       "    <tr>\n",
       "      <th>3</th>\n",
       "      <td>Wii</td>\n",
       "      <td>682.49</td>\n",
       "    </tr>\n",
       "    <tr>\n",
       "      <th>4</th>\n",
       "      <td>DS</td>\n",
       "      <td>434.88</td>\n",
       "    </tr>\n",
       "  </tbody>\n",
       "</table>\n",
       "</div>"
      ],
      "text/plain": [
       "  platform  all_sales\n",
       "0      PS2     981.53\n",
       "1     X360     859.21\n",
       "2      PS3     789.91\n",
       "3      Wii     682.49\n",
       "4       DS     434.88"
      ]
     },
     "execution_count": 34,
     "metadata": {},
     "output_type": "execute_result"
    }
   ],
   "source": [
    "best_sales = df.groupby('platform')['all_sales'].sum(\n",
    ").sort_values(ascending=False).head().reset_index()\n",
    "best_sales"
   ]
  },
  {
   "cell_type": "markdown",
   "metadata": {},
   "source": [
    "Построим график продажам игр по годам на этих платформах. Возьмём прошлый датафрейм platform_year."
   ]
  },
  {
   "cell_type": "code",
   "execution_count": 35,
   "metadata": {},
   "outputs": [],
   "source": [
    "best_platform_year = platform_year.query(\n",
    "    'platform in @best_sales.platform').reset_index()"
   ]
  },
  {
   "cell_type": "code",
   "execution_count": 36,
   "metadata": {},
   "outputs": [
    {
     "data": {
      "image/png": "[encoded data removed]",
      "text/plain": [
       "<Figure size 864x360 with 1 Axes>"
      ]
     },
     "metadata": {},
     "output_type": "display_data"
    },
    {
     "data": {
      "image/png": "[encoded data removed]",
      "text/plain": [
       "<Figure size 864x360 with 1 Axes>"
      ]
     },
     "metadata": {},
     "output_type": "display_data"
    },
    {
     "data": {
      "image/png": "[encoded data removed]",
      "text/plain": [
       "<Figure size 864x360 with 1 Axes>"
      ]
     },
     "metadata": {},
     "output_type": "display_data"
    },
    {
     "data": {
      "image/png": "[encoded data removed]",
      "text/plain": [
       "<Figure size 864x360 with 1 Axes>"
      ]
     },
     "metadata": {},
     "output_type": "display_data"
    },
    {
     "data": {
      "image/png": "[encoded data removed]",
      "text/plain": [
       "<Figure size 864x360 with 1 Axes>"
      ]
     },
     "metadata": {},
     "output_type": "display_data"
    }
   ],
   "source": [
    "for platform in best_sales['platform'].unique():\n",
    "    best_platform_year[best_platform_year['platform'] == platform].plot(x='year_of_release', y='all_sales', figsize=(\n",
    "        12, 5), title='Общая сумма продаж игр по платформе {} по годам'.format(platform))\n",
    "    plt.ylabel('Сумма продаж')"
   ]
  },
  {
   "cell_type": "code",
   "execution_count": 37,
   "metadata": {},
   "outputs": [
    {
     "name": "stdout",
     "output_type": "stream",
     "text": [
      "Средняя продолжительность жизни платформы исходя из графиков: 8\n"
     ]
    }
   ],
   "source": [
    "print(f'Средняя продолжительность жизни платформы исходя из графиков:',\n",
    "      round((9 + 8 + 8 + 6 + 7)/5))"
   ]
  },
  {
   "cell_type": "markdown",
   "metadata": {},
   "source": [
    "Определим соответствующий актуальный период для прогноза на 2017 год"
   ]
  },
  {
   "cell_type": "markdown",
   "metadata": {},
   "source": [
    "Рассмотрим продажи игр с 2014 года, т.к. консоли 8-ого поколения появились с 2014-ого года"
   ]
  },
  {
   "cell_type": "code",
   "execution_count": 38,
   "metadata": {},
   "outputs": [],
   "source": [
    "df_actual = df[df['year_of_release'] >= 2014]\n",
    "platform_year = platform_year.reset_index()\n",
    "platform_year = platform_year[platform_year['year_of_release'] >= 2014]"
   ]
  },
  {
   "cell_type": "code",
   "execution_count": 39,
   "metadata": {},
   "outputs": [
    {
     "data": {
      "text/html": [
       "<div>\n",
       "<style scoped>\n",
       "    .dataframe tbody tr th:only-of-type {\n",
       "        vertical-align: middle;\n",
       "    }\n",
       "\n",
       "    .dataframe tbody tr th {\n",
       "        vertical-align: top;\n",
       "    }\n",
       "\n",
       "    .dataframe thead th {\n",
       "        text-align: right;\n",
       "    }\n",
       "</style>\n",
       "<table border=\"1\" class=\"dataframe\">\n",
       "  <thead>\n",
       "    <tr style=\"text-align: right;\">\n",
       "      <th></th>\n",
       "      <th>platform</th>\n",
       "      <th>all_sales</th>\n",
       "    </tr>\n",
       "  </thead>\n",
       "  <tbody>\n",
       "    <tr>\n",
       "      <th>0</th>\n",
       "      <td>PS4</td>\n",
       "      <td>219.42</td>\n",
       "    </tr>\n",
       "    <tr>\n",
       "      <th>1</th>\n",
       "      <td>XOne</td>\n",
       "      <td>115.48</td>\n",
       "    </tr>\n",
       "    <tr>\n",
       "      <th>2</th>\n",
       "      <td>WiiU</td>\n",
       "      <td>34.02</td>\n",
       "    </tr>\n",
       "    <tr>\n",
       "      <th>3</th>\n",
       "      <td>3DS</td>\n",
       "      <td>24.43</td>\n",
       "    </tr>\n",
       "    <tr>\n",
       "      <th>4</th>\n",
       "      <td>PC</td>\n",
       "      <td>23.86</td>\n",
       "    </tr>\n",
       "    <tr>\n",
       "      <th>5</th>\n",
       "      <td>PS3</td>\n",
       "      <td>11.36</td>\n",
       "    </tr>\n",
       "    <tr>\n",
       "      <th>6</th>\n",
       "      <td>X360</td>\n",
       "      <td>10.10</td>\n",
       "    </tr>\n",
       "    <tr>\n",
       "      <th>7</th>\n",
       "      <td>PSV</td>\n",
       "      <td>8.03</td>\n",
       "    </tr>\n",
       "  </tbody>\n",
       "</table>\n",
       "</div>"
      ],
      "text/plain": [
       "  platform  all_sales\n",
       "0      PS4     219.42\n",
       "1     XOne     115.48\n",
       "2     WiiU      34.02\n",
       "3      3DS      24.43\n",
       "4       PC      23.86\n",
       "5      PS3      11.36\n",
       "6     X360      10.10\n",
       "7      PSV       8.03"
      ]
     },
     "execution_count": 39,
     "metadata": {},
     "output_type": "execute_result"
    }
   ],
   "source": [
    "best_actual_sales = df_actual.groupby('platform')['all_sales'].sum(\n",
    ").sort_values(ascending=False).reset_index()\n",
    "best_actual_sales"
   ]
  },
  {
   "cell_type": "code",
   "execution_count": 40,
   "metadata": {},
   "outputs": [],
   "source": [
    "best_platform_year = platform_year.query(\n",
    "    'platform in @best_actual_sales.platform').reset_index()"
   ]
  },
  {
   "cell_type": "code",
   "execution_count": 41,
   "metadata": {},
   "outputs": [
    {
     "data": {
      "text/plain": [
       "Text(0.5, 1.0, 'Количество продаж у популярных платформ по последним годам')"
      ]
     },
     "execution_count": 41,
     "metadata": {},
     "output_type": "execute_result"
    },
    {
     "data": {
      "image/png": "[encoded data removed]",
      "text/plain": [
       "<Figure size 864x360 with 1 Axes>"
      ]
     },
     "metadata": {},
     "output_type": "display_data"
    }
   ],
   "source": [
    "sns.set(rc={'figure.figsize': (12, 5)})\n",
    "sns.barplot(x=\"year_of_release\", y=\"all_sales\", hue=\"platform\",\n",
    "            data=best_platform_year.sort_values(by=['year_of_release', 'all_sales'], ascending=False))\n",
    "plt.legend(loc='upper right')\n",
    "plt.title('Количество продаж у популярных платформ по последним годам')"
   ]
  },
  {
   "cell_type": "markdown",
   "metadata": {},
   "source": [
    "Видим, что самые большие продажи на 2016 год остались по платформам PS4, XOne и PC. Это и есть самые потенциально прибыльные платформы. Почти все остальные платформы приблизились к 0 по продажам на 2016 год. Платформы PSV, WiiU и X360 добавлять не будем в список потенциально прибыльных платформ."
   ]
  },
  {
   "cell_type": "markdown",
   "metadata": {},
   "source": [
    "- Построим график «ящик с усами» по глобальным продажам игр в разбивке по платформам."
   ]
  },
  {
   "cell_type": "markdown",
   "metadata": {},
   "source": [
    "Для этого создадим датафрейм, у которого в столбцах будут данные об общих продажах по одной определённой платформе"
   ]
  },
  {
   "cell_type": "code",
   "execution_count": 42,
   "metadata": {},
   "outputs": [
    {
     "data": {
      "text/plain": [
       "array(['PS4', 'WiiU', 'XOne', '3DS', 'PC', 'X360', 'PS3', 'PSV'],\n",
       "      dtype=object)"
      ]
     },
     "execution_count": 42,
     "metadata": {},
     "output_type": "execute_result"
    }
   ],
   "source": [
    "df_actual.platform.unique()"
   ]
  },
  {
   "cell_type": "code",
   "execution_count": 43,
   "metadata": {},
   "outputs": [],
   "source": [
    "df_list = []\n",
    "for platform in ['PS4', 'XOne', 'PC']:\n",
    "    df_list.append(pd.DataFrame(\n",
    "        df_actual.loc[df_actual['platform'] == platform]['all_sales'].reset_index(drop=True)))"
   ]
  },
  {
   "cell_type": "code",
   "execution_count": 44,
   "metadata": {},
   "outputs": [
    {
     "data": {
      "text/html": [
       "<div>\n",
       "<style scoped>\n",
       "    .dataframe tbody tr th:only-of-type {\n",
       "        vertical-align: middle;\n",
       "    }\n",
       "\n",
       "    .dataframe tbody tr th {\n",
       "        vertical-align: top;\n",
       "    }\n",
       "\n",
       "    .dataframe thead th {\n",
       "        text-align: right;\n",
       "    }\n",
       "</style>\n",
       "<table border=\"1\" class=\"dataframe\">\n",
       "  <thead>\n",
       "    <tr style=\"text-align: right;\">\n",
       "      <th></th>\n",
       "      <th>all_sales</th>\n",
       "    </tr>\n",
       "  </thead>\n",
       "  <tbody>\n",
       "    <tr>\n",
       "      <th>0</th>\n",
       "      <td>12.62</td>\n",
       "    </tr>\n",
       "    <tr>\n",
       "      <th>1</th>\n",
       "      <td>8.58</td>\n",
       "    </tr>\n",
       "    <tr>\n",
       "      <th>2</th>\n",
       "      <td>7.66</td>\n",
       "    </tr>\n",
       "    <tr>\n",
       "      <th>3</th>\n",
       "      <td>7.60</td>\n",
       "    </tr>\n",
       "    <tr>\n",
       "      <th>4</th>\n",
       "      <td>7.17</td>\n",
       "    </tr>\n",
       "  </tbody>\n",
       "</table>\n",
       "</div>"
      ],
      "text/plain": [
       "   all_sales\n",
       "0      12.62\n",
       "1       8.58\n",
       "2       7.66\n",
       "3       7.60\n",
       "4       7.17"
      ]
     },
     "execution_count": 44,
     "metadata": {},
     "output_type": "execute_result"
    }
   ],
   "source": [
    "df_list[0].head()"
   ]
  },
  {
   "cell_type": "code",
   "execution_count": 45,
   "metadata": {},
   "outputs": [],
   "source": [
    "df_platf_2 = pd.concat([df_list[0], df_list[1]], axis=1)\n",
    "df_platf_3 = pd.concat([df_platf_2, df_list[2]], axis=1)\n",
    "df_platf_3.columns = ['PS4', 'XOne', 'PC']"
   ]
  },
  {
   "cell_type": "code",
   "execution_count": 46,
   "metadata": {},
   "outputs": [
    {
     "data": {
      "text/html": [
       "<div>\n",
       "<style scoped>\n",
       "    .dataframe tbody tr th:only-of-type {\n",
       "        vertical-align: middle;\n",
       "    }\n",
       "\n",
       "    .dataframe tbody tr th {\n",
       "        vertical-align: top;\n",
       "    }\n",
       "\n",
       "    .dataframe thead th {\n",
       "        text-align: right;\n",
       "    }\n",
       "</style>\n",
       "<table border=\"1\" class=\"dataframe\">\n",
       "  <thead>\n",
       "    <tr style=\"text-align: right;\">\n",
       "      <th></th>\n",
       "      <th>PS4</th>\n",
       "      <th>XOne</th>\n",
       "      <th>PC</th>\n",
       "    </tr>\n",
       "  </thead>\n",
       "  <tbody>\n",
       "    <tr>\n",
       "      <th>0</th>\n",
       "      <td>12.62</td>\n",
       "      <td>5.47</td>\n",
       "      <td>3.05</td>\n",
       "    </tr>\n",
       "    <tr>\n",
       "      <th>1</th>\n",
       "      <td>8.58</td>\n",
       "      <td>5.26</td>\n",
       "      <td>1.28</td>\n",
       "    </tr>\n",
       "    <tr>\n",
       "      <th>2</th>\n",
       "      <td>7.66</td>\n",
       "      <td>4.49</td>\n",
       "      <td>1.17</td>\n",
       "    </tr>\n",
       "    <tr>\n",
       "      <th>3</th>\n",
       "      <td>7.60</td>\n",
       "      <td>4.22</td>\n",
       "      <td>0.90</td>\n",
       "    </tr>\n",
       "    <tr>\n",
       "      <th>4</th>\n",
       "      <td>7.17</td>\n",
       "      <td>3.50</td>\n",
       "      <td>0.73</td>\n",
       "    </tr>\n",
       "  </tbody>\n",
       "</table>\n",
       "</div>"
      ],
      "text/plain": [
       "     PS4  XOne    PC\n",
       "0  12.62  5.47  3.05\n",
       "1   8.58  5.26  1.28\n",
       "2   7.66  4.49  1.17\n",
       "3   7.60  4.22  0.90\n",
       "4   7.17  3.50  0.73"
      ]
     },
     "execution_count": 46,
     "metadata": {},
     "output_type": "execute_result"
    }
   ],
   "source": [
    "df_platf_3.head()"
   ]
  },
  {
   "cell_type": "code",
   "execution_count": 47,
   "metadata": {},
   "outputs": [],
   "source": [
    "# убрать warning\n",
    "from matplotlib.axes._axes import _log as matplotlib_axes_logger\n",
    "import warnings\n",
    "warnings.filterwarnings(\"ignore\", category=np.VisibleDeprecationWarning) \n",
    "matplotlib_axes_logger.setLevel('ERROR')\n",
    "pd.options.mode.chained_assignment = None"
   ]
  },
  {
   "cell_type": "code",
   "execution_count": 48,
   "metadata": {},
   "outputs": [
    {
     "data": {
      "text/plain": [
       "Text(0, 0.5, 'Общие продажи игр')"
      ]
     },
     "execution_count": 48,
     "metadata": {},
     "output_type": "execute_result"
    },
    {
     "data": {
      "image/png": "[encoded data removed]",
      "text/plain": [
       "<Figure size 1440x720 with 1 Axes>"
      ]
     },
     "metadata": {},
     "output_type": "display_data"
    }
   ],
   "source": [
    "df_platf_3.boxplot(figsize=(20, 10))\n",
    "plt.ylim(0, 3)\n",
    "plt.title('График boxplot')\n",
    "plt.ylabel('Общие продажи игр')"
   ]
  },
  {
   "cell_type": "markdown",
   "metadata": {},
   "source": [
    "Видим, что графики по PS4 и XOne похожи. Медианы, значение Q1 и значение Q3 примерно равны, т.к. консоли выпускают похожие игры, но иногда одна или другая платформа выпускает эксклюзивы. Q3 + 1.5 * IQR у Xone выше, это говорит о там, что у Xone общая сумма продаж по очень прибыльным играм больше.\n",
    "\n",
    "Медиана у PC находится очень близко к первому квартилю, это говорит о том, что больше половины игр не принесли особой прибыли. Это связано, с тем что маломасштабные игры можно легко выпускать на PC. Также из графика видно, что стоимость игр у PC меньше, чем у других популярных платформ, но возможно это связано с количеством выпущенных игр."
   ]
  },
  {
   "cell_type": "markdown",
   "metadata": {},
   "source": [
    "- Выберем платформу PS4 и посмотрим, как влияют на продажи отзывы пользователей и критиков. Построим диаграмму рассеяния"
   ]
  },
  {
   "cell_type": "markdown",
   "metadata": {},
   "source": [
    "Нормируем параметр critic_score"
   ]
  },
  {
   "cell_type": "code",
   "execution_count": 49,
   "metadata": {},
   "outputs": [
    {
     "data": {
      "text/html": [
       "<div>\n",
       "<style scoped>\n",
       "    .dataframe tbody tr th:only-of-type {\n",
       "        vertical-align: middle;\n",
       "    }\n",
       "\n",
       "    .dataframe tbody tr th {\n",
       "        vertical-align: top;\n",
       "    }\n",
       "\n",
       "    .dataframe thead th {\n",
       "        text-align: right;\n",
       "    }\n",
       "</style>\n",
       "<table border=\"1\" class=\"dataframe\">\n",
       "  <thead>\n",
       "    <tr style=\"text-align: right;\">\n",
       "      <th></th>\n",
       "      <th>name</th>\n",
       "      <th>platform</th>\n",
       "      <th>year_of_release</th>\n",
       "      <th>genre</th>\n",
       "      <th>na_sales</th>\n",
       "      <th>eu_sales</th>\n",
       "      <th>jp_sales</th>\n",
       "      <th>other_sales</th>\n",
       "      <th>critic_score</th>\n",
       "      <th>user_score</th>\n",
       "      <th>rating</th>\n",
       "      <th>all_sales</th>\n",
       "    </tr>\n",
       "  </thead>\n",
       "  <tbody>\n",
       "    <tr>\n",
       "      <th>42</th>\n",
       "      <td>Grand Theft Auto V</td>\n",
       "      <td>PS4</td>\n",
       "      <td>2014</td>\n",
       "      <td>Action</td>\n",
       "      <td>3.96</td>\n",
       "      <td>6.31</td>\n",
       "      <td>0.38</td>\n",
       "      <td>1.97</td>\n",
       "      <td>97.0</td>\n",
       "      <td>8.3</td>\n",
       "      <td>M</td>\n",
       "      <td>12.62</td>\n",
       "    </tr>\n",
       "    <tr>\n",
       "      <th>77</th>\n",
       "      <td>FIFA 16</td>\n",
       "      <td>PS4</td>\n",
       "      <td>2015</td>\n",
       "      <td>Sports</td>\n",
       "      <td>1.12</td>\n",
       "      <td>6.12</td>\n",
       "      <td>0.06</td>\n",
       "      <td>1.28</td>\n",
       "      <td>82.0</td>\n",
       "      <td>4.3</td>\n",
       "      <td>E</td>\n",
       "      <td>8.58</td>\n",
       "    </tr>\n",
       "    <tr>\n",
       "      <th>92</th>\n",
       "      <td>Call of Duty: Advanced Warfare</td>\n",
       "      <td>PS4</td>\n",
       "      <td>2014</td>\n",
       "      <td>Shooter</td>\n",
       "      <td>2.81</td>\n",
       "      <td>3.48</td>\n",
       "      <td>0.14</td>\n",
       "      <td>1.23</td>\n",
       "      <td>83.0</td>\n",
       "      <td>5.7</td>\n",
       "      <td>M</td>\n",
       "      <td>7.66</td>\n",
       "    </tr>\n",
       "    <tr>\n",
       "      <th>94</th>\n",
       "      <td>FIFA 17</td>\n",
       "      <td>PS4</td>\n",
       "      <td>2016</td>\n",
       "      <td>Sports</td>\n",
       "      <td>0.66</td>\n",
       "      <td>5.75</td>\n",
       "      <td>0.08</td>\n",
       "      <td>1.11</td>\n",
       "      <td>85.0</td>\n",
       "      <td>5.0</td>\n",
       "      <td>E</td>\n",
       "      <td>7.60</td>\n",
       "    </tr>\n",
       "    <tr>\n",
       "      <th>105</th>\n",
       "      <td>Fallout 4</td>\n",
       "      <td>PS4</td>\n",
       "      <td>2015</td>\n",
       "      <td>Role-Playing</td>\n",
       "      <td>2.53</td>\n",
       "      <td>3.27</td>\n",
       "      <td>0.24</td>\n",
       "      <td>1.13</td>\n",
       "      <td>87.0</td>\n",
       "      <td>6.5</td>\n",
       "      <td>M</td>\n",
       "      <td>7.17</td>\n",
       "    </tr>\n",
       "  </tbody>\n",
       "</table>\n",
       "</div>"
      ],
      "text/plain": [
       "                               name platform  year_of_release         genre  \\\n",
       "42               Grand Theft Auto V      PS4             2014        Action   \n",
       "77                          FIFA 16      PS4             2015        Sports   \n",
       "92   Call of Duty: Advanced Warfare      PS4             2014       Shooter   \n",
       "94                          FIFA 17      PS4             2016        Sports   \n",
       "105                       Fallout 4      PS4             2015  Role-Playing   \n",
       "\n",
       "     na_sales  eu_sales  jp_sales  other_sales  critic_score  user_score  \\\n",
       "42       3.96      6.31      0.38         1.97          97.0         8.3   \n",
       "77       1.12      6.12      0.06         1.28          82.0         4.3   \n",
       "92       2.81      3.48      0.14         1.23          83.0         5.7   \n",
       "94       0.66      5.75      0.08         1.11          85.0         5.0   \n",
       "105      2.53      3.27      0.24         1.13          87.0         6.5   \n",
       "\n",
       "    rating  all_sales  \n",
       "42       M      12.62  \n",
       "77       E       8.58  \n",
       "92       M       7.66  \n",
       "94       E       7.60  \n",
       "105      M       7.17  "
      ]
     },
     "execution_count": 49,
     "metadata": {},
     "output_type": "execute_result"
    }
   ],
   "source": [
    "df_actual.head()"
   ]
  },
  {
   "cell_type": "code",
   "execution_count": 50,
   "metadata": {},
   "outputs": [],
   "source": [
    "df_actual.reset_index(drop=True, inplace=True)\n",
    "df_actual['critic_score'] /= 10"
   ]
  },
  {
   "cell_type": "code",
   "execution_count": 51,
   "metadata": {},
   "outputs": [
    {
     "data": {
      "text/plain": [
       "<AxesSubplot:title={'center':'Зависимость общих продаж от оценок пользователей'}, xlabel='user_score', ylabel='all_sales'>"
      ]
     },
     "execution_count": 51,
     "metadata": {},
     "output_type": "execute_result"
    },
    {
     "data": {
      "image/png": "[encoded data removed]",
      "text/plain": [
       "<Figure size 576x576 with 1 Axes>"
      ]
     },
     "metadata": {},
     "output_type": "display_data"
    },
    {
     "data": {
      "image/png": "[encoded data removed]",
      "text/plain": [
       "<Figure size 576x576 with 1 Axes>"
      ]
     },
     "metadata": {},
     "output_type": "display_data"
    }
   ],
   "source": [
    "sns.set(rc={'figure.figsize': (8, 8)})\n",
    "ps4 = df_actual[df_actual['platform'] == 'PS4']\n",
    "ps4.plot.scatter(x='critic_score', y='all_sales',\n",
    "                 title='Зависимость общих продаж от оценок критиков')\n",
    "\n",
    "ps4.plot.scatter(x='user_score', y='all_sales',\n",
    "                 title='Зависимость общих продаж от оценок пользователей')"
   ]
  },
  {
   "cell_type": "markdown",
   "metadata": {},
   "source": [
    "Как видим, большинство игр PS4 получили оценки от 5.5 до 9, но продавались не так хорошо, как некоторые другие игры"
   ]
  },
  {
   "cell_type": "markdown",
   "metadata": {},
   "source": [
    "Посмотрим есть линейная зависимость у оценок пользователей и критиков от всех продаж у PS4, XOne и всех платформ"
   ]
  },
  {
   "cell_type": "code",
   "execution_count": 52,
   "metadata": {},
   "outputs": [
    {
     "name": "stdout",
     "output_type": "stream",
     "text": [
      "0.4\n",
      "-0.01\n"
     ]
    }
   ],
   "source": [
    "print(round(ps4['critic_score'].corr(ps4['all_sales']), 2))\n",
    "print(round(ps4['user_score'].corr(ps4['all_sales']), 2))"
   ]
  },
  {
   "cell_type": "code",
   "execution_count": 53,
   "metadata": {},
   "outputs": [
    {
     "name": "stdout",
     "output_type": "stream",
     "text": [
      "0.43\n",
      "0.01\n"
     ]
    }
   ],
   "source": [
    "xone = df_actual[df_actual['platform'] == 'XOne']\n",
    "print(round(xone['critic_score'].corr(xone['all_sales']), 2))\n",
    "print(round(xone['user_score'].corr(xone['all_sales']), 2))"
   ]
  },
  {
   "cell_type": "code",
   "execution_count": 54,
   "metadata": {},
   "outputs": [
    {
     "name": "stdout",
     "output_type": "stream",
     "text": [
      "0.22\n",
      "0.17\n"
     ]
    }
   ],
   "source": [
    "print(round(df_actual.loc[(df_actual['platform'] != 'XOne') & (df_actual['platform'] != 'PS4')]['critic_score'].corr(\n",
    "    df_actual.loc[(df_actual['platform'] != 'XOne') & (df_actual['platform'] != 'PS4')]['all_sales']), 2))\n",
    "\n",
    "print(round(df_actual.loc[(df_actual['platform'] != 'XOne') & (df_actual['platform'] != 'PS4')]['user_score'].corr(\n",
    "    df_actual.loc[(df_actual['platform'] != 'XOne') & (df_actual['platform'] != 'PS4')]['all_sales']), 2))"
   ]
  },
  {
   "cell_type": "markdown",
   "metadata": {},
   "source": [
    "Как и следовало ожидать по графику, корреляция показывает среднюю зависимость между оценками критиков и общими продажами. Это связано с тем, что при выпуске игры критики сразу ставят оценку, и если оценка высокая, то пользователи покупают игру в больших количествах.\n",
    "\n",
    "Зависимости общих продаж от пользовательских оценок не наблюдается.\n",
    "Также пользователи часто склоны к субъективной оценки, а критики оценивают в совокупности нескольких параметров в том числе и по общим продажам.\n",
    "\n",
    "Оценки критиков по платформам PS4 и XOne больше связаны с общими продажами, чем по другим платформам. "
   ]
  },
  {
   "cell_type": "markdown",
   "metadata": {},
   "source": [
    "- Посмотрим на общее распределение игр по жанрам. Что можно сказать о самых прибыльных жанрах? Выделяются ли жанры с высокими и низкими продажами?"
   ]
  },
  {
   "cell_type": "code",
   "execution_count": 55,
   "metadata": {},
   "outputs": [
    {
     "data": {
      "text/plain": [
       "<matplotlib.legend.Legend at 0x7fe2761e3898>"
      ]
     },
     "execution_count": 55,
     "metadata": {},
     "output_type": "execute_result"
    },
    {
     "data": {
      "image/png": "[encoded data removed]",
      "text/plain": [
       "<Figure size 1080x504 with 1 Axes>"
      ]
     },
     "metadata": {},
     "output_type": "display_data"
    }
   ],
   "source": [
    "ax = plt.gca()\n",
    "pivot = df_actual.groupby(\"genre\").agg({'name': 'count', 'all_sales': 'sum'})\n",
    "plot1 = pivot['name']\n",
    "plot1.plot(kind='bar', figsize=(15, 7), ec='black', ax=ax, width=0.2,\n",
    "           position=1, title='Общее распределение игр по жанрам')\n",
    "\n",
    "plot2 = pivot['all_sales']\n",
    "plot2.plot(kind='bar', figsize=(15, 7), ec='black',\n",
    "           ax=ax, width=0.2, color='#97F0AA', position=0)\n",
    "\n",
    "ax.legend(['Количество продаж', 'Общая сумма продаж'])"
   ]
  },
  {
   "cell_type": "markdown",
   "metadata": {},
   "source": [
    "Больше всего игр в жанрах Role-Playing и Sports. Меньше всего игр в жанре паззлы.\n",
    "\n",
    "(Большую среднюю сумму продаж имеют игры в жанре Action.)\n",
    "\n",
    "Жанр Shooter имеет больше продаж в соотношении с количеством продаж по отношению к другим жанрам.\n",
    "\n",
    "Очень маленькие показатели по жанру Puzzle."
   ]
  },
  {
   "cell_type": "code",
   "execution_count": 56,
   "metadata": {},
   "outputs": [
    {
     "data": {
      "text/plain": [
       "<matplotlib.legend.Legend at 0x7fe275c3bcf8>"
      ]
     },
     "execution_count": 56,
     "metadata": {},
     "output_type": "execute_result"
    },
    {
     "data": {
      "image/png": "[encoded data removed]",
      "text/plain": [
       "<Figure size 1080x504 with 1 Axes>"
      ]
     },
     "metadata": {},
     "output_type": "display_data"
    }
   ],
   "source": [
    "ax = plt.gca()\n",
    "pivot = df_actual.groupby(\"genre\").agg({'all_sales': 'mean'})\n",
    "plot1 = pivot['all_sales']\n",
    "plot1.plot(kind='bar', figsize=(15, 7), ec='black', ax=ax, width=0.2,\n",
    "           position=1, title='Общее распределение игр по жанрам')\n",
    "\n",
    "\n",
    "ax.legend(['Средня сумма продаж'])"
   ]
  },
  {
   "cell_type": "markdown",
   "metadata": {},
   "source": [
    "Самые прибыльный жанр по средним продажам - Shooter, затем идёт Sports. Самый неприбыльный - Adventure."
   ]
  },
  {
   "cell_type": "markdown",
   "metadata": {},
   "source": [
    "Таким образом:"
   ]
  },
  {
   "cell_type": "markdown",
   "metadata": {},
   "source": [
    "- Игры основательно стали оценивать с 1996 года.\n",
    "- Платформы с наибольшими суммарными продажами за всю историю с 1996 года - PS2, X360, PS3, Wii и DS.\n",
    "- Средняя продолжительность жизни платформы - 8 лет.\n",
    "- Самые потенциально прибыльные платформы - PS4, XOne и PC.\n",
    "- Общие суммы продаж по PS4 и XOne похожи. По PC этот показатель меньше.\n",
    "- Есть средняя зависимость между оценками критиков и общими продажами игр на платформе PS4.\n",
    "- Не наблюдается зависимость общих продаж от пользовательских оценок.\n",
    "- Больше всего игр в жанрах Role-Playing и Sports. Меньше всего игр в жанре паззлы. Большую среднюю сумму продаж имеют игры в жанре Shooter."
   ]
  },
  {
   "cell_type": "markdown",
   "metadata": {},
   "source": [
    "## Составление портрета пользователя каждого региона"
   ]
  },
  {
   "cell_type": "markdown",
   "metadata": {},
   "source": [
    "Определим для пользователя каждого региона (NA, EU, JP):"
   ]
  },
  {
   "cell_type": "markdown",
   "metadata": {},
   "source": [
    "- Самые популярные платформы (топ-5)"
   ]
  },
  {
   "cell_type": "code",
   "execution_count": 57,
   "metadata": {},
   "outputs": [
    {
     "name": "stderr",
     "output_type": "stream",
     "text": [
      "/Library/Frameworks/Python.framework/Versions/3.6/lib/python3.6/site-packages/pandas/plotting/_matplotlib/core.py:1547: MatplotlibDeprecationWarning: normalize=None does not normalize if the sum is less than 1 but this behavior is deprecated since 3.3 until two minor releases later. After the deprecation period the default value will be normalize=True. To prevent normalization pass normalize=False \n",
      "  results = ax.pie(y, labels=blabels, **kwds)\n"
     ]
    },
    {
     "data": {
      "image/png": "[encoded data removed]",
      "text/plain": [
       "<Figure size 1440x360 with 3 Axes>"
      ]
     },
     "metadata": {},
     "output_type": "display_data"
    }
   ],
   "source": [
    "fig, axes = plt.subplots(1, 3, figsize=(40, 6))\n",
    "na = df_actual.groupby('platform')['na_sales'].mean(\n",
    ").sort_values(ascending=False).head(5)\n",
    "na = na/na.sum()\n",
    "plot = na.plot(kind='pie', autopct='%1.0f%%', figsize=(20, 5),\n",
    "               legend=False, ax=axes[0], title='Северная Америка')\n",
    "\n",
    "eu = df_actual.groupby('platform')['eu_sales'].mean(\n",
    ").sort_values(ascending=False).head(5)\n",
    "eu = eu/eu.sum()\n",
    "plot = eu.plot(kind='pie', y='eu_sales', autopct='%1.0f%%',\n",
    "               figsize=(20, 5), legend=False, ax=axes[1], title='Европа')\n",
    "\n",
    "jp = df_actual.groupby('platform')['jp_sales'].mean(\n",
    ").sort_values(ascending=False).head(5)\n",
    "jp = jp/jp.sum()\n",
    "plot = jp.plot(kind='pie', autopct='%1.0f%%', figsize=(\n",
    "    20, 5), legend=False, ax=axes[2], title='Япония')"
   ]
  },
  {
   "cell_type": "markdown",
   "metadata": {},
   "source": [
    "Жители Северной Америки, как и Европы предпочитают консоли XOne, WiiU и PS4.\n",
    "\n",
    "Жители Японии больше средств потратили на игры платформ 3DS, WiiU и PSV. Отметим, что 3DS и WiiU производит японская компания Nintendo."
   ]
  },
  {
   "cell_type": "markdown",
   "metadata": {},
   "source": [
    "- Самые популярные жанры (топ-5)"
   ]
  },
  {
   "cell_type": "code",
   "execution_count": 58,
   "metadata": {},
   "outputs": [
    {
     "data": {
      "text/plain": [
       "<AxesSubplot:title={'center':'Япония'}, ylabel='jp_sales'>"
      ]
     },
     "execution_count": 58,
     "metadata": {},
     "output_type": "execute_result"
    },
    {
     "data": {
      "image/png": "[encoded data removed]",
      "text/plain": [
       "<Figure size 1440x360 with 3 Axes>"
      ]
     },
     "metadata": {},
     "output_type": "display_data"
    }
   ],
   "source": [
    "fig, axes = plt.subplots(1, 3, figsize=(40, 6))\n",
    "na = df.groupby('genre')['na_sales'].mean().sort_values(ascending=False).head(5)\n",
    "na = na/na.sum()\n",
    "na.plot(kind='pie', autopct='%1.0f%%', figsize=(20, 5), legend=False, ax=axes[0], title='Северная Америка')\n",
    "\n",
    "eu = df.groupby('genre')['eu_sales'].mean().sort_values(ascending=False).head(5)\n",
    "eu = eu/eu.sum()\n",
    "eu.plot(kind='pie', y='eu_sales', autopct='%1.0f%%', figsize=(20, 5), legend=False, ax=axes[1], title='Европа')\n",
    "\n",
    "jp = df.groupby('genre')['jp_sales'].mean().sort_values(ascending=False).head(5)\n",
    "jp = jp/jp.sum()\n",
    "jp.plot(kind='pie', autopct='%1.0f%%', figsize=(20, 5), legend=False, ax=axes[2], title='Япония')"
   ]
  },
  {
   "cell_type": "markdown",
   "metadata": {},
   "source": [
    "Для Северной Америки больший интерес представляют жанры Shooter, Misc и Platform.\n",
    "\n",
    "Похожие характеристики имеют пользователи из Европы, только вместо Platform больший интерес представляют гонки.\n",
    "\n",
    "Жители Японии больше предпочитают ролевые игры. Также у них выделяется жанр паззлы. Возможно, это связано с большим интересом жителей Японии к аниме."
   ]
  },
  {
   "cell_type": "markdown",
   "metadata": {},
   "source": [
    "- Проверим влияет ли рейтинг ESRB на продажи в отдельном регионе?"
   ]
  },
  {
   "cell_type": "code",
   "execution_count": 59,
   "metadata": {},
   "outputs": [
    {
     "data": {
      "text/plain": [
       "rating\n",
       "M          0.498935\n",
       "E          0.392485\n",
       "E10+       0.277783\n",
       "T          0.275300\n",
       "unknown    0.042099\n",
       "Name: na_sales, dtype: float64"
      ]
     },
     "execution_count": 59,
     "metadata": {},
     "output_type": "execute_result"
    }
   ],
   "source": [
    "df.groupby('rating')['na_sales'].mean().sort_values(ascending = False).head(5)"
   ]
  },
  {
   "cell_type": "code",
   "execution_count": 60,
   "metadata": {},
   "outputs": [
    {
     "data": {
      "text/plain": [
       "rating\n",
       "M          0.321497\n",
       "E          0.228716\n",
       "T          0.157186\n",
       "E10+       0.148412\n",
       "unknown    0.072840\n",
       "Name: eu_sales, dtype: float64"
      ]
     },
     "execution_count": 60,
     "metadata": {},
     "output_type": "execute_result"
    }
   ],
   "source": [
    "df.groupby('rating')['eu_sales'].mean().sort_values(ascending = False).head(5)"
   ]
  },
  {
   "cell_type": "code",
   "execution_count": 61,
   "metadata": {},
   "outputs": [
    {
     "data": {
      "text/plain": [
       "rating\n",
       "E          0.071164\n",
       "T          0.056154\n",
       "M          0.042775\n",
       "E10+       0.036031\n",
       "unknown    0.031605\n",
       "Name: jp_sales, dtype: float64"
      ]
     },
     "execution_count": 61,
     "metadata": {},
     "output_type": "execute_result"
    }
   ],
   "source": [
    "df.groupby('rating')['jp_sales'].mean().sort_values(ascending = False).head(5)"
   ]
  },
  {
   "cell_type": "markdown",
   "metadata": {},
   "source": [
    "Визуализируем полученные данные"
   ]
  },
  {
   "cell_type": "code",
   "execution_count": 62,
   "metadata": {},
   "outputs": [
    {
     "data": {
      "text/plain": [
       "[Text(0, 0.5, 'Cредняя продажа по рейтингу')]"
      ]
     },
     "execution_count": 62,
     "metadata": {},
     "output_type": "execute_result"
    },
    {
     "data": {
      "image/png": "[encoded data removed]",
      "text/plain": [
       "<Figure size 504x1080 with 3 Axes>"
      ]
     },
     "metadata": {},
     "output_type": "display_data"
    }
   ],
   "source": [
    "fig, axes = plt.subplots(3, figsize=(7, 15))\n",
    "na = df.groupby('rating')['na_sales'].mean().head(5)\n",
    "na.plot(kind='bar', legend=False, title='Северная Америка',\n",
    "        ax=axes[0]).set(ylabel='Cредняя продажа по рейтингу')\n",
    "\n",
    "eu = df.groupby('rating')['eu_sales'].mean().head(5)\n",
    "eu.plot(kind='bar',  legend=False, title='Европа', ax=axes[1]).set(\n",
    "    ylabel='Cредняя продажа по рейтингу')\n",
    "\n",
    "jp = df.groupby('rating')['jp_sales'].mean().head(5)\n",
    "jp.plot(kind='bar',  legend=False,  title='Япония', ax=axes[2]).set(\n",
    "    ylabel='Cредняя продажа по рейтингу')"
   ]
  },
  {
   "cell_type": "markdown",
   "metadata": {},
   "source": [
    "Видим, что игры, относящиеся к рейтингу M, означающему \"Только для взрослых\", в Северной Америке и Европе имеют самые большие продажи, в то время в Японии самый популярный рейтинг - E. Также в Японии в сравнении с Европой и Северной Амеркой выделяются неизвестные значения."
   ]
  },
  {
   "cell_type": "markdown",
   "metadata": {},
   "source": [
    "## Проверка гипотез"
   ]
  },
  {
   "cell_type": "markdown",
   "metadata": {},
   "source": [
    "- Проверим гипотезу: средние пользовательские рейтинги платформ Xbox One и PC одинаковые "
   ]
  },
  {
   "cell_type": "code",
   "execution_count": 63,
   "metadata": {},
   "outputs": [],
   "source": [
    "df_us = df[df['user_score'] > -1]"
   ]
  },
  {
   "cell_type": "code",
   "execution_count": 64,
   "metadata": {},
   "outputs": [
    {
     "name": "stdout",
     "output_type": "stream",
     "text": [
      "1.79639911308204\n",
      "2.3028254261813634\n"
     ]
    }
   ],
   "source": [
    "print(df_us.loc[df_us['platform'] == 'XOne', 'user_score'].var()) \n",
    "print(df_us.loc[df_us['platform'] == 'PC', 'user_score'].var())"
   ]
  },
  {
   "cell_type": "markdown",
   "metadata": {},
   "source": [
    "Воспользуемся Т-критерием, который формирует двусторонний тест для нулевой гипотезы о том, что 2 независимые генеральные совокупности имеют идентичные средние(ожидаемые) значения, c параметром equal_var=False. "
   ]
  },
  {
   "cell_type": "markdown",
   "metadata": {},
   "source": [
    "Нулевая гипотеза: средние пользовательские рейтинги платформ Xbox One и PC равны.\n",
    "\n",
    "Альтернативная гипотеза: средние пользовательские рейтинги платформ Xbox One и PC не равны."
   ]
  },
  {
   "cell_type": "code",
   "execution_count": 65,
   "metadata": {},
   "outputs": [
    {
     "name": "stdout",
     "output_type": "stream",
     "text": [
      "p-значение: 2.4582218242060203e-05\n",
      "Отвергаем нулевую гипотезу\n"
     ]
    }
   ],
   "source": [
    "user_score_xone = list(df_us[df_us['platform'] == 'XOne']['user_score'])\n",
    "user_score_pc = list(df_us[df_us['platform'] == 'PC']['user_score'])\n",
    "\n",
    "alpha = 0.05\n",
    "\n",
    "results = st.ttest_ind(user_score_xone, user_score_pc, equal_var=False)\n",
    "print('p-значение:', results.pvalue)\n",
    "\n",
    "if (results.pvalue < alpha):\n",
    "    print(\"Отвергаем нулевую гипотезу\")\n",
    "else:\n",
    "    print(\"Не получилось отвергнуть нулевую гипотезу\")"
   ]
  },
  {
   "cell_type": "markdown",
   "metadata": {},
   "source": [
    "p-значение: 0.000025 означает, что мы **не** достигли минимум 95% вероятности того, чтобы сказать, что средние пользовательские рейтинги платформ Xbox One и PC равны."
   ]
  },
  {
   "cell_type": "code",
   "execution_count": 66,
   "metadata": {},
   "outputs": [
    {
     "name": "stdout",
     "output_type": "stream",
     "text": [
      "6.538181818181818\n",
      "7.050584795321638\n"
     ]
    }
   ],
   "source": [
    "print(df_us[df_us['platform'] == 'XOne']['user_score'].mean())\n",
    "print(df_us[df_us['platform'] == 'PC']['user_score'].mean())"
   ]
  },
  {
   "cell_type": "markdown",
   "metadata": {},
   "source": [
    "Для игр по PC ставят оценку выше, чем на XOne."
   ]
  },
  {
   "cell_type": "markdown",
   "metadata": {},
   "source": [
    "- Проверим гипотезу: средние пользовательские рейтинги жанров Action и Sports разные"
   ]
  },
  {
   "cell_type": "markdown",
   "metadata": {},
   "source": [
    "Воспользуемся Т-критерием, который формирует двусторонний тест для нулевой гипотезы о том, что 2 независимые генеральные совокупности имеют идентичные средние(ожидаемые) значения."
   ]
  },
  {
   "cell_type": "markdown",
   "metadata": {},
   "source": [
    "Нулевая гипотеза: средние пользовательские рейтинги жанров Action и Sports равны.\n",
    "\n",
    "Альтернативная гипотеза: средние пользовательские рейтинги жанров Action и Sports не равны."
   ]
  },
  {
   "cell_type": "code",
   "execution_count": 67,
   "metadata": {},
   "outputs": [
    {
     "name": "stdout",
     "output_type": "stream",
     "text": [
      "1.9420806907538943\n",
      "2.129300835685428\n"
     ]
    }
   ],
   "source": [
    "print(df_us.loc[df_us['genre'] == 'Action', 'user_score'].var()) \n",
    "print(df_us.loc[df_us['genre'] == 'Sports', 'user_score'].var())"
   ]
  },
  {
   "cell_type": "code",
   "execution_count": 68,
   "metadata": {},
   "outputs": [
    {
     "name": "stdout",
     "output_type": "stream",
     "text": [
      "p-значение: 0.9911308438742281\n",
      "Не получилось отвергнуть нулевую гипотезу\n"
     ]
    }
   ],
   "source": [
    "user_score_action = list(df_us[df_us['genre'] == 'Action']['user_score'])\n",
    "user_score_sports = list(df_us[df_us['genre'] == 'Sports']['user_score'])\n",
    "\n",
    "alpha = 0.05\n",
    "\n",
    "results = st.ttest_ind(user_score_action, user_score_sports)\n",
    "print('p-значение:',results.pvalue)\n",
    "\n",
    "if (results.pvalue < alpha):\n",
    "    print(\"Отвергаем нулевую гипотезу\")\n",
    "else:\n",
    "    print(\"Не получилось отвергнуть нулевую гипотезу\")"
   ]
  },
  {
   "cell_type": "markdown",
   "metadata": {},
   "source": [
    "p-значение: 0.99 означает, что мы **достигли** минимум 95% вероятности того, чтобы сказать, что средние пользовательские рейтинги жанров Action и Sports равны. Не получилось отвергнуть нулевую гипотезу о том что, средние пользовательские рейтинги жанров Action и Sports равны."
   ]
  },
  {
   "cell_type": "markdown",
   "metadata": {},
   "source": [
    "## Общий вывод"
   ]
  },
  {
   "cell_type": "markdown",
   "metadata": {},
   "source": [
    "- Игры основательно начали оценивать только с 1996 года.\n",
    "- Средняя продолжительность жизни платформы - 8 лет.\n",
    "- Самые потенциально прибыльные платформы -  PS4, XOne, PC.\n",
    "- Платформы с наибольшими суммарными продажами - PS2, X360, PS3, Wii и DS.\n",
    "- Слабая  линейная зависимость наблюдается у общих продаж от оценок критиков по платформе PS4 в играх, выпущенных с 2014-ого года. Не наблюдается зависимости общих продаж от пользовательских оценок.\n",
    "- Жители Северной Америки, как и Европы, предпочитают консоли XOne, WiiU и PS4. Жители же Японии больше средств потратили на игры платформ 3DS, WiiU и PSV.\n",
    "- Для жителей Северной Америки и Европы больший интерес представляет жанр Shooter. Жители Японии больше предпочитают игры в жанре Role-playing.\n",
    "- Средние пользовательские рейтинги платформ XOne и PC разные. Для игр по PC ставят оценку выше, чем на XOne.\n",
    "- Не получилось отвергнуть гипотезу о том, что средние пользовательские рейтинги жанров Action и Sports равны."
   ]
  }
 ],
 "metadata": {
  "ExecuteTimeLog": [
   {
    "duration": 1220,
    "start_time": "2022-01-29T20:05:35.955Z"
   },
   {
    "duration": 119,
    "start_time": "2022-01-29T20:05:37.177Z"
   },
   {
    "duration": 18,
    "start_time": "2022-01-29T20:05:37.299Z"
   },
   {
    "duration": 17,
    "start_time": "2022-01-29T20:05:37.319Z"
   },
   {
    "duration": 30,
    "start_time": "2022-01-29T20:05:37.339Z"
   },
   {
    "duration": 3,
    "start_time": "2022-01-29T20:05:37.371Z"
   },
   {
    "duration": 38,
    "start_time": "2022-01-29T20:05:37.376Z"
   },
   {
    "duration": 11,
    "start_time": "2022-01-29T20:05:37.417Z"
   },
   {
    "duration": 9,
    "start_time": "2022-01-29T20:05:37.430Z"
   },
   {
    "duration": 4,
    "start_time": "2022-01-29T20:05:37.441Z"
   },
   {
    "duration": 17,
    "start_time": "2022-01-29T20:05:37.447Z"
   },
   {
    "duration": 10,
    "start_time": "2022-01-29T20:05:37.467Z"
   },
   {
    "duration": 38,
    "start_time": "2022-01-29T20:05:37.479Z"
   },
   {
    "duration": 7,
    "start_time": "2022-01-29T20:05:37.519Z"
   },
   {
    "duration": 20,
    "start_time": "2022-01-29T20:05:37.528Z"
   },
   {
    "duration": 7,
    "start_time": "2022-01-29T20:05:37.550Z"
   },
   {
    "duration": 13,
    "start_time": "2022-01-29T20:05:37.559Z"
   },
   {
    "duration": 45,
    "start_time": "2022-01-29T20:05:37.574Z"
   },
   {
    "duration": 20,
    "start_time": "2022-01-29T20:05:37.621Z"
   },
   {
    "duration": 549,
    "start_time": "2022-01-29T20:05:37.643Z"
   },
   {
    "duration": 17,
    "start_time": "2022-01-29T20:05:38.194Z"
   },
   {
    "duration": 517,
    "start_time": "2022-01-29T20:05:38.213Z"
   },
   {
    "duration": 4,
    "start_time": "2022-01-29T20:05:38.735Z"
   },
   {
    "duration": 14,
    "start_time": "2022-01-29T20:05:38.741Z"
   },
   {
    "duration": 4,
    "start_time": "2022-01-29T20:05:38.757Z"
   },
   {
    "duration": 5,
    "start_time": "2022-01-29T20:05:38.763Z"
   },
   {
    "duration": 51,
    "start_time": "2022-01-29T20:05:38.769Z"
   },
   {
    "duration": 12,
    "start_time": "2022-01-29T20:05:38.822Z"
   },
   {
    "duration": 10,
    "start_time": "2022-01-29T20:05:38.836Z"
   },
   {
    "duration": 1828,
    "start_time": "2022-01-29T20:05:38.847Z"
   },
   {
    "duration": 4,
    "start_time": "2022-01-29T20:05:40.676Z"
   },
   {
    "duration": 9,
    "start_time": "2022-01-29T20:05:40.681Z"
   },
   {
    "duration": 24,
    "start_time": "2022-01-29T20:05:40.692Z"
   },
   {
    "duration": 10,
    "start_time": "2022-01-29T20:05:40.717Z"
   },
   {
    "duration": 374,
    "start_time": "2022-01-29T20:05:40.729Z"
   },
   {
    "duration": 5,
    "start_time": "2022-01-29T20:05:41.105Z"
   },
   {
    "duration": 10,
    "start_time": "2022-01-29T20:05:41.112Z"
   },
   {
    "duration": 9,
    "start_time": "2022-01-29T20:05:41.125Z"
   },
   {
    "duration": 8,
    "start_time": "2022-01-29T20:05:41.136Z"
   },
   {
    "duration": 12,
    "start_time": "2022-01-29T20:05:41.145Z"
   },
   {
    "duration": 530,
    "start_time": "2022-01-29T20:05:41.158Z"
   },
   {
    "duration": 18,
    "start_time": "2022-01-29T20:05:41.690Z"
   },
   {
    "duration": 27,
    "start_time": "2022-01-29T20:05:41.710Z"
   },
   {
    "duration": 10,
    "start_time": "2022-01-29T20:05:41.739Z"
   },
   {
    "duration": 832,
    "start_time": "2022-01-29T20:05:41.751Z"
   },
   {
    "duration": 6,
    "start_time": "2022-01-29T20:05:42.585Z"
   },
   {
    "duration": 19,
    "start_time": "2022-01-29T20:05:42.593Z"
   },
   {
    "duration": 17,
    "start_time": "2022-01-29T20:05:42.614Z"
   },
   {
    "duration": 429,
    "start_time": "2022-01-29T20:05:42.633Z"
   },
   {
    "duration": 1132,
    "start_time": "2022-01-29T20:05:43.064Z"
   },
   {
    "duration": -37674,
    "start_time": "2022-01-29T20:06:21.872Z"
   },
   {
    "duration": -37676,
    "start_time": "2022-01-29T20:06:21.875Z"
   },
   {
    "duration": -37679,
    "start_time": "2022-01-29T20:06:21.879Z"
   },
   {
    "duration": -37681,
    "start_time": "2022-01-29T20:06:21.882Z"
   },
   {
    "duration": -37683,
    "start_time": "2022-01-29T20:06:21.885Z"
   },
   {
    "duration": -37682,
    "start_time": "2022-01-29T20:06:21.889Z"
   },
   {
    "duration": -37684,
    "start_time": "2022-01-29T20:06:21.892Z"
   },
   {
    "duration": -37687,
    "start_time": "2022-01-29T20:06:21.896Z"
   },
   {
    "duration": -37689,
    "start_time": "2022-01-29T20:06:21.899Z"
   },
   {
    "duration": 1097,
    "start_time": "2022-01-29T20:07:26.749Z"
   },
   {
    "duration": 124,
    "start_time": "2022-01-29T20:07:27.848Z"
   },
   {
    "duration": 17,
    "start_time": "2022-01-29T20:07:27.975Z"
   },
   {
    "duration": 22,
    "start_time": "2022-01-29T20:07:27.994Z"
   },
   {
    "duration": 32,
    "start_time": "2022-01-29T20:07:28.018Z"
   },
   {
    "duration": 4,
    "start_time": "2022-01-29T20:07:28.052Z"
   },
   {
    "duration": 28,
    "start_time": "2022-01-29T20:07:28.058Z"
   },
   {
    "duration": 19,
    "start_time": "2022-01-29T20:07:28.089Z"
   },
   {
    "duration": 6,
    "start_time": "2022-01-29T20:07:28.110Z"
   },
   {
    "duration": 12,
    "start_time": "2022-01-29T20:07:28.118Z"
   },
   {
    "duration": 20,
    "start_time": "2022-01-29T20:07:28.132Z"
   },
   {
    "duration": 8,
    "start_time": "2022-01-29T20:07:28.153Z"
   },
   {
    "duration": 18,
    "start_time": "2022-01-29T20:07:28.163Z"
   },
   {
    "duration": 27,
    "start_time": "2022-01-29T20:07:28.183Z"
   },
   {
    "duration": 25,
    "start_time": "2022-01-29T20:07:28.212Z"
   },
   {
    "duration": 13,
    "start_time": "2022-01-29T20:07:28.239Z"
   },
   {
    "duration": 16,
    "start_time": "2022-01-29T20:07:28.254Z"
   },
   {
    "duration": 22,
    "start_time": "2022-01-29T20:07:28.272Z"
   },
   {
    "duration": 25,
    "start_time": "2022-01-29T20:07:28.296Z"
   },
   {
    "duration": 550,
    "start_time": "2022-01-29T20:07:28.323Z"
   },
   {
    "duration": 10,
    "start_time": "2022-01-29T20:07:28.875Z"
   },
   {
    "duration": 529,
    "start_time": "2022-01-29T20:07:28.887Z"
   },
   {
    "duration": 4,
    "start_time": "2022-01-29T20:07:29.420Z"
   },
   {
    "duration": 12,
    "start_time": "2022-01-29T20:07:29.427Z"
   },
   {
    "duration": 4,
    "start_time": "2022-01-29T20:07:29.441Z"
   },
   {
    "duration": 5,
    "start_time": "2022-01-29T20:07:29.447Z"
   },
   {
    "duration": 30,
    "start_time": "2022-01-29T20:07:29.453Z"
   },
   {
    "duration": 34,
    "start_time": "2022-01-29T20:07:29.485Z"
   },
   {
    "duration": 8,
    "start_time": "2022-01-29T20:07:29.521Z"
   },
   {
    "duration": 1939,
    "start_time": "2022-01-29T20:07:29.531Z"
   },
   {
    "duration": 4,
    "start_time": "2022-01-29T20:07:31.472Z"
   },
   {
    "duration": 19,
    "start_time": "2022-01-29T20:07:31.478Z"
   },
   {
    "duration": 24,
    "start_time": "2022-01-29T20:07:31.499Z"
   },
   {
    "duration": 23,
    "start_time": "2022-01-29T20:07:31.525Z"
   },
   {
    "duration": 382,
    "start_time": "2022-01-29T20:07:31.549Z"
   },
   {
    "duration": 4,
    "start_time": "2022-01-29T20:07:31.933Z"
   },
   {
    "duration": 11,
    "start_time": "2022-01-29T20:07:31.939Z"
   },
   {
    "duration": 13,
    "start_time": "2022-01-29T20:07:31.951Z"
   },
   {
    "duration": 17,
    "start_time": "2022-01-29T20:07:31.966Z"
   },
   {
    "duration": 24,
    "start_time": "2022-01-29T20:07:31.985Z"
   },
   {
    "duration": 429,
    "start_time": "2022-01-29T20:07:32.011Z"
   },
   {
    "duration": 15,
    "start_time": "2022-01-29T20:07:32.442Z"
   },
   {
    "duration": 9,
    "start_time": "2022-01-29T20:07:32.459Z"
   },
   {
    "duration": 12,
    "start_time": "2022-01-29T20:07:32.470Z"
   },
   {
    "duration": 876,
    "start_time": "2022-01-29T20:07:32.484Z"
   },
   {
    "duration": 7,
    "start_time": "2022-01-29T20:07:33.363Z"
   },
   {
    "duration": 9,
    "start_time": "2022-01-29T20:07:33.372Z"
   },
   {
    "duration": 37,
    "start_time": "2022-01-29T20:07:33.383Z"
   },
   {
    "duration": 516,
    "start_time": "2022-01-29T20:07:33.422Z"
   },
   {
    "duration": 315,
    "start_time": "2022-01-29T20:07:33.940Z"
   },
   {
    "duration": 346,
    "start_time": "2022-01-29T20:07:34.257Z"
   },
   {
    "duration": 9,
    "start_time": "2022-01-29T20:07:34.607Z"
   },
   {
    "duration": 10,
    "start_time": "2022-01-29T20:07:34.618Z"
   },
   {
    "duration": 18,
    "start_time": "2022-01-29T20:07:34.630Z"
   },
   {
    "duration": 658,
    "start_time": "2022-01-29T20:07:34.650Z"
   },
   {
    "duration": 9,
    "start_time": "2022-01-29T20:07:35.310Z"
   },
   {
    "duration": 27,
    "start_time": "2022-01-29T20:07:35.321Z"
   },
   {
    "duration": 35,
    "start_time": "2022-01-29T20:07:35.350Z"
   },
   {
    "duration": 30,
    "start_time": "2022-01-29T20:07:35.387Z"
   },
   {
    "duration": 1196,
    "start_time": "2022-01-29T20:11:24.767Z"
   },
   {
    "duration": 117,
    "start_time": "2022-01-29T20:11:25.965Z"
   },
   {
    "duration": 17,
    "start_time": "2022-01-29T20:11:26.084Z"
   },
   {
    "duration": 20,
    "start_time": "2022-01-29T20:11:26.103Z"
   },
   {
    "duration": 33,
    "start_time": "2022-01-29T20:11:26.125Z"
   },
   {
    "duration": 3,
    "start_time": "2022-01-29T20:11:26.160Z"
   },
   {
    "duration": 17,
    "start_time": "2022-01-29T20:11:26.165Z"
   },
   {
    "duration": 23,
    "start_time": "2022-01-29T20:11:26.184Z"
   },
   {
    "duration": 6,
    "start_time": "2022-01-29T20:11:26.209Z"
   },
   {
    "duration": 8,
    "start_time": "2022-01-29T20:11:26.217Z"
   },
   {
    "duration": 15,
    "start_time": "2022-01-29T20:11:26.227Z"
   },
   {
    "duration": 7,
    "start_time": "2022-01-29T20:11:26.244Z"
   },
   {
    "duration": 16,
    "start_time": "2022-01-29T20:11:26.253Z"
   },
   {
    "duration": 37,
    "start_time": "2022-01-29T20:11:26.270Z"
   },
   {
    "duration": 16,
    "start_time": "2022-01-29T20:11:26.309Z"
   },
   {
    "duration": 10,
    "start_time": "2022-01-29T20:11:26.327Z"
   },
   {
    "duration": 13,
    "start_time": "2022-01-29T20:11:26.338Z"
   },
   {
    "duration": 16,
    "start_time": "2022-01-29T20:11:26.353Z"
   },
   {
    "duration": 42,
    "start_time": "2022-01-29T20:11:26.371Z"
   },
   {
    "duration": 555,
    "start_time": "2022-01-29T20:11:26.415Z"
   },
   {
    "duration": 10,
    "start_time": "2022-01-29T20:11:26.972Z"
   },
   {
    "duration": 631,
    "start_time": "2022-01-29T20:11:26.984Z"
   },
   {
    "duration": 4,
    "start_time": "2022-01-29T20:11:27.619Z"
   },
   {
    "duration": 19,
    "start_time": "2022-01-29T20:11:27.625Z"
   },
   {
    "duration": 7,
    "start_time": "2022-01-29T20:11:27.646Z"
   },
   {
    "duration": 7,
    "start_time": "2022-01-29T20:11:27.655Z"
   },
   {
    "duration": 45,
    "start_time": "2022-01-29T20:11:27.664Z"
   },
   {
    "duration": 13,
    "start_time": "2022-01-29T20:11:27.711Z"
   },
   {
    "duration": 8,
    "start_time": "2022-01-29T20:11:27.726Z"
   },
   {
    "duration": 2017,
    "start_time": "2022-01-29T20:11:27.736Z"
   },
   {
    "duration": 5,
    "start_time": "2022-01-29T20:11:29.755Z"
   },
   {
    "duration": 16,
    "start_time": "2022-01-29T20:11:29.761Z"
   },
   {
    "duration": 30,
    "start_time": "2022-01-29T20:11:29.779Z"
   },
   {
    "duration": 10,
    "start_time": "2022-01-29T20:11:29.811Z"
   },
   {
    "duration": 374,
    "start_time": "2022-01-29T20:11:29.823Z"
   },
   {
    "duration": 5,
    "start_time": "2022-01-29T20:11:30.207Z"
   },
   {
    "duration": 19,
    "start_time": "2022-01-29T20:11:30.214Z"
   },
   {
    "duration": 29,
    "start_time": "2022-01-29T20:11:30.235Z"
   },
   {
    "duration": 15,
    "start_time": "2022-01-29T20:11:30.266Z"
   },
   {
    "duration": 31,
    "start_time": "2022-01-29T20:11:30.283Z"
   },
   {
    "duration": 19,
    "start_time": "2022-01-29T20:11:30.316Z"
   },
   {
    "duration": 523,
    "start_time": "2022-01-29T20:11:30.337Z"
   },
   {
    "duration": 14,
    "start_time": "2022-01-29T20:11:30.862Z"
   },
   {
    "duration": 25,
    "start_time": "2022-01-29T20:11:30.878Z"
   },
   {
    "duration": 897,
    "start_time": "2022-01-29T20:11:30.905Z"
   },
   {
    "duration": 6,
    "start_time": "2022-01-29T20:11:31.804Z"
   },
   {
    "duration": 21,
    "start_time": "2022-01-29T20:11:31.812Z"
   },
   {
    "duration": 28,
    "start_time": "2022-01-29T20:11:31.835Z"
   },
   {
    "duration": 440,
    "start_time": "2022-01-29T20:11:31.865Z"
   },
   {
    "duration": 352,
    "start_time": "2022-01-29T20:11:32.307Z"
   },
   {
    "duration": 348,
    "start_time": "2022-01-29T20:11:32.661Z"
   },
   {
    "duration": 9,
    "start_time": "2022-01-29T20:11:33.011Z"
   },
   {
    "duration": 16,
    "start_time": "2022-01-29T20:11:33.021Z"
   },
   {
    "duration": 8,
    "start_time": "2022-01-29T20:11:33.039Z"
   },
   {
    "duration": 676,
    "start_time": "2022-01-29T20:11:33.048Z"
   },
   {
    "duration": 8,
    "start_time": "2022-01-29T20:11:33.726Z"
   },
   {
    "duration": 13,
    "start_time": "2022-01-29T20:11:33.736Z"
   },
   {
    "duration": 8,
    "start_time": "2022-01-29T20:11:33.752Z"
   },
   {
    "duration": 11,
    "start_time": "2022-01-29T20:11:33.762Z"
   },
   {
    "duration": 1222,
    "start_time": "2022-01-29T20:12:15.028Z"
   },
   {
    "duration": 126,
    "start_time": "2022-01-29T20:12:16.252Z"
   },
   {
    "duration": 16,
    "start_time": "2022-01-29T20:12:16.380Z"
   },
   {
    "duration": 11,
    "start_time": "2022-01-29T20:12:16.398Z"
   },
   {
    "duration": 34,
    "start_time": "2022-01-29T20:12:16.410Z"
   },
   {
    "duration": 3,
    "start_time": "2022-01-29T20:12:16.445Z"
   },
   {
    "duration": 15,
    "start_time": "2022-01-29T20:12:16.450Z"
   },
   {
    "duration": 11,
    "start_time": "2022-01-29T20:12:16.467Z"
   },
   {
    "duration": 9,
    "start_time": "2022-01-29T20:12:16.481Z"
   },
   {
    "duration": 6,
    "start_time": "2022-01-29T20:12:16.507Z"
   },
   {
    "duration": 16,
    "start_time": "2022-01-29T20:12:16.515Z"
   },
   {
    "duration": 14,
    "start_time": "2022-01-29T20:12:16.533Z"
   },
   {
    "duration": 15,
    "start_time": "2022-01-29T20:12:16.549Z"
   },
   {
    "duration": 7,
    "start_time": "2022-01-29T20:12:16.566Z"
   },
   {
    "duration": 38,
    "start_time": "2022-01-29T20:12:16.574Z"
   },
   {
    "duration": 5,
    "start_time": "2022-01-29T20:12:16.614Z"
   },
   {
    "duration": 14,
    "start_time": "2022-01-29T20:12:16.621Z"
   },
   {
    "duration": 10,
    "start_time": "2022-01-29T20:12:16.638Z"
   },
   {
    "duration": 20,
    "start_time": "2022-01-29T20:12:16.650Z"
   },
   {
    "duration": 577,
    "start_time": "2022-01-29T20:12:16.672Z"
   },
   {
    "duration": 8,
    "start_time": "2022-01-29T20:12:17.251Z"
   },
   {
    "duration": 536,
    "start_time": "2022-01-29T20:12:17.261Z"
   },
   {
    "duration": 8,
    "start_time": "2022-01-29T20:12:17.799Z"
   },
   {
    "duration": 21,
    "start_time": "2022-01-29T20:12:17.809Z"
   },
   {
    "duration": 19,
    "start_time": "2022-01-29T20:12:17.832Z"
   },
   {
    "duration": 13,
    "start_time": "2022-01-29T20:12:17.852Z"
   },
   {
    "duration": 36,
    "start_time": "2022-01-29T20:12:17.869Z"
   },
   {
    "duration": 11,
    "start_time": "2022-01-29T20:12:17.908Z"
   },
   {
    "duration": 12,
    "start_time": "2022-01-29T20:12:17.920Z"
   },
   {
    "duration": 1776,
    "start_time": "2022-01-29T20:12:17.933Z"
   },
   {
    "duration": 4,
    "start_time": "2022-01-29T20:12:19.711Z"
   },
   {
    "duration": 19,
    "start_time": "2022-01-29T20:12:19.716Z"
   },
   {
    "duration": 27,
    "start_time": "2022-01-29T20:12:19.738Z"
   },
   {
    "duration": 16,
    "start_time": "2022-01-29T20:12:19.767Z"
   },
   {
    "duration": 464,
    "start_time": "2022-01-29T20:12:19.785Z"
   },
   {
    "duration": 5,
    "start_time": "2022-01-29T20:12:20.251Z"
   },
   {
    "duration": 15,
    "start_time": "2022-01-29T20:12:20.257Z"
   },
   {
    "duration": 22,
    "start_time": "2022-01-29T20:12:20.274Z"
   },
   {
    "duration": 19,
    "start_time": "2022-01-29T20:12:20.298Z"
   },
   {
    "duration": 12,
    "start_time": "2022-01-29T20:12:20.319Z"
   },
   {
    "duration": 6,
    "start_time": "2022-01-29T20:12:20.333Z"
   },
   {
    "duration": 390,
    "start_time": "2022-01-29T20:12:20.341Z"
   },
   {
    "duration": 15,
    "start_time": "2022-01-29T20:12:20.733Z"
   },
   {
    "duration": 19,
    "start_time": "2022-01-29T20:12:20.749Z"
   },
   {
    "duration": 929,
    "start_time": "2022-01-29T20:12:20.770Z"
   },
   {
    "duration": 9,
    "start_time": "2022-01-29T20:12:21.701Z"
   },
   {
    "duration": 9,
    "start_time": "2022-01-29T20:12:21.712Z"
   },
   {
    "duration": 21,
    "start_time": "2022-01-29T20:12:21.723Z"
   },
   {
    "duration": 428,
    "start_time": "2022-01-29T20:12:21.746Z"
   },
   {
    "duration": 320,
    "start_time": "2022-01-29T20:12:22.176Z"
   },
   {
    "duration": 338,
    "start_time": "2022-01-29T20:12:22.499Z"
   },
   {
    "duration": 9,
    "start_time": "2022-01-29T20:12:22.839Z"
   },
   {
    "duration": 23,
    "start_time": "2022-01-29T20:12:22.849Z"
   },
   {
    "duration": 22,
    "start_time": "2022-01-29T20:12:22.874Z"
   },
   {
    "duration": 638,
    "start_time": "2022-01-29T20:12:22.898Z"
   },
   {
    "duration": 7,
    "start_time": "2022-01-29T20:12:23.539Z"
   },
   {
    "duration": 22,
    "start_time": "2022-01-29T20:12:23.548Z"
   },
   {
    "duration": 11,
    "start_time": "2022-01-29T20:12:23.572Z"
   },
   {
    "duration": 28,
    "start_time": "2022-01-29T20:12:23.585Z"
   },
   {
    "duration": 1047,
    "start_time": "2022-02-07T15:49:17.727Z"
   },
   {
    "duration": 82,
    "start_time": "2022-02-07T15:49:18.776Z"
   },
   {
    "duration": 15,
    "start_time": "2022-02-07T15:49:18.861Z"
   },
   {
    "duration": 17,
    "start_time": "2022-02-07T15:49:18.878Z"
   },
   {
    "duration": 29,
    "start_time": "2022-02-07T15:49:18.897Z"
   },
   {
    "duration": 2,
    "start_time": "2022-02-07T15:49:18.928Z"
   },
   {
    "duration": 36,
    "start_time": "2022-02-07T15:49:18.932Z"
   },
   {
    "duration": 10,
    "start_time": "2022-02-07T15:49:18.971Z"
   },
   {
    "duration": 11,
    "start_time": "2022-02-07T15:49:18.982Z"
   },
   {
    "duration": 23,
    "start_time": "2022-02-07T15:49:18.995Z"
   },
   {
    "duration": 22,
    "start_time": "2022-02-07T15:49:19.020Z"
   },
   {
    "duration": 14,
    "start_time": "2022-02-07T15:49:19.044Z"
   },
   {
    "duration": 18,
    "start_time": "2022-02-07T15:49:19.060Z"
   },
   {
    "duration": 12,
    "start_time": "2022-02-07T15:49:19.080Z"
   },
   {
    "duration": 25,
    "start_time": "2022-02-07T15:49:19.093Z"
   },
   {
    "duration": 12,
    "start_time": "2022-02-07T15:49:19.120Z"
   },
   {
    "duration": 20,
    "start_time": "2022-02-07T15:49:19.133Z"
   },
   {
    "duration": 16,
    "start_time": "2022-02-07T15:49:19.154Z"
   },
   {
    "duration": 14,
    "start_time": "2022-02-07T15:49:19.172Z"
   },
   {
    "duration": 495,
    "start_time": "2022-02-07T15:49:19.187Z"
   },
   {
    "duration": 8,
    "start_time": "2022-02-07T15:49:19.684Z"
   },
   {
    "duration": 486,
    "start_time": "2022-02-07T15:49:19.696Z"
   },
   {
    "duration": 3,
    "start_time": "2022-02-07T15:49:20.185Z"
   },
   {
    "duration": 25,
    "start_time": "2022-02-07T15:49:20.189Z"
   },
   {
    "duration": 16,
    "start_time": "2022-02-07T15:49:20.216Z"
   },
   {
    "duration": 21,
    "start_time": "2022-02-07T15:49:20.234Z"
   },
   {
    "duration": 42,
    "start_time": "2022-02-07T15:49:20.257Z"
   },
   {
    "duration": 13,
    "start_time": "2022-02-07T15:49:20.301Z"
   },
   {
    "duration": 8,
    "start_time": "2022-02-07T15:49:20.316Z"
   },
   {
    "duration": 1704,
    "start_time": "2022-02-07T15:49:20.326Z"
   },
   {
    "duration": 4,
    "start_time": "2022-02-07T15:49:22.032Z"
   },
   {
    "duration": 24,
    "start_time": "2022-02-07T15:49:22.038Z"
   },
   {
    "duration": 21,
    "start_time": "2022-02-07T15:49:22.064Z"
   },
   {
    "duration": 14,
    "start_time": "2022-02-07T15:49:22.087Z"
   },
   {
    "duration": 352,
    "start_time": "2022-02-07T15:49:22.102Z"
   },
   {
    "duration": 5,
    "start_time": "2022-02-07T15:49:22.459Z"
   },
   {
    "duration": 11,
    "start_time": "2022-02-07T15:49:22.466Z"
   },
   {
    "duration": 9,
    "start_time": "2022-02-07T15:49:22.479Z"
   },
   {
    "duration": 7,
    "start_time": "2022-02-07T15:49:22.490Z"
   },
   {
    "duration": 9,
    "start_time": "2022-02-07T15:49:22.499Z"
   },
   {
    "duration": 10,
    "start_time": "2022-02-07T15:49:22.510Z"
   },
   {
    "duration": 378,
    "start_time": "2022-02-07T15:49:22.522Z"
   },
   {
    "duration": 12,
    "start_time": "2022-02-07T15:49:22.902Z"
   },
   {
    "duration": 6,
    "start_time": "2022-02-07T15:49:22.915Z"
   },
   {
    "duration": 831,
    "start_time": "2022-02-07T15:49:22.922Z"
   },
   {
    "duration": 5,
    "start_time": "2022-02-07T15:49:23.755Z"
   },
   {
    "duration": 10,
    "start_time": "2022-02-07T15:49:23.761Z"
   },
   {
    "duration": 12,
    "start_time": "2022-02-07T15:49:23.772Z"
   },
   {
    "duration": 405,
    "start_time": "2022-02-07T15:49:23.786Z"
   },
   {
    "duration": 290,
    "start_time": "2022-02-07T15:49:24.193Z"
   },
   {
    "duration": 306,
    "start_time": "2022-02-07T15:49:24.485Z"
   },
   {
    "duration": 8,
    "start_time": "2022-02-07T15:49:24.792Z"
   },
   {
    "duration": 10,
    "start_time": "2022-02-07T15:49:24.802Z"
   },
   {
    "duration": 7,
    "start_time": "2022-02-07T15:49:24.813Z"
   },
   {
    "duration": 624,
    "start_time": "2022-02-07T15:49:24.822Z"
   },
   {
    "duration": 15,
    "start_time": "2022-02-07T15:49:25.448Z"
   },
   {
    "duration": 17,
    "start_time": "2022-02-07T15:49:25.465Z"
   },
   {
    "duration": 12,
    "start_time": "2022-02-07T15:49:25.483Z"
   },
   {
    "duration": 21,
    "start_time": "2022-02-07T15:49:25.496Z"
   },
   {
    "duration": 8,
    "start_time": "2022-02-07T16:08:58.990Z"
   },
   {
    "duration": 8,
    "start_time": "2022-02-07T16:09:12.716Z"
   },
   {
    "duration": 9,
    "start_time": "2022-02-07T16:09:33.995Z"
   },
   {
    "duration": 1444,
    "start_time": "2022-02-07T21:20:32.262Z"
   },
   {
    "duration": 120,
    "start_time": "2022-02-07T21:20:33.709Z"
   },
   {
    "duration": 24,
    "start_time": "2022-02-07T21:20:33.835Z"
   },
   {
    "duration": 13,
    "start_time": "2022-02-07T21:20:33.862Z"
   },
   {
    "duration": 98,
    "start_time": "2022-02-07T21:20:33.879Z"
   },
   {
    "duration": 6,
    "start_time": "2022-02-07T21:20:33.980Z"
   },
   {
    "duration": 43,
    "start_time": "2022-02-07T21:20:33.991Z"
   },
   {
    "duration": 14,
    "start_time": "2022-02-07T21:20:34.038Z"
   },
   {
    "duration": 7,
    "start_time": "2022-02-07T21:20:34.055Z"
   },
   {
    "duration": 5,
    "start_time": "2022-02-07T21:20:34.065Z"
   },
   {
    "duration": 67,
    "start_time": "2022-02-07T21:20:34.073Z"
   },
   {
    "duration": 18,
    "start_time": "2022-02-07T21:20:34.143Z"
   },
   {
    "duration": 22,
    "start_time": "2022-02-07T21:20:34.164Z"
   },
   {
    "duration": 11,
    "start_time": "2022-02-07T21:20:34.189Z"
   },
   {
    "duration": 49,
    "start_time": "2022-02-07T21:20:34.202Z"
   },
   {
    "duration": 8,
    "start_time": "2022-02-07T21:20:34.253Z"
   },
   {
    "duration": 15,
    "start_time": "2022-02-07T21:20:34.264Z"
   },
   {
    "duration": 15,
    "start_time": "2022-02-07T21:20:34.282Z"
   },
   {
    "duration": 27,
    "start_time": "2022-02-07T21:20:34.333Z"
   },
   {
    "duration": 9,
    "start_time": "2022-02-07T21:20:34.363Z"
   },
   {
    "duration": 8,
    "start_time": "2022-02-07T21:20:34.375Z"
   },
   {
    "duration": 10,
    "start_time": "2022-02-07T21:20:34.389Z"
   },
   {
    "duration": 11,
    "start_time": "2022-02-07T21:20:34.433Z"
   },
   {
    "duration": 10,
    "start_time": "2022-02-07T21:20:34.446Z"
   },
   {
    "duration": 9,
    "start_time": "2022-02-07T21:20:34.458Z"
   },
   {
    "duration": 957,
    "start_time": "2022-02-07T21:20:34.470Z"
   },
   {
    "duration": 17,
    "start_time": "2022-02-07T21:20:35.433Z"
   },
   {
    "duration": 1344,
    "start_time": "2022-02-07T21:20:35.453Z"
   },
   {
    "duration": 6,
    "start_time": "2022-02-07T21:20:36.800Z"
   },
   {
    "duration": 39,
    "start_time": "2022-02-07T21:20:36.809Z"
   },
   {
    "duration": 6,
    "start_time": "2022-02-07T21:20:36.851Z"
   },
   {
    "duration": 8,
    "start_time": "2022-02-07T21:20:36.860Z"
   },
   {
    "duration": 72,
    "start_time": "2022-02-07T21:20:36.871Z"
   },
   {
    "duration": 20,
    "start_time": "2022-02-07T21:20:36.946Z"
   },
   {
    "duration": 13,
    "start_time": "2022-02-07T21:20:36.969Z"
   },
   {
    "duration": 3425,
    "start_time": "2022-02-07T21:20:36.984Z"
   },
   {
    "duration": 5,
    "start_time": "2022-02-07T21:20:40.412Z"
   },
   {
    "duration": 23,
    "start_time": "2022-02-07T21:20:40.420Z"
   },
   {
    "duration": 17,
    "start_time": "2022-02-07T21:20:40.446Z"
   },
   {
    "duration": 8,
    "start_time": "2022-02-07T21:20:40.466Z"
   },
   {
    "duration": 669,
    "start_time": "2022-02-07T21:20:40.477Z"
   },
   {
    "duration": 7,
    "start_time": "2022-02-07T21:20:41.149Z"
   },
   {
    "duration": 14,
    "start_time": "2022-02-07T21:20:41.158Z"
   },
   {
    "duration": 11,
    "start_time": "2022-02-07T21:20:41.175Z"
   },
   {
    "duration": 46,
    "start_time": "2022-02-07T21:20:41.189Z"
   },
   {
    "duration": 14,
    "start_time": "2022-02-07T21:20:41.237Z"
   },
   {
    "duration": 7,
    "start_time": "2022-02-07T21:20:41.253Z"
   },
   {
    "duration": 610,
    "start_time": "2022-02-07T21:20:41.262Z"
   },
   {
    "duration": 30,
    "start_time": "2022-02-07T21:20:41.875Z"
   },
   {
    "duration": 29,
    "start_time": "2022-02-07T21:20:41.907Z"
   },
   {
    "duration": 1469,
    "start_time": "2022-02-07T21:20:41.938Z"
   },
   {
    "duration": 23,
    "start_time": "2022-02-07T21:20:43.409Z"
   },
   {
    "duration": 9,
    "start_time": "2022-02-07T21:20:43.434Z"
   },
   {
    "duration": 27,
    "start_time": "2022-02-07T21:20:43.446Z"
   },
   {
    "duration": 707,
    "start_time": "2022-02-07T21:20:43.477Z"
   },
   {
    "duration": 594,
    "start_time": "2022-02-07T21:20:44.187Z"
   },
   {
    "duration": 475,
    "start_time": "2022-02-07T21:20:44.784Z"
   },
   {
    "duration": 505,
    "start_time": "2022-02-07T21:20:45.261Z"
   },
   {
    "duration": 11,
    "start_time": "2022-02-07T21:20:45.768Z"
   },
   {
    "duration": 11,
    "start_time": "2022-02-07T21:20:45.781Z"
   },
   {
    "duration": 43,
    "start_time": "2022-02-07T21:20:45.794Z"
   },
   {
    "duration": 968,
    "start_time": "2022-02-07T21:20:45.839Z"
   },
   {
    "duration": 7,
    "start_time": "2022-02-07T21:20:46.809Z"
   },
   {
    "duration": 22,
    "start_time": "2022-02-07T21:20:46.818Z"
   },
   {
    "duration": 20,
    "start_time": "2022-02-07T21:20:46.842Z"
   },
   {
    "duration": 13,
    "start_time": "2022-02-07T21:20:46.879Z"
   },
   {
    "duration": 33,
    "start_time": "2022-02-07T21:20:46.899Z"
   },
   {
    "duration": 15,
    "start_time": "2022-02-07T21:20:46.934Z"
   },
   {
    "duration": 88,
    "start_time": "2022-02-07T21:21:12.398Z"
   },
   {
    "duration": 11,
    "start_time": "2022-02-07T21:21:19.087Z"
   },
   {
    "duration": 13,
    "start_time": "2022-02-07T21:21:37.921Z"
   },
   {
    "duration": 13,
    "start_time": "2022-02-07T21:21:56.540Z"
   },
   {
    "duration": 2135,
    "start_time": "2022-02-07T21:22:44.926Z"
   },
   {
    "duration": 205,
    "start_time": "2022-02-07T21:22:47.065Z"
   },
   {
    "duration": 30,
    "start_time": "2022-02-07T21:22:47.279Z"
   },
   {
    "duration": 34,
    "start_time": "2022-02-07T21:22:47.311Z"
   },
   {
    "duration": 45,
    "start_time": "2022-02-07T21:22:47.347Z"
   },
   {
    "duration": 4,
    "start_time": "2022-02-07T21:22:47.432Z"
   },
   {
    "duration": 21,
    "start_time": "2022-02-07T21:22:47.441Z"
   },
   {
    "duration": 13,
    "start_time": "2022-02-07T21:22:47.466Z"
   },
   {
    "duration": 8,
    "start_time": "2022-02-07T21:22:47.481Z"
   },
   {
    "duration": 45,
    "start_time": "2022-02-07T21:22:47.492Z"
   },
   {
    "duration": 22,
    "start_time": "2022-02-07T21:22:47.539Z"
   },
   {
    "duration": 11,
    "start_time": "2022-02-07T21:22:47.564Z"
   },
   {
    "duration": 57,
    "start_time": "2022-02-07T21:22:47.578Z"
   },
   {
    "duration": 12,
    "start_time": "2022-02-07T21:22:47.638Z"
   },
   {
    "duration": 29,
    "start_time": "2022-02-07T21:22:47.653Z"
   },
   {
    "duration": 11,
    "start_time": "2022-02-07T21:22:47.685Z"
   },
   {
    "duration": 19,
    "start_time": "2022-02-07T21:22:47.732Z"
   },
   {
    "duration": 19,
    "start_time": "2022-02-07T21:22:47.755Z"
   },
   {
    "duration": 22,
    "start_time": "2022-02-07T21:22:47.777Z"
   },
   {
    "duration": 10,
    "start_time": "2022-02-07T21:22:47.832Z"
   },
   {
    "duration": 7,
    "start_time": "2022-02-07T21:22:47.845Z"
   },
   {
    "duration": 11,
    "start_time": "2022-02-07T21:22:47.860Z"
   },
   {
    "duration": 10,
    "start_time": "2022-02-07T21:22:47.877Z"
   },
   {
    "duration": 10,
    "start_time": "2022-02-07T21:22:47.933Z"
   },
   {
    "duration": 9,
    "start_time": "2022-02-07T21:22:47.946Z"
   },
   {
    "duration": 909,
    "start_time": "2022-02-07T21:22:47.958Z"
   },
   {
    "duration": 13,
    "start_time": "2022-02-07T21:22:48.869Z"
   },
   {
    "duration": 929,
    "start_time": "2022-02-07T21:22:48.885Z"
   },
   {
    "duration": 5,
    "start_time": "2022-02-07T21:22:49.816Z"
   },
   {
    "duration": 15,
    "start_time": "2022-02-07T21:22:49.833Z"
   },
   {
    "duration": 6,
    "start_time": "2022-02-07T21:22:49.850Z"
   },
   {
    "duration": 11,
    "start_time": "2022-02-07T21:22:49.859Z"
   },
   {
    "duration": 67,
    "start_time": "2022-02-07T21:22:49.872Z"
   },
   {
    "duration": 20,
    "start_time": "2022-02-07T21:22:49.942Z"
   },
   {
    "duration": 9,
    "start_time": "2022-02-07T21:22:49.965Z"
   },
   {
    "duration": 3221,
    "start_time": "2022-02-07T21:22:49.977Z"
   },
   {
    "duration": 6,
    "start_time": "2022-02-07T21:22:53.200Z"
   },
   {
    "duration": 29,
    "start_time": "2022-02-07T21:22:53.208Z"
   },
   {
    "duration": 17,
    "start_time": "2022-02-07T21:22:53.239Z"
   },
   {
    "duration": 13,
    "start_time": "2022-02-07T21:22:53.259Z"
   },
   {
    "duration": 578,
    "start_time": "2022-02-07T21:22:53.275Z"
   },
   {
    "duration": 6,
    "start_time": "2022-02-07T21:22:53.855Z"
   },
   {
    "duration": 12,
    "start_time": "2022-02-07T21:22:53.864Z"
   },
   {
    "duration": 14,
    "start_time": "2022-02-07T21:22:53.879Z"
   },
   {
    "duration": 43,
    "start_time": "2022-02-07T21:22:53.895Z"
   },
   {
    "duration": 14,
    "start_time": "2022-02-07T21:22:53.941Z"
   },
   {
    "duration": 5,
    "start_time": "2022-02-07T21:22:53.957Z"
   },
   {
    "duration": 668,
    "start_time": "2022-02-07T21:22:53.964Z"
   },
   {
    "duration": 20,
    "start_time": "2022-02-07T21:22:54.634Z"
   },
   {
    "duration": 6,
    "start_time": "2022-02-07T21:22:54.657Z"
   },
   {
    "duration": 1391,
    "start_time": "2022-02-07T21:22:54.666Z"
   },
   {
    "duration": 8,
    "start_time": "2022-02-07T21:22:56.061Z"
   },
   {
    "duration": 19,
    "start_time": "2022-02-07T21:22:56.072Z"
   },
   {
    "duration": 49,
    "start_time": "2022-02-07T21:22:56.093Z"
   },
   {
    "duration": 672,
    "start_time": "2022-02-07T21:22:56.145Z"
   },
   {
    "duration": 620,
    "start_time": "2022-02-07T21:22:56.819Z"
   },
   {
    "duration": 527,
    "start_time": "2022-02-07T21:22:57.442Z"
   },
   {
    "duration": 541,
    "start_time": "2022-02-07T21:22:57.972Z"
   },
   {
    "duration": 22,
    "start_time": "2022-02-07T21:22:58.517Z"
   },
   {
    "duration": 16,
    "start_time": "2022-02-07T21:22:58.541Z"
   },
   {
    "duration": 21,
    "start_time": "2022-02-07T21:22:58.559Z"
   },
   {
    "duration": 1058,
    "start_time": "2022-02-07T21:22:58.583Z"
   },
   {
    "duration": 10,
    "start_time": "2022-02-07T21:22:59.644Z"
   },
   {
    "duration": 9,
    "start_time": "2022-02-07T21:22:59.656Z"
   },
   {
    "duration": 14,
    "start_time": "2022-02-07T21:22:59.668Z"
   },
   {
    "duration": 52,
    "start_time": "2022-02-07T21:22:59.685Z"
   },
   {
    "duration": 12,
    "start_time": "2022-02-07T21:22:59.747Z"
   },
   {
    "duration": 18,
    "start_time": "2022-02-07T21:22:59.762Z"
   },
   {
    "duration": 1132,
    "start_time": "2022-02-08T09:09:50.103Z"
   },
   {
    "duration": 120,
    "start_time": "2022-02-08T09:09:51.237Z"
   },
   {
    "duration": 17,
    "start_time": "2022-02-08T09:09:51.359Z"
   },
   {
    "duration": 11,
    "start_time": "2022-02-08T09:09:51.378Z"
   },
   {
    "duration": 34,
    "start_time": "2022-02-08T09:09:51.391Z"
   },
   {
    "duration": 4,
    "start_time": "2022-02-08T09:09:51.427Z"
   },
   {
    "duration": 14,
    "start_time": "2022-02-08T09:09:51.433Z"
   },
   {
    "duration": 10,
    "start_time": "2022-02-08T09:09:51.451Z"
   },
   {
    "duration": 6,
    "start_time": "2022-02-08T09:09:51.463Z"
   },
   {
    "duration": 5,
    "start_time": "2022-02-08T09:09:51.471Z"
   },
   {
    "duration": 45,
    "start_time": "2022-02-08T09:09:51.478Z"
   },
   {
    "duration": 10,
    "start_time": "2022-02-08T09:09:51.525Z"
   },
   {
    "duration": 19,
    "start_time": "2022-02-08T09:09:51.536Z"
   },
   {
    "duration": 8,
    "start_time": "2022-02-08T09:09:51.557Z"
   },
   {
    "duration": 16,
    "start_time": "2022-02-08T09:09:51.566Z"
   },
   {
    "duration": 5,
    "start_time": "2022-02-08T09:09:51.613Z"
   },
   {
    "duration": 11,
    "start_time": "2022-02-08T09:09:51.620Z"
   },
   {
    "duration": 9,
    "start_time": "2022-02-08T09:09:51.633Z"
   },
   {
    "duration": 15,
    "start_time": "2022-02-08T09:09:51.644Z"
   },
   {
    "duration": 6,
    "start_time": "2022-02-08T09:09:51.660Z"
   },
   {
    "duration": 6,
    "start_time": "2022-02-08T09:09:51.668Z"
   },
   {
    "duration": 39,
    "start_time": "2022-02-08T09:09:51.676Z"
   },
   {
    "duration": 7,
    "start_time": "2022-02-08T09:09:51.719Z"
   },
   {
    "duration": 9,
    "start_time": "2022-02-08T09:09:51.728Z"
   },
   {
    "duration": 6,
    "start_time": "2022-02-08T09:09:51.738Z"
   },
   {
    "duration": 535,
    "start_time": "2022-02-08T09:09:51.746Z"
   },
   {
    "duration": 8,
    "start_time": "2022-02-08T09:09:52.283Z"
   },
   {
    "duration": 521,
    "start_time": "2022-02-08T09:09:52.293Z"
   },
   {
    "duration": 4,
    "start_time": "2022-02-08T09:09:52.815Z"
   },
   {
    "duration": 20,
    "start_time": "2022-02-08T09:09:52.821Z"
   },
   {
    "duration": 5,
    "start_time": "2022-02-08T09:09:52.842Z"
   },
   {
    "duration": 4,
    "start_time": "2022-02-08T09:09:52.849Z"
   },
   {
    "duration": 25,
    "start_time": "2022-02-08T09:09:52.855Z"
   },
   {
    "duration": 36,
    "start_time": "2022-02-08T09:09:52.881Z"
   },
   {
    "duration": 6,
    "start_time": "2022-02-08T09:09:52.919Z"
   },
   {
    "duration": 1774,
    "start_time": "2022-02-08T09:09:52.927Z"
   },
   {
    "duration": 12,
    "start_time": "2022-02-08T09:09:54.702Z"
   },
   {
    "duration": 9,
    "start_time": "2022-02-08T09:09:54.715Z"
   },
   {
    "duration": 8,
    "start_time": "2022-02-08T09:09:54.726Z"
   },
   {
    "duration": 6,
    "start_time": "2022-02-08T09:09:54.736Z"
   },
   {
    "duration": 369,
    "start_time": "2022-02-08T09:09:54.743Z"
   },
   {
    "duration": 4,
    "start_time": "2022-02-08T09:09:55.114Z"
   },
   {
    "duration": 9,
    "start_time": "2022-02-08T09:09:55.119Z"
   },
   {
    "duration": 7,
    "start_time": "2022-02-08T09:09:55.130Z"
   },
   {
    "duration": 6,
    "start_time": "2022-02-08T09:09:55.139Z"
   },
   {
    "duration": 12,
    "start_time": "2022-02-08T09:09:55.146Z"
   },
   {
    "duration": 4,
    "start_time": "2022-02-08T09:09:55.160Z"
   },
   {
    "duration": 412,
    "start_time": "2022-02-08T09:09:55.166Z"
   },
   {
    "duration": 13,
    "start_time": "2022-02-08T09:09:55.579Z"
   },
   {
    "duration": 7,
    "start_time": "2022-02-08T09:09:55.594Z"
   },
   {
    "duration": 888,
    "start_time": "2022-02-08T09:09:55.612Z"
   },
   {
    "duration": 10,
    "start_time": "2022-02-08T09:09:56.502Z"
   },
   {
    "duration": 7,
    "start_time": "2022-02-08T09:09:56.514Z"
   },
   {
    "duration": 13,
    "start_time": "2022-02-08T09:09:56.523Z"
   },
   {
    "duration": 425,
    "start_time": "2022-02-08T09:09:56.538Z"
   },
   {
    "duration": 373,
    "start_time": "2022-02-08T09:09:56.965Z"
   },
   {
    "duration": 304,
    "start_time": "2022-02-08T09:09:57.340Z"
   },
   {
    "duration": 322,
    "start_time": "2022-02-08T09:09:57.646Z"
   },
   {
    "duration": 8,
    "start_time": "2022-02-08T09:09:57.970Z"
   },
   {
    "duration": 7,
    "start_time": "2022-02-08T09:09:57.980Z"
   },
   {
    "duration": 28,
    "start_time": "2022-02-08T09:09:57.989Z"
   },
   {
    "duration": 630,
    "start_time": "2022-02-08T09:09:58.019Z"
   },
   {
    "duration": 5,
    "start_time": "2022-02-08T09:09:58.652Z"
   },
   {
    "duration": 10,
    "start_time": "2022-02-08T09:09:58.658Z"
   },
   {
    "duration": 10,
    "start_time": "2022-02-08T09:09:58.670Z"
   },
   {
    "duration": 32,
    "start_time": "2022-02-08T09:09:58.682Z"
   },
   {
    "duration": 7,
    "start_time": "2022-02-08T09:09:58.716Z"
   },
   {
    "duration": 9,
    "start_time": "2022-02-08T09:09:58.729Z"
   }
  ],
  "kernelspec": {
   "display_name": "Python 3",
   "language": "python",
   "name": "python3"
  },
  "language_info": {
   "codemirror_mode": {
    "name": "ipython",
    "version": 3
   },
   "file_extension": ".py",
   "mimetype": "text/x-python",
   "name": "python",
   "nbconvert_exporter": "python",
   "pygments_lexer": "ipython3",
   "version": "3.6.8"
  },
  "toc": {
   "base_numbering": 1,
   "nav_menu": {},
   "number_sections": true,
   "sideBar": true,
   "skip_h1_title": true,
   "title_cell": "Содержание",
   "title_sidebar": "Contents",
   "toc_cell": true,
   "toc_position": {},
   "toc_section_display": true,
   "toc_window_display": true
  }
 },
 "nbformat": 4,
 "nbformat_minor": 2
}
