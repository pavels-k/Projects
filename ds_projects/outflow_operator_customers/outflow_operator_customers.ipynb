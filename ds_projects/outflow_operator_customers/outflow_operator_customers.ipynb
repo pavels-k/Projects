{
 "cells": [
  {
   "cell_type": "markdown",
   "metadata": {
    "toc": true
   },
   "source": [
    "<h1>Содержание<span class=\"tocSkip\"></span></h1>\n",
    "<div class=\"toc\"><ul class=\"toc-item\"><li><span><a href=\"#Исследовательский-анализ-данных\" data-toc-modified-id=\"Исследовательский-анализ-данных-1\"><span class=\"toc-item-num\">1&nbsp;&nbsp;</span>Исследовательский анализ данных</a></span><ul class=\"toc-item\"><li><span><a href=\"#Чтение-данных\" data-toc-modified-id=\"Чтение-данных-1.1\"><span class=\"toc-item-num\">1.1&nbsp;&nbsp;</span>Чтение данных</a></span></li><li><span><a href=\"#Описание-данных\" data-toc-modified-id=\"Описание-данных-1.2\"><span class=\"toc-item-num\">1.2&nbsp;&nbsp;</span>Описание данных</a></span></li><li><span><a href=\"#Переименование-столбцов\" data-toc-modified-id=\"Переименование-столбцов-1.3\"><span class=\"toc-item-num\">1.3&nbsp;&nbsp;</span>Переименование столбцов</a></span></li><li><span><a href=\"#Проверка-качества-данных-и-приведение-типов\" data-toc-modified-id=\"Проверка-качества-данных-и-приведение-типов-1.4\"><span class=\"toc-item-num\">1.4&nbsp;&nbsp;</span>Проверка качества данных и приведение типов</a></span></li><li><span><a href=\"#Добавление-фич\" data-toc-modified-id=\"Добавление-фич-1.5\"><span class=\"toc-item-num\">1.5&nbsp;&nbsp;</span>Добавление фич</a></span></li><li><span><a href=\"#Работа-с-пропусками\" data-toc-modified-id=\"Работа-с-пропусками-1.6\"><span class=\"toc-item-num\">1.6&nbsp;&nbsp;</span>Работа с пропусками</a></span></li><li><span><a href=\"#Проверка-на-дубликаты\" data-toc-modified-id=\"Проверка-на-дубликаты-1.7\"><span class=\"toc-item-num\">1.7&nbsp;&nbsp;</span>Проверка на дубликаты</a></span></li><li><span><a href=\"#Демонстрация-данных\" data-toc-modified-id=\"Демонстрация-данных-1.8\"><span class=\"toc-item-num\">1.8&nbsp;&nbsp;</span>Демонстрация данных</a></span></li><li><span><a href=\"#Проверка-корреляции-данных\" data-toc-modified-id=\"Проверка-корреляции-данных-1.9\"><span class=\"toc-item-num\">1.9&nbsp;&nbsp;</span>Проверка корреляции данных</a></span></li><li><span><a href=\"#Создание-общего-датасета\" data-toc-modified-id=\"Создание-общего-датасета-1.10\"><span class=\"toc-item-num\">1.10&nbsp;&nbsp;</span>Создание общего датасета</a></span></li><li><span><a href=\"#План-работы\" data-toc-modified-id=\"План-работы-1.11\"><span class=\"toc-item-num\">1.11&nbsp;&nbsp;</span>План работы</a></span></li></ul></li><li><span><a href=\"#Моделирование\" data-toc-modified-id=\"Моделирование-2\"><span class=\"toc-item-num\">2&nbsp;&nbsp;</span>Моделирование</a></span><ul class=\"toc-item\"><li><span><a href=\"#Подготовка-данных-к-моделированию\" data-toc-modified-id=\"Подготовка-данных-к-моделированию-2.1\"><span class=\"toc-item-num\">2.1&nbsp;&nbsp;</span>Подготовка данных к моделированию</a></span></li><li><span><a href=\"#Логистическая-регрессия\" data-toc-modified-id=\"Логистическая-регрессия-2.2\"><span class=\"toc-item-num\">2.2&nbsp;&nbsp;</span>Логистическая регрессия</a></span></li><li><span><a href=\"#Дерево-решений\" data-toc-modified-id=\"Дерево-решений-2.3\"><span class=\"toc-item-num\">2.3&nbsp;&nbsp;</span>Дерево решений</a></span></li><li><span><a href=\"#Проверка-на-дисбаланс\" data-toc-modified-id=\"Проверка-на-дисбаланс-2.4\"><span class=\"toc-item-num\">2.4&nbsp;&nbsp;</span>Проверка на дисбаланс</a></span></li><li><span><a href=\"#Случайный-лес\" data-toc-modified-id=\"Случайный-лес-2.5\"><span class=\"toc-item-num\">2.5&nbsp;&nbsp;</span>Случайный лес</a></span></li><li><span><a href=\"#Бустинг\" data-toc-modified-id=\"Бустинг-2.6\"><span class=\"toc-item-num\">2.6&nbsp;&nbsp;</span>Бустинг</a></span></li><li><span><a href=\"#Проверка-модели-на-тестовой-выборке\" data-toc-modified-id=\"Проверка-модели-на-тестовой-выборке-2.7\"><span class=\"toc-item-num\">2.7&nbsp;&nbsp;</span>Проверка модели на тестовой выборке</a></span></li></ul></li><li><span><a href=\"#Вывод\" data-toc-modified-id=\"Вывод-3\"><span class=\"toc-item-num\">3&nbsp;&nbsp;</span>Вывод</a></span></li></ul></div>"
   ]
  },
  {
   "cell_type": "markdown",
   "id": "dcd92c4b",
   "metadata": {},
   "source": [
    "# Разработка алгоритма для оттока клиентов телекома"
   ]
  },
  {
   "cell_type": "markdown",
   "id": "66627993",
   "metadata": {},
   "source": [
    "Оператор связи «Ниединогоразрыва.ком» хочет научиться прогнозировать отток клиентов. Если выяснится, что пользователь планирует уйти, ему будут предложены промокоды и специальные условия. Команда оператора собрала персональные данные о некоторых клиентах, информацию об их тарифах и договорах."
   ]
  },
  {
   "cell_type": "markdown",
   "id": "e487650a",
   "metadata": {},
   "source": [
    "**Описание услуг**\n",
    "\n",
    "Оператор предоставляет два основных типа услуг: \n",
    "\n",
    "1. Стационарную телефонную связь. Возможно подключение телефонного аппарата к нескольким линиям одновременно.\n",
    "2. Интернет. Подключение может быть двух типов: через телефонную линию (DSL*,* от англ. *digital subscriber line*, «цифровая абонентская линия») или оптоволоконный кабель (*Fiber optic*).  \n",
    "\n",
    "Также доступны такие услуги:\n",
    "\n",
    "- Интернет-безопасность: антивирус (*DeviceProtection*) и блокировка небезопасных сайтов (*OnlineSecurity*);\n",
    "- Выделенная линия технической поддержки (*TechSupport*);\n",
    "- Облачное хранилище файлов для резервного копирования данных (*OnlineBackup*);\n",
    "- Стриминговое телевидение (*StreamingTV*) и каталог фильмов (*StreamingMovies*).\n",
    "\n",
    "За услуги клиенты могут платить каждый месяц или заключить договор на 1–2 года. Доступны различные способы расчёта и возможность получения электронного чека."
   ]
  },
  {
   "cell_type": "markdown",
   "id": "baede4fa",
   "metadata": {},
   "source": [
    "## Исследовательский анализ данных"
   ]
  },
  {
   "cell_type": "markdown",
   "id": "171242d6",
   "metadata": {},
   "source": [
    "### Чтение данных"
   ]
  },
  {
   "cell_type": "code",
   "execution_count": 1,
   "id": "bf92e7eb",
   "metadata": {
    "scrolled": true
   },
   "outputs": [],
   "source": [
    "# Импорт библиотек\n",
    "import pandas as pd\n",
    "import os\n",
    "import numpy as np\n",
    "import matplotlib.pyplot as plt\n",
    "from scipy import stats as st\n",
    "import seaborn as sns\n",
    "from sklearn.model_selection import train_test_split\n",
    "from sklearn.tree import DecisionTreeClassifier\n",
    "from sklearn.ensemble import RandomForestClassifier\n",
    "from sklearn.linear_model import LogisticRegression\n",
    "from sklearn.metrics import mean_squared_error\n",
    "from sklearn.metrics import accuracy_score\n",
    "from sklearn.metrics import roc_auc_score\n",
    "from sklearn.preprocessing import StandardScaler\n",
    "from sklearn.metrics import confusion_matrix\n",
    "from sklearn.metrics import recall_score\n",
    "from sklearn.metrics import precision_score\n",
    "from sklearn.metrics import f1_score\n",
    "from sklearn.metrics import roc_auc_score\n",
    "from sklearn.utils import shuffle\n",
    "from sklearn.metrics import roc_curve\n",
    "from sklearn.model_selection import GridSearchCV\n",
    "import lightgbm as lgb\n",
    "from lightgbm import LGBMClassifier"
   ]
  },
  {
   "cell_type": "code",
   "execution_count": 2,
   "id": "4ba3eaa0",
   "metadata": {
    "scrolled": true
   },
   "outputs": [],
   "source": [
    "# Открываем файлы\n",
    "pth1 = 'datasets/final_provider/contract.csv'\n",
    "pth2 = 'datasets/final_provider/personal.csv'\n",
    "pth3 = 'datasets/final_provider/internet.csv'\n",
    "pth4 = 'datasets/final_provider/phone.csv'\n",
    "\n",
    "if os.path.exists(pth1) and os.path.exists(pth2) and os.path.exists(pth3) and os.path.exists(pth4):\n",
    "    contract = pd.read_csv(pth1, sep=',')\n",
    "    personal = pd.read_csv(pth2, sep=',')\n",
    "    internet = pd.read_csv(pth3, sep=',')\n",
    "    phone = pd.read_csv(pth4, sep=',')\n",
    "else:\n",
    "    contract = pd.read_csv('/' + pth1, sep=',')\n",
    "    personal = pd.read_csv('/' + pth2, sep=',')\n",
    "    internet = pd.read_csv('/' + pth3, sep=',')\n",
    "    phone = pd.read_csv('/' + pth4, sep=',')"
   ]
  },
  {
   "cell_type": "markdown",
   "metadata": {},
   "source": [
    "Файлы на базе"
   ]
  },
  {
   "cell_type": "markdown",
   "id": "4adb3141",
   "metadata": {},
   "source": [
    "### Описание данных\n",
    "\n",
    "Данные состоят из файлов, полученных из разных источников:\n",
    "\n",
    "- `contract.csv` — информация о договоре;\n",
    "- `personal.csv` — персональные данные клиента;\n",
    "- `internet.csv` — информация об интернет-услугах;\n",
    "- `phone.csv` — информация об услугах телефонии.\n",
    "\n",
    "Во всех файлах столбец `customerID` содержит код клиента.\n",
    "\n",
    "Информация о договорах актуальна на 1 февраля 2020."
   ]
  },
  {
   "cell_type": "code",
   "execution_count": 3,
   "id": "e524791e",
   "metadata": {
    "scrolled": true
   },
   "outputs": [],
   "source": [
    "list_df = [contract, personal, internet, phone]\n",
    "name_df = ['contract', 'personal', 'internet', 'phone']"
   ]
  },
  {
   "cell_type": "code",
   "execution_count": 4,
   "id": "e285518e",
   "metadata": {
    "scrolled": false
   },
   "outputs": [
    {
     "data": {
      "text/html": [
       "<style  type=\"text/css\" >\n",
       "</style><table id=\"T_bfe91630_31c2_11ed_afe5_acde48001122\" ><caption>contract</caption><thead>    <tr>        <th class=\"blank level0\" ></th>        <th class=\"col_heading level0 col0\" >customerID</th>        <th class=\"col_heading level0 col1\" >BeginDate</th>        <th class=\"col_heading level0 col2\" >EndDate</th>        <th class=\"col_heading level0 col3\" >Type</th>        <th class=\"col_heading level0 col4\" >PaperlessBilling</th>        <th class=\"col_heading level0 col5\" >PaymentMethod</th>        <th class=\"col_heading level0 col6\" >MonthlyCharges</th>        <th class=\"col_heading level0 col7\" >TotalCharges</th>    </tr></thead><tbody>\n",
       "                <tr>\n",
       "                        <th id=\"T_bfe91630_31c2_11ed_afe5_acde48001122level0_row0\" class=\"row_heading level0 row0\" >0</th>\n",
       "                        <td id=\"T_bfe91630_31c2_11ed_afe5_acde48001122row0_col0\" class=\"data row0 col0\" >7590-VHVEG</td>\n",
       "                        <td id=\"T_bfe91630_31c2_11ed_afe5_acde48001122row0_col1\" class=\"data row0 col1\" >2020-01-01</td>\n",
       "                        <td id=\"T_bfe91630_31c2_11ed_afe5_acde48001122row0_col2\" class=\"data row0 col2\" >No</td>\n",
       "                        <td id=\"T_bfe91630_31c2_11ed_afe5_acde48001122row0_col3\" class=\"data row0 col3\" >Month-to-month</td>\n",
       "                        <td id=\"T_bfe91630_31c2_11ed_afe5_acde48001122row0_col4\" class=\"data row0 col4\" >Yes</td>\n",
       "                        <td id=\"T_bfe91630_31c2_11ed_afe5_acde48001122row0_col5\" class=\"data row0 col5\" >Electronic check</td>\n",
       "                        <td id=\"T_bfe91630_31c2_11ed_afe5_acde48001122row0_col6\" class=\"data row0 col6\" >29.850000</td>\n",
       "                        <td id=\"T_bfe91630_31c2_11ed_afe5_acde48001122row0_col7\" class=\"data row0 col7\" >29.85</td>\n",
       "            </tr>\n",
       "            <tr>\n",
       "                        <th id=\"T_bfe91630_31c2_11ed_afe5_acde48001122level0_row1\" class=\"row_heading level0 row1\" >1</th>\n",
       "                        <td id=\"T_bfe91630_31c2_11ed_afe5_acde48001122row1_col0\" class=\"data row1 col0\" >5575-GNVDE</td>\n",
       "                        <td id=\"T_bfe91630_31c2_11ed_afe5_acde48001122row1_col1\" class=\"data row1 col1\" >2017-04-01</td>\n",
       "                        <td id=\"T_bfe91630_31c2_11ed_afe5_acde48001122row1_col2\" class=\"data row1 col2\" >No</td>\n",
       "                        <td id=\"T_bfe91630_31c2_11ed_afe5_acde48001122row1_col3\" class=\"data row1 col3\" >One year</td>\n",
       "                        <td id=\"T_bfe91630_31c2_11ed_afe5_acde48001122row1_col4\" class=\"data row1 col4\" >No</td>\n",
       "                        <td id=\"T_bfe91630_31c2_11ed_afe5_acde48001122row1_col5\" class=\"data row1 col5\" >Mailed check</td>\n",
       "                        <td id=\"T_bfe91630_31c2_11ed_afe5_acde48001122row1_col6\" class=\"data row1 col6\" >56.950000</td>\n",
       "                        <td id=\"T_bfe91630_31c2_11ed_afe5_acde48001122row1_col7\" class=\"data row1 col7\" >1889.5</td>\n",
       "            </tr>\n",
       "            <tr>\n",
       "                        <th id=\"T_bfe91630_31c2_11ed_afe5_acde48001122level0_row2\" class=\"row_heading level0 row2\" >2</th>\n",
       "                        <td id=\"T_bfe91630_31c2_11ed_afe5_acde48001122row2_col0\" class=\"data row2 col0\" >3668-QPYBK</td>\n",
       "                        <td id=\"T_bfe91630_31c2_11ed_afe5_acde48001122row2_col1\" class=\"data row2 col1\" >2019-10-01</td>\n",
       "                        <td id=\"T_bfe91630_31c2_11ed_afe5_acde48001122row2_col2\" class=\"data row2 col2\" >2019-12-01 00:00:00</td>\n",
       "                        <td id=\"T_bfe91630_31c2_11ed_afe5_acde48001122row2_col3\" class=\"data row2 col3\" >Month-to-month</td>\n",
       "                        <td id=\"T_bfe91630_31c2_11ed_afe5_acde48001122row2_col4\" class=\"data row2 col4\" >Yes</td>\n",
       "                        <td id=\"T_bfe91630_31c2_11ed_afe5_acde48001122row2_col5\" class=\"data row2 col5\" >Mailed check</td>\n",
       "                        <td id=\"T_bfe91630_31c2_11ed_afe5_acde48001122row2_col6\" class=\"data row2 col6\" >53.850000</td>\n",
       "                        <td id=\"T_bfe91630_31c2_11ed_afe5_acde48001122row2_col7\" class=\"data row2 col7\" >108.15</td>\n",
       "            </tr>\n",
       "            <tr>\n",
       "                        <th id=\"T_bfe91630_31c2_11ed_afe5_acde48001122level0_row3\" class=\"row_heading level0 row3\" >3</th>\n",
       "                        <td id=\"T_bfe91630_31c2_11ed_afe5_acde48001122row3_col0\" class=\"data row3 col0\" >7795-CFOCW</td>\n",
       "                        <td id=\"T_bfe91630_31c2_11ed_afe5_acde48001122row3_col1\" class=\"data row3 col1\" >2016-05-01</td>\n",
       "                        <td id=\"T_bfe91630_31c2_11ed_afe5_acde48001122row3_col2\" class=\"data row3 col2\" >No</td>\n",
       "                        <td id=\"T_bfe91630_31c2_11ed_afe5_acde48001122row3_col3\" class=\"data row3 col3\" >One year</td>\n",
       "                        <td id=\"T_bfe91630_31c2_11ed_afe5_acde48001122row3_col4\" class=\"data row3 col4\" >No</td>\n",
       "                        <td id=\"T_bfe91630_31c2_11ed_afe5_acde48001122row3_col5\" class=\"data row3 col5\" >Bank transfer (automatic)</td>\n",
       "                        <td id=\"T_bfe91630_31c2_11ed_afe5_acde48001122row3_col6\" class=\"data row3 col6\" >42.300000</td>\n",
       "                        <td id=\"T_bfe91630_31c2_11ed_afe5_acde48001122row3_col7\" class=\"data row3 col7\" >1840.75</td>\n",
       "            </tr>\n",
       "            <tr>\n",
       "                        <th id=\"T_bfe91630_31c2_11ed_afe5_acde48001122level0_row4\" class=\"row_heading level0 row4\" >4</th>\n",
       "                        <td id=\"T_bfe91630_31c2_11ed_afe5_acde48001122row4_col0\" class=\"data row4 col0\" >9237-HQITU</td>\n",
       "                        <td id=\"T_bfe91630_31c2_11ed_afe5_acde48001122row4_col1\" class=\"data row4 col1\" >2019-09-01</td>\n",
       "                        <td id=\"T_bfe91630_31c2_11ed_afe5_acde48001122row4_col2\" class=\"data row4 col2\" >2019-11-01 00:00:00</td>\n",
       "                        <td id=\"T_bfe91630_31c2_11ed_afe5_acde48001122row4_col3\" class=\"data row4 col3\" >Month-to-month</td>\n",
       "                        <td id=\"T_bfe91630_31c2_11ed_afe5_acde48001122row4_col4\" class=\"data row4 col4\" >Yes</td>\n",
       "                        <td id=\"T_bfe91630_31c2_11ed_afe5_acde48001122row4_col5\" class=\"data row4 col5\" >Electronic check</td>\n",
       "                        <td id=\"T_bfe91630_31c2_11ed_afe5_acde48001122row4_col6\" class=\"data row4 col6\" >70.700000</td>\n",
       "                        <td id=\"T_bfe91630_31c2_11ed_afe5_acde48001122row4_col7\" class=\"data row4 col7\" >151.65</td>\n",
       "            </tr>\n",
       "    </tbody></table>"
      ],
      "text/plain": [
       "<pandas.io.formats.style.Styler at 0x7fd3e84e5940>"
      ]
     },
     "metadata": {},
     "output_type": "display_data"
    },
    {
     "data": {
      "text/html": [
       "<style  type=\"text/css\" >\n",
       "</style><table id=\"T_bfec50ac_31c2_11ed_89ac_acde48001122\" ><caption>personal</caption><thead>    <tr>        <th class=\"blank level0\" ></th>        <th class=\"col_heading level0 col0\" >customerID</th>        <th class=\"col_heading level0 col1\" >gender</th>        <th class=\"col_heading level0 col2\" >SeniorCitizen</th>        <th class=\"col_heading level0 col3\" >Partner</th>        <th class=\"col_heading level0 col4\" >Dependents</th>    </tr></thead><tbody>\n",
       "                <tr>\n",
       "                        <th id=\"T_bfec50ac_31c2_11ed_89ac_acde48001122level0_row0\" class=\"row_heading level0 row0\" >0</th>\n",
       "                        <td id=\"T_bfec50ac_31c2_11ed_89ac_acde48001122row0_col0\" class=\"data row0 col0\" >7590-VHVEG</td>\n",
       "                        <td id=\"T_bfec50ac_31c2_11ed_89ac_acde48001122row0_col1\" class=\"data row0 col1\" >Female</td>\n",
       "                        <td id=\"T_bfec50ac_31c2_11ed_89ac_acde48001122row0_col2\" class=\"data row0 col2\" >0</td>\n",
       "                        <td id=\"T_bfec50ac_31c2_11ed_89ac_acde48001122row0_col3\" class=\"data row0 col3\" >Yes</td>\n",
       "                        <td id=\"T_bfec50ac_31c2_11ed_89ac_acde48001122row0_col4\" class=\"data row0 col4\" >No</td>\n",
       "            </tr>\n",
       "            <tr>\n",
       "                        <th id=\"T_bfec50ac_31c2_11ed_89ac_acde48001122level0_row1\" class=\"row_heading level0 row1\" >1</th>\n",
       "                        <td id=\"T_bfec50ac_31c2_11ed_89ac_acde48001122row1_col0\" class=\"data row1 col0\" >5575-GNVDE</td>\n",
       "                        <td id=\"T_bfec50ac_31c2_11ed_89ac_acde48001122row1_col1\" class=\"data row1 col1\" >Male</td>\n",
       "                        <td id=\"T_bfec50ac_31c2_11ed_89ac_acde48001122row1_col2\" class=\"data row1 col2\" >0</td>\n",
       "                        <td id=\"T_bfec50ac_31c2_11ed_89ac_acde48001122row1_col3\" class=\"data row1 col3\" >No</td>\n",
       "                        <td id=\"T_bfec50ac_31c2_11ed_89ac_acde48001122row1_col4\" class=\"data row1 col4\" >No</td>\n",
       "            </tr>\n",
       "            <tr>\n",
       "                        <th id=\"T_bfec50ac_31c2_11ed_89ac_acde48001122level0_row2\" class=\"row_heading level0 row2\" >2</th>\n",
       "                        <td id=\"T_bfec50ac_31c2_11ed_89ac_acde48001122row2_col0\" class=\"data row2 col0\" >3668-QPYBK</td>\n",
       "                        <td id=\"T_bfec50ac_31c2_11ed_89ac_acde48001122row2_col1\" class=\"data row2 col1\" >Male</td>\n",
       "                        <td id=\"T_bfec50ac_31c2_11ed_89ac_acde48001122row2_col2\" class=\"data row2 col2\" >0</td>\n",
       "                        <td id=\"T_bfec50ac_31c2_11ed_89ac_acde48001122row2_col3\" class=\"data row2 col3\" >No</td>\n",
       "                        <td id=\"T_bfec50ac_31c2_11ed_89ac_acde48001122row2_col4\" class=\"data row2 col4\" >No</td>\n",
       "            </tr>\n",
       "            <tr>\n",
       "                        <th id=\"T_bfec50ac_31c2_11ed_89ac_acde48001122level0_row3\" class=\"row_heading level0 row3\" >3</th>\n",
       "                        <td id=\"T_bfec50ac_31c2_11ed_89ac_acde48001122row3_col0\" class=\"data row3 col0\" >7795-CFOCW</td>\n",
       "                        <td id=\"T_bfec50ac_31c2_11ed_89ac_acde48001122row3_col1\" class=\"data row3 col1\" >Male</td>\n",
       "                        <td id=\"T_bfec50ac_31c2_11ed_89ac_acde48001122row3_col2\" class=\"data row3 col2\" >0</td>\n",
       "                        <td id=\"T_bfec50ac_31c2_11ed_89ac_acde48001122row3_col3\" class=\"data row3 col3\" >No</td>\n",
       "                        <td id=\"T_bfec50ac_31c2_11ed_89ac_acde48001122row3_col4\" class=\"data row3 col4\" >No</td>\n",
       "            </tr>\n",
       "            <tr>\n",
       "                        <th id=\"T_bfec50ac_31c2_11ed_89ac_acde48001122level0_row4\" class=\"row_heading level0 row4\" >4</th>\n",
       "                        <td id=\"T_bfec50ac_31c2_11ed_89ac_acde48001122row4_col0\" class=\"data row4 col0\" >9237-HQITU</td>\n",
       "                        <td id=\"T_bfec50ac_31c2_11ed_89ac_acde48001122row4_col1\" class=\"data row4 col1\" >Female</td>\n",
       "                        <td id=\"T_bfec50ac_31c2_11ed_89ac_acde48001122row4_col2\" class=\"data row4 col2\" >0</td>\n",
       "                        <td id=\"T_bfec50ac_31c2_11ed_89ac_acde48001122row4_col3\" class=\"data row4 col3\" >No</td>\n",
       "                        <td id=\"T_bfec50ac_31c2_11ed_89ac_acde48001122row4_col4\" class=\"data row4 col4\" >No</td>\n",
       "            </tr>\n",
       "    </tbody></table>"
      ],
      "text/plain": [
       "<pandas.io.formats.style.Styler at 0x7fd3ec85ebe0>"
      ]
     },
     "metadata": {},
     "output_type": "display_data"
    },
    {
     "data": {
      "text/html": [
       "<style  type=\"text/css\" >\n",
       "</style><table id=\"T_bfece008_31c2_11ed_8b1f_acde48001122\" ><caption>internet</caption><thead>    <tr>        <th class=\"blank level0\" ></th>        <th class=\"col_heading level0 col0\" >customerID</th>        <th class=\"col_heading level0 col1\" >InternetService</th>        <th class=\"col_heading level0 col2\" >OnlineSecurity</th>        <th class=\"col_heading level0 col3\" >OnlineBackup</th>        <th class=\"col_heading level0 col4\" >DeviceProtection</th>        <th class=\"col_heading level0 col5\" >TechSupport</th>        <th class=\"col_heading level0 col6\" >StreamingTV</th>        <th class=\"col_heading level0 col7\" >StreamingMovies</th>    </tr></thead><tbody>\n",
       "                <tr>\n",
       "                        <th id=\"T_bfece008_31c2_11ed_8b1f_acde48001122level0_row0\" class=\"row_heading level0 row0\" >0</th>\n",
       "                        <td id=\"T_bfece008_31c2_11ed_8b1f_acde48001122row0_col0\" class=\"data row0 col0\" >7590-VHVEG</td>\n",
       "                        <td id=\"T_bfece008_31c2_11ed_8b1f_acde48001122row0_col1\" class=\"data row0 col1\" >DSL</td>\n",
       "                        <td id=\"T_bfece008_31c2_11ed_8b1f_acde48001122row0_col2\" class=\"data row0 col2\" >No</td>\n",
       "                        <td id=\"T_bfece008_31c2_11ed_8b1f_acde48001122row0_col3\" class=\"data row0 col3\" >Yes</td>\n",
       "                        <td id=\"T_bfece008_31c2_11ed_8b1f_acde48001122row0_col4\" class=\"data row0 col4\" >No</td>\n",
       "                        <td id=\"T_bfece008_31c2_11ed_8b1f_acde48001122row0_col5\" class=\"data row0 col5\" >No</td>\n",
       "                        <td id=\"T_bfece008_31c2_11ed_8b1f_acde48001122row0_col6\" class=\"data row0 col6\" >No</td>\n",
       "                        <td id=\"T_bfece008_31c2_11ed_8b1f_acde48001122row0_col7\" class=\"data row0 col7\" >No</td>\n",
       "            </tr>\n",
       "            <tr>\n",
       "                        <th id=\"T_bfece008_31c2_11ed_8b1f_acde48001122level0_row1\" class=\"row_heading level0 row1\" >1</th>\n",
       "                        <td id=\"T_bfece008_31c2_11ed_8b1f_acde48001122row1_col0\" class=\"data row1 col0\" >5575-GNVDE</td>\n",
       "                        <td id=\"T_bfece008_31c2_11ed_8b1f_acde48001122row1_col1\" class=\"data row1 col1\" >DSL</td>\n",
       "                        <td id=\"T_bfece008_31c2_11ed_8b1f_acde48001122row1_col2\" class=\"data row1 col2\" >Yes</td>\n",
       "                        <td id=\"T_bfece008_31c2_11ed_8b1f_acde48001122row1_col3\" class=\"data row1 col3\" >No</td>\n",
       "                        <td id=\"T_bfece008_31c2_11ed_8b1f_acde48001122row1_col4\" class=\"data row1 col4\" >Yes</td>\n",
       "                        <td id=\"T_bfece008_31c2_11ed_8b1f_acde48001122row1_col5\" class=\"data row1 col5\" >No</td>\n",
       "                        <td id=\"T_bfece008_31c2_11ed_8b1f_acde48001122row1_col6\" class=\"data row1 col6\" >No</td>\n",
       "                        <td id=\"T_bfece008_31c2_11ed_8b1f_acde48001122row1_col7\" class=\"data row1 col7\" >No</td>\n",
       "            </tr>\n",
       "            <tr>\n",
       "                        <th id=\"T_bfece008_31c2_11ed_8b1f_acde48001122level0_row2\" class=\"row_heading level0 row2\" >2</th>\n",
       "                        <td id=\"T_bfece008_31c2_11ed_8b1f_acde48001122row2_col0\" class=\"data row2 col0\" >3668-QPYBK</td>\n",
       "                        <td id=\"T_bfece008_31c2_11ed_8b1f_acde48001122row2_col1\" class=\"data row2 col1\" >DSL</td>\n",
       "                        <td id=\"T_bfece008_31c2_11ed_8b1f_acde48001122row2_col2\" class=\"data row2 col2\" >Yes</td>\n",
       "                        <td id=\"T_bfece008_31c2_11ed_8b1f_acde48001122row2_col3\" class=\"data row2 col3\" >Yes</td>\n",
       "                        <td id=\"T_bfece008_31c2_11ed_8b1f_acde48001122row2_col4\" class=\"data row2 col4\" >No</td>\n",
       "                        <td id=\"T_bfece008_31c2_11ed_8b1f_acde48001122row2_col5\" class=\"data row2 col5\" >No</td>\n",
       "                        <td id=\"T_bfece008_31c2_11ed_8b1f_acde48001122row2_col6\" class=\"data row2 col6\" >No</td>\n",
       "                        <td id=\"T_bfece008_31c2_11ed_8b1f_acde48001122row2_col7\" class=\"data row2 col7\" >No</td>\n",
       "            </tr>\n",
       "            <tr>\n",
       "                        <th id=\"T_bfece008_31c2_11ed_8b1f_acde48001122level0_row3\" class=\"row_heading level0 row3\" >3</th>\n",
       "                        <td id=\"T_bfece008_31c2_11ed_8b1f_acde48001122row3_col0\" class=\"data row3 col0\" >7795-CFOCW</td>\n",
       "                        <td id=\"T_bfece008_31c2_11ed_8b1f_acde48001122row3_col1\" class=\"data row3 col1\" >DSL</td>\n",
       "                        <td id=\"T_bfece008_31c2_11ed_8b1f_acde48001122row3_col2\" class=\"data row3 col2\" >Yes</td>\n",
       "                        <td id=\"T_bfece008_31c2_11ed_8b1f_acde48001122row3_col3\" class=\"data row3 col3\" >No</td>\n",
       "                        <td id=\"T_bfece008_31c2_11ed_8b1f_acde48001122row3_col4\" class=\"data row3 col4\" >Yes</td>\n",
       "                        <td id=\"T_bfece008_31c2_11ed_8b1f_acde48001122row3_col5\" class=\"data row3 col5\" >Yes</td>\n",
       "                        <td id=\"T_bfece008_31c2_11ed_8b1f_acde48001122row3_col6\" class=\"data row3 col6\" >No</td>\n",
       "                        <td id=\"T_bfece008_31c2_11ed_8b1f_acde48001122row3_col7\" class=\"data row3 col7\" >No</td>\n",
       "            </tr>\n",
       "            <tr>\n",
       "                        <th id=\"T_bfece008_31c2_11ed_8b1f_acde48001122level0_row4\" class=\"row_heading level0 row4\" >4</th>\n",
       "                        <td id=\"T_bfece008_31c2_11ed_8b1f_acde48001122row4_col0\" class=\"data row4 col0\" >9237-HQITU</td>\n",
       "                        <td id=\"T_bfece008_31c2_11ed_8b1f_acde48001122row4_col1\" class=\"data row4 col1\" >Fiber optic</td>\n",
       "                        <td id=\"T_bfece008_31c2_11ed_8b1f_acde48001122row4_col2\" class=\"data row4 col2\" >No</td>\n",
       "                        <td id=\"T_bfece008_31c2_11ed_8b1f_acde48001122row4_col3\" class=\"data row4 col3\" >No</td>\n",
       "                        <td id=\"T_bfece008_31c2_11ed_8b1f_acde48001122row4_col4\" class=\"data row4 col4\" >No</td>\n",
       "                        <td id=\"T_bfece008_31c2_11ed_8b1f_acde48001122row4_col5\" class=\"data row4 col5\" >No</td>\n",
       "                        <td id=\"T_bfece008_31c2_11ed_8b1f_acde48001122row4_col6\" class=\"data row4 col6\" >No</td>\n",
       "                        <td id=\"T_bfece008_31c2_11ed_8b1f_acde48001122row4_col7\" class=\"data row4 col7\" >No</td>\n",
       "            </tr>\n",
       "    </tbody></table>"
      ],
      "text/plain": [
       "<pandas.io.formats.style.Styler at 0x7fd3ec85ecf8>"
      ]
     },
     "metadata": {},
     "output_type": "display_data"
    },
    {
     "data": {
      "text/html": [
       "<style  type=\"text/css\" >\n",
       "</style><table id=\"T_bfed9494_31c2_11ed_84ff_acde48001122\" ><caption>phone</caption><thead>    <tr>        <th class=\"blank level0\" ></th>        <th class=\"col_heading level0 col0\" >customerID</th>        <th class=\"col_heading level0 col1\" >MultipleLines</th>    </tr></thead><tbody>\n",
       "                <tr>\n",
       "                        <th id=\"T_bfed9494_31c2_11ed_84ff_acde48001122level0_row0\" class=\"row_heading level0 row0\" >0</th>\n",
       "                        <td id=\"T_bfed9494_31c2_11ed_84ff_acde48001122row0_col0\" class=\"data row0 col0\" >5575-GNVDE</td>\n",
       "                        <td id=\"T_bfed9494_31c2_11ed_84ff_acde48001122row0_col1\" class=\"data row0 col1\" >No</td>\n",
       "            </tr>\n",
       "            <tr>\n",
       "                        <th id=\"T_bfed9494_31c2_11ed_84ff_acde48001122level0_row1\" class=\"row_heading level0 row1\" >1</th>\n",
       "                        <td id=\"T_bfed9494_31c2_11ed_84ff_acde48001122row1_col0\" class=\"data row1 col0\" >3668-QPYBK</td>\n",
       "                        <td id=\"T_bfed9494_31c2_11ed_84ff_acde48001122row1_col1\" class=\"data row1 col1\" >No</td>\n",
       "            </tr>\n",
       "            <tr>\n",
       "                        <th id=\"T_bfed9494_31c2_11ed_84ff_acde48001122level0_row2\" class=\"row_heading level0 row2\" >2</th>\n",
       "                        <td id=\"T_bfed9494_31c2_11ed_84ff_acde48001122row2_col0\" class=\"data row2 col0\" >9237-HQITU</td>\n",
       "                        <td id=\"T_bfed9494_31c2_11ed_84ff_acde48001122row2_col1\" class=\"data row2 col1\" >No</td>\n",
       "            </tr>\n",
       "            <tr>\n",
       "                        <th id=\"T_bfed9494_31c2_11ed_84ff_acde48001122level0_row3\" class=\"row_heading level0 row3\" >3</th>\n",
       "                        <td id=\"T_bfed9494_31c2_11ed_84ff_acde48001122row3_col0\" class=\"data row3 col0\" >9305-CDSKC</td>\n",
       "                        <td id=\"T_bfed9494_31c2_11ed_84ff_acde48001122row3_col1\" class=\"data row3 col1\" >Yes</td>\n",
       "            </tr>\n",
       "            <tr>\n",
       "                        <th id=\"T_bfed9494_31c2_11ed_84ff_acde48001122level0_row4\" class=\"row_heading level0 row4\" >4</th>\n",
       "                        <td id=\"T_bfed9494_31c2_11ed_84ff_acde48001122row4_col0\" class=\"data row4 col0\" >1452-KIOVK</td>\n",
       "                        <td id=\"T_bfed9494_31c2_11ed_84ff_acde48001122row4_col1\" class=\"data row4 col1\" >Yes</td>\n",
       "            </tr>\n",
       "    </tbody></table>"
      ],
      "text/plain": [
       "<pandas.io.formats.style.Styler at 0x7fd3e84e5ef0>"
      ]
     },
     "metadata": {},
     "output_type": "display_data"
    }
   ],
   "source": [
    "for df, name in zip(list_df, name_df):\n",
    "    display(df.head().style.set_caption(name))"
   ]
  },
  {
   "cell_type": "markdown",
   "id": "139225aa",
   "metadata": {},
   "source": [
    "Описание данных\n",
    "\n",
    "Таблица **contract** - информация о договоре:\n",
    "- *BeginDate* – дата начала пользования услугами\n",
    "- *EndDate* – дата окончания пользования услугами\n",
    "- *Type* – тип оплаты: ежемесячный, годовой и т.д.\n",
    "- *PaperlessBilling* – безналичный расчет\n",
    "- *PaymentMethod* – способ оплаты\n",
    "- *MonthlyCharges* – ежемесячные траты на услуги\n",
    "- *TotalCharges* – всего потрачено денег на услуги\n",
    "\n",
    "\n",
    "Таблица **personal** - персональные данные клиента:\n",
    "- *Gender* - пол\n",
    "- *Dependents* – наличие иждивенцев\n",
    "- *Senior* Citizen – наличие пенсионного статуса по возрасту\n",
    "- *Partner* – наличие супруга\n",
    "\n",
    "\n",
    "Таблица **internet** — информация об интернет-услугах:\n",
    "- *InternetService* - тип интернет подключения\n",
    "- *OnlineSecurity* - наличие услуги блокировки небезопасных сайтов\n",
    "- *OnlineBackup* - наличие услуги облачного хранилища файлов для резервного копирования данных \n",
    "- *DeviceProtection* - наличие антивируса\n",
    "- *TechSupport* - наличие выделенной линия технической поддержки\n",
    "- *StreamingTV* - наличие стримингового телевидения \n",
    "- *StreamingMovies* - наличие каталога фильмов\n",
    "\n",
    "\n",
    "Таблица **phone** — информация об услугах телефонии:\n",
    "- *MultipleLines* – наличие возможности ведения параллельных линий во время звонка"
   ]
  },
  {
   "cell_type": "markdown",
   "id": "970cc866",
   "metadata": {},
   "source": [
    "### Переименование столбцов"
   ]
  },
  {
   "cell_type": "markdown",
   "id": "e85ad172",
   "metadata": {},
   "source": [
    "Переименуем столбцы, чтобы они были в snake_case"
   ]
  },
  {
   "cell_type": "code",
   "execution_count": 5,
   "id": "8f0b5c21",
   "metadata": {
    "scrolled": true
   },
   "outputs": [],
   "source": [
    "for df in list_df:\n",
    "    df.columns = [x.lower() for x in df.columns]"
   ]
  },
  {
   "cell_type": "code",
   "execution_count": 6,
   "id": "bfec4e25",
   "metadata": {
    "scrolled": true
   },
   "outputs": [
    {
     "data": {
      "text/plain": [
       "Index(['customerid', 'multiplelines'], dtype='object')"
      ]
     },
     "execution_count": 6,
     "metadata": {},
     "output_type": "execute_result"
    }
   ],
   "source": [
    "df.columns"
   ]
  },
  {
   "cell_type": "code",
   "execution_count": 7,
   "id": "6ace32de",
   "metadata": {
    "scrolled": true
   },
   "outputs": [
    {
     "data": {
      "text/plain": [
       "Index(['customerid', 'begindate', 'enddate', 'type', 'paperlessbilling',\n",
       "       'paymentmethod', 'monthlycharges', 'totalcharges'],\n",
       "      dtype='object')"
      ]
     },
     "execution_count": 7,
     "metadata": {},
     "output_type": "execute_result"
    }
   ],
   "source": [
    "contract.columns"
   ]
  },
  {
   "cell_type": "code",
   "execution_count": 8,
   "id": "a4cd1706",
   "metadata": {
    "scrolled": true
   },
   "outputs": [],
   "source": [
    "contract.columns = ['customer_id', 'begin_date', 'end_date', 'type', 'paperless_billing',\n",
    "                    'payment_method', 'monthly_charges', 'total_charges']"
   ]
  },
  {
   "cell_type": "code",
   "execution_count": 9,
   "id": "93200d99",
   "metadata": {
    "scrolled": true
   },
   "outputs": [
    {
     "data": {
      "text/plain": [
       "Index(['customerid', 'gender', 'seniorcitizen', 'partner', 'dependents'], dtype='object')"
      ]
     },
     "execution_count": 9,
     "metadata": {},
     "output_type": "execute_result"
    }
   ],
   "source": [
    "personal.columns"
   ]
  },
  {
   "cell_type": "code",
   "execution_count": 10,
   "id": "4be935b7",
   "metadata": {
    "scrolled": true
   },
   "outputs": [],
   "source": [
    "personal.columns = ['customer_id', 'gender',\n",
    "                    'senior_citizen', 'partner', 'dependents']"
   ]
  },
  {
   "cell_type": "code",
   "execution_count": 11,
   "id": "1ccf4ced",
   "metadata": {
    "scrolled": true
   },
   "outputs": [
    {
     "data": {
      "text/plain": [
       "Index(['customerid', 'internetservice', 'onlinesecurity', 'onlinebackup',\n",
       "       'deviceprotection', 'techsupport', 'streamingtv', 'streamingmovies'],\n",
       "      dtype='object')"
      ]
     },
     "execution_count": 11,
     "metadata": {},
     "output_type": "execute_result"
    }
   ],
   "source": [
    "internet.columns"
   ]
  },
  {
   "cell_type": "code",
   "execution_count": 12,
   "id": "4f3215f0",
   "metadata": {
    "scrolled": true
   },
   "outputs": [],
   "source": [
    "internet.columns = ['customer_id', 'internet_service', 'online_security', 'online_backup',\n",
    "                    'device_protection', 'tech_support', 'streaming_tv', 'streaming_movies']"
   ]
  },
  {
   "cell_type": "code",
   "execution_count": 13,
   "id": "af664daf",
   "metadata": {
    "scrolled": true
   },
   "outputs": [
    {
     "data": {
      "text/plain": [
       "Index(['customerid', 'multiplelines'], dtype='object')"
      ]
     },
     "execution_count": 13,
     "metadata": {},
     "output_type": "execute_result"
    }
   ],
   "source": [
    "phone.columns"
   ]
  },
  {
   "cell_type": "code",
   "execution_count": 14,
   "id": "597cdb6d",
   "metadata": {
    "scrolled": true
   },
   "outputs": [],
   "source": [
    "phone.columns = ['customer_id', 'multiple_lines']"
   ]
  },
  {
   "cell_type": "markdown",
   "metadata": {},
   "source": [
    "Столбцы переименовали"
   ]
  },
  {
   "cell_type": "markdown",
   "id": "2b18fb63",
   "metadata": {},
   "source": [
    "### Проверка качества данных и приведение типов"
   ]
  },
  {
   "cell_type": "markdown",
   "id": "081d382a",
   "metadata": {},
   "source": [
    "Проверим типы данных у каждого датафрейма"
   ]
  },
  {
   "cell_type": "code",
   "execution_count": 15,
   "id": "4dc8c042",
   "metadata": {
    "scrolled": false
   },
   "outputs": [
    {
     "name": "stdout",
     "output_type": "stream",
     "text": [
      "==============CONTRACT==============\n",
      "<class 'pandas.core.frame.DataFrame'>\n",
      "RangeIndex: 7043 entries, 0 to 7042\n",
      "Data columns (total 8 columns):\n",
      " #   Column             Non-Null Count  Dtype  \n",
      "---  ------             --------------  -----  \n",
      " 0   customer_id        7043 non-null   object \n",
      " 1   begin_date         7043 non-null   object \n",
      " 2   end_date           7043 non-null   object \n",
      " 3   type               7043 non-null   object \n",
      " 4   paperless_billing  7043 non-null   object \n",
      " 5   payment_method     7043 non-null   object \n",
      " 6   monthly_charges    7043 non-null   float64\n",
      " 7   total_charges      7043 non-null   object \n",
      "dtypes: float64(1), object(7)\n",
      "memory usage: 440.3+ KB\n"
     ]
    },
    {
     "data": {
      "text/plain": [
       "None"
      ]
     },
     "metadata": {},
     "output_type": "display_data"
    },
    {
     "name": "stdout",
     "output_type": "stream",
     "text": [
      "\n",
      "==============PERSONAL==============\n",
      "<class 'pandas.core.frame.DataFrame'>\n",
      "RangeIndex: 7043 entries, 0 to 7042\n",
      "Data columns (total 5 columns):\n",
      " #   Column          Non-Null Count  Dtype \n",
      "---  ------          --------------  ----- \n",
      " 0   customer_id     7043 non-null   object\n",
      " 1   gender          7043 non-null   object\n",
      " 2   senior_citizen  7043 non-null   int64 \n",
      " 3   partner         7043 non-null   object\n",
      " 4   dependents      7043 non-null   object\n",
      "dtypes: int64(1), object(4)\n",
      "memory usage: 275.2+ KB\n"
     ]
    },
    {
     "data": {
      "text/plain": [
       "None"
      ]
     },
     "metadata": {},
     "output_type": "display_data"
    },
    {
     "name": "stdout",
     "output_type": "stream",
     "text": [
      "\n",
      "==============INTERNET==============\n",
      "<class 'pandas.core.frame.DataFrame'>\n",
      "RangeIndex: 5517 entries, 0 to 5516\n",
      "Data columns (total 8 columns):\n",
      " #   Column             Non-Null Count  Dtype \n",
      "---  ------             --------------  ----- \n",
      " 0   customer_id        5517 non-null   object\n",
      " 1   internet_service   5517 non-null   object\n",
      " 2   online_security    5517 non-null   object\n",
      " 3   online_backup      5517 non-null   object\n",
      " 4   device_protection  5517 non-null   object\n",
      " 5   tech_support       5517 non-null   object\n",
      " 6   streaming_tv       5517 non-null   object\n",
      " 7   streaming_movies   5517 non-null   object\n",
      "dtypes: object(8)\n",
      "memory usage: 344.9+ KB\n"
     ]
    },
    {
     "data": {
      "text/plain": [
       "None"
      ]
     },
     "metadata": {},
     "output_type": "display_data"
    },
    {
     "name": "stdout",
     "output_type": "stream",
     "text": [
      "\n",
      "==============PHONE==============\n",
      "<class 'pandas.core.frame.DataFrame'>\n",
      "RangeIndex: 6361 entries, 0 to 6360\n",
      "Data columns (total 2 columns):\n",
      " #   Column          Non-Null Count  Dtype \n",
      "---  ------          --------------  ----- \n",
      " 0   customer_id     6361 non-null   object\n",
      " 1   multiple_lines  6361 non-null   object\n",
      "dtypes: object(2)\n",
      "memory usage: 99.5+ KB\n"
     ]
    },
    {
     "data": {
      "text/plain": [
       "None"
      ]
     },
     "metadata": {},
     "output_type": "display_data"
    },
    {
     "name": "stdout",
     "output_type": "stream",
     "text": [
      "\n"
     ]
    }
   ],
   "source": [
    "for df, name in zip(list_df, name_df):\n",
    "    print(f'=============={name.upper()}==============')\n",
    "    display(df.info())\n",
    "    print()"
   ]
  },
  {
   "cell_type": "markdown",
   "id": "6f07f251",
   "metadata": {},
   "source": [
    "Посмотрим на уникальные значения колонок"
   ]
  },
  {
   "cell_type": "code",
   "execution_count": 16,
   "id": "fa8ad016",
   "metadata": {
    "scrolled": false
   },
   "outputs": [
    {
     "name": "stdout",
     "output_type": "stream",
     "text": [
      "==============customer_id==============\n",
      "['7590-VHVEG' '5575-GNVDE' '3668-QPYBK' ... '4801-JZAZL' '8361-LTMKD'\n",
      " '3186-AJIEK']\n",
      "\n",
      "==============begin_date==============\n",
      "['2020-01-01' '2017-04-01' '2019-10-01' '2016-05-01' '2019-09-01'\n",
      " '2019-03-01' '2018-04-01' '2019-04-01' '2017-07-01' '2014-12-01'\n",
      " '2019-01-01' '2018-10-01' '2015-04-01' '2015-09-01' '2018-01-01'\n",
      " '2014-05-01' '2015-10-01' '2014-03-01' '2018-05-01' '2019-11-01'\n",
      " '2019-02-01' '2016-01-01' '2017-08-01' '2015-12-01' '2014-02-01'\n",
      " '2018-06-01' '2019-12-01' '2017-11-01' '2019-06-01' '2016-04-01'\n",
      " '2017-02-01' '2018-12-01' '2014-04-01' '2018-09-01' '2014-11-01'\n",
      " '2016-07-01' '2015-02-01' '2018-07-01' '2014-08-01' '2016-03-01'\n",
      " '2018-08-01' '2014-10-01' '2015-06-01' '2016-08-01' '2019-05-01'\n",
      " '2017-03-01' '2016-02-01' '2017-09-01' '2014-09-01' '2017-12-01'\n",
      " '2016-12-01' '2017-06-01' '2015-05-01' '2016-10-01' '2016-09-01'\n",
      " '2019-08-01' '2019-07-01' '2017-05-01' '2017-10-01' '2014-07-01'\n",
      " '2018-03-01' '2015-01-01' '2018-11-01' '2015-03-01' '2018-02-01'\n",
      " '2016-06-01' '2015-08-01' '2015-11-01' '2014-06-01' '2017-01-01'\n",
      " '2015-07-01' '2020-02-01' '2016-11-01' '2013-11-01' '2014-01-01'\n",
      " '2013-10-01' '2013-12-01']\n",
      "\n",
      "==============end_date==============\n",
      "['No' '2019-12-01 00:00:00' '2019-11-01 00:00:00' '2019-10-01 00:00:00'\n",
      " '2020-01-01 00:00:00']\n",
      "\n",
      "==============type==============\n",
      "['Month-to-month' 'One year' 'Two year']\n",
      "\n",
      "==============paperless_billing==============\n",
      "['Yes' 'No']\n",
      "\n",
      "==============payment_method==============\n",
      "['Electronic check' 'Mailed check' 'Bank transfer (automatic)'\n",
      " 'Credit card (automatic)']\n",
      "\n",
      "==============monthly_charges==============\n",
      "[29.85 56.95 53.85 ... 63.1  44.2  78.7 ]\n",
      "\n",
      "==============total_charges==============\n",
      "['29.85' '1889.5' '108.15' ... '346.45' '306.6' '6844.5']\n",
      "\n"
     ]
    }
   ],
   "source": [
    "for column in contract.columns:\n",
    "    print(f'=============={column}==============')\n",
    "    print(contract[column].unique())\n",
    "    print()"
   ]
  },
  {
   "cell_type": "markdown",
   "id": "70f05cd1",
   "metadata": {},
   "source": [
    "- Преобразуем типы в contracts"
   ]
  },
  {
   "cell_type": "markdown",
   "id": "7798abff",
   "metadata": {},
   "source": [
    "1. end_date -> datetime64[ns]"
   ]
  },
  {
   "cell_type": "code",
   "execution_count": 17,
   "id": "2ae2d5c4",
   "metadata": {
    "scrolled": true
   },
   "outputs": [],
   "source": [
    "contract['end_date'] = contract['end_date'].replace(\n",
    "    'No', '2020-02-01 00:00:00')"
   ]
  },
  {
   "cell_type": "code",
   "execution_count": 18,
   "id": "a22455ac",
   "metadata": {
    "scrolled": true
   },
   "outputs": [
    {
     "data": {
      "text/plain": [
       "array(['2020-02-01 00:00:00', '2019-12-01 00:00:00',\n",
       "       '2019-11-01 00:00:00', '2019-10-01 00:00:00',\n",
       "       '2020-01-01 00:00:00'], dtype=object)"
      ]
     },
     "execution_count": 18,
     "metadata": {},
     "output_type": "execute_result"
    }
   ],
   "source": [
    "contract['end_date'].unique()"
   ]
  },
  {
   "cell_type": "code",
   "execution_count": 19,
   "id": "06de97c6",
   "metadata": {
    "scrolled": true
   },
   "outputs": [],
   "source": [
    "contract['end_date'] = pd.to_datetime(contract[\"end_date\"])"
   ]
  },
  {
   "cell_type": "markdown",
   "id": "d54bd1bd",
   "metadata": {},
   "source": [
    "2. begin_date -> datetime64[ns] "
   ]
  },
  {
   "cell_type": "code",
   "execution_count": 20,
   "id": "b737403f",
   "metadata": {
    "scrolled": true
   },
   "outputs": [],
   "source": [
    "contract['begin_date'] = pd.to_datetime(contract[\"begin_date\"])"
   ]
  },
  {
   "cell_type": "markdown",
   "id": "6c140f67",
   "metadata": {},
   "source": [
    "3. paperless_billing -> Yes в 1, No в 0, т.е. int"
   ]
  },
  {
   "cell_type": "code",
   "execution_count": 21,
   "id": "4a03a8e4",
   "metadata": {
    "scrolled": true
   },
   "outputs": [],
   "source": [
    "contract['paperless_billing'] = contract['paperless_billing'].map({\n",
    "                                                                  'Yes': 1, 'No': 0})"
   ]
  },
  {
   "cell_type": "markdown",
   "id": "5efc8939",
   "metadata": {},
   "source": [
    "4. total_charges -> float64"
   ]
  },
  {
   "cell_type": "code",
   "execution_count": 22,
   "id": "75b4a511",
   "metadata": {
    "scrolled": true
   },
   "outputs": [
    {
     "data": {
      "text/plain": [
       "936           \n",
       "3826          \n",
       "4380          \n",
       "753           \n",
       "5218          \n",
       "         ...  \n",
       "6646    997.75\n",
       "5598     998.1\n",
       "3686    999.45\n",
       "3353     999.8\n",
       "2845     999.9\n",
       "Name: total_charges, Length: 7043, dtype: object"
      ]
     },
     "execution_count": 22,
     "metadata": {},
     "output_type": "execute_result"
    }
   ],
   "source": [
    "contract['total_charges'].sort_values()"
   ]
  },
  {
   "cell_type": "code",
   "execution_count": 23,
   "id": "1b7b46c9",
   "metadata": {
    "scrolled": true
   },
   "outputs": [],
   "source": [
    "contract['total_charges'] = pd.to_numeric(\n",
    "    contract['total_charges'], errors='coerce')"
   ]
  },
  {
   "cell_type": "markdown",
   "id": "44824dbc",
   "metadata": {},
   "source": [
    "- Преобразуем типы в personal"
   ]
  },
  {
   "cell_type": "code",
   "execution_count": 24,
   "id": "4fa8d006",
   "metadata": {
    "scrolled": true
   },
   "outputs": [
    {
     "name": "stdout",
     "output_type": "stream",
     "text": [
      "<class 'pandas.core.frame.DataFrame'>\n",
      "RangeIndex: 7043 entries, 0 to 7042\n",
      "Data columns (total 5 columns):\n",
      " #   Column          Non-Null Count  Dtype \n",
      "---  ------          --------------  ----- \n",
      " 0   customer_id     7043 non-null   object\n",
      " 1   gender          7043 non-null   object\n",
      " 2   senior_citizen  7043 non-null   int64 \n",
      " 3   partner         7043 non-null   object\n",
      " 4   dependents      7043 non-null   object\n",
      "dtypes: int64(1), object(4)\n",
      "memory usage: 275.2+ KB\n"
     ]
    }
   ],
   "source": [
    "personal.info()"
   ]
  },
  {
   "cell_type": "code",
   "execution_count": 25,
   "id": "409a05a0",
   "metadata": {
    "scrolled": true
   },
   "outputs": [
    {
     "name": "stdout",
     "output_type": "stream",
     "text": [
      "==============customer_id==============\n",
      "['7590-VHVEG' '5575-GNVDE' '3668-QPYBK' ... '4801-JZAZL' '8361-LTMKD'\n",
      " '3186-AJIEK']\n",
      "\n",
      "==============gender==============\n",
      "['Female' 'Male']\n",
      "\n",
      "==============senior_citizen==============\n",
      "[0 1]\n",
      "\n",
      "==============partner==============\n",
      "['Yes' 'No']\n",
      "\n",
      "==============dependents==============\n",
      "['No' 'Yes']\n",
      "\n"
     ]
    }
   ],
   "source": [
    "for column in personal.columns:\n",
    "    print(f'=============={column}==============')\n",
    "    print(personal[column].unique())\n",
    "    print()"
   ]
  },
  {
   "cell_type": "markdown",
   "id": "aa920638",
   "metadata": {},
   "source": [
    "1. gender -> Male в 1, Female в 0, т.е. int\n",
    "2. partner -> Yes в 1, No в 0, т.е. int\n",
    "3. dependents -> Yes в 1, No в 0, т.е. int"
   ]
  },
  {
   "cell_type": "code",
   "execution_count": 26,
   "id": "669663b9",
   "metadata": {
    "scrolled": true
   },
   "outputs": [],
   "source": [
    "personal['gender'] = personal['gender'].map({'Male': 1, 'Female': 0})\n",
    "personal['partner'] = personal['partner'].map({'Yes': 1, 'No': 0})\n",
    "personal['dependents'] = personal['dependents'].map({'Yes': 1, 'No': 0})"
   ]
  },
  {
   "cell_type": "code",
   "execution_count": 27,
   "id": "4258f459",
   "metadata": {
    "scrolled": true
   },
   "outputs": [
    {
     "name": "stdout",
     "output_type": "stream",
     "text": [
      "<class 'pandas.core.frame.DataFrame'>\n",
      "RangeIndex: 7043 entries, 0 to 7042\n",
      "Data columns (total 5 columns):\n",
      " #   Column          Non-Null Count  Dtype \n",
      "---  ------          --------------  ----- \n",
      " 0   customer_id     7043 non-null   object\n",
      " 1   gender          7043 non-null   int64 \n",
      " 2   senior_citizen  7043 non-null   int64 \n",
      " 3   partner         7043 non-null   int64 \n",
      " 4   dependents      7043 non-null   int64 \n",
      "dtypes: int64(4), object(1)\n",
      "memory usage: 275.2+ KB\n"
     ]
    }
   ],
   "source": [
    "personal.info()"
   ]
  },
  {
   "cell_type": "markdown",
   "id": "19025246",
   "metadata": {},
   "source": [
    "- Преобразуем типы в internet"
   ]
  },
  {
   "cell_type": "code",
   "execution_count": 28,
   "id": "f5299547",
   "metadata": {
    "scrolled": true
   },
   "outputs": [
    {
     "name": "stdout",
     "output_type": "stream",
     "text": [
      "<class 'pandas.core.frame.DataFrame'>\n",
      "RangeIndex: 5517 entries, 0 to 5516\n",
      "Data columns (total 8 columns):\n",
      " #   Column             Non-Null Count  Dtype \n",
      "---  ------             --------------  ----- \n",
      " 0   customer_id        5517 non-null   object\n",
      " 1   internet_service   5517 non-null   object\n",
      " 2   online_security    5517 non-null   object\n",
      " 3   online_backup      5517 non-null   object\n",
      " 4   device_protection  5517 non-null   object\n",
      " 5   tech_support       5517 non-null   object\n",
      " 6   streaming_tv       5517 non-null   object\n",
      " 7   streaming_movies   5517 non-null   object\n",
      "dtypes: object(8)\n",
      "memory usage: 344.9+ KB\n"
     ]
    }
   ],
   "source": [
    "internet.info()"
   ]
  },
  {
   "cell_type": "code",
   "execution_count": 29,
   "id": "7ddb6a6d",
   "metadata": {
    "scrolled": false
   },
   "outputs": [
    {
     "name": "stdout",
     "output_type": "stream",
     "text": [
      "==============customer_id==============\n",
      "['7590-VHVEG' '5575-GNVDE' '3668-QPYBK' ... '4801-JZAZL' '8361-LTMKD'\n",
      " '3186-AJIEK']\n",
      "\n",
      "==============internet_service==============\n",
      "['DSL' 'Fiber optic']\n",
      "\n",
      "==============online_security==============\n",
      "['No' 'Yes']\n",
      "\n",
      "==============online_backup==============\n",
      "['Yes' 'No']\n",
      "\n",
      "==============device_protection==============\n",
      "['No' 'Yes']\n",
      "\n",
      "==============tech_support==============\n",
      "['No' 'Yes']\n",
      "\n",
      "==============streaming_tv==============\n",
      "['No' 'Yes']\n",
      "\n",
      "==============streaming_movies==============\n",
      "['No' 'Yes']\n",
      "\n"
     ]
    }
   ],
   "source": [
    "for column in internet.columns:\n",
    "    print(f'=============={column}==============')\n",
    "    print(internet[column].unique())\n",
    "    print()"
   ]
  },
  {
   "cell_type": "markdown",
   "id": "bba57dd0",
   "metadata": {},
   "source": [
    "Переведем столбцы, в которых содержатся Yes и No в int"
   ]
  },
  {
   "cell_type": "code",
   "execution_count": 30,
   "id": "201ee92c",
   "metadata": {
    "scrolled": true
   },
   "outputs": [],
   "source": [
    "column_to_int = ['online_security', 'online_backup', 'device_protection',\n",
    "                 'tech_support', 'streaming_tv', 'streaming_movies']\n",
    "for column in column_to_int:\n",
    "    internet[column] = internet[column].map({'Yes': 1, 'No': 0})"
   ]
  },
  {
   "cell_type": "code",
   "execution_count": 31,
   "id": "35633d02",
   "metadata": {
    "scrolled": true
   },
   "outputs": [
    {
     "name": "stdout",
     "output_type": "stream",
     "text": [
      "<class 'pandas.core.frame.DataFrame'>\n",
      "RangeIndex: 5517 entries, 0 to 5516\n",
      "Data columns (total 8 columns):\n",
      " #   Column             Non-Null Count  Dtype \n",
      "---  ------             --------------  ----- \n",
      " 0   customer_id        5517 non-null   object\n",
      " 1   internet_service   5517 non-null   object\n",
      " 2   online_security    5517 non-null   int64 \n",
      " 3   online_backup      5517 non-null   int64 \n",
      " 4   device_protection  5517 non-null   int64 \n",
      " 5   tech_support       5517 non-null   int64 \n",
      " 6   streaming_tv       5517 non-null   int64 \n",
      " 7   streaming_movies   5517 non-null   int64 \n",
      "dtypes: int64(6), object(2)\n",
      "memory usage: 344.9+ KB\n"
     ]
    }
   ],
   "source": [
    "internet.info()"
   ]
  },
  {
   "cell_type": "markdown",
   "id": "b0bd2c63",
   "metadata": {},
   "source": [
    "- Преобразуем типы в phone"
   ]
  },
  {
   "cell_type": "code",
   "execution_count": 32,
   "id": "a1462b18",
   "metadata": {
    "scrolled": true
   },
   "outputs": [
    {
     "name": "stdout",
     "output_type": "stream",
     "text": [
      "==============customer_id==============\n",
      "['5575-GNVDE' '3668-QPYBK' '9237-HQITU' ... '2234-XADUH' '8361-LTMKD'\n",
      " '3186-AJIEK']\n",
      "\n",
      "==============multiple_lines==============\n",
      "['No' 'Yes']\n",
      "\n"
     ]
    }
   ],
   "source": [
    "for column in phone.columns:\n",
    "    print(f'=============={column}==============')\n",
    "    print(phone[column].unique())\n",
    "    print()"
   ]
  },
  {
   "cell_type": "code",
   "execution_count": 33,
   "id": "8bd5352a",
   "metadata": {
    "scrolled": true
   },
   "outputs": [],
   "source": [
    "phone['multiple_lines'] = phone['multiple_lines'].map({'Yes': 1, 'No': 0})"
   ]
  },
  {
   "cell_type": "markdown",
   "id": "e1a5c7fc",
   "metadata": {},
   "source": [
    "### Добавление фич"
   ]
  },
  {
   "cell_type": "markdown",
   "id": "194f96e3",
   "metadata": {},
   "source": [
    "В contract с помощью столбца end_date выделим новую колонку is_active с признаком, в котором отсутствует либо присутствует дата end_date.\n",
    "\n",
    "Этот признак - target столбец, т.к. с помощью него можно понять остался клиент или нет."
   ]
  },
  {
   "cell_type": "code",
   "execution_count": 34,
   "id": "2e57a949",
   "metadata": {},
   "outputs": [],
   "source": [
    "def is_active(end_date):\n",
    "    if str(end_date) == '2020-02-01 00:00:00':\n",
    "        return 1\n",
    "    return 0"
   ]
  },
  {
   "cell_type": "code",
   "execution_count": 35,
   "id": "41d28d65",
   "metadata": {},
   "outputs": [],
   "source": [
    "contract['is_active'] = contract['end_date'].apply(is_active)"
   ]
  },
  {
   "cell_type": "code",
   "execution_count": 36,
   "id": "3067c890",
   "metadata": {},
   "outputs": [
    {
     "data": {
      "text/html": [
       "<div>\n",
       "<style scoped>\n",
       "    .dataframe tbody tr th:only-of-type {\n",
       "        vertical-align: middle;\n",
       "    }\n",
       "\n",
       "    .dataframe tbody tr th {\n",
       "        vertical-align: top;\n",
       "    }\n",
       "\n",
       "    .dataframe thead th {\n",
       "        text-align: right;\n",
       "    }\n",
       "</style>\n",
       "<table border=\"1\" class=\"dataframe\">\n",
       "  <thead>\n",
       "    <tr style=\"text-align: right;\">\n",
       "      <th></th>\n",
       "      <th>customer_id</th>\n",
       "      <th>begin_date</th>\n",
       "      <th>end_date</th>\n",
       "      <th>type</th>\n",
       "      <th>paperless_billing</th>\n",
       "      <th>payment_method</th>\n",
       "      <th>monthly_charges</th>\n",
       "      <th>total_charges</th>\n",
       "      <th>is_active</th>\n",
       "    </tr>\n",
       "  </thead>\n",
       "  <tbody>\n",
       "    <tr>\n",
       "      <th>0</th>\n",
       "      <td>7590-VHVEG</td>\n",
       "      <td>2020-01-01</td>\n",
       "      <td>2020-02-01</td>\n",
       "      <td>Month-to-month</td>\n",
       "      <td>1</td>\n",
       "      <td>Electronic check</td>\n",
       "      <td>29.85</td>\n",
       "      <td>29.85</td>\n",
       "      <td>1</td>\n",
       "    </tr>\n",
       "    <tr>\n",
       "      <th>1</th>\n",
       "      <td>5575-GNVDE</td>\n",
       "      <td>2017-04-01</td>\n",
       "      <td>2020-02-01</td>\n",
       "      <td>One year</td>\n",
       "      <td>0</td>\n",
       "      <td>Mailed check</td>\n",
       "      <td>56.95</td>\n",
       "      <td>1889.50</td>\n",
       "      <td>1</td>\n",
       "    </tr>\n",
       "    <tr>\n",
       "      <th>2</th>\n",
       "      <td>3668-QPYBK</td>\n",
       "      <td>2019-10-01</td>\n",
       "      <td>2019-12-01</td>\n",
       "      <td>Month-to-month</td>\n",
       "      <td>1</td>\n",
       "      <td>Mailed check</td>\n",
       "      <td>53.85</td>\n",
       "      <td>108.15</td>\n",
       "      <td>0</td>\n",
       "    </tr>\n",
       "    <tr>\n",
       "      <th>3</th>\n",
       "      <td>7795-CFOCW</td>\n",
       "      <td>2016-05-01</td>\n",
       "      <td>2020-02-01</td>\n",
       "      <td>One year</td>\n",
       "      <td>0</td>\n",
       "      <td>Bank transfer (automatic)</td>\n",
       "      <td>42.30</td>\n",
       "      <td>1840.75</td>\n",
       "      <td>1</td>\n",
       "    </tr>\n",
       "    <tr>\n",
       "      <th>4</th>\n",
       "      <td>9237-HQITU</td>\n",
       "      <td>2019-09-01</td>\n",
       "      <td>2019-11-01</td>\n",
       "      <td>Month-to-month</td>\n",
       "      <td>1</td>\n",
       "      <td>Electronic check</td>\n",
       "      <td>70.70</td>\n",
       "      <td>151.65</td>\n",
       "      <td>0</td>\n",
       "    </tr>\n",
       "  </tbody>\n",
       "</table>\n",
       "</div>"
      ],
      "text/plain": [
       "  customer_id begin_date   end_date            type  paperless_billing  \\\n",
       "0  7590-VHVEG 2020-01-01 2020-02-01  Month-to-month                  1   \n",
       "1  5575-GNVDE 2017-04-01 2020-02-01        One year                  0   \n",
       "2  3668-QPYBK 2019-10-01 2019-12-01  Month-to-month                  1   \n",
       "3  7795-CFOCW 2016-05-01 2020-02-01        One year                  0   \n",
       "4  9237-HQITU 2019-09-01 2019-11-01  Month-to-month                  1   \n",
       "\n",
       "              payment_method  monthly_charges  total_charges  is_active  \n",
       "0           Electronic check            29.85          29.85          1  \n",
       "1               Mailed check            56.95        1889.50          1  \n",
       "2               Mailed check            53.85         108.15          0  \n",
       "3  Bank transfer (automatic)            42.30        1840.75          1  \n",
       "4           Electronic check            70.70         151.65          0  "
      ]
     },
     "execution_count": 36,
     "metadata": {},
     "output_type": "execute_result"
    }
   ],
   "source": [
    "contract.head()"
   ]
  },
  {
   "cell_type": "markdown",
   "id": "f710aacf",
   "metadata": {},
   "source": [
    "### Работа с пропусками"
   ]
  },
  {
   "cell_type": "markdown",
   "id": "d2702866",
   "metadata": {},
   "source": [
    "- Рассмотрим пропуски в contract"
   ]
  },
  {
   "cell_type": "code",
   "execution_count": 37,
   "id": "da97aa0b",
   "metadata": {},
   "outputs": [
    {
     "data": {
      "text/html": [
       "<div>\n",
       "<style scoped>\n",
       "    .dataframe tbody tr th:only-of-type {\n",
       "        vertical-align: middle;\n",
       "    }\n",
       "\n",
       "    .dataframe tbody tr th {\n",
       "        vertical-align: top;\n",
       "    }\n",
       "\n",
       "    .dataframe thead th {\n",
       "        text-align: right;\n",
       "    }\n",
       "</style>\n",
       "<table border=\"1\" class=\"dataframe\">\n",
       "  <thead>\n",
       "    <tr style=\"text-align: right;\">\n",
       "      <th></th>\n",
       "      <th>customer_id</th>\n",
       "      <th>begin_date</th>\n",
       "      <th>end_date</th>\n",
       "      <th>type</th>\n",
       "      <th>paperless_billing</th>\n",
       "      <th>payment_method</th>\n",
       "      <th>monthly_charges</th>\n",
       "      <th>total_charges</th>\n",
       "      <th>is_active</th>\n",
       "    </tr>\n",
       "  </thead>\n",
       "  <tbody>\n",
       "    <tr>\n",
       "      <th>488</th>\n",
       "      <td>4472-LVYGI</td>\n",
       "      <td>2020-02-01</td>\n",
       "      <td>2020-02-01</td>\n",
       "      <td>Two year</td>\n",
       "      <td>1</td>\n",
       "      <td>Bank transfer (automatic)</td>\n",
       "      <td>52.55</td>\n",
       "      <td>NaN</td>\n",
       "      <td>1</td>\n",
       "    </tr>\n",
       "    <tr>\n",
       "      <th>753</th>\n",
       "      <td>3115-CZMZD</td>\n",
       "      <td>2020-02-01</td>\n",
       "      <td>2020-02-01</td>\n",
       "      <td>Two year</td>\n",
       "      <td>0</td>\n",
       "      <td>Mailed check</td>\n",
       "      <td>20.25</td>\n",
       "      <td>NaN</td>\n",
       "      <td>1</td>\n",
       "    </tr>\n",
       "    <tr>\n",
       "      <th>936</th>\n",
       "      <td>5709-LVOEQ</td>\n",
       "      <td>2020-02-01</td>\n",
       "      <td>2020-02-01</td>\n",
       "      <td>Two year</td>\n",
       "      <td>0</td>\n",
       "      <td>Mailed check</td>\n",
       "      <td>80.85</td>\n",
       "      <td>NaN</td>\n",
       "      <td>1</td>\n",
       "    </tr>\n",
       "    <tr>\n",
       "      <th>1082</th>\n",
       "      <td>4367-NUYAO</td>\n",
       "      <td>2020-02-01</td>\n",
       "      <td>2020-02-01</td>\n",
       "      <td>Two year</td>\n",
       "      <td>0</td>\n",
       "      <td>Mailed check</td>\n",
       "      <td>25.75</td>\n",
       "      <td>NaN</td>\n",
       "      <td>1</td>\n",
       "    </tr>\n",
       "    <tr>\n",
       "      <th>1340</th>\n",
       "      <td>1371-DWPAZ</td>\n",
       "      <td>2020-02-01</td>\n",
       "      <td>2020-02-01</td>\n",
       "      <td>Two year</td>\n",
       "      <td>0</td>\n",
       "      <td>Credit card (automatic)</td>\n",
       "      <td>56.05</td>\n",
       "      <td>NaN</td>\n",
       "      <td>1</td>\n",
       "    </tr>\n",
       "    <tr>\n",
       "      <th>3331</th>\n",
       "      <td>7644-OMVMY</td>\n",
       "      <td>2020-02-01</td>\n",
       "      <td>2020-02-01</td>\n",
       "      <td>Two year</td>\n",
       "      <td>0</td>\n",
       "      <td>Mailed check</td>\n",
       "      <td>19.85</td>\n",
       "      <td>NaN</td>\n",
       "      <td>1</td>\n",
       "    </tr>\n",
       "    <tr>\n",
       "      <th>3826</th>\n",
       "      <td>3213-VVOLG</td>\n",
       "      <td>2020-02-01</td>\n",
       "      <td>2020-02-01</td>\n",
       "      <td>Two year</td>\n",
       "      <td>0</td>\n",
       "      <td>Mailed check</td>\n",
       "      <td>25.35</td>\n",
       "      <td>NaN</td>\n",
       "      <td>1</td>\n",
       "    </tr>\n",
       "    <tr>\n",
       "      <th>4380</th>\n",
       "      <td>2520-SGTTA</td>\n",
       "      <td>2020-02-01</td>\n",
       "      <td>2020-02-01</td>\n",
       "      <td>Two year</td>\n",
       "      <td>0</td>\n",
       "      <td>Mailed check</td>\n",
       "      <td>20.00</td>\n",
       "      <td>NaN</td>\n",
       "      <td>1</td>\n",
       "    </tr>\n",
       "    <tr>\n",
       "      <th>5218</th>\n",
       "      <td>2923-ARZLG</td>\n",
       "      <td>2020-02-01</td>\n",
       "      <td>2020-02-01</td>\n",
       "      <td>One year</td>\n",
       "      <td>1</td>\n",
       "      <td>Mailed check</td>\n",
       "      <td>19.70</td>\n",
       "      <td>NaN</td>\n",
       "      <td>1</td>\n",
       "    </tr>\n",
       "    <tr>\n",
       "      <th>6670</th>\n",
       "      <td>4075-WKNIU</td>\n",
       "      <td>2020-02-01</td>\n",
       "      <td>2020-02-01</td>\n",
       "      <td>Two year</td>\n",
       "      <td>0</td>\n",
       "      <td>Mailed check</td>\n",
       "      <td>73.35</td>\n",
       "      <td>NaN</td>\n",
       "      <td>1</td>\n",
       "    </tr>\n",
       "    <tr>\n",
       "      <th>6754</th>\n",
       "      <td>2775-SEFEE</td>\n",
       "      <td>2020-02-01</td>\n",
       "      <td>2020-02-01</td>\n",
       "      <td>Two year</td>\n",
       "      <td>1</td>\n",
       "      <td>Bank transfer (automatic)</td>\n",
       "      <td>61.90</td>\n",
       "      <td>NaN</td>\n",
       "      <td>1</td>\n",
       "    </tr>\n",
       "  </tbody>\n",
       "</table>\n",
       "</div>"
      ],
      "text/plain": [
       "     customer_id begin_date   end_date      type  paperless_billing  \\\n",
       "488   4472-LVYGI 2020-02-01 2020-02-01  Two year                  1   \n",
       "753   3115-CZMZD 2020-02-01 2020-02-01  Two year                  0   \n",
       "936   5709-LVOEQ 2020-02-01 2020-02-01  Two year                  0   \n",
       "1082  4367-NUYAO 2020-02-01 2020-02-01  Two year                  0   \n",
       "1340  1371-DWPAZ 2020-02-01 2020-02-01  Two year                  0   \n",
       "3331  7644-OMVMY 2020-02-01 2020-02-01  Two year                  0   \n",
       "3826  3213-VVOLG 2020-02-01 2020-02-01  Two year                  0   \n",
       "4380  2520-SGTTA 2020-02-01 2020-02-01  Two year                  0   \n",
       "5218  2923-ARZLG 2020-02-01 2020-02-01  One year                  1   \n",
       "6670  4075-WKNIU 2020-02-01 2020-02-01  Two year                  0   \n",
       "6754  2775-SEFEE 2020-02-01 2020-02-01  Two year                  1   \n",
       "\n",
       "                 payment_method  monthly_charges  total_charges  is_active  \n",
       "488   Bank transfer (automatic)            52.55            NaN          1  \n",
       "753                Mailed check            20.25            NaN          1  \n",
       "936                Mailed check            80.85            NaN          1  \n",
       "1082               Mailed check            25.75            NaN          1  \n",
       "1340    Credit card (automatic)            56.05            NaN          1  \n",
       "3331               Mailed check            19.85            NaN          1  \n",
       "3826               Mailed check            25.35            NaN          1  \n",
       "4380               Mailed check            20.00            NaN          1  \n",
       "5218               Mailed check            19.70            NaN          1  \n",
       "6670               Mailed check            73.35            NaN          1  \n",
       "6754  Bank transfer (automatic)            61.90            NaN          1  "
      ]
     },
     "execution_count": 37,
     "metadata": {},
     "output_type": "execute_result"
    }
   ],
   "source": [
    "contract[contract.isnull().any(1)]"
   ]
  },
  {
   "cell_type": "markdown",
   "id": "ebb425dd",
   "metadata": {},
   "source": [
    "Построим гистограмму по колонку total_charges"
   ]
  },
  {
   "cell_type": "code",
   "execution_count": 38,
   "id": "349d7f59",
   "metadata": {
    "scrolled": true
   },
   "outputs": [],
   "source": [
    "sns.set(rc={'figure.figsize': (15, 7)})"
   ]
  },
  {
   "cell_type": "code",
   "execution_count": 39,
   "id": "e45cb2e8",
   "metadata": {
    "scrolled": true
   },
   "outputs": [
    {
     "data": {
      "text/plain": [
       "[Text(0.5, 1.0, 'Частота значений по колонке total_charges')]"
      ]
     },
     "execution_count": 39,
     "metadata": {},
     "output_type": "execute_result"
    },
    {
     "data": {
      "image/png": "[encoded data removed]",
      "text/plain": [
       "<Figure size 1080x504 with 1 Axes>"
      ]
     },
     "metadata": {},
     "output_type": "display_data"
    }
   ],
   "source": [
    "sns.histplot(data=contract, x=\"total_charges\", bins='auto').set(\n",
    "    title='Частота значений по колонке total_charges')"
   ]
  },
  {
   "cell_type": "markdown",
   "id": "350efa39",
   "metadata": {},
   "source": [
    "Заменим пропуски в столбце total_charges на значение 0, т.к. неизвестно с чем связан данный столбец"
   ]
  },
  {
   "cell_type": "code",
   "execution_count": 40,
   "id": "b7b7fb8a",
   "metadata": {
    "scrolled": true
   },
   "outputs": [],
   "source": [
    "contract['total_charges'] = contract['total_charges'].fillna(0)"
   ]
  },
  {
   "cell_type": "code",
   "execution_count": 41,
   "id": "9bb93560",
   "metadata": {
    "scrolled": true
   },
   "outputs": [
    {
     "data": {
      "text/html": [
       "<div>\n",
       "<style scoped>\n",
       "    .dataframe tbody tr th:only-of-type {\n",
       "        vertical-align: middle;\n",
       "    }\n",
       "\n",
       "    .dataframe tbody tr th {\n",
       "        vertical-align: top;\n",
       "    }\n",
       "\n",
       "    .dataframe thead th {\n",
       "        text-align: right;\n",
       "    }\n",
       "</style>\n",
       "<table border=\"1\" class=\"dataframe\">\n",
       "  <thead>\n",
       "    <tr style=\"text-align: right;\">\n",
       "      <th></th>\n",
       "      <th>customer_id</th>\n",
       "      <th>begin_date</th>\n",
       "      <th>end_date</th>\n",
       "      <th>type</th>\n",
       "      <th>paperless_billing</th>\n",
       "      <th>payment_method</th>\n",
       "      <th>monthly_charges</th>\n",
       "      <th>total_charges</th>\n",
       "      <th>is_active</th>\n",
       "    </tr>\n",
       "  </thead>\n",
       "  <tbody>\n",
       "  </tbody>\n",
       "</table>\n",
       "</div>"
      ],
      "text/plain": [
       "Empty DataFrame\n",
       "Columns: [customer_id, begin_date, end_date, type, paperless_billing, payment_method, monthly_charges, total_charges, is_active]\n",
       "Index: []"
      ]
     },
     "execution_count": 41,
     "metadata": {},
     "output_type": "execute_result"
    }
   ],
   "source": [
    "contract[contract.isnull().any(1)]"
   ]
  },
  {
   "cell_type": "markdown",
   "id": "2bf8cf1d",
   "metadata": {},
   "source": [
    "Пропуски в contracts обработали"
   ]
  },
  {
   "cell_type": "markdown",
   "id": "f344d8ff",
   "metadata": {},
   "source": [
    "- Рассмотрим пропуски в остальных датафреймах"
   ]
  },
  {
   "cell_type": "code",
   "execution_count": 42,
   "id": "4b06d0f0",
   "metadata": {
    "scrolled": true
   },
   "outputs": [
    {
     "data": {
      "text/html": [
       "<div>\n",
       "<style scoped>\n",
       "    .dataframe tbody tr th:only-of-type {\n",
       "        vertical-align: middle;\n",
       "    }\n",
       "\n",
       "    .dataframe tbody tr th {\n",
       "        vertical-align: top;\n",
       "    }\n",
       "\n",
       "    .dataframe thead th {\n",
       "        text-align: right;\n",
       "    }\n",
       "</style>\n",
       "<table border=\"1\" class=\"dataframe\">\n",
       "  <thead>\n",
       "    <tr style=\"text-align: right;\">\n",
       "      <th></th>\n",
       "      <th>customer_id</th>\n",
       "      <th>gender</th>\n",
       "      <th>senior_citizen</th>\n",
       "      <th>partner</th>\n",
       "      <th>dependents</th>\n",
       "    </tr>\n",
       "  </thead>\n",
       "  <tbody>\n",
       "  </tbody>\n",
       "</table>\n",
       "</div>"
      ],
      "text/plain": [
       "Empty DataFrame\n",
       "Columns: [customer_id, gender, senior_citizen, partner, dependents]\n",
       "Index: []"
      ]
     },
     "execution_count": 42,
     "metadata": {},
     "output_type": "execute_result"
    }
   ],
   "source": [
    "personal[personal.isnull().any(1)]"
   ]
  },
  {
   "cell_type": "code",
   "execution_count": 43,
   "id": "d3d6188d",
   "metadata": {},
   "outputs": [
    {
     "data": {
      "text/html": [
       "<div>\n",
       "<style scoped>\n",
       "    .dataframe tbody tr th:only-of-type {\n",
       "        vertical-align: middle;\n",
       "    }\n",
       "\n",
       "    .dataframe tbody tr th {\n",
       "        vertical-align: top;\n",
       "    }\n",
       "\n",
       "    .dataframe thead th {\n",
       "        text-align: right;\n",
       "    }\n",
       "</style>\n",
       "<table border=\"1\" class=\"dataframe\">\n",
       "  <thead>\n",
       "    <tr style=\"text-align: right;\">\n",
       "      <th></th>\n",
       "      <th>customer_id</th>\n",
       "      <th>internet_service</th>\n",
       "      <th>online_security</th>\n",
       "      <th>online_backup</th>\n",
       "      <th>device_protection</th>\n",
       "      <th>tech_support</th>\n",
       "      <th>streaming_tv</th>\n",
       "      <th>streaming_movies</th>\n",
       "    </tr>\n",
       "  </thead>\n",
       "  <tbody>\n",
       "  </tbody>\n",
       "</table>\n",
       "</div>"
      ],
      "text/plain": [
       "Empty DataFrame\n",
       "Columns: [customer_id, internet_service, online_security, online_backup, device_protection, tech_support, streaming_tv, streaming_movies]\n",
       "Index: []"
      ]
     },
     "execution_count": 43,
     "metadata": {},
     "output_type": "execute_result"
    }
   ],
   "source": [
    "internet[internet.isnull().any(1)]"
   ]
  },
  {
   "cell_type": "code",
   "execution_count": 44,
   "id": "4f47826a",
   "metadata": {},
   "outputs": [
    {
     "data": {
      "text/html": [
       "<div>\n",
       "<style scoped>\n",
       "    .dataframe tbody tr th:only-of-type {\n",
       "        vertical-align: middle;\n",
       "    }\n",
       "\n",
       "    .dataframe tbody tr th {\n",
       "        vertical-align: top;\n",
       "    }\n",
       "\n",
       "    .dataframe thead th {\n",
       "        text-align: right;\n",
       "    }\n",
       "</style>\n",
       "<table border=\"1\" class=\"dataframe\">\n",
       "  <thead>\n",
       "    <tr style=\"text-align: right;\">\n",
       "      <th></th>\n",
       "      <th>customer_id</th>\n",
       "      <th>multiple_lines</th>\n",
       "    </tr>\n",
       "  </thead>\n",
       "  <tbody>\n",
       "  </tbody>\n",
       "</table>\n",
       "</div>"
      ],
      "text/plain": [
       "Empty DataFrame\n",
       "Columns: [customer_id, multiple_lines]\n",
       "Index: []"
      ]
     },
     "execution_count": 44,
     "metadata": {},
     "output_type": "execute_result"
    }
   ],
   "source": [
    "phone[phone.isnull().any(1)]"
   ]
  },
  {
   "cell_type": "markdown",
   "id": "fa16af9f",
   "metadata": {},
   "source": [
    "В остальных датафреймах пропуски отсутствуют"
   ]
  },
  {
   "cell_type": "markdown",
   "id": "02e99186",
   "metadata": {},
   "source": [
    "###  Проверка на дубликаты"
   ]
  },
  {
   "cell_type": "code",
   "execution_count": 45,
   "id": "4ea4ae88",
   "metadata": {},
   "outputs": [
    {
     "name": "stdout",
     "output_type": "stream",
     "text": [
      "В contract дубликаты отсутствуют\n",
      "В personal дубликаты отсутствуют\n",
      "В internet дубликаты отсутствуют\n",
      "В phone дубликаты отсутствуют\n"
     ]
    }
   ],
   "source": [
    "for df, name in zip(list_df, name_df):\n",
    "    if df[df.duplicated()].count().sum() == 0:\n",
    "        print(f'В {name} дубликаты отсутствуют')\n",
    "    else:\n",
    "        print(f'В {name} дубликаты присутствуют')"
   ]
  },
  {
   "cell_type": "markdown",
   "id": "addb1d3c",
   "metadata": {},
   "source": [
    "Явные дубликаты отсутствуют"
   ]
  },
  {
   "cell_type": "markdown",
   "id": "f56cc1e3",
   "metadata": {},
   "source": [
    "### Демонстрация данных"
   ]
  },
  {
   "cell_type": "markdown",
   "id": "63bc1e0e",
   "metadata": {},
   "source": [
    "- Рассмотрим contract"
   ]
  },
  {
   "cell_type": "code",
   "execution_count": 46,
   "id": "2124ad95",
   "metadata": {},
   "outputs": [],
   "source": [
    "def displot_columns(df, list_columns):\n",
    "    for column in list_columns:\n",
    "        sns.displot(df[column], bins='auto').set(\n",
    "            title=f'displot по колонке {column}')\n",
    "        plt.show()"
   ]
  },
  {
   "cell_type": "code",
   "execution_count": 47,
   "id": "0d9fb179",
   "metadata": {},
   "outputs": [
    {
     "data": {
      "text/html": [
       "<div>\n",
       "<style scoped>\n",
       "    .dataframe tbody tr th:only-of-type {\n",
       "        vertical-align: middle;\n",
       "    }\n",
       "\n",
       "    .dataframe tbody tr th {\n",
       "        vertical-align: top;\n",
       "    }\n",
       "\n",
       "    .dataframe thead th {\n",
       "        text-align: right;\n",
       "    }\n",
       "</style>\n",
       "<table border=\"1\" class=\"dataframe\">\n",
       "  <thead>\n",
       "    <tr style=\"text-align: right;\">\n",
       "      <th></th>\n",
       "      <th>customer_id</th>\n",
       "      <th>begin_date</th>\n",
       "      <th>end_date</th>\n",
       "      <th>type</th>\n",
       "      <th>paperless_billing</th>\n",
       "      <th>payment_method</th>\n",
       "      <th>monthly_charges</th>\n",
       "      <th>total_charges</th>\n",
       "      <th>is_active</th>\n",
       "    </tr>\n",
       "  </thead>\n",
       "  <tbody>\n",
       "    <tr>\n",
       "      <th>0</th>\n",
       "      <td>7590-VHVEG</td>\n",
       "      <td>2020-01-01</td>\n",
       "      <td>2020-02-01</td>\n",
       "      <td>Month-to-month</td>\n",
       "      <td>1</td>\n",
       "      <td>Electronic check</td>\n",
       "      <td>29.85</td>\n",
       "      <td>29.85</td>\n",
       "      <td>1</td>\n",
       "    </tr>\n",
       "    <tr>\n",
       "      <th>1</th>\n",
       "      <td>5575-GNVDE</td>\n",
       "      <td>2017-04-01</td>\n",
       "      <td>2020-02-01</td>\n",
       "      <td>One year</td>\n",
       "      <td>0</td>\n",
       "      <td>Mailed check</td>\n",
       "      <td>56.95</td>\n",
       "      <td>1889.50</td>\n",
       "      <td>1</td>\n",
       "    </tr>\n",
       "    <tr>\n",
       "      <th>2</th>\n",
       "      <td>3668-QPYBK</td>\n",
       "      <td>2019-10-01</td>\n",
       "      <td>2019-12-01</td>\n",
       "      <td>Month-to-month</td>\n",
       "      <td>1</td>\n",
       "      <td>Mailed check</td>\n",
       "      <td>53.85</td>\n",
       "      <td>108.15</td>\n",
       "      <td>0</td>\n",
       "    </tr>\n",
       "    <tr>\n",
       "      <th>3</th>\n",
       "      <td>7795-CFOCW</td>\n",
       "      <td>2016-05-01</td>\n",
       "      <td>2020-02-01</td>\n",
       "      <td>One year</td>\n",
       "      <td>0</td>\n",
       "      <td>Bank transfer (automatic)</td>\n",
       "      <td>42.30</td>\n",
       "      <td>1840.75</td>\n",
       "      <td>1</td>\n",
       "    </tr>\n",
       "    <tr>\n",
       "      <th>4</th>\n",
       "      <td>9237-HQITU</td>\n",
       "      <td>2019-09-01</td>\n",
       "      <td>2019-11-01</td>\n",
       "      <td>Month-to-month</td>\n",
       "      <td>1</td>\n",
       "      <td>Electronic check</td>\n",
       "      <td>70.70</td>\n",
       "      <td>151.65</td>\n",
       "      <td>0</td>\n",
       "    </tr>\n",
       "  </tbody>\n",
       "</table>\n",
       "</div>"
      ],
      "text/plain": [
       "  customer_id begin_date   end_date            type  paperless_billing  \\\n",
       "0  7590-VHVEG 2020-01-01 2020-02-01  Month-to-month                  1   \n",
       "1  5575-GNVDE 2017-04-01 2020-02-01        One year                  0   \n",
       "2  3668-QPYBK 2019-10-01 2019-12-01  Month-to-month                  1   \n",
       "3  7795-CFOCW 2016-05-01 2020-02-01        One year                  0   \n",
       "4  9237-HQITU 2019-09-01 2019-11-01  Month-to-month                  1   \n",
       "\n",
       "              payment_method  monthly_charges  total_charges  is_active  \n",
       "0           Electronic check            29.85          29.85          1  \n",
       "1               Mailed check            56.95        1889.50          1  \n",
       "2               Mailed check            53.85         108.15          0  \n",
       "3  Bank transfer (automatic)            42.30        1840.75          1  \n",
       "4           Electronic check            70.70         151.65          0  "
      ]
     },
     "execution_count": 47,
     "metadata": {},
     "output_type": "execute_result"
    }
   ],
   "source": [
    "contract.head()"
   ]
  },
  {
   "cell_type": "markdown",
   "id": "445f3b90",
   "metadata": {},
   "source": [
    "Построим гистограмму по колонкам begin_date, end_date, monthly_charges, total_charges"
   ]
  },
  {
   "cell_type": "code",
   "execution_count": 48,
   "id": "e2f14ea4",
   "metadata": {},
   "outputs": [],
   "source": [
    "import warnings\n",
    "warnings.filterwarnings(\"ignore\")"
   ]
  },
  {
   "cell_type": "code",
   "execution_count": 49,
   "id": "c614646c",
   "metadata": {},
   "outputs": [
    {
     "data": {
      "image/png": "[encoded data removed]",
      "text/plain": [
       "<Figure size 360x360 with 1 Axes>"
      ]
     },
     "metadata": {},
     "output_type": "display_data"
    },
    {
     "data": {
      "image/png": "[encoded data removed]",
      "text/plain": [
       "<Figure size 360x360 with 1 Axes>"
      ]
     },
     "metadata": {},
     "output_type": "display_data"
    },
    {
     "data": {
      "image/png": "[encoded data removed]",
      "text/plain": [
       "<Figure size 360x360 with 1 Axes>"
      ]
     },
     "metadata": {},
     "output_type": "display_data"
    },
    {
     "data": {
      "image/png": "[encoded data removed]",
      "text/plain": [
       "<Figure size 360x360 with 1 Axes>"
      ]
     },
     "metadata": {},
     "output_type": "display_data"
    }
   ],
   "source": [
    "list_columns = ['begin_date', 'end_date', 'monthly_charges', 'total_charges']\n",
    "displot_columns(contract, list_columns)"
   ]
  },
  {
   "cell_type": "code",
   "execution_count": 50,
   "id": "45c19faf",
   "metadata": {},
   "outputs": [
    {
     "data": {
      "text/plain": [
       "2626-VEEWG    1\n",
       "5115-SQAAU    1\n",
       "8313-AFGBW    1\n",
       "4128-ETESU    1\n",
       "9250-WYPLL    1\n",
       "             ..\n",
       "9391-DXGGG    1\n",
       "2314-TNDJQ    1\n",
       "5882-CMAZQ    1\n",
       "2587-EKXTS    1\n",
       "0253-ZTEOB    1\n",
       "Name: customer_id, Length: 7043, dtype: int64"
      ]
     },
     "execution_count": 50,
     "metadata": {},
     "output_type": "execute_result"
    }
   ],
   "source": [
    "contract['customer_id'].value_counts()"
   ]
  },
  {
   "cell_type": "markdown",
   "id": "070a0cf8",
   "metadata": {},
   "source": [
    "Дубликатов в customer_id нету"
   ]
  },
  {
   "cell_type": "markdown",
   "id": "884ca4ab",
   "metadata": {},
   "source": [
    "- Рассмотрим personal"
   ]
  },
  {
   "cell_type": "code",
   "execution_count": 51,
   "id": "14838719",
   "metadata": {},
   "outputs": [
    {
     "data": {
      "text/html": [
       "<div>\n",
       "<style scoped>\n",
       "    .dataframe tbody tr th:only-of-type {\n",
       "        vertical-align: middle;\n",
       "    }\n",
       "\n",
       "    .dataframe tbody tr th {\n",
       "        vertical-align: top;\n",
       "    }\n",
       "\n",
       "    .dataframe thead th {\n",
       "        text-align: right;\n",
       "    }\n",
       "</style>\n",
       "<table border=\"1\" class=\"dataframe\">\n",
       "  <thead>\n",
       "    <tr style=\"text-align: right;\">\n",
       "      <th></th>\n",
       "      <th>customer_id</th>\n",
       "      <th>gender</th>\n",
       "      <th>senior_citizen</th>\n",
       "      <th>partner</th>\n",
       "      <th>dependents</th>\n",
       "    </tr>\n",
       "  </thead>\n",
       "  <tbody>\n",
       "    <tr>\n",
       "      <th>0</th>\n",
       "      <td>7590-VHVEG</td>\n",
       "      <td>0</td>\n",
       "      <td>0</td>\n",
       "      <td>1</td>\n",
       "      <td>0</td>\n",
       "    </tr>\n",
       "    <tr>\n",
       "      <th>1</th>\n",
       "      <td>5575-GNVDE</td>\n",
       "      <td>1</td>\n",
       "      <td>0</td>\n",
       "      <td>0</td>\n",
       "      <td>0</td>\n",
       "    </tr>\n",
       "    <tr>\n",
       "      <th>2</th>\n",
       "      <td>3668-QPYBK</td>\n",
       "      <td>1</td>\n",
       "      <td>0</td>\n",
       "      <td>0</td>\n",
       "      <td>0</td>\n",
       "    </tr>\n",
       "    <tr>\n",
       "      <th>3</th>\n",
       "      <td>7795-CFOCW</td>\n",
       "      <td>1</td>\n",
       "      <td>0</td>\n",
       "      <td>0</td>\n",
       "      <td>0</td>\n",
       "    </tr>\n",
       "    <tr>\n",
       "      <th>4</th>\n",
       "      <td>9237-HQITU</td>\n",
       "      <td>0</td>\n",
       "      <td>0</td>\n",
       "      <td>0</td>\n",
       "      <td>0</td>\n",
       "    </tr>\n",
       "  </tbody>\n",
       "</table>\n",
       "</div>"
      ],
      "text/plain": [
       "  customer_id  gender  senior_citizen  partner  dependents\n",
       "0  7590-VHVEG       0               0        1           0\n",
       "1  5575-GNVDE       1               0        0           0\n",
       "2  3668-QPYBK       1               0        0           0\n",
       "3  7795-CFOCW       1               0        0           0\n",
       "4  9237-HQITU       0               0        0           0"
      ]
     },
     "execution_count": 51,
     "metadata": {},
     "output_type": "execute_result"
    }
   ],
   "source": [
    "personal.head()"
   ]
  },
  {
   "cell_type": "code",
   "execution_count": 52,
   "id": "dcb2476b",
   "metadata": {},
   "outputs": [
    {
     "data": {
      "text/plain": [
       "2626-VEEWG    1\n",
       "5115-SQAAU    1\n",
       "8313-AFGBW    1\n",
       "4128-ETESU    1\n",
       "9250-WYPLL    1\n",
       "             ..\n",
       "9391-DXGGG    1\n",
       "2314-TNDJQ    1\n",
       "5882-CMAZQ    1\n",
       "2587-EKXTS    1\n",
       "0253-ZTEOB    1\n",
       "Name: customer_id, Length: 7043, dtype: int64"
      ]
     },
     "execution_count": 52,
     "metadata": {},
     "output_type": "execute_result"
    }
   ],
   "source": [
    "contract['customer_id'].value_counts()"
   ]
  },
  {
   "cell_type": "markdown",
   "id": "6ace3be9",
   "metadata": {},
   "source": [
    "Дубликатов в customer_id нету"
   ]
  },
  {
   "cell_type": "markdown",
   "id": "d653305c",
   "metadata": {},
   "source": [
    "- Рассмотрим internet"
   ]
  },
  {
   "cell_type": "code",
   "execution_count": 53,
   "id": "986cb35a",
   "metadata": {},
   "outputs": [
    {
     "data": {
      "text/html": [
       "<div>\n",
       "<style scoped>\n",
       "    .dataframe tbody tr th:only-of-type {\n",
       "        vertical-align: middle;\n",
       "    }\n",
       "\n",
       "    .dataframe tbody tr th {\n",
       "        vertical-align: top;\n",
       "    }\n",
       "\n",
       "    .dataframe thead th {\n",
       "        text-align: right;\n",
       "    }\n",
       "</style>\n",
       "<table border=\"1\" class=\"dataframe\">\n",
       "  <thead>\n",
       "    <tr style=\"text-align: right;\">\n",
       "      <th></th>\n",
       "      <th>customer_id</th>\n",
       "      <th>internet_service</th>\n",
       "      <th>online_security</th>\n",
       "      <th>online_backup</th>\n",
       "      <th>device_protection</th>\n",
       "      <th>tech_support</th>\n",
       "      <th>streaming_tv</th>\n",
       "      <th>streaming_movies</th>\n",
       "    </tr>\n",
       "  </thead>\n",
       "  <tbody>\n",
       "    <tr>\n",
       "      <th>0</th>\n",
       "      <td>7590-VHVEG</td>\n",
       "      <td>DSL</td>\n",
       "      <td>0</td>\n",
       "      <td>1</td>\n",
       "      <td>0</td>\n",
       "      <td>0</td>\n",
       "      <td>0</td>\n",
       "      <td>0</td>\n",
       "    </tr>\n",
       "    <tr>\n",
       "      <th>1</th>\n",
       "      <td>5575-GNVDE</td>\n",
       "      <td>DSL</td>\n",
       "      <td>1</td>\n",
       "      <td>0</td>\n",
       "      <td>1</td>\n",
       "      <td>0</td>\n",
       "      <td>0</td>\n",
       "      <td>0</td>\n",
       "    </tr>\n",
       "    <tr>\n",
       "      <th>2</th>\n",
       "      <td>3668-QPYBK</td>\n",
       "      <td>DSL</td>\n",
       "      <td>1</td>\n",
       "      <td>1</td>\n",
       "      <td>0</td>\n",
       "      <td>0</td>\n",
       "      <td>0</td>\n",
       "      <td>0</td>\n",
       "    </tr>\n",
       "    <tr>\n",
       "      <th>3</th>\n",
       "      <td>7795-CFOCW</td>\n",
       "      <td>DSL</td>\n",
       "      <td>1</td>\n",
       "      <td>0</td>\n",
       "      <td>1</td>\n",
       "      <td>1</td>\n",
       "      <td>0</td>\n",
       "      <td>0</td>\n",
       "    </tr>\n",
       "    <tr>\n",
       "      <th>4</th>\n",
       "      <td>9237-HQITU</td>\n",
       "      <td>Fiber optic</td>\n",
       "      <td>0</td>\n",
       "      <td>0</td>\n",
       "      <td>0</td>\n",
       "      <td>0</td>\n",
       "      <td>0</td>\n",
       "      <td>0</td>\n",
       "    </tr>\n",
       "  </tbody>\n",
       "</table>\n",
       "</div>"
      ],
      "text/plain": [
       "  customer_id internet_service  online_security  online_backup  \\\n",
       "0  7590-VHVEG              DSL                0              1   \n",
       "1  5575-GNVDE              DSL                1              0   \n",
       "2  3668-QPYBK              DSL                1              1   \n",
       "3  7795-CFOCW              DSL                1              0   \n",
       "4  9237-HQITU      Fiber optic                0              0   \n",
       "\n",
       "   device_protection  tech_support  streaming_tv  streaming_movies  \n",
       "0                  0             0             0                 0  \n",
       "1                  1             0             0                 0  \n",
       "2                  0             0             0                 0  \n",
       "3                  1             1             0                 0  \n",
       "4                  0             0             0                 0  "
      ]
     },
     "execution_count": 53,
     "metadata": {},
     "output_type": "execute_result"
    }
   ],
   "source": [
    "internet.head()"
   ]
  },
  {
   "cell_type": "code",
   "execution_count": 54,
   "id": "0a2147f5",
   "metadata": {},
   "outputs": [
    {
     "data": {
      "text/plain": [
       "6650-BWFRT    1\n",
       "9500-LTVBP    1\n",
       "9373-WSLOY    1\n",
       "4660-IRIBM    1\n",
       "3026-ATZYV    1\n",
       "             ..\n",
       "6416-TVAIH    1\n",
       "9117-SHLZX    1\n",
       "3296-SILRA    1\n",
       "7029-RPUAV    1\n",
       "0253-ZTEOB    1\n",
       "Name: customer_id, Length: 5517, dtype: int64"
      ]
     },
     "execution_count": 54,
     "metadata": {},
     "output_type": "execute_result"
    }
   ],
   "source": [
    "internet['customer_id'].value_counts()"
   ]
  },
  {
   "cell_type": "markdown",
   "id": "db5056bf",
   "metadata": {},
   "source": [
    "Дубликатов в customer_id нету"
   ]
  },
  {
   "cell_type": "code",
   "execution_count": 55,
   "id": "26ea3f38",
   "metadata": {},
   "outputs": [
    {
     "data": {
      "text/plain": [
       "Fiber optic    3096\n",
       "DSL            2421\n",
       "Name: internet_service, dtype: int64"
      ]
     },
     "execution_count": 55,
     "metadata": {},
     "output_type": "execute_result"
    }
   ],
   "source": [
    "internet['internet_service'].value_counts()"
   ]
  },
  {
   "cell_type": "markdown",
   "id": "d16018d4",
   "metadata": {},
   "source": [
    "- Рассмотрим phone"
   ]
  },
  {
   "cell_type": "code",
   "execution_count": 56,
   "id": "c09cb3e4",
   "metadata": {},
   "outputs": [
    {
     "data": {
      "text/html": [
       "<div>\n",
       "<style scoped>\n",
       "    .dataframe tbody tr th:only-of-type {\n",
       "        vertical-align: middle;\n",
       "    }\n",
       "\n",
       "    .dataframe tbody tr th {\n",
       "        vertical-align: top;\n",
       "    }\n",
       "\n",
       "    .dataframe thead th {\n",
       "        text-align: right;\n",
       "    }\n",
       "</style>\n",
       "<table border=\"1\" class=\"dataframe\">\n",
       "  <thead>\n",
       "    <tr style=\"text-align: right;\">\n",
       "      <th></th>\n",
       "      <th>customer_id</th>\n",
       "      <th>multiple_lines</th>\n",
       "    </tr>\n",
       "  </thead>\n",
       "  <tbody>\n",
       "    <tr>\n",
       "      <th>0</th>\n",
       "      <td>5575-GNVDE</td>\n",
       "      <td>0</td>\n",
       "    </tr>\n",
       "    <tr>\n",
       "      <th>1</th>\n",
       "      <td>3668-QPYBK</td>\n",
       "      <td>0</td>\n",
       "    </tr>\n",
       "    <tr>\n",
       "      <th>2</th>\n",
       "      <td>9237-HQITU</td>\n",
       "      <td>0</td>\n",
       "    </tr>\n",
       "    <tr>\n",
       "      <th>3</th>\n",
       "      <td>9305-CDSKC</td>\n",
       "      <td>1</td>\n",
       "    </tr>\n",
       "    <tr>\n",
       "      <th>4</th>\n",
       "      <td>1452-KIOVK</td>\n",
       "      <td>1</td>\n",
       "    </tr>\n",
       "  </tbody>\n",
       "</table>\n",
       "</div>"
      ],
      "text/plain": [
       "  customer_id  multiple_lines\n",
       "0  5575-GNVDE               0\n",
       "1  3668-QPYBK               0\n",
       "2  9237-HQITU               0\n",
       "3  9305-CDSKC               1\n",
       "4  1452-KIOVK               1"
      ]
     },
     "execution_count": 56,
     "metadata": {},
     "output_type": "execute_result"
    }
   ],
   "source": [
    "phone.head()"
   ]
  },
  {
   "cell_type": "code",
   "execution_count": 57,
   "id": "5e0935e3",
   "metadata": {},
   "outputs": [
    {
     "data": {
      "text/plain": [
       "2626-VEEWG    1\n",
       "7182-OVLBJ    1\n",
       "5692-FPTAH    1\n",
       "7167-PCEYD    1\n",
       "2856-NNASM    1\n",
       "             ..\n",
       "1241-FPMOF    1\n",
       "2270-CHBFN    1\n",
       "9588-YRFHY    1\n",
       "7579-KKLOE    1\n",
       "0253-ZTEOB    1\n",
       "Name: customer_id, Length: 6361, dtype: int64"
      ]
     },
     "execution_count": 57,
     "metadata": {},
     "output_type": "execute_result"
    }
   ],
   "source": [
    "phone['customer_id'].value_counts()"
   ]
  },
  {
   "cell_type": "markdown",
   "id": "fe4ccee1",
   "metadata": {},
   "source": [
    "Дубликатов в customer_id нету"
   ]
  },
  {
   "cell_type": "markdown",
   "id": "97615b41",
   "metadata": {},
   "source": [
    "### Проверка корреляции данных"
   ]
  },
  {
   "cell_type": "code",
   "execution_count": 58,
   "id": "6b18107e",
   "metadata": {},
   "outputs": [
    {
     "data": {
      "text/html": [
       "<style  type=\"text/css\" >\n",
       "</style><table id=\"T_c16057d0_31c2_11ed_8db2_acde48001122\" ><caption>CONTRACT</caption><thead>    <tr>        <th class=\"blank level0\" ></th>        <th class=\"col_heading level0 col0\" >paperless_billing</th>        <th class=\"col_heading level0 col1\" >monthly_charges</th>        <th class=\"col_heading level0 col2\" >total_charges</th>        <th class=\"col_heading level0 col3\" >is_active</th>    </tr></thead><tbody>\n",
       "                <tr>\n",
       "                        <th id=\"T_c16057d0_31c2_11ed_8db2_acde48001122level0_row0\" class=\"row_heading level0 row0\" >paperless_billing</th>\n",
       "                        <td id=\"T_c16057d0_31c2_11ed_8db2_acde48001122row0_col0\" class=\"data row0 col0\" >1.000000</td>\n",
       "                        <td id=\"T_c16057d0_31c2_11ed_8db2_acde48001122row0_col1\" class=\"data row0 col1\" >0.352150</td>\n",
       "                        <td id=\"T_c16057d0_31c2_11ed_8db2_acde48001122row0_col2\" class=\"data row0 col2\" >0.158574</td>\n",
       "                        <td id=\"T_c16057d0_31c2_11ed_8db2_acde48001122row0_col3\" class=\"data row0 col3\" >-0.191825</td>\n",
       "            </tr>\n",
       "            <tr>\n",
       "                        <th id=\"T_c16057d0_31c2_11ed_8db2_acde48001122level0_row1\" class=\"row_heading level0 row1\" >monthly_charges</th>\n",
       "                        <td id=\"T_c16057d0_31c2_11ed_8db2_acde48001122row1_col0\" class=\"data row1 col0\" >0.352150</td>\n",
       "                        <td id=\"T_c16057d0_31c2_11ed_8db2_acde48001122row1_col1\" class=\"data row1 col1\" >1.000000</td>\n",
       "                        <td id=\"T_c16057d0_31c2_11ed_8db2_acde48001122row1_col2\" class=\"data row1 col2\" >0.651174</td>\n",
       "                        <td id=\"T_c16057d0_31c2_11ed_8db2_acde48001122row1_col3\" class=\"data row1 col3\" >-0.193356</td>\n",
       "            </tr>\n",
       "            <tr>\n",
       "                        <th id=\"T_c16057d0_31c2_11ed_8db2_acde48001122level0_row2\" class=\"row_heading level0 row2\" >total_charges</th>\n",
       "                        <td id=\"T_c16057d0_31c2_11ed_8db2_acde48001122row2_col0\" class=\"data row2 col0\" >0.158574</td>\n",
       "                        <td id=\"T_c16057d0_31c2_11ed_8db2_acde48001122row2_col1\" class=\"data row2 col1\" >0.651174</td>\n",
       "                        <td id=\"T_c16057d0_31c2_11ed_8db2_acde48001122row2_col2\" class=\"data row2 col2\" >1.000000</td>\n",
       "                        <td id=\"T_c16057d0_31c2_11ed_8db2_acde48001122row2_col3\" class=\"data row2 col3\" >0.198324</td>\n",
       "            </tr>\n",
       "            <tr>\n",
       "                        <th id=\"T_c16057d0_31c2_11ed_8db2_acde48001122level0_row3\" class=\"row_heading level0 row3\" >is_active</th>\n",
       "                        <td id=\"T_c16057d0_31c2_11ed_8db2_acde48001122row3_col0\" class=\"data row3 col0\" >-0.191825</td>\n",
       "                        <td id=\"T_c16057d0_31c2_11ed_8db2_acde48001122row3_col1\" class=\"data row3 col1\" >-0.193356</td>\n",
       "                        <td id=\"T_c16057d0_31c2_11ed_8db2_acde48001122row3_col2\" class=\"data row3 col2\" >0.198324</td>\n",
       "                        <td id=\"T_c16057d0_31c2_11ed_8db2_acde48001122row3_col3\" class=\"data row3 col3\" >1.000000</td>\n",
       "            </tr>\n",
       "    </tbody></table>"
      ],
      "text/plain": [
       "<pandas.io.formats.style.Styler at 0x7fd3ed3a6940>"
      ]
     },
     "metadata": {},
     "output_type": "display_data"
    },
    {
     "name": "stdout",
     "output_type": "stream",
     "text": [
      "\n"
     ]
    },
    {
     "data": {
      "text/html": [
       "<style  type=\"text/css\" >\n",
       "</style><table id=\"T_c161099e_31c2_11ed_89bd_acde48001122\" ><caption>PERSONAL</caption><thead>    <tr>        <th class=\"blank level0\" ></th>        <th class=\"col_heading level0 col0\" >gender</th>        <th class=\"col_heading level0 col1\" >senior_citizen</th>        <th class=\"col_heading level0 col2\" >partner</th>        <th class=\"col_heading level0 col3\" >dependents</th>    </tr></thead><tbody>\n",
       "                <tr>\n",
       "                        <th id=\"T_c161099e_31c2_11ed_89bd_acde48001122level0_row0\" class=\"row_heading level0 row0\" >gender</th>\n",
       "                        <td id=\"T_c161099e_31c2_11ed_89bd_acde48001122row0_col0\" class=\"data row0 col0\" >1.000000</td>\n",
       "                        <td id=\"T_c161099e_31c2_11ed_89bd_acde48001122row0_col1\" class=\"data row0 col1\" >-0.001874</td>\n",
       "                        <td id=\"T_c161099e_31c2_11ed_89bd_acde48001122row0_col2\" class=\"data row0 col2\" >-0.001808</td>\n",
       "                        <td id=\"T_c161099e_31c2_11ed_89bd_acde48001122row0_col3\" class=\"data row0 col3\" >0.010517</td>\n",
       "            </tr>\n",
       "            <tr>\n",
       "                        <th id=\"T_c161099e_31c2_11ed_89bd_acde48001122level0_row1\" class=\"row_heading level0 row1\" >senior_citizen</th>\n",
       "                        <td id=\"T_c161099e_31c2_11ed_89bd_acde48001122row1_col0\" class=\"data row1 col0\" >-0.001874</td>\n",
       "                        <td id=\"T_c161099e_31c2_11ed_89bd_acde48001122row1_col1\" class=\"data row1 col1\" >1.000000</td>\n",
       "                        <td id=\"T_c161099e_31c2_11ed_89bd_acde48001122row1_col2\" class=\"data row1 col2\" >0.016479</td>\n",
       "                        <td id=\"T_c161099e_31c2_11ed_89bd_acde48001122row1_col3\" class=\"data row1 col3\" >-0.211185</td>\n",
       "            </tr>\n",
       "            <tr>\n",
       "                        <th id=\"T_c161099e_31c2_11ed_89bd_acde48001122level0_row2\" class=\"row_heading level0 row2\" >partner</th>\n",
       "                        <td id=\"T_c161099e_31c2_11ed_89bd_acde48001122row2_col0\" class=\"data row2 col0\" >-0.001808</td>\n",
       "                        <td id=\"T_c161099e_31c2_11ed_89bd_acde48001122row2_col1\" class=\"data row2 col1\" >0.016479</td>\n",
       "                        <td id=\"T_c161099e_31c2_11ed_89bd_acde48001122row2_col2\" class=\"data row2 col2\" >1.000000</td>\n",
       "                        <td id=\"T_c161099e_31c2_11ed_89bd_acde48001122row2_col3\" class=\"data row2 col3\" >0.452676</td>\n",
       "            </tr>\n",
       "            <tr>\n",
       "                        <th id=\"T_c161099e_31c2_11ed_89bd_acde48001122level0_row3\" class=\"row_heading level0 row3\" >dependents</th>\n",
       "                        <td id=\"T_c161099e_31c2_11ed_89bd_acde48001122row3_col0\" class=\"data row3 col0\" >0.010517</td>\n",
       "                        <td id=\"T_c161099e_31c2_11ed_89bd_acde48001122row3_col1\" class=\"data row3 col1\" >-0.211185</td>\n",
       "                        <td id=\"T_c161099e_31c2_11ed_89bd_acde48001122row3_col2\" class=\"data row3 col2\" >0.452676</td>\n",
       "                        <td id=\"T_c161099e_31c2_11ed_89bd_acde48001122row3_col3\" class=\"data row3 col3\" >1.000000</td>\n",
       "            </tr>\n",
       "    </tbody></table>"
      ],
      "text/plain": [
       "<pandas.io.formats.style.Styler at 0x7fd3ed3a6a90>"
      ]
     },
     "metadata": {},
     "output_type": "display_data"
    },
    {
     "name": "stdout",
     "output_type": "stream",
     "text": [
      "\n"
     ]
    },
    {
     "data": {
      "text/html": [
       "<style  type=\"text/css\" >\n",
       "</style><table id=\"T_c161d274_31c2_11ed_9cee_acde48001122\" ><caption>INTERNET</caption><thead>    <tr>        <th class=\"blank level0\" ></th>        <th class=\"col_heading level0 col0\" >online_security</th>        <th class=\"col_heading level0 col1\" >online_backup</th>        <th class=\"col_heading level0 col2\" >device_protection</th>        <th class=\"col_heading level0 col3\" >tech_support</th>        <th class=\"col_heading level0 col4\" >streaming_tv</th>        <th class=\"col_heading level0 col5\" >streaming_movies</th>    </tr></thead><tbody>\n",
       "                <tr>\n",
       "                        <th id=\"T_c161d274_31c2_11ed_9cee_acde48001122level0_row0\" class=\"row_heading level0 row0\" >online_security</th>\n",
       "                        <td id=\"T_c161d274_31c2_11ed_9cee_acde48001122row0_col0\" class=\"data row0 col0\" >1.000000</td>\n",
       "                        <td id=\"T_c161d274_31c2_11ed_9cee_acde48001122row0_col1\" class=\"data row0 col1\" >0.179711</td>\n",
       "                        <td id=\"T_c161d274_31c2_11ed_9cee_acde48001122row0_col2\" class=\"data row0 col2\" >0.170336</td>\n",
       "                        <td id=\"T_c161d274_31c2_11ed_9cee_acde48001122row0_col3\" class=\"data row0 col3\" >0.273472</td>\n",
       "                        <td id=\"T_c161d274_31c2_11ed_9cee_acde48001122row0_col4\" class=\"data row0 col4\" >0.043918</td>\n",
       "                        <td id=\"T_c161d274_31c2_11ed_9cee_acde48001122row0_col5\" class=\"data row0 col5\" >0.055842</td>\n",
       "            </tr>\n",
       "            <tr>\n",
       "                        <th id=\"T_c161d274_31c2_11ed_9cee_acde48001122level0_row1\" class=\"row_heading level0 row1\" >online_backup</th>\n",
       "                        <td id=\"T_c161d274_31c2_11ed_9cee_acde48001122row1_col0\" class=\"data row1 col0\" >0.179711</td>\n",
       "                        <td id=\"T_c161d274_31c2_11ed_9cee_acde48001122row1_col1\" class=\"data row1 col1\" >1.000000</td>\n",
       "                        <td id=\"T_c161d274_31c2_11ed_9cee_acde48001122row1_col2\" class=\"data row1 col2\" >0.185155</td>\n",
       "                        <td id=\"T_c161d274_31c2_11ed_9cee_acde48001122row1_col3\" class=\"data row1 col3\" >0.190586</td>\n",
       "                        <td id=\"T_c161d274_31c2_11ed_9cee_acde48001122row1_col4\" class=\"data row1 col4\" >0.146935</td>\n",
       "                        <td id=\"T_c161d274_31c2_11ed_9cee_acde48001122row1_col5\" class=\"data row1 col5\" >0.136687</td>\n",
       "            </tr>\n",
       "            <tr>\n",
       "                        <th id=\"T_c161d274_31c2_11ed_9cee_acde48001122level0_row2\" class=\"row_heading level0 row2\" >device_protection</th>\n",
       "                        <td id=\"T_c161d274_31c2_11ed_9cee_acde48001122row2_col0\" class=\"data row2 col0\" >0.170336</td>\n",
       "                        <td id=\"T_c161d274_31c2_11ed_9cee_acde48001122row2_col1\" class=\"data row2 col1\" >0.185155</td>\n",
       "                        <td id=\"T_c161d274_31c2_11ed_9cee_acde48001122row2_col2\" class=\"data row2 col2\" >1.000000</td>\n",
       "                        <td id=\"T_c161d274_31c2_11ed_9cee_acde48001122row2_col3\" class=\"data row2 col3\" >0.235716</td>\n",
       "                        <td id=\"T_c161d274_31c2_11ed_9cee_acde48001122row2_col4\" class=\"data row2 col4\" >0.276617</td>\n",
       "                        <td id=\"T_c161d274_31c2_11ed_9cee_acde48001122row2_col5\" class=\"data row2 col5\" >0.289019</td>\n",
       "            </tr>\n",
       "            <tr>\n",
       "                        <th id=\"T_c161d274_31c2_11ed_9cee_acde48001122level0_row3\" class=\"row_heading level0 row3\" >tech_support</th>\n",
       "                        <td id=\"T_c161d274_31c2_11ed_9cee_acde48001122row3_col0\" class=\"data row3 col0\" >0.273472</td>\n",
       "                        <td id=\"T_c161d274_31c2_11ed_9cee_acde48001122row3_col1\" class=\"data row3 col1\" >0.190586</td>\n",
       "                        <td id=\"T_c161d274_31c2_11ed_9cee_acde48001122row3_col2\" class=\"data row3 col2\" >0.235716</td>\n",
       "                        <td id=\"T_c161d274_31c2_11ed_9cee_acde48001122row3_col3\" class=\"data row3 col3\" >1.000000</td>\n",
       "                        <td id=\"T_c161d274_31c2_11ed_9cee_acde48001122row3_col4\" class=\"data row3 col4\" >0.161478</td>\n",
       "                        <td id=\"T_c161d274_31c2_11ed_9cee_acde48001122row3_col5\" class=\"data row3 col5\" >0.162011</td>\n",
       "            </tr>\n",
       "            <tr>\n",
       "                        <th id=\"T_c161d274_31c2_11ed_9cee_acde48001122level0_row4\" class=\"row_heading level0 row4\" >streaming_tv</th>\n",
       "                        <td id=\"T_c161d274_31c2_11ed_9cee_acde48001122row4_col0\" class=\"data row4 col0\" >0.043918</td>\n",
       "                        <td id=\"T_c161d274_31c2_11ed_9cee_acde48001122row4_col1\" class=\"data row4 col1\" >0.146935</td>\n",
       "                        <td id=\"T_c161d274_31c2_11ed_9cee_acde48001122row4_col2\" class=\"data row4 col2\" >0.276617</td>\n",
       "                        <td id=\"T_c161d274_31c2_11ed_9cee_acde48001122row4_col3\" class=\"data row4 col3\" >0.161478</td>\n",
       "                        <td id=\"T_c161d274_31c2_11ed_9cee_acde48001122row4_col4\" class=\"data row4 col4\" >1.000000</td>\n",
       "                        <td id=\"T_c161d274_31c2_11ed_9cee_acde48001122row4_col5\" class=\"data row4 col5\" >0.434754</td>\n",
       "            </tr>\n",
       "            <tr>\n",
       "                        <th id=\"T_c161d274_31c2_11ed_9cee_acde48001122level0_row5\" class=\"row_heading level0 row5\" >streaming_movies</th>\n",
       "                        <td id=\"T_c161d274_31c2_11ed_9cee_acde48001122row5_col0\" class=\"data row5 col0\" >0.055842</td>\n",
       "                        <td id=\"T_c161d274_31c2_11ed_9cee_acde48001122row5_col1\" class=\"data row5 col1\" >0.136687</td>\n",
       "                        <td id=\"T_c161d274_31c2_11ed_9cee_acde48001122row5_col2\" class=\"data row5 col2\" >0.289019</td>\n",
       "                        <td id=\"T_c161d274_31c2_11ed_9cee_acde48001122row5_col3\" class=\"data row5 col3\" >0.162011</td>\n",
       "                        <td id=\"T_c161d274_31c2_11ed_9cee_acde48001122row5_col4\" class=\"data row5 col4\" >0.434754</td>\n",
       "                        <td id=\"T_c161d274_31c2_11ed_9cee_acde48001122row5_col5\" class=\"data row5 col5\" >1.000000</td>\n",
       "            </tr>\n",
       "    </tbody></table>"
      ],
      "text/plain": [
       "<pandas.io.formats.style.Styler at 0x7fd3ed3a6b70>"
      ]
     },
     "metadata": {},
     "output_type": "display_data"
    },
    {
     "name": "stdout",
     "output_type": "stream",
     "text": [
      "\n"
     ]
    },
    {
     "data": {
      "text/html": [
       "<style  type=\"text/css\" >\n",
       "</style><table id=\"T_c162ad1e_31c2_11ed_b635_acde48001122\" ><caption>PHONE</caption><thead>    <tr>        <th class=\"blank level0\" ></th>        <th class=\"col_heading level0 col0\" >multiple_lines</th>    </tr></thead><tbody>\n",
       "                <tr>\n",
       "                        <th id=\"T_c162ad1e_31c2_11ed_b635_acde48001122level0_row0\" class=\"row_heading level0 row0\" >multiple_lines</th>\n",
       "                        <td id=\"T_c162ad1e_31c2_11ed_b635_acde48001122row0_col0\" class=\"data row0 col0\" >1.000000</td>\n",
       "            </tr>\n",
       "    </tbody></table>"
      ],
      "text/plain": [
       "<pandas.io.formats.style.Styler at 0x7fd3ed3a6d68>"
      ]
     },
     "metadata": {},
     "output_type": "display_data"
    },
    {
     "name": "stdout",
     "output_type": "stream",
     "text": [
      "\n"
     ]
    }
   ],
   "source": [
    "for df, name in zip(list_df, name_df):\n",
    "    display(df.corr().style.set_caption(name.upper()))\n",
    "    print()"
   ]
  },
  {
   "cell_type": "markdown",
   "id": "4e4b8f2b",
   "metadata": {},
   "source": [
    "Выводы можно делать только по количественным данным (в нашем случае - финансы и длительность контракта). А наша целевая - бинарная."
   ]
  },
  {
   "cell_type": "code",
   "execution_count": 59,
   "id": "412fffae",
   "metadata": {},
   "outputs": [],
   "source": [
    "contract['duration_contract'] = (contract['end_date'] - contract['begin_date']).dt.days"
   ]
  },
  {
   "cell_type": "code",
   "execution_count": 60,
   "id": "5c3520a3",
   "metadata": {},
   "outputs": [
    {
     "data": {
      "text/html": [
       "<div>\n",
       "<style scoped>\n",
       "    .dataframe tbody tr th:only-of-type {\n",
       "        vertical-align: middle;\n",
       "    }\n",
       "\n",
       "    .dataframe tbody tr th {\n",
       "        vertical-align: top;\n",
       "    }\n",
       "\n",
       "    .dataframe thead th {\n",
       "        text-align: right;\n",
       "    }\n",
       "</style>\n",
       "<table border=\"1\" class=\"dataframe\">\n",
       "  <thead>\n",
       "    <tr style=\"text-align: right;\">\n",
       "      <th></th>\n",
       "      <th>customer_id</th>\n",
       "      <th>begin_date</th>\n",
       "      <th>end_date</th>\n",
       "      <th>type</th>\n",
       "      <th>paperless_billing</th>\n",
       "      <th>payment_method</th>\n",
       "      <th>monthly_charges</th>\n",
       "      <th>total_charges</th>\n",
       "      <th>is_active</th>\n",
       "      <th>duration_contract</th>\n",
       "    </tr>\n",
       "  </thead>\n",
       "  <tbody>\n",
       "    <tr>\n",
       "      <th>0</th>\n",
       "      <td>7590-VHVEG</td>\n",
       "      <td>2020-01-01</td>\n",
       "      <td>2020-02-01</td>\n",
       "      <td>Month-to-month</td>\n",
       "      <td>1</td>\n",
       "      <td>Electronic check</td>\n",
       "      <td>29.85</td>\n",
       "      <td>29.85</td>\n",
       "      <td>1</td>\n",
       "      <td>31</td>\n",
       "    </tr>\n",
       "    <tr>\n",
       "      <th>1</th>\n",
       "      <td>5575-GNVDE</td>\n",
       "      <td>2017-04-01</td>\n",
       "      <td>2020-02-01</td>\n",
       "      <td>One year</td>\n",
       "      <td>0</td>\n",
       "      <td>Mailed check</td>\n",
       "      <td>56.95</td>\n",
       "      <td>1889.50</td>\n",
       "      <td>1</td>\n",
       "      <td>1036</td>\n",
       "    </tr>\n",
       "    <tr>\n",
       "      <th>2</th>\n",
       "      <td>3668-QPYBK</td>\n",
       "      <td>2019-10-01</td>\n",
       "      <td>2019-12-01</td>\n",
       "      <td>Month-to-month</td>\n",
       "      <td>1</td>\n",
       "      <td>Mailed check</td>\n",
       "      <td>53.85</td>\n",
       "      <td>108.15</td>\n",
       "      <td>0</td>\n",
       "      <td>61</td>\n",
       "    </tr>\n",
       "    <tr>\n",
       "      <th>3</th>\n",
       "      <td>7795-CFOCW</td>\n",
       "      <td>2016-05-01</td>\n",
       "      <td>2020-02-01</td>\n",
       "      <td>One year</td>\n",
       "      <td>0</td>\n",
       "      <td>Bank transfer (automatic)</td>\n",
       "      <td>42.30</td>\n",
       "      <td>1840.75</td>\n",
       "      <td>1</td>\n",
       "      <td>1371</td>\n",
       "    </tr>\n",
       "    <tr>\n",
       "      <th>4</th>\n",
       "      <td>9237-HQITU</td>\n",
       "      <td>2019-09-01</td>\n",
       "      <td>2019-11-01</td>\n",
       "      <td>Month-to-month</td>\n",
       "      <td>1</td>\n",
       "      <td>Electronic check</td>\n",
       "      <td>70.70</td>\n",
       "      <td>151.65</td>\n",
       "      <td>0</td>\n",
       "      <td>61</td>\n",
       "    </tr>\n",
       "    <tr>\n",
       "      <th>...</th>\n",
       "      <td>...</td>\n",
       "      <td>...</td>\n",
       "      <td>...</td>\n",
       "      <td>...</td>\n",
       "      <td>...</td>\n",
       "      <td>...</td>\n",
       "      <td>...</td>\n",
       "      <td>...</td>\n",
       "      <td>...</td>\n",
       "      <td>...</td>\n",
       "    </tr>\n",
       "    <tr>\n",
       "      <th>7038</th>\n",
       "      <td>6840-RESVB</td>\n",
       "      <td>2018-02-01</td>\n",
       "      <td>2020-02-01</td>\n",
       "      <td>One year</td>\n",
       "      <td>1</td>\n",
       "      <td>Mailed check</td>\n",
       "      <td>84.80</td>\n",
       "      <td>1990.50</td>\n",
       "      <td>1</td>\n",
       "      <td>730</td>\n",
       "    </tr>\n",
       "    <tr>\n",
       "      <th>7039</th>\n",
       "      <td>2234-XADUH</td>\n",
       "      <td>2014-02-01</td>\n",
       "      <td>2020-02-01</td>\n",
       "      <td>One year</td>\n",
       "      <td>1</td>\n",
       "      <td>Credit card (automatic)</td>\n",
       "      <td>103.20</td>\n",
       "      <td>7362.90</td>\n",
       "      <td>1</td>\n",
       "      <td>2191</td>\n",
       "    </tr>\n",
       "    <tr>\n",
       "      <th>7040</th>\n",
       "      <td>4801-JZAZL</td>\n",
       "      <td>2019-03-01</td>\n",
       "      <td>2020-02-01</td>\n",
       "      <td>Month-to-month</td>\n",
       "      <td>1</td>\n",
       "      <td>Electronic check</td>\n",
       "      <td>29.60</td>\n",
       "      <td>346.45</td>\n",
       "      <td>1</td>\n",
       "      <td>337</td>\n",
       "    </tr>\n",
       "    <tr>\n",
       "      <th>7041</th>\n",
       "      <td>8361-LTMKD</td>\n",
       "      <td>2019-07-01</td>\n",
       "      <td>2019-11-01</td>\n",
       "      <td>Month-to-month</td>\n",
       "      <td>1</td>\n",
       "      <td>Mailed check</td>\n",
       "      <td>74.40</td>\n",
       "      <td>306.60</td>\n",
       "      <td>0</td>\n",
       "      <td>123</td>\n",
       "    </tr>\n",
       "    <tr>\n",
       "      <th>7042</th>\n",
       "      <td>3186-AJIEK</td>\n",
       "      <td>2014-08-01</td>\n",
       "      <td>2020-02-01</td>\n",
       "      <td>Two year</td>\n",
       "      <td>1</td>\n",
       "      <td>Bank transfer (automatic)</td>\n",
       "      <td>105.65</td>\n",
       "      <td>6844.50</td>\n",
       "      <td>1</td>\n",
       "      <td>2010</td>\n",
       "    </tr>\n",
       "  </tbody>\n",
       "</table>\n",
       "<p>7043 rows × 10 columns</p>\n",
       "</div>"
      ],
      "text/plain": [
       "     customer_id begin_date   end_date            type  paperless_billing  \\\n",
       "0     7590-VHVEG 2020-01-01 2020-02-01  Month-to-month                  1   \n",
       "1     5575-GNVDE 2017-04-01 2020-02-01        One year                  0   \n",
       "2     3668-QPYBK 2019-10-01 2019-12-01  Month-to-month                  1   \n",
       "3     7795-CFOCW 2016-05-01 2020-02-01        One year                  0   \n",
       "4     9237-HQITU 2019-09-01 2019-11-01  Month-to-month                  1   \n",
       "...          ...        ...        ...             ...                ...   \n",
       "7038  6840-RESVB 2018-02-01 2020-02-01        One year                  1   \n",
       "7039  2234-XADUH 2014-02-01 2020-02-01        One year                  1   \n",
       "7040  4801-JZAZL 2019-03-01 2020-02-01  Month-to-month                  1   \n",
       "7041  8361-LTMKD 2019-07-01 2019-11-01  Month-to-month                  1   \n",
       "7042  3186-AJIEK 2014-08-01 2020-02-01        Two year                  1   \n",
       "\n",
       "                 payment_method  monthly_charges  total_charges  is_active  \\\n",
       "0              Electronic check            29.85          29.85          1   \n",
       "1                  Mailed check            56.95        1889.50          1   \n",
       "2                  Mailed check            53.85         108.15          0   \n",
       "3     Bank transfer (automatic)            42.30        1840.75          1   \n",
       "4              Electronic check            70.70         151.65          0   \n",
       "...                         ...              ...            ...        ...   \n",
       "7038               Mailed check            84.80        1990.50          1   \n",
       "7039    Credit card (automatic)           103.20        7362.90          1   \n",
       "7040           Electronic check            29.60         346.45          1   \n",
       "7041               Mailed check            74.40         306.60          0   \n",
       "7042  Bank transfer (automatic)           105.65        6844.50          1   \n",
       "\n",
       "      duration_contract  \n",
       "0                    31  \n",
       "1                  1036  \n",
       "2                    61  \n",
       "3                  1371  \n",
       "4                    61  \n",
       "...                 ...  \n",
       "7038                730  \n",
       "7039               2191  \n",
       "7040                337  \n",
       "7041                123  \n",
       "7042               2010  \n",
       "\n",
       "[7043 rows x 10 columns]"
      ]
     },
     "execution_count": 60,
     "metadata": {},
     "output_type": "execute_result"
    }
   ],
   "source": [
    "contract"
   ]
  },
  {
   "cell_type": "markdown",
   "id": "099dd2e0",
   "metadata": {},
   "source": [
    "### Создание общего датасета"
   ]
  },
  {
   "cell_type": "markdown",
   "id": "653d8db0",
   "metadata": {},
   "source": [
    "Создадим общий датафрейм.\n",
    "\n",
    "Соединять данные будем с помощью full join (merge outer) по полю customer_id. Таким образом мы не потеряем данные, но в некоторых ячейках появятся пропуски, т.к. датафреймы имеют разные размеры, а customer_id уникальный во всех датафреймах"
   ]
  },
  {
   "cell_type": "code",
   "execution_count": 61,
   "id": "d89f6c36",
   "metadata": {},
   "outputs": [
    {
     "data": {
      "text/html": [
       "<div>\n",
       "<style scoped>\n",
       "    .dataframe tbody tr th:only-of-type {\n",
       "        vertical-align: middle;\n",
       "    }\n",
       "\n",
       "    .dataframe tbody tr th {\n",
       "        vertical-align: top;\n",
       "    }\n",
       "\n",
       "    .dataframe thead th {\n",
       "        text-align: right;\n",
       "    }\n",
       "</style>\n",
       "<table border=\"1\" class=\"dataframe\">\n",
       "  <thead>\n",
       "    <tr style=\"text-align: right;\">\n",
       "      <th></th>\n",
       "      <th>customer_id</th>\n",
       "      <th>begin_date</th>\n",
       "      <th>end_date</th>\n",
       "      <th>type</th>\n",
       "      <th>paperless_billing</th>\n",
       "      <th>payment_method</th>\n",
       "      <th>monthly_charges</th>\n",
       "      <th>total_charges</th>\n",
       "      <th>is_active</th>\n",
       "      <th>duration_contract</th>\n",
       "      <th>...</th>\n",
       "      <th>partner</th>\n",
       "      <th>dependents</th>\n",
       "      <th>internet_service</th>\n",
       "      <th>online_security</th>\n",
       "      <th>online_backup</th>\n",
       "      <th>device_protection</th>\n",
       "      <th>tech_support</th>\n",
       "      <th>streaming_tv</th>\n",
       "      <th>streaming_movies</th>\n",
       "      <th>multiple_lines</th>\n",
       "    </tr>\n",
       "  </thead>\n",
       "  <tbody>\n",
       "    <tr>\n",
       "      <th>0</th>\n",
       "      <td>7590-VHVEG</td>\n",
       "      <td>2020-01-01</td>\n",
       "      <td>2020-02-01</td>\n",
       "      <td>Month-to-month</td>\n",
       "      <td>1</td>\n",
       "      <td>Electronic check</td>\n",
       "      <td>29.85</td>\n",
       "      <td>29.85</td>\n",
       "      <td>1</td>\n",
       "      <td>31</td>\n",
       "      <td>...</td>\n",
       "      <td>1</td>\n",
       "      <td>0</td>\n",
       "      <td>DSL</td>\n",
       "      <td>0.0</td>\n",
       "      <td>1.0</td>\n",
       "      <td>0.0</td>\n",
       "      <td>0.0</td>\n",
       "      <td>0.0</td>\n",
       "      <td>0.0</td>\n",
       "      <td>NaN</td>\n",
       "    </tr>\n",
       "    <tr>\n",
       "      <th>1</th>\n",
       "      <td>5575-GNVDE</td>\n",
       "      <td>2017-04-01</td>\n",
       "      <td>2020-02-01</td>\n",
       "      <td>One year</td>\n",
       "      <td>0</td>\n",
       "      <td>Mailed check</td>\n",
       "      <td>56.95</td>\n",
       "      <td>1889.50</td>\n",
       "      <td>1</td>\n",
       "      <td>1036</td>\n",
       "      <td>...</td>\n",
       "      <td>0</td>\n",
       "      <td>0</td>\n",
       "      <td>DSL</td>\n",
       "      <td>1.0</td>\n",
       "      <td>0.0</td>\n",
       "      <td>1.0</td>\n",
       "      <td>0.0</td>\n",
       "      <td>0.0</td>\n",
       "      <td>0.0</td>\n",
       "      <td>0.0</td>\n",
       "    </tr>\n",
       "    <tr>\n",
       "      <th>2</th>\n",
       "      <td>3668-QPYBK</td>\n",
       "      <td>2019-10-01</td>\n",
       "      <td>2019-12-01</td>\n",
       "      <td>Month-to-month</td>\n",
       "      <td>1</td>\n",
       "      <td>Mailed check</td>\n",
       "      <td>53.85</td>\n",
       "      <td>108.15</td>\n",
       "      <td>0</td>\n",
       "      <td>61</td>\n",
       "      <td>...</td>\n",
       "      <td>0</td>\n",
       "      <td>0</td>\n",
       "      <td>DSL</td>\n",
       "      <td>1.0</td>\n",
       "      <td>1.0</td>\n",
       "      <td>0.0</td>\n",
       "      <td>0.0</td>\n",
       "      <td>0.0</td>\n",
       "      <td>0.0</td>\n",
       "      <td>0.0</td>\n",
       "    </tr>\n",
       "    <tr>\n",
       "      <th>3</th>\n",
       "      <td>7795-CFOCW</td>\n",
       "      <td>2016-05-01</td>\n",
       "      <td>2020-02-01</td>\n",
       "      <td>One year</td>\n",
       "      <td>0</td>\n",
       "      <td>Bank transfer (automatic)</td>\n",
       "      <td>42.30</td>\n",
       "      <td>1840.75</td>\n",
       "      <td>1</td>\n",
       "      <td>1371</td>\n",
       "      <td>...</td>\n",
       "      <td>0</td>\n",
       "      <td>0</td>\n",
       "      <td>DSL</td>\n",
       "      <td>1.0</td>\n",
       "      <td>0.0</td>\n",
       "      <td>1.0</td>\n",
       "      <td>1.0</td>\n",
       "      <td>0.0</td>\n",
       "      <td>0.0</td>\n",
       "      <td>NaN</td>\n",
       "    </tr>\n",
       "    <tr>\n",
       "      <th>4</th>\n",
       "      <td>9237-HQITU</td>\n",
       "      <td>2019-09-01</td>\n",
       "      <td>2019-11-01</td>\n",
       "      <td>Month-to-month</td>\n",
       "      <td>1</td>\n",
       "      <td>Electronic check</td>\n",
       "      <td>70.70</td>\n",
       "      <td>151.65</td>\n",
       "      <td>0</td>\n",
       "      <td>61</td>\n",
       "      <td>...</td>\n",
       "      <td>0</td>\n",
       "      <td>0</td>\n",
       "      <td>Fiber optic</td>\n",
       "      <td>0.0</td>\n",
       "      <td>0.0</td>\n",
       "      <td>0.0</td>\n",
       "      <td>0.0</td>\n",
       "      <td>0.0</td>\n",
       "      <td>0.0</td>\n",
       "      <td>0.0</td>\n",
       "    </tr>\n",
       "  </tbody>\n",
       "</table>\n",
       "<p>5 rows × 22 columns</p>\n",
       "</div>"
      ],
      "text/plain": [
       "  customer_id begin_date   end_date            type  paperless_billing  \\\n",
       "0  7590-VHVEG 2020-01-01 2020-02-01  Month-to-month                  1   \n",
       "1  5575-GNVDE 2017-04-01 2020-02-01        One year                  0   \n",
       "2  3668-QPYBK 2019-10-01 2019-12-01  Month-to-month                  1   \n",
       "3  7795-CFOCW 2016-05-01 2020-02-01        One year                  0   \n",
       "4  9237-HQITU 2019-09-01 2019-11-01  Month-to-month                  1   \n",
       "\n",
       "              payment_method  monthly_charges  total_charges  is_active  \\\n",
       "0           Electronic check            29.85          29.85          1   \n",
       "1               Mailed check            56.95        1889.50          1   \n",
       "2               Mailed check            53.85         108.15          0   \n",
       "3  Bank transfer (automatic)            42.30        1840.75          1   \n",
       "4           Electronic check            70.70         151.65          0   \n",
       "\n",
       "   duration_contract  ...  partner  dependents  internet_service  \\\n",
       "0                 31  ...        1           0               DSL   \n",
       "1               1036  ...        0           0               DSL   \n",
       "2                 61  ...        0           0               DSL   \n",
       "3               1371  ...        0           0               DSL   \n",
       "4                 61  ...        0           0       Fiber optic   \n",
       "\n",
       "   online_security online_backup  device_protection  tech_support  \\\n",
       "0              0.0           1.0                0.0           0.0   \n",
       "1              1.0           0.0                1.0           0.0   \n",
       "2              1.0           1.0                0.0           0.0   \n",
       "3              1.0           0.0                1.0           1.0   \n",
       "4              0.0           0.0                0.0           0.0   \n",
       "\n",
       "   streaming_tv  streaming_movies  multiple_lines  \n",
       "0           0.0               0.0             NaN  \n",
       "1           0.0               0.0             0.0  \n",
       "2           0.0               0.0             0.0  \n",
       "3           0.0               0.0             NaN  \n",
       "4           0.0               0.0             0.0  \n",
       "\n",
       "[5 rows x 22 columns]"
      ]
     },
     "execution_count": 61,
     "metadata": {},
     "output_type": "execute_result"
    }
   ],
   "source": [
    "df_total = contract.merge(personal, on='customer_id', how='outer') \\\n",
    "                   .merge(internet, on='customer_id', how='outer') \\\n",
    "                   .merge(phone, on='customer_id', how='outer')\n",
    "df_total.head()"
   ]
  },
  {
   "cell_type": "markdown",
   "id": "307d8b6d",
   "metadata": {},
   "source": [
    "Посмотрим корреляцию столбцов"
   ]
  },
  {
   "cell_type": "code",
   "execution_count": 62,
   "id": "a3b4701c",
   "metadata": {},
   "outputs": [
    {
     "data": {
      "text/html": [
       "<style  type=\"text/css\" >\n",
       "</style><table id=\"T_c172a8c2_31c2_11ed_904e_acde48001122\" ><caption>df_total</caption><thead>    <tr>        <th class=\"blank level0\" ></th>        <th class=\"col_heading level0 col0\" >paperless_billing</th>        <th class=\"col_heading level0 col1\" >monthly_charges</th>        <th class=\"col_heading level0 col2\" >total_charges</th>        <th class=\"col_heading level0 col3\" >is_active</th>        <th class=\"col_heading level0 col4\" >duration_contract</th>        <th class=\"col_heading level0 col5\" >gender</th>        <th class=\"col_heading level0 col6\" >senior_citizen</th>        <th class=\"col_heading level0 col7\" >partner</th>        <th class=\"col_heading level0 col8\" >dependents</th>        <th class=\"col_heading level0 col9\" >online_security</th>        <th class=\"col_heading level0 col10\" >online_backup</th>        <th class=\"col_heading level0 col11\" >device_protection</th>        <th class=\"col_heading level0 col12\" >tech_support</th>        <th class=\"col_heading level0 col13\" >streaming_tv</th>        <th class=\"col_heading level0 col14\" >streaming_movies</th>        <th class=\"col_heading level0 col15\" >multiple_lines</th>    </tr></thead><tbody>\n",
       "                <tr>\n",
       "                        <th id=\"T_c172a8c2_31c2_11ed_904e_acde48001122level0_row0\" class=\"row_heading level0 row0\" >is_active</th>\n",
       "                        <td id=\"T_c172a8c2_31c2_11ed_904e_acde48001122row0_col0\" class=\"data row0 col0\" >-0.191825</td>\n",
       "                        <td id=\"T_c172a8c2_31c2_11ed_904e_acde48001122row0_col1\" class=\"data row0 col1\" >-0.193356</td>\n",
       "                        <td id=\"T_c172a8c2_31c2_11ed_904e_acde48001122row0_col2\" class=\"data row0 col2\" >0.198324</td>\n",
       "                        <td id=\"T_c172a8c2_31c2_11ed_904e_acde48001122row0_col3\" class=\"data row0 col3\" >1.000000</td>\n",
       "                        <td id=\"T_c172a8c2_31c2_11ed_904e_acde48001122row0_col4\" class=\"data row0 col4\" >0.352673</td>\n",
       "                        <td id=\"T_c172a8c2_31c2_11ed_904e_acde48001122row0_col5\" class=\"data row0 col5\" >0.008612</td>\n",
       "                        <td id=\"T_c172a8c2_31c2_11ed_904e_acde48001122row0_col6\" class=\"data row0 col6\" >-0.150889</td>\n",
       "                        <td id=\"T_c172a8c2_31c2_11ed_904e_acde48001122row0_col7\" class=\"data row0 col7\" >0.150448</td>\n",
       "                        <td id=\"T_c172a8c2_31c2_11ed_904e_acde48001122row0_col8\" class=\"data row0 col8\" >0.164221</td>\n",
       "                        <td id=\"T_c172a8c2_31c2_11ed_904e_acde48001122row0_col9\" class=\"data row0 col9\" >0.280816</td>\n",
       "                        <td id=\"T_c172a8c2_31c2_11ed_904e_acde48001122row0_col10\" class=\"data row0 col10\" >0.196061</td>\n",
       "                        <td id=\"T_c172a8c2_31c2_11ed_904e_acde48001122row0_col11\" class=\"data row0 col11\" >0.177125</td>\n",
       "                        <td id=\"T_c172a8c2_31c2_11ed_904e_acde48001122row0_col12\" class=\"data row0 col12\" >0.274422</td>\n",
       "                        <td id=\"T_c172a8c2_31c2_11ed_904e_acde48001122row0_col13\" class=\"data row0 col13\" >0.037057</td>\n",
       "                        <td id=\"T_c172a8c2_31c2_11ed_904e_acde48001122row0_col14\" class=\"data row0 col14\" >0.040132</td>\n",
       "                        <td id=\"T_c172a8c2_31c2_11ed_904e_acde48001122row0_col15\" class=\"data row0 col15\" >-0.040207</td>\n",
       "            </tr>\n",
       "            <tr>\n",
       "                        <th id=\"T_c172a8c2_31c2_11ed_904e_acde48001122level0_row1\" class=\"row_heading level0 row1\" >duration_contract</th>\n",
       "                        <td id=\"T_c172a8c2_31c2_11ed_904e_acde48001122row1_col0\" class=\"data row1 col0\" >0.006059</td>\n",
       "                        <td id=\"T_c172a8c2_31c2_11ed_904e_acde48001122row1_col1\" class=\"data row1 col1\" >0.247754</td>\n",
       "                        <td id=\"T_c172a8c2_31c2_11ed_904e_acde48001122row1_col2\" class=\"data row1 col2\" >0.826109</td>\n",
       "                        <td id=\"T_c172a8c2_31c2_11ed_904e_acde48001122row1_col3\" class=\"data row1 col3\" >0.352673</td>\n",
       "                        <td id=\"T_c172a8c2_31c2_11ed_904e_acde48001122row1_col4\" class=\"data row1 col4\" >1.000000</td>\n",
       "                        <td id=\"T_c172a8c2_31c2_11ed_904e_acde48001122row1_col5\" class=\"data row1 col5\" >0.005111</td>\n",
       "                        <td id=\"T_c172a8c2_31c2_11ed_904e_acde48001122row1_col6\" class=\"data row1 col6\" >0.016514</td>\n",
       "                        <td id=\"T_c172a8c2_31c2_11ed_904e_acde48001122row1_col7\" class=\"data row1 col7\" >0.379709</td>\n",
       "                        <td id=\"T_c172a8c2_31c2_11ed_904e_acde48001122row1_col8\" class=\"data row1 col8\" >0.159766</td>\n",
       "                        <td id=\"T_c172a8c2_31c2_11ed_904e_acde48001122row1_col9\" class=\"data row1 col9\" >0.376048</td>\n",
       "                        <td id=\"T_c172a8c2_31c2_11ed_904e_acde48001122row1_col10\" class=\"data row1 col10\" >0.421589</td>\n",
       "                        <td id=\"T_c172a8c2_31c2_11ed_904e_acde48001122row1_col11\" class=\"data row1 col11\" >0.421915</td>\n",
       "                        <td id=\"T_c172a8c2_31c2_11ed_904e_acde48001122row1_col12\" class=\"data row1 col12\" >0.372772</td>\n",
       "                        <td id=\"T_c172a8c2_31c2_11ed_904e_acde48001122row1_col13\" class=\"data row1 col13\" >0.326830</td>\n",
       "                        <td id=\"T_c172a8c2_31c2_11ed_904e_acde48001122row1_col14\" class=\"data row1 col14\" >0.335085</td>\n",
       "                        <td id=\"T_c172a8c2_31c2_11ed_904e_acde48001122row1_col15\" class=\"data row1 col15\" >0.360575</td>\n",
       "            </tr>\n",
       "            <tr>\n",
       "                        <th id=\"T_c172a8c2_31c2_11ed_904e_acde48001122level0_row2\" class=\"row_heading level0 row2\" >online_security</th>\n",
       "                        <td id=\"T_c172a8c2_31c2_11ed_904e_acde48001122row2_col0\" class=\"data row2 col0\" >-0.139168</td>\n",
       "                        <td id=\"T_c172a8c2_31c2_11ed_904e_acde48001122row2_col1\" class=\"data row2 col1\" >0.069118</td>\n",
       "                        <td id=\"T_c172a8c2_31c2_11ed_904e_acde48001122row2_col2\" class=\"data row2 col2\" >0.330410</td>\n",
       "                        <td id=\"T_c172a8c2_31c2_11ed_904e_acde48001122row2_col3\" class=\"data row2 col3\" >0.280816</td>\n",
       "                        <td id=\"T_c172a8c2_31c2_11ed_904e_acde48001122row2_col4\" class=\"data row2 col4\" >0.376048</td>\n",
       "                        <td id=\"T_c172a8c2_31c2_11ed_904e_acde48001122row2_col5\" class=\"data row2 col5\" >-0.017990</td>\n",
       "                        <td id=\"T_c172a8c2_31c2_11ed_904e_acde48001122row2_col6\" class=\"data row2 col6\" >-0.110473</td>\n",
       "                        <td id=\"T_c172a8c2_31c2_11ed_904e_acde48001122row2_col7\" class=\"data row2 col7\" >0.171751</td>\n",
       "                        <td id=\"T_c172a8c2_31c2_11ed_904e_acde48001122row2_col8\" class=\"data row2 col8\" >0.158531</td>\n",
       "                        <td id=\"T_c172a8c2_31c2_11ed_904e_acde48001122row2_col9\" class=\"data row2 col9\" >1.000000</td>\n",
       "                        <td id=\"T_c172a8c2_31c2_11ed_904e_acde48001122row2_col10\" class=\"data row2 col10\" >0.179711</td>\n",
       "                        <td id=\"T_c172a8c2_31c2_11ed_904e_acde48001122row2_col11\" class=\"data row2 col11\" >0.170336</td>\n",
       "                        <td id=\"T_c172a8c2_31c2_11ed_904e_acde48001122row2_col12\" class=\"data row2 col12\" >0.273472</td>\n",
       "                        <td id=\"T_c172a8c2_31c2_11ed_904e_acde48001122row2_col13\" class=\"data row2 col13\" >0.043918</td>\n",
       "                        <td id=\"T_c172a8c2_31c2_11ed_904e_acde48001122row2_col14\" class=\"data row2 col14\" >0.055842</td>\n",
       "                        <td id=\"T_c172a8c2_31c2_11ed_904e_acde48001122row2_col15\" class=\"data row2 col15\" >0.053720</td>\n",
       "            </tr>\n",
       "            <tr>\n",
       "                        <th id=\"T_c172a8c2_31c2_11ed_904e_acde48001122level0_row3\" class=\"row_heading level0 row3\" >tech_support</th>\n",
       "                        <td id=\"T_c172a8c2_31c2_11ed_904e_acde48001122row3_col0\" class=\"data row3 col0\" >-0.088224</td>\n",
       "                        <td id=\"T_c172a8c2_31c2_11ed_904e_acde48001122row3_col1\" class=\"data row3 col1\" >0.134233</td>\n",
       "                        <td id=\"T_c172a8c2_31c2_11ed_904e_acde48001122row3_col2\" class=\"data row3 col2\" >0.352871</td>\n",
       "                        <td id=\"T_c172a8c2_31c2_11ed_904e_acde48001122row3_col3\" class=\"data row3 col3\" >0.274422</td>\n",
       "                        <td id=\"T_c172a8c2_31c2_11ed_904e_acde48001122row3_col4\" class=\"data row3 col4\" >0.372772</td>\n",
       "                        <td id=\"T_c172a8c2_31c2_11ed_904e_acde48001122row3_col5\" class=\"data row3 col5\" >-0.008620</td>\n",
       "                        <td id=\"T_c172a8c2_31c2_11ed_904e_acde48001122row3_col6\" class=\"data row3 col6\" >-0.135584</td>\n",
       "                        <td id=\"T_c172a8c2_31c2_11ed_904e_acde48001122row3_col7\" class=\"data row3 col7\" >0.144218</td>\n",
       "                        <td id=\"T_c172a8c2_31c2_11ed_904e_acde48001122row3_col8\" class=\"data row3 col8\" >0.137187</td>\n",
       "                        <td id=\"T_c172a8c2_31c2_11ed_904e_acde48001122row3_col9\" class=\"data row3 col9\" >0.273472</td>\n",
       "                        <td id=\"T_c172a8c2_31c2_11ed_904e_acde48001122row3_col10\" class=\"data row3 col10\" >0.190586</td>\n",
       "                        <td id=\"T_c172a8c2_31c2_11ed_904e_acde48001122row3_col11\" class=\"data row3 col11\" >0.235716</td>\n",
       "                        <td id=\"T_c172a8c2_31c2_11ed_904e_acde48001122row3_col12\" class=\"data row3 col12\" >1.000000</td>\n",
       "                        <td id=\"T_c172a8c2_31c2_11ed_904e_acde48001122row3_col13\" class=\"data row3 col13\" >0.161478</td>\n",
       "                        <td id=\"T_c172a8c2_31c2_11ed_904e_acde48001122row3_col14\" class=\"data row3 col14\" >0.162011</td>\n",
       "                        <td id=\"T_c172a8c2_31c2_11ed_904e_acde48001122row3_col15\" class=\"data row3 col15\" >0.057624</td>\n",
       "            </tr>\n",
       "            <tr>\n",
       "                        <th id=\"T_c172a8c2_31c2_11ed_904e_acde48001122level0_row4\" class=\"row_heading level0 row4\" >total_charges</th>\n",
       "                        <td id=\"T_c172a8c2_31c2_11ed_904e_acde48001122row4_col0\" class=\"data row4 col0\" >0.158574</td>\n",
       "                        <td id=\"T_c172a8c2_31c2_11ed_904e_acde48001122row4_col1\" class=\"data row4 col1\" >0.651174</td>\n",
       "                        <td id=\"T_c172a8c2_31c2_11ed_904e_acde48001122row4_col2\" class=\"data row4 col2\" >1.000000</td>\n",
       "                        <td id=\"T_c172a8c2_31c2_11ed_904e_acde48001122row4_col3\" class=\"data row4 col3\" >0.198324</td>\n",
       "                        <td id=\"T_c172a8c2_31c2_11ed_904e_acde48001122row4_col4\" class=\"data row4 col4\" >0.826109</td>\n",
       "                        <td id=\"T_c172a8c2_31c2_11ed_904e_acde48001122row4_col5\" class=\"data row4 col5\" >-0.000080</td>\n",
       "                        <td id=\"T_c172a8c2_31c2_11ed_904e_acde48001122row4_col6\" class=\"data row4 col6\" >0.103006</td>\n",
       "                        <td id=\"T_c172a8c2_31c2_11ed_904e_acde48001122row4_col7\" class=\"data row4 col7\" >0.317504</td>\n",
       "                        <td id=\"T_c172a8c2_31c2_11ed_904e_acde48001122row4_col8\" class=\"data row4 col8\" >0.062078</td>\n",
       "                        <td id=\"T_c172a8c2_31c2_11ed_904e_acde48001122row4_col9\" class=\"data row4 col9\" >0.330410</td>\n",
       "                        <td id=\"T_c172a8c2_31c2_11ed_904e_acde48001122row4_col10\" class=\"data row4 col10\" >0.430497</td>\n",
       "                        <td id=\"T_c172a8c2_31c2_11ed_904e_acde48001122row4_col11\" class=\"data row4 col11\" >0.445703</td>\n",
       "                        <td id=\"T_c172a8c2_31c2_11ed_904e_acde48001122row4_col12\" class=\"data row4 col12\" >0.352871</td>\n",
       "                        <td id=\"T_c172a8c2_31c2_11ed_904e_acde48001122row4_col13\" class=\"data row4 col13\" >0.429123</td>\n",
       "                        <td id=\"T_c172a8c2_31c2_11ed_904e_acde48001122row4_col14\" class=\"data row4 col14\" >0.434561</td>\n",
       "                        <td id=\"T_c172a8c2_31c2_11ed_904e_acde48001122row4_col15\" class=\"data row4 col15\" >0.466008</td>\n",
       "            </tr>\n",
       "            <tr>\n",
       "                        <th id=\"T_c172a8c2_31c2_11ed_904e_acde48001122level0_row5\" class=\"row_heading level0 row5\" >online_backup</th>\n",
       "                        <td id=\"T_c172a8c2_31c2_11ed_904e_acde48001122row5_col0\" class=\"data row5 col0\" >0.005437</td>\n",
       "                        <td id=\"T_c172a8c2_31c2_11ed_904e_acde48001122row5_col1\" class=\"data row5 col1\" >0.252337</td>\n",
       "                        <td id=\"T_c172a8c2_31c2_11ed_904e_acde48001122row5_col2\" class=\"data row5 col2\" >0.430497</td>\n",
       "                        <td id=\"T_c172a8c2_31c2_11ed_904e_acde48001122row5_col3\" class=\"data row5 col3\" >0.196061</td>\n",
       "                        <td id=\"T_c172a8c2_31c2_11ed_904e_acde48001122row5_col4\" class=\"data row5 col4\" >0.421589</td>\n",
       "                        <td id=\"T_c172a8c2_31c2_11ed_904e_acde48001122row5_col5\" class=\"data row5 col5\" >-0.014025</td>\n",
       "                        <td id=\"T_c172a8c2_31c2_11ed_904e_acde48001122row5_col6\" class=\"data row5 col6\" >-0.003577</td>\n",
       "                        <td id=\"T_c172a8c2_31c2_11ed_904e_acde48001122row5_col7\" class=\"data row5 col7\" >0.173251</td>\n",
       "                        <td id=\"T_c172a8c2_31c2_11ed_904e_acde48001122row5_col8\" class=\"data row5 col8\" >0.097615</td>\n",
       "                        <td id=\"T_c172a8c2_31c2_11ed_904e_acde48001122row5_col9\" class=\"data row5 col9\" >0.179711</td>\n",
       "                        <td id=\"T_c172a8c2_31c2_11ed_904e_acde48001122row5_col10\" class=\"data row5 col10\" >1.000000</td>\n",
       "                        <td id=\"T_c172a8c2_31c2_11ed_904e_acde48001122row5_col11\" class=\"data row5 col11\" >0.185155</td>\n",
       "                        <td id=\"T_c172a8c2_31c2_11ed_904e_acde48001122row5_col12\" class=\"data row5 col12\" >0.190586</td>\n",
       "                        <td id=\"T_c172a8c2_31c2_11ed_904e_acde48001122row5_col13\" class=\"data row5 col13\" >0.146935</td>\n",
       "                        <td id=\"T_c172a8c2_31c2_11ed_904e_acde48001122row5_col14\" class=\"data row5 col14\" >0.136687</td>\n",
       "                        <td id=\"T_c172a8c2_31c2_11ed_904e_acde48001122row5_col15\" class=\"data row5 col15\" >0.162423</td>\n",
       "            </tr>\n",
       "            <tr>\n",
       "                        <th id=\"T_c172a8c2_31c2_11ed_904e_acde48001122level0_row6\" class=\"row_heading level0 row6\" >monthly_charges</th>\n",
       "                        <td id=\"T_c172a8c2_31c2_11ed_904e_acde48001122row6_col0\" class=\"data row6 col0\" >0.352150</td>\n",
       "                        <td id=\"T_c172a8c2_31c2_11ed_904e_acde48001122row6_col1\" class=\"data row6 col1\" >1.000000</td>\n",
       "                        <td id=\"T_c172a8c2_31c2_11ed_904e_acde48001122row6_col2\" class=\"data row6 col2\" >0.651174</td>\n",
       "                        <td id=\"T_c172a8c2_31c2_11ed_904e_acde48001122row6_col3\" class=\"data row6 col3\" >-0.193356</td>\n",
       "                        <td id=\"T_c172a8c2_31c2_11ed_904e_acde48001122row6_col4\" class=\"data row6 col4\" >0.247754</td>\n",
       "                        <td id=\"T_c172a8c2_31c2_11ed_904e_acde48001122row6_col5\" class=\"data row6 col5\" >-0.014569</td>\n",
       "                        <td id=\"T_c172a8c2_31c2_11ed_904e_acde48001122row6_col6\" class=\"data row6 col6\" >0.220173</td>\n",
       "                        <td id=\"T_c172a8c2_31c2_11ed_904e_acde48001122row6_col7\" class=\"data row6 col7\" >0.096848</td>\n",
       "                        <td id=\"T_c172a8c2_31c2_11ed_904e_acde48001122row6_col8\" class=\"data row6 col8\" >-0.113890</td>\n",
       "                        <td id=\"T_c172a8c2_31c2_11ed_904e_acde48001122row6_col9\" class=\"data row6 col9\" >0.069118</td>\n",
       "                        <td id=\"T_c172a8c2_31c2_11ed_904e_acde48001122row6_col10\" class=\"data row6 col10\" >0.252337</td>\n",
       "                        <td id=\"T_c172a8c2_31c2_11ed_904e_acde48001122row6_col11\" class=\"data row6 col11\" >0.321927</td>\n",
       "                        <td id=\"T_c172a8c2_31c2_11ed_904e_acde48001122row6_col12\" class=\"data row6 col12\" >0.134233</td>\n",
       "                        <td id=\"T_c172a8c2_31c2_11ed_904e_acde48001122row6_col13\" class=\"data row6 col13\" >0.532439</td>\n",
       "                        <td id=\"T_c172a8c2_31c2_11ed_904e_acde48001122row6_col14\" class=\"data row6 col14\" >0.525495</td>\n",
       "                        <td id=\"T_c172a8c2_31c2_11ed_904e_acde48001122row6_col15\" class=\"data row6 col15\" >0.456223</td>\n",
       "            </tr>\n",
       "            <tr>\n",
       "                        <th id=\"T_c172a8c2_31c2_11ed_904e_acde48001122level0_row7\" class=\"row_heading level0 row7\" >paperless_billing</th>\n",
       "                        <td id=\"T_c172a8c2_31c2_11ed_904e_acde48001122row7_col0\" class=\"data row7 col0\" >1.000000</td>\n",
       "                        <td id=\"T_c172a8c2_31c2_11ed_904e_acde48001122row7_col1\" class=\"data row7 col1\" >0.352150</td>\n",
       "                        <td id=\"T_c172a8c2_31c2_11ed_904e_acde48001122row7_col2\" class=\"data row7 col2\" >0.158574</td>\n",
       "                        <td id=\"T_c172a8c2_31c2_11ed_904e_acde48001122row7_col3\" class=\"data row7 col3\" >-0.191825</td>\n",
       "                        <td id=\"T_c172a8c2_31c2_11ed_904e_acde48001122row7_col4\" class=\"data row7 col4\" >0.006059</td>\n",
       "                        <td id=\"T_c172a8c2_31c2_11ed_904e_acde48001122row7_col5\" class=\"data row7 col5\" >-0.011754</td>\n",
       "                        <td id=\"T_c172a8c2_31c2_11ed_904e_acde48001122row7_col6\" class=\"data row7 col6\" >0.156530</td>\n",
       "                        <td id=\"T_c172a8c2_31c2_11ed_904e_acde48001122row7_col7\" class=\"data row7 col7\" >-0.014877</td>\n",
       "                        <td id=\"T_c172a8c2_31c2_11ed_904e_acde48001122row7_col8\" class=\"data row7 col8\" >-0.111377</td>\n",
       "                        <td id=\"T_c172a8c2_31c2_11ed_904e_acde48001122row7_col9\" class=\"data row7 col9\" >-0.139168</td>\n",
       "                        <td id=\"T_c172a8c2_31c2_11ed_904e_acde48001122row7_col10\" class=\"data row7 col10\" >0.005437</td>\n",
       "                        <td id=\"T_c172a8c2_31c2_11ed_904e_acde48001122row7_col11\" class=\"data row7 col11\" >-0.023632</td>\n",
       "                        <td id=\"T_c172a8c2_31c2_11ed_904e_acde48001122row7_col12\" class=\"data row7 col12\" >-0.088224</td>\n",
       "                        <td id=\"T_c172a8c2_31c2_11ed_904e_acde48001122row7_col13\" class=\"data row7 col13\" >0.117895</td>\n",
       "                        <td id=\"T_c172a8c2_31c2_11ed_904e_acde48001122row7_col14\" class=\"data row7 col14\" >0.100942</td>\n",
       "                        <td id=\"T_c172a8c2_31c2_11ed_904e_acde48001122row7_col15\" class=\"data row7 col15\" >0.174347</td>\n",
       "            </tr>\n",
       "            <tr>\n",
       "                        <th id=\"T_c172a8c2_31c2_11ed_904e_acde48001122level0_row8\" class=\"row_heading level0 row8\" >device_protection</th>\n",
       "                        <td id=\"T_c172a8c2_31c2_11ed_904e_acde48001122row8_col0\" class=\"data row8 col0\" >-0.023632</td>\n",
       "                        <td id=\"T_c172a8c2_31c2_11ed_904e_acde48001122row8_col1\" class=\"data row8 col1\" >0.321927</td>\n",
       "                        <td id=\"T_c172a8c2_31c2_11ed_904e_acde48001122row8_col2\" class=\"data row8 col2\" >0.445703</td>\n",
       "                        <td id=\"T_c172a8c2_31c2_11ed_904e_acde48001122row8_col3\" class=\"data row8 col3\" >0.177125</td>\n",
       "                        <td id=\"T_c172a8c2_31c2_11ed_904e_acde48001122row8_col4\" class=\"data row8 col4\" >0.421915</td>\n",
       "                        <td id=\"T_c172a8c2_31c2_11ed_904e_acde48001122row8_col5\" class=\"data row8 col5\" >0.000232</td>\n",
       "                        <td id=\"T_c172a8c2_31c2_11ed_904e_acde48001122row8_col6\" class=\"data row8 col6\" >-0.011482</td>\n",
       "                        <td id=\"T_c172a8c2_31c2_11ed_904e_acde48001122row8_col7\" class=\"data row8 col7\" >0.188201</td>\n",
       "                        <td id=\"T_c172a8c2_31c2_11ed_904e_acde48001122row8_col8\" class=\"data row8 col8\" >0.085130</td>\n",
       "                        <td id=\"T_c172a8c2_31c2_11ed_904e_acde48001122row8_col9\" class=\"data row8 col9\" >0.170336</td>\n",
       "                        <td id=\"T_c172a8c2_31c2_11ed_904e_acde48001122row8_col10\" class=\"data row8 col10\" >0.185155</td>\n",
       "                        <td id=\"T_c172a8c2_31c2_11ed_904e_acde48001122row8_col11\" class=\"data row8 col11\" >1.000000</td>\n",
       "                        <td id=\"T_c172a8c2_31c2_11ed_904e_acde48001122row8_col12\" class=\"data row8 col12\" >0.235716</td>\n",
       "                        <td id=\"T_c172a8c2_31c2_11ed_904e_acde48001122row8_col13\" class=\"data row8 col13\" >0.276617</td>\n",
       "                        <td id=\"T_c172a8c2_31c2_11ed_904e_acde48001122row8_col14\" class=\"data row8 col14\" >0.289019</td>\n",
       "                        <td id=\"T_c172a8c2_31c2_11ed_904e_acde48001122row8_col15\" class=\"data row8 col15\" >0.169818</td>\n",
       "            </tr>\n",
       "            <tr>\n",
       "                        <th id=\"T_c172a8c2_31c2_11ed_904e_acde48001122level0_row9\" class=\"row_heading level0 row9\" >dependents</th>\n",
       "                        <td id=\"T_c172a8c2_31c2_11ed_904e_acde48001122row9_col0\" class=\"data row9 col0\" >-0.111377</td>\n",
       "                        <td id=\"T_c172a8c2_31c2_11ed_904e_acde48001122row9_col1\" class=\"data row9 col1\" >-0.113890</td>\n",
       "                        <td id=\"T_c172a8c2_31c2_11ed_904e_acde48001122row9_col2\" class=\"data row9 col2\" >0.062078</td>\n",
       "                        <td id=\"T_c172a8c2_31c2_11ed_904e_acde48001122row9_col3\" class=\"data row9 col3\" >0.164221</td>\n",
       "                        <td id=\"T_c172a8c2_31c2_11ed_904e_acde48001122row9_col4\" class=\"data row9 col4\" >0.159766</td>\n",
       "                        <td id=\"T_c172a8c2_31c2_11ed_904e_acde48001122row9_col5\" class=\"data row9 col5\" >0.010517</td>\n",
       "                        <td id=\"T_c172a8c2_31c2_11ed_904e_acde48001122row9_col6\" class=\"data row9 col6\" >-0.211185</td>\n",
       "                        <td id=\"T_c172a8c2_31c2_11ed_904e_acde48001122row9_col7\" class=\"data row9 col7\" >0.452676</td>\n",
       "                        <td id=\"T_c172a8c2_31c2_11ed_904e_acde48001122row9_col8\" class=\"data row9 col8\" >1.000000</td>\n",
       "                        <td id=\"T_c172a8c2_31c2_11ed_904e_acde48001122row9_col9\" class=\"data row9 col9\" >0.158531</td>\n",
       "                        <td id=\"T_c172a8c2_31c2_11ed_904e_acde48001122row9_col10\" class=\"data row9 col10\" >0.097615</td>\n",
       "                        <td id=\"T_c172a8c2_31c2_11ed_904e_acde48001122row9_col11\" class=\"data row9 col11\" >0.085130</td>\n",
       "                        <td id=\"T_c172a8c2_31c2_11ed_904e_acde48001122row9_col12\" class=\"data row9 col12\" >0.137187</td>\n",
       "                        <td id=\"T_c172a8c2_31c2_11ed_904e_acde48001122row9_col13\" class=\"data row9 col13\" >0.053502</td>\n",
       "                        <td id=\"T_c172a8c2_31c2_11ed_904e_acde48001122row9_col14\" class=\"data row9 col14\" >0.024245</td>\n",
       "                        <td id=\"T_c172a8c2_31c2_11ed_904e_acde48001122row9_col15\" class=\"data row9 col15\" >-0.026347</td>\n",
       "            </tr>\n",
       "            <tr>\n",
       "                        <th id=\"T_c172a8c2_31c2_11ed_904e_acde48001122level0_row10\" class=\"row_heading level0 row10\" >senior_citizen</th>\n",
       "                        <td id=\"T_c172a8c2_31c2_11ed_904e_acde48001122row10_col0\" class=\"data row10 col0\" >0.156530</td>\n",
       "                        <td id=\"T_c172a8c2_31c2_11ed_904e_acde48001122row10_col1\" class=\"data row10 col1\" >0.220173</td>\n",
       "                        <td id=\"T_c172a8c2_31c2_11ed_904e_acde48001122row10_col2\" class=\"data row10 col2\" >0.103006</td>\n",
       "                        <td id=\"T_c172a8c2_31c2_11ed_904e_acde48001122row10_col3\" class=\"data row10 col3\" >-0.150889</td>\n",
       "                        <td id=\"T_c172a8c2_31c2_11ed_904e_acde48001122row10_col4\" class=\"data row10 col4\" >0.016514</td>\n",
       "                        <td id=\"T_c172a8c2_31c2_11ed_904e_acde48001122row10_col5\" class=\"data row10 col5\" >-0.001874</td>\n",
       "                        <td id=\"T_c172a8c2_31c2_11ed_904e_acde48001122row10_col6\" class=\"data row10 col6\" >1.000000</td>\n",
       "                        <td id=\"T_c172a8c2_31c2_11ed_904e_acde48001122row10_col7\" class=\"data row10 col7\" >0.016479</td>\n",
       "                        <td id=\"T_c172a8c2_31c2_11ed_904e_acde48001122row10_col8\" class=\"data row10 col8\" >-0.211185</td>\n",
       "                        <td id=\"T_c172a8c2_31c2_11ed_904e_acde48001122row10_col9\" class=\"data row10 col9\" >-0.110473</td>\n",
       "                        <td id=\"T_c172a8c2_31c2_11ed_904e_acde48001122row10_col10\" class=\"data row10 col10\" >-0.003577</td>\n",
       "                        <td id=\"T_c172a8c2_31c2_11ed_904e_acde48001122row10_col11\" class=\"data row10 col11\" >-0.011482</td>\n",
       "                        <td id=\"T_c172a8c2_31c2_11ed_904e_acde48001122row10_col12\" class=\"data row10 col12\" >-0.135584</td>\n",
       "                        <td id=\"T_c172a8c2_31c2_11ed_904e_acde48001122row10_col13\" class=\"data row10 col13\" >0.033852</td>\n",
       "                        <td id=\"T_c172a8c2_31c2_11ed_904e_acde48001122row10_col14\" class=\"data row10 col14\" >0.050292</td>\n",
       "                        <td id=\"T_c172a8c2_31c2_11ed_904e_acde48001122row10_col15\" class=\"data row10 col15\" >0.153645</td>\n",
       "            </tr>\n",
       "            <tr>\n",
       "                        <th id=\"T_c172a8c2_31c2_11ed_904e_acde48001122level0_row11\" class=\"row_heading level0 row11\" >partner</th>\n",
       "                        <td id=\"T_c172a8c2_31c2_11ed_904e_acde48001122row11_col0\" class=\"data row11 col0\" >-0.014877</td>\n",
       "                        <td id=\"T_c172a8c2_31c2_11ed_904e_acde48001122row11_col1\" class=\"data row11 col1\" >0.096848</td>\n",
       "                        <td id=\"T_c172a8c2_31c2_11ed_904e_acde48001122row11_col2\" class=\"data row11 col2\" >0.317504</td>\n",
       "                        <td id=\"T_c172a8c2_31c2_11ed_904e_acde48001122row11_col3\" class=\"data row11 col3\" >0.150448</td>\n",
       "                        <td id=\"T_c172a8c2_31c2_11ed_904e_acde48001122row11_col4\" class=\"data row11 col4\" >0.379709</td>\n",
       "                        <td id=\"T_c172a8c2_31c2_11ed_904e_acde48001122row11_col5\" class=\"data row11 col5\" >-0.001808</td>\n",
       "                        <td id=\"T_c172a8c2_31c2_11ed_904e_acde48001122row11_col6\" class=\"data row11 col6\" >0.016479</td>\n",
       "                        <td id=\"T_c172a8c2_31c2_11ed_904e_acde48001122row11_col7\" class=\"data row11 col7\" >1.000000</td>\n",
       "                        <td id=\"T_c172a8c2_31c2_11ed_904e_acde48001122row11_col8\" class=\"data row11 col8\" >0.452676</td>\n",
       "                        <td id=\"T_c172a8c2_31c2_11ed_904e_acde48001122row11_col9\" class=\"data row11 col9\" >0.171751</td>\n",
       "                        <td id=\"T_c172a8c2_31c2_11ed_904e_acde48001122row11_col10\" class=\"data row11 col10\" >0.173251</td>\n",
       "                        <td id=\"T_c172a8c2_31c2_11ed_904e_acde48001122row11_col11\" class=\"data row11 col11\" >0.188201</td>\n",
       "                        <td id=\"T_c172a8c2_31c2_11ed_904e_acde48001122row11_col12\" class=\"data row11 col12\" >0.144218</td>\n",
       "                        <td id=\"T_c172a8c2_31c2_11ed_904e_acde48001122row11_col13\" class=\"data row11 col13\" >0.155179</td>\n",
       "                        <td id=\"T_c172a8c2_31c2_11ed_904e_acde48001122row11_col14\" class=\"data row11 col14\" >0.146401</td>\n",
       "                        <td id=\"T_c172a8c2_31c2_11ed_904e_acde48001122row11_col15\" class=\"data row11 col15\" >0.150238</td>\n",
       "            </tr>\n",
       "            <tr>\n",
       "                        <th id=\"T_c172a8c2_31c2_11ed_904e_acde48001122level0_row12\" class=\"row_heading level0 row12\" >multiple_lines</th>\n",
       "                        <td id=\"T_c172a8c2_31c2_11ed_904e_acde48001122row12_col0\" class=\"data row12 col0\" >0.174347</td>\n",
       "                        <td id=\"T_c172a8c2_31c2_11ed_904e_acde48001122row12_col1\" class=\"data row12 col1\" >0.456223</td>\n",
       "                        <td id=\"T_c172a8c2_31c2_11ed_904e_acde48001122row12_col2\" class=\"data row12 col2\" >0.466008</td>\n",
       "                        <td id=\"T_c172a8c2_31c2_11ed_904e_acde48001122row12_col3\" class=\"data row12 col3\" >-0.040207</td>\n",
       "                        <td id=\"T_c172a8c2_31c2_11ed_904e_acde48001122row12_col4\" class=\"data row12 col4\" >0.360575</td>\n",
       "                        <td id=\"T_c172a8c2_31c2_11ed_904e_acde48001122row12_col5\" class=\"data row12 col5\" >-0.007232</td>\n",
       "                        <td id=\"T_c172a8c2_31c2_11ed_904e_acde48001122row12_col6\" class=\"data row12 col6\" >0.153645</td>\n",
       "                        <td id=\"T_c172a8c2_31c2_11ed_904e_acde48001122row12_col7\" class=\"data row12 col7\" >0.150238</td>\n",
       "                        <td id=\"T_c172a8c2_31c2_11ed_904e_acde48001122row12_col8\" class=\"data row12 col8\" >-0.026347</td>\n",
       "                        <td id=\"T_c172a8c2_31c2_11ed_904e_acde48001122row12_col9\" class=\"data row12 col9\" >0.053720</td>\n",
       "                        <td id=\"T_c172a8c2_31c2_11ed_904e_acde48001122row12_col10\" class=\"data row12 col10\" >0.162423</td>\n",
       "                        <td id=\"T_c172a8c2_31c2_11ed_904e_acde48001122row12_col11\" class=\"data row12 col11\" >0.169818</td>\n",
       "                        <td id=\"T_c172a8c2_31c2_11ed_904e_acde48001122row12_col12\" class=\"data row12 col12\" >0.057624</td>\n",
       "                        <td id=\"T_c172a8c2_31c2_11ed_904e_acde48001122row12_col13\" class=\"data row12 col13\" >0.215971</td>\n",
       "                        <td id=\"T_c172a8c2_31c2_11ed_904e_acde48001122row12_col14\" class=\"data row12 col14\" >0.222183</td>\n",
       "                        <td id=\"T_c172a8c2_31c2_11ed_904e_acde48001122row12_col15\" class=\"data row12 col15\" >1.000000</td>\n",
       "            </tr>\n",
       "            <tr>\n",
       "                        <th id=\"T_c172a8c2_31c2_11ed_904e_acde48001122level0_row13\" class=\"row_heading level0 row13\" >streaming_movies</th>\n",
       "                        <td id=\"T_c172a8c2_31c2_11ed_904e_acde48001122row13_col0\" class=\"data row13 col0\" >0.100942</td>\n",
       "                        <td id=\"T_c172a8c2_31c2_11ed_904e_acde48001122row13_col1\" class=\"data row13 col1\" >0.525495</td>\n",
       "                        <td id=\"T_c172a8c2_31c2_11ed_904e_acde48001122row13_col2\" class=\"data row13 col2\" >0.434561</td>\n",
       "                        <td id=\"T_c172a8c2_31c2_11ed_904e_acde48001122row13_col3\" class=\"data row13 col3\" >0.040132</td>\n",
       "                        <td id=\"T_c172a8c2_31c2_11ed_904e_acde48001122row13_col4\" class=\"data row13 col4\" >0.335085</td>\n",
       "                        <td id=\"T_c172a8c2_31c2_11ed_904e_acde48001122row13_col5\" class=\"data row13 col5\" >-0.009909</td>\n",
       "                        <td id=\"T_c172a8c2_31c2_11ed_904e_acde48001122row13_col6\" class=\"data row13 col6\" >0.050292</td>\n",
       "                        <td id=\"T_c172a8c2_31c2_11ed_904e_acde48001122row13_col7\" class=\"data row13 col7\" >0.146401</td>\n",
       "                        <td id=\"T_c172a8c2_31c2_11ed_904e_acde48001122row13_col8\" class=\"data row13 col8\" >0.024245</td>\n",
       "                        <td id=\"T_c172a8c2_31c2_11ed_904e_acde48001122row13_col9\" class=\"data row13 col9\" >0.055842</td>\n",
       "                        <td id=\"T_c172a8c2_31c2_11ed_904e_acde48001122row13_col10\" class=\"data row13 col10\" >0.136687</td>\n",
       "                        <td id=\"T_c172a8c2_31c2_11ed_904e_acde48001122row13_col11\" class=\"data row13 col11\" >0.289019</td>\n",
       "                        <td id=\"T_c172a8c2_31c2_11ed_904e_acde48001122row13_col12\" class=\"data row13 col12\" >0.162011</td>\n",
       "                        <td id=\"T_c172a8c2_31c2_11ed_904e_acde48001122row13_col13\" class=\"data row13 col13\" >0.434754</td>\n",
       "                        <td id=\"T_c172a8c2_31c2_11ed_904e_acde48001122row13_col14\" class=\"data row13 col14\" >1.000000</td>\n",
       "                        <td id=\"T_c172a8c2_31c2_11ed_904e_acde48001122row13_col15\" class=\"data row13 col15\" >0.222183</td>\n",
       "            </tr>\n",
       "            <tr>\n",
       "                        <th id=\"T_c172a8c2_31c2_11ed_904e_acde48001122level0_row14\" class=\"row_heading level0 row14\" >streaming_tv</th>\n",
       "                        <td id=\"T_c172a8c2_31c2_11ed_904e_acde48001122row14_col0\" class=\"data row14 col0\" >0.117895</td>\n",
       "                        <td id=\"T_c172a8c2_31c2_11ed_904e_acde48001122row14_col1\" class=\"data row14 col1\" >0.532439</td>\n",
       "                        <td id=\"T_c172a8c2_31c2_11ed_904e_acde48001122row14_col2\" class=\"data row14 col2\" >0.429123</td>\n",
       "                        <td id=\"T_c172a8c2_31c2_11ed_904e_acde48001122row14_col3\" class=\"data row14 col3\" >0.037057</td>\n",
       "                        <td id=\"T_c172a8c2_31c2_11ed_904e_acde48001122row14_col4\" class=\"data row14 col4\" >0.326830</td>\n",
       "                        <td id=\"T_c172a8c2_31c2_11ed_904e_acde48001122row14_col5\" class=\"data row14 col5\" >-0.007315</td>\n",
       "                        <td id=\"T_c172a8c2_31c2_11ed_904e_acde48001122row14_col6\" class=\"data row14 col6\" >0.033852</td>\n",
       "                        <td id=\"T_c172a8c2_31c2_11ed_904e_acde48001122row14_col7\" class=\"data row14 col7\" >0.155179</td>\n",
       "                        <td id=\"T_c172a8c2_31c2_11ed_904e_acde48001122row14_col8\" class=\"data row14 col8\" >0.053502</td>\n",
       "                        <td id=\"T_c172a8c2_31c2_11ed_904e_acde48001122row14_col9\" class=\"data row14 col9\" >0.043918</td>\n",
       "                        <td id=\"T_c172a8c2_31c2_11ed_904e_acde48001122row14_col10\" class=\"data row14 col10\" >0.146935</td>\n",
       "                        <td id=\"T_c172a8c2_31c2_11ed_904e_acde48001122row14_col11\" class=\"data row14 col11\" >0.276617</td>\n",
       "                        <td id=\"T_c172a8c2_31c2_11ed_904e_acde48001122row14_col12\" class=\"data row14 col12\" >0.161478</td>\n",
       "                        <td id=\"T_c172a8c2_31c2_11ed_904e_acde48001122row14_col13\" class=\"data row14 col13\" >1.000000</td>\n",
       "                        <td id=\"T_c172a8c2_31c2_11ed_904e_acde48001122row14_col14\" class=\"data row14 col14\" >0.434754</td>\n",
       "                        <td id=\"T_c172a8c2_31c2_11ed_904e_acde48001122row14_col15\" class=\"data row14 col15\" >0.215971</td>\n",
       "            </tr>\n",
       "            <tr>\n",
       "                        <th id=\"T_c172a8c2_31c2_11ed_904e_acde48001122level0_row15\" class=\"row_heading level0 row15\" >gender</th>\n",
       "                        <td id=\"T_c172a8c2_31c2_11ed_904e_acde48001122row15_col0\" class=\"data row15 col0\" >-0.011754</td>\n",
       "                        <td id=\"T_c172a8c2_31c2_11ed_904e_acde48001122row15_col1\" class=\"data row15 col1\" >-0.014569</td>\n",
       "                        <td id=\"T_c172a8c2_31c2_11ed_904e_acde48001122row15_col2\" class=\"data row15 col2\" >-0.000080</td>\n",
       "                        <td id=\"T_c172a8c2_31c2_11ed_904e_acde48001122row15_col3\" class=\"data row15 col3\" >0.008612</td>\n",
       "                        <td id=\"T_c172a8c2_31c2_11ed_904e_acde48001122row15_col4\" class=\"data row15 col4\" >0.005111</td>\n",
       "                        <td id=\"T_c172a8c2_31c2_11ed_904e_acde48001122row15_col5\" class=\"data row15 col5\" >1.000000</td>\n",
       "                        <td id=\"T_c172a8c2_31c2_11ed_904e_acde48001122row15_col6\" class=\"data row15 col6\" >-0.001874</td>\n",
       "                        <td id=\"T_c172a8c2_31c2_11ed_904e_acde48001122row15_col7\" class=\"data row15 col7\" >-0.001808</td>\n",
       "                        <td id=\"T_c172a8c2_31c2_11ed_904e_acde48001122row15_col8\" class=\"data row15 col8\" >0.010517</td>\n",
       "                        <td id=\"T_c172a8c2_31c2_11ed_904e_acde48001122row15_col9\" class=\"data row15 col9\" >-0.017990</td>\n",
       "                        <td id=\"T_c172a8c2_31c2_11ed_904e_acde48001122row15_col10\" class=\"data row15 col10\" >-0.014025</td>\n",
       "                        <td id=\"T_c172a8c2_31c2_11ed_904e_acde48001122row15_col11\" class=\"data row15 col11\" >0.000232</td>\n",
       "                        <td id=\"T_c172a8c2_31c2_11ed_904e_acde48001122row15_col12\" class=\"data row15 col12\" >-0.008620</td>\n",
       "                        <td id=\"T_c172a8c2_31c2_11ed_904e_acde48001122row15_col13\" class=\"data row15 col13\" >-0.007315</td>\n",
       "                        <td id=\"T_c172a8c2_31c2_11ed_904e_acde48001122row15_col14\" class=\"data row15 col14\" >-0.009909</td>\n",
       "                        <td id=\"T_c172a8c2_31c2_11ed_904e_acde48001122row15_col15\" class=\"data row15 col15\" >-0.007232</td>\n",
       "            </tr>\n",
       "    </tbody></table>"
      ],
      "text/plain": [
       "<pandas.io.formats.style.Styler at 0x7fd3ed3a6cf8>"
      ]
     },
     "metadata": {},
     "output_type": "display_data"
    }
   ],
   "source": [
    "df_corr = df_total.corr().sort_values('is_active', key=abs, ascending=False)\n",
    "display(df_corr.style.set_caption('df_total'))"
   ]
  },
  {
   "cell_type": "markdown",
   "id": "2b6c672a",
   "metadata": {},
   "source": [
    "Построим тепловую карту корреляции"
   ]
  },
  {
   "cell_type": "code",
   "execution_count": 63,
   "id": "d3910690",
   "metadata": {},
   "outputs": [
    {
     "data": {
      "text/plain": [
       "Text(0.5, 1.0, 'Correlation Heatmap')"
      ]
     },
     "execution_count": 63,
     "metadata": {},
     "output_type": "execute_result"
    },
    {
     "data": {
      "image/png": "[encoded data removed]",
      "text/plain": [
       "<Figure size 1080x504 with 2 Axes>"
      ]
     },
     "metadata": {},
     "output_type": "display_data"
    }
   ],
   "source": [
    "heatmap = sns.heatmap(df_corr, vmin=-1, vmax=1, annot=True)\n",
    "heatmap.set_title('Correlation Heatmap', fontdict={'fontsize': 1}, pad=12)"
   ]
  },
  {
   "cell_type": "markdown",
   "metadata": {},
   "source": [
    "Корреляция числовых данных"
   ]
  },
  {
   "cell_type": "code",
   "execution_count": 64,
   "id": "211b86f3",
   "metadata": {},
   "outputs": [
    {
     "data": {
      "text/html": [
       "<style  type=\"text/css\" >\n",
       "</style><table id=\"T_c260bf08_31c2_11ed_ab7d_acde48001122\" ><caption>df_total</caption><thead>    <tr>        <th class=\"blank level0\" ></th>        <th class=\"col_heading level0 col0\" >monthly_charges</th>        <th class=\"col_heading level0 col1\" >total_charges</th>        <th class=\"col_heading level0 col2\" >duration_contract</th>    </tr></thead><tbody>\n",
       "                <tr>\n",
       "                        <th id=\"T_c260bf08_31c2_11ed_ab7d_acde48001122level0_row0\" class=\"row_heading level0 row0\" >monthly_charges</th>\n",
       "                        <td id=\"T_c260bf08_31c2_11ed_ab7d_acde48001122row0_col0\" class=\"data row0 col0\" >1.000000</td>\n",
       "                        <td id=\"T_c260bf08_31c2_11ed_ab7d_acde48001122row0_col1\" class=\"data row0 col1\" >0.651174</td>\n",
       "                        <td id=\"T_c260bf08_31c2_11ed_ab7d_acde48001122row0_col2\" class=\"data row0 col2\" >0.247754</td>\n",
       "            </tr>\n",
       "            <tr>\n",
       "                        <th id=\"T_c260bf08_31c2_11ed_ab7d_acde48001122level0_row1\" class=\"row_heading level0 row1\" >total_charges</th>\n",
       "                        <td id=\"T_c260bf08_31c2_11ed_ab7d_acde48001122row1_col0\" class=\"data row1 col0\" >0.651174</td>\n",
       "                        <td id=\"T_c260bf08_31c2_11ed_ab7d_acde48001122row1_col1\" class=\"data row1 col1\" >1.000000</td>\n",
       "                        <td id=\"T_c260bf08_31c2_11ed_ab7d_acde48001122row1_col2\" class=\"data row1 col2\" >0.826109</td>\n",
       "            </tr>\n",
       "            <tr>\n",
       "                        <th id=\"T_c260bf08_31c2_11ed_ab7d_acde48001122level0_row2\" class=\"row_heading level0 row2\" >duration_contract</th>\n",
       "                        <td id=\"T_c260bf08_31c2_11ed_ab7d_acde48001122row2_col0\" class=\"data row2 col0\" >0.247754</td>\n",
       "                        <td id=\"T_c260bf08_31c2_11ed_ab7d_acde48001122row2_col1\" class=\"data row2 col1\" >0.826109</td>\n",
       "                        <td id=\"T_c260bf08_31c2_11ed_ab7d_acde48001122row2_col2\" class=\"data row2 col2\" >1.000000</td>\n",
       "            </tr>\n",
       "    </tbody></table>"
      ],
      "text/plain": [
       "<pandas.io.formats.style.Styler at 0x7fd3ed3a6c50>"
      ]
     },
     "metadata": {},
     "output_type": "display_data"
    }
   ],
   "source": [
    "df_corr = contract[['monthly_charges', 'total_charges', 'duration_contract']].corr()\n",
    "display(df_corr.style.set_caption('df_total'))"
   ]
  },
  {
   "cell_type": "markdown",
   "id": "4206c7f6",
   "metadata": {},
   "source": [
    "У duration_contract и total_charges зависимость больше 0.8, что логично, учитывая, что параметр total_charges растет со временем использования оператора."
   ]
  },
  {
   "cell_type": "markdown",
   "id": "7b0ce2db",
   "metadata": {},
   "source": [
    "### План работы"
   ]
  },
  {
   "cell_type": "markdown",
   "id": "1d95bee8",
   "metadata": {},
   "source": [
    "Так как при анализе данные не были сильно затронуты (строки с пропусками не удалял, утечек не наблюдалось), можно составить план работы:\n",
    "1. Разделить данные на обучающую, тестовую и валидационную выборки, выделив target поле.\n",
    "2. Построить модели классификации данных. Возможные алгоритмы: логистическая регрессия, дерево решений, случайный лес и градиентный бустинг.\n",
    "3. Проверка метрик на валидационной и тестовой выборке.\n",
    "4. Общий вывод."
   ]
  },
  {
   "cell_type": "code",
   "execution_count": 65,
   "id": "2144501e",
   "metadata": {},
   "outputs": [
    {
     "name": "stdout",
     "output_type": "stream",
     "text": [
      "<class 'pandas.core.frame.DataFrame'>\n",
      "Int64Index: 7043 entries, 0 to 7042\n",
      "Data columns (total 22 columns):\n",
      " #   Column             Non-Null Count  Dtype         \n",
      "---  ------             --------------  -----         \n",
      " 0   customer_id        7043 non-null   object        \n",
      " 1   begin_date         7043 non-null   datetime64[ns]\n",
      " 2   end_date           7043 non-null   datetime64[ns]\n",
      " 3   type               7043 non-null   object        \n",
      " 4   paperless_billing  7043 non-null   int64         \n",
      " 5   payment_method     7043 non-null   object        \n",
      " 6   monthly_charges    7043 non-null   float64       \n",
      " 7   total_charges      7043 non-null   float64       \n",
      " 8   is_active          7043 non-null   int64         \n",
      " 9   duration_contract  7043 non-null   int64         \n",
      " 10  gender             7043 non-null   int64         \n",
      " 11  senior_citizen     7043 non-null   int64         \n",
      " 12  partner            7043 non-null   int64         \n",
      " 13  dependents         7043 non-null   int64         \n",
      " 14  internet_service   5517 non-null   object        \n",
      " 15  online_security    5517 non-null   float64       \n",
      " 16  online_backup      5517 non-null   float64       \n",
      " 17  device_protection  5517 non-null   float64       \n",
      " 18  tech_support       5517 non-null   float64       \n",
      " 19  streaming_tv       5517 non-null   float64       \n",
      " 20  streaming_movies   5517 non-null   float64       \n",
      " 21  multiple_lines     6361 non-null   float64       \n",
      "dtypes: datetime64[ns](2), float64(9), int64(7), object(4)\n",
      "memory usage: 1.2+ MB\n"
     ]
    }
   ],
   "source": [
    "df_total.info()"
   ]
  },
  {
   "cell_type": "code",
   "execution_count": 66,
   "id": "06d24185",
   "metadata": {},
   "outputs": [
    {
     "name": "stdout",
     "output_type": "stream",
     "text": [
      "<class 'pandas.core.frame.DataFrame'>\n",
      "Int64Index: 7043 entries, 0 to 7042\n",
      "Data columns (total 22 columns):\n",
      " #   Column             Non-Null Count  Dtype         \n",
      "---  ------             --------------  -----         \n",
      " 0   customer_id        7043 non-null   object        \n",
      " 1   begin_date         7043 non-null   datetime64[ns]\n",
      " 2   end_date           7043 non-null   datetime64[ns]\n",
      " 3   type               7043 non-null   object        \n",
      " 4   paperless_billing  7043 non-null   int64         \n",
      " 5   payment_method     7043 non-null   object        \n",
      " 6   monthly_charges    7043 non-null   float64       \n",
      " 7   total_charges      7043 non-null   float64       \n",
      " 8   is_active          7043 non-null   int64         \n",
      " 9   duration_contract  7043 non-null   int64         \n",
      " 10  gender             7043 non-null   int64         \n",
      " 11  senior_citizen     7043 non-null   int64         \n",
      " 12  partner            7043 non-null   int64         \n",
      " 13  dependents         7043 non-null   int64         \n",
      " 14  internet_service   5517 non-null   object        \n",
      " 15  online_security    5517 non-null   float64       \n",
      " 16  online_backup      5517 non-null   float64       \n",
      " 17  device_protection  5517 non-null   float64       \n",
      " 18  tech_support       5517 non-null   float64       \n",
      " 19  streaming_tv       5517 non-null   float64       \n",
      " 20  streaming_movies   5517 non-null   float64       \n",
      " 21  multiple_lines     6361 non-null   float64       \n",
      "dtypes: datetime64[ns](2), float64(9), int64(7), object(4)\n",
      "memory usage: 1.2+ MB\n"
     ]
    }
   ],
   "source": [
    "df_total.info()"
   ]
  },
  {
   "cell_type": "code",
   "execution_count": 67,
   "id": "651e6ee4",
   "metadata": {},
   "outputs": [],
   "source": [
    "df_total = df_total.fillna('No')"
   ]
  },
  {
   "cell_type": "markdown",
   "id": "c589d414",
   "metadata": {},
   "source": [
    "Удалил колонки с датой и customer_id"
   ]
  },
  {
   "cell_type": "code",
   "execution_count": 68,
   "id": "0f9cf7d2",
   "metadata": {},
   "outputs": [],
   "source": [
    "df_total = df_total.drop(\n",
    "    ['begin_date', 'end_date', 'customer_id'], axis=1) "
   ]
  },
  {
   "cell_type": "markdown",
   "id": "7ffd05e3",
   "metadata": {},
   "source": [
    "## Моделирование"
   ]
  },
  {
   "cell_type": "markdown",
   "id": "96fc0698",
   "metadata": {},
   "source": [
    "### Подготовка данных к моделированию"
   ]
  },
  {
   "cell_type": "code",
   "execution_count": 69,
   "id": "5121a2d1",
   "metadata": {},
   "outputs": [],
   "source": [
    "# функция, возвращающая выборки\n",
    "\n",
    "def feature_prepare(df, target, numeric, categorial, ohe=True):\n",
    "    columns = target + numeric + categorial\n",
    "    data = df[columns]\n",
    "    if ohe == True:\n",
    "        data = pd.get_dummies(data, drop_first=True)\n",
    "\n",
    "    features = data.drop(target_column, axis=1)\n",
    "    target = data[target_column]\n",
    "\n",
    "    features_train, features_test, target_train, target_test = train_test_split(\n",
    "        features, target, test_size=0.4, random_state=12345)\n",
    "\n",
    "    features_valid, features_test, target_valid, target_test = train_test_split(\n",
    "        features_test, target_test, test_size=0.5, random_state=12345)\n",
    "\n",
    "    pd.options.mode.chained_assignment = None\n",
    "\n",
    "    scaler = StandardScaler()\n",
    "    scaler.fit(features_train[numeric])\n",
    "    features_train[numeric] = scaler.transform(features_train[numeric])\n",
    "    features_valid[numeric] = scaler.transform(features_valid[numeric])\n",
    "    features_test[numeric] = scaler.transform(features_test[numeric])\n",
    "    if ohe == False:\n",
    "        features_train[categorical] = features_train[categorical].astype(\n",
    "            'category')\n",
    "        features_valid[categorical] = features_valid[categorical].astype(\n",
    "            'category')\n",
    "        features_test[categorical] = features_test[categorical].astype(\n",
    "            'category')\n",
    "    return features, target, features_train, target_train, features_valid, target_valid, features_test, target_test"
   ]
  },
  {
   "cell_type": "markdown",
   "id": "ea6c9ba8",
   "metadata": {},
   "source": [
    "При моделировании получилось добиться хорошего результата, используя общий датасет"
   ]
  },
  {
   "cell_type": "code",
   "execution_count": 70,
   "id": "ce94dbe5",
   "metadata": {},
   "outputs": [],
   "source": [
    "df = df_total.copy()"
   ]
  },
  {
   "cell_type": "code",
   "execution_count": 71,
   "id": "35a8791c",
   "metadata": {},
   "outputs": [
    {
     "data": {
      "text/html": [
       "<div>\n",
       "<style scoped>\n",
       "    .dataframe tbody tr th:only-of-type {\n",
       "        vertical-align: middle;\n",
       "    }\n",
       "\n",
       "    .dataframe tbody tr th {\n",
       "        vertical-align: top;\n",
       "    }\n",
       "\n",
       "    .dataframe thead th {\n",
       "        text-align: right;\n",
       "    }\n",
       "</style>\n",
       "<table border=\"1\" class=\"dataframe\">\n",
       "  <thead>\n",
       "    <tr style=\"text-align: right;\">\n",
       "      <th></th>\n",
       "      <th>type</th>\n",
       "      <th>paperless_billing</th>\n",
       "      <th>payment_method</th>\n",
       "      <th>monthly_charges</th>\n",
       "      <th>total_charges</th>\n",
       "      <th>is_active</th>\n",
       "      <th>duration_contract</th>\n",
       "      <th>gender</th>\n",
       "      <th>senior_citizen</th>\n",
       "      <th>partner</th>\n",
       "      <th>dependents</th>\n",
       "      <th>internet_service</th>\n",
       "      <th>online_security</th>\n",
       "      <th>online_backup</th>\n",
       "      <th>device_protection</th>\n",
       "      <th>tech_support</th>\n",
       "      <th>streaming_tv</th>\n",
       "      <th>streaming_movies</th>\n",
       "      <th>multiple_lines</th>\n",
       "    </tr>\n",
       "  </thead>\n",
       "  <tbody>\n",
       "    <tr>\n",
       "      <th>0</th>\n",
       "      <td>Month-to-month</td>\n",
       "      <td>1</td>\n",
       "      <td>Electronic check</td>\n",
       "      <td>29.85</td>\n",
       "      <td>29.85</td>\n",
       "      <td>1</td>\n",
       "      <td>31</td>\n",
       "      <td>0</td>\n",
       "      <td>0</td>\n",
       "      <td>1</td>\n",
       "      <td>0</td>\n",
       "      <td>DSL</td>\n",
       "      <td>0</td>\n",
       "      <td>1</td>\n",
       "      <td>0</td>\n",
       "      <td>0</td>\n",
       "      <td>0</td>\n",
       "      <td>0</td>\n",
       "      <td>No</td>\n",
       "    </tr>\n",
       "    <tr>\n",
       "      <th>1</th>\n",
       "      <td>One year</td>\n",
       "      <td>0</td>\n",
       "      <td>Mailed check</td>\n",
       "      <td>56.95</td>\n",
       "      <td>1889.50</td>\n",
       "      <td>1</td>\n",
       "      <td>1036</td>\n",
       "      <td>1</td>\n",
       "      <td>0</td>\n",
       "      <td>0</td>\n",
       "      <td>0</td>\n",
       "      <td>DSL</td>\n",
       "      <td>1</td>\n",
       "      <td>0</td>\n",
       "      <td>1</td>\n",
       "      <td>0</td>\n",
       "      <td>0</td>\n",
       "      <td>0</td>\n",
       "      <td>0</td>\n",
       "    </tr>\n",
       "    <tr>\n",
       "      <th>2</th>\n",
       "      <td>Month-to-month</td>\n",
       "      <td>1</td>\n",
       "      <td>Mailed check</td>\n",
       "      <td>53.85</td>\n",
       "      <td>108.15</td>\n",
       "      <td>0</td>\n",
       "      <td>61</td>\n",
       "      <td>1</td>\n",
       "      <td>0</td>\n",
       "      <td>0</td>\n",
       "      <td>0</td>\n",
       "      <td>DSL</td>\n",
       "      <td>1</td>\n",
       "      <td>1</td>\n",
       "      <td>0</td>\n",
       "      <td>0</td>\n",
       "      <td>0</td>\n",
       "      <td>0</td>\n",
       "      <td>0</td>\n",
       "    </tr>\n",
       "    <tr>\n",
       "      <th>3</th>\n",
       "      <td>One year</td>\n",
       "      <td>0</td>\n",
       "      <td>Bank transfer (automatic)</td>\n",
       "      <td>42.30</td>\n",
       "      <td>1840.75</td>\n",
       "      <td>1</td>\n",
       "      <td>1371</td>\n",
       "      <td>1</td>\n",
       "      <td>0</td>\n",
       "      <td>0</td>\n",
       "      <td>0</td>\n",
       "      <td>DSL</td>\n",
       "      <td>1</td>\n",
       "      <td>0</td>\n",
       "      <td>1</td>\n",
       "      <td>1</td>\n",
       "      <td>0</td>\n",
       "      <td>0</td>\n",
       "      <td>No</td>\n",
       "    </tr>\n",
       "    <tr>\n",
       "      <th>4</th>\n",
       "      <td>Month-to-month</td>\n",
       "      <td>1</td>\n",
       "      <td>Electronic check</td>\n",
       "      <td>70.70</td>\n",
       "      <td>151.65</td>\n",
       "      <td>0</td>\n",
       "      <td>61</td>\n",
       "      <td>0</td>\n",
       "      <td>0</td>\n",
       "      <td>0</td>\n",
       "      <td>0</td>\n",
       "      <td>Fiber optic</td>\n",
       "      <td>0</td>\n",
       "      <td>0</td>\n",
       "      <td>0</td>\n",
       "      <td>0</td>\n",
       "      <td>0</td>\n",
       "      <td>0</td>\n",
       "      <td>0</td>\n",
       "    </tr>\n",
       "  </tbody>\n",
       "</table>\n",
       "</div>"
      ],
      "text/plain": [
       "             type  paperless_billing             payment_method  \\\n",
       "0  Month-to-month                  1           Electronic check   \n",
       "1        One year                  0               Mailed check   \n",
       "2  Month-to-month                  1               Mailed check   \n",
       "3        One year                  0  Bank transfer (automatic)   \n",
       "4  Month-to-month                  1           Electronic check   \n",
       "\n",
       "   monthly_charges  total_charges  is_active  duration_contract  gender  \\\n",
       "0            29.85          29.85          1                 31       0   \n",
       "1            56.95        1889.50          1               1036       1   \n",
       "2            53.85         108.15          0                 61       1   \n",
       "3            42.30        1840.75          1               1371       1   \n",
       "4            70.70         151.65          0                 61       0   \n",
       "\n",
       "   senior_citizen  partner  dependents internet_service online_security  \\\n",
       "0               0        1           0              DSL               0   \n",
       "1               0        0           0              DSL               1   \n",
       "2               0        0           0              DSL               1   \n",
       "3               0        0           0              DSL               1   \n",
       "4               0        0           0      Fiber optic               0   \n",
       "\n",
       "  online_backup device_protection tech_support streaming_tv streaming_movies  \\\n",
       "0             1                 0            0            0                0   \n",
       "1             0                 1            0            0                0   \n",
       "2             1                 0            0            0                0   \n",
       "3             0                 1            1            0                0   \n",
       "4             0                 0            0            0                0   \n",
       "\n",
       "  multiple_lines  \n",
       "0             No  \n",
       "1              0  \n",
       "2              0  \n",
       "3             No  \n",
       "4              0  "
      ]
     },
     "execution_count": 71,
     "metadata": {},
     "output_type": "execute_result"
    }
   ],
   "source": [
    "df.head()"
   ]
  },
  {
   "cell_type": "code",
   "execution_count": 72,
   "id": "eaaf2eaa",
   "metadata": {},
   "outputs": [
    {
     "name": "stdout",
     "output_type": "stream",
     "text": [
      "<class 'pandas.core.frame.DataFrame'>\n",
      "Int64Index: 7043 entries, 0 to 7042\n",
      "Data columns (total 19 columns):\n",
      " #   Column             Non-Null Count  Dtype  \n",
      "---  ------             --------------  -----  \n",
      " 0   type               7043 non-null   object \n",
      " 1   paperless_billing  7043 non-null   int64  \n",
      " 2   payment_method     7043 non-null   object \n",
      " 3   monthly_charges    7043 non-null   float64\n",
      " 4   total_charges      7043 non-null   float64\n",
      " 5   is_active          7043 non-null   int64  \n",
      " 6   duration_contract  7043 non-null   int64  \n",
      " 7   gender             7043 non-null   int64  \n",
      " 8   senior_citizen     7043 non-null   int64  \n",
      " 9   partner            7043 non-null   int64  \n",
      " 10  dependents         7043 non-null   int64  \n",
      " 11  internet_service   7043 non-null   object \n",
      " 12  online_security    7043 non-null   object \n",
      " 13  online_backup      7043 non-null   object \n",
      " 14  device_protection  7043 non-null   object \n",
      " 15  tech_support       7043 non-null   object \n",
      " 16  streaming_tv       7043 non-null   object \n",
      " 17  streaming_movies   7043 non-null   object \n",
      " 18  multiple_lines     7043 non-null   object \n",
      "dtypes: float64(2), int64(7), object(10)\n",
      "memory usage: 1.1+ MB\n"
     ]
    }
   ],
   "source": [
    "df.info()"
   ]
  },
  {
   "cell_type": "markdown",
   "id": "b0ed3c0d",
   "metadata": {},
   "source": [
    "Для логистической регрессии, дерева и леса воспользуемся one hot encoding.\n",
    "\n",
    "Количественные признаки масштабируем."
   ]
  },
  {
   "cell_type": "code",
   "execution_count": 73,
   "id": "f31b847d",
   "metadata": {},
   "outputs": [],
   "source": [
    "categorical = ['type', 'paperless_billing', 'gender', 'senior_citizen', 'dependents',\n",
    "               'internet_service', 'streaming_tv', 'streaming_movies', 'device_protection',\n",
    "               'tech_support', 'multiple_lines', 'partner', 'payment_method', 'online_backup', 'online_security']\n",
    "numeric = ['monthly_charges', 'duration_contract']\n",
    "target_column = ['is_active', ]\n",
    "\n",
    "features, target, features_train, target_train, features_valid, target_valid, features_test, target_test \\\n",
    "= feature_prepare(df, target_column, numeric, categorical, True)"
   ]
  },
  {
   "cell_type": "markdown",
   "metadata": {},
   "source": [
    "Удалил колонку total_charges из-за корреляции с длительностью контракта"
   ]
  },
  {
   "cell_type": "code",
   "execution_count": 74,
   "id": "d28e1483",
   "metadata": {},
   "outputs": [
    {
     "data": {
      "text/plain": [
       "monthly_charges                           4225\n",
       "duration_contract                         4225\n",
       "paperless_billing                         4225\n",
       "gender                                    4225\n",
       "senior_citizen                            4225\n",
       "dependents                                4225\n",
       "partner                                   4225\n",
       "type_One year                             4225\n",
       "type_Two year                             4225\n",
       "internet_service_Fiber optic              4225\n",
       "internet_service_No                       4225\n",
       "streaming_tv_1.0                          4225\n",
       "streaming_tv_No                           4225\n",
       "streaming_movies_1.0                      4225\n",
       "streaming_movies_No                       4225\n",
       "device_protection_1.0                     4225\n",
       "device_protection_No                      4225\n",
       "tech_support_1.0                          4225\n",
       "tech_support_No                           4225\n",
       "multiple_lines_1.0                        4225\n",
       "multiple_lines_No                         4225\n",
       "payment_method_Credit card (automatic)    4225\n",
       "payment_method_Electronic check           4225\n",
       "payment_method_Mailed check               4225\n",
       "online_backup_1.0                         4225\n",
       "online_backup_No                          4225\n",
       "online_security_1.0                       4225\n",
       "online_security_No                        4225\n",
       "dtype: int64"
      ]
     },
     "execution_count": 74,
     "metadata": {},
     "output_type": "execute_result"
    }
   ],
   "source": [
    "features_train.count()"
   ]
  },
  {
   "cell_type": "markdown",
   "id": "38c3d038",
   "metadata": {},
   "source": [
    "###  Логистическая регрессия"
   ]
  },
  {
   "cell_type": "markdown",
   "id": "20175063",
   "metadata": {},
   "source": [
    "Будем рассматривать разные алгоритмы в задах оптимизации логистической регрессии"
   ]
  },
  {
   "cell_type": "code",
   "execution_count": 75,
   "id": "5e85e39c",
   "metadata": {},
   "outputs": [
    {
     "data": {
      "text/plain": [
       "array([1, 0])"
      ]
     },
     "execution_count": 75,
     "metadata": {},
     "output_type": "execute_result"
    }
   ],
   "source": [
    "target_train['is_active'].unique()"
   ]
  },
  {
   "cell_type": "code",
   "execution_count": 76,
   "id": "03b21c00",
   "metadata": {},
   "outputs": [
    {
     "name": "stdout",
     "output_type": "stream",
     "text": [
      "Значения на валидационной выборке:\n",
      "Лучшее значение AUC-ROC: 0.851\n",
      "Accuracy модели: 0.804\n",
      "Алгоритм в задаче оптимизации: saga\n"
     ]
    }
   ],
   "source": [
    "solver_list = ['newton-cg', 'lbfgs', 'liblinear', 'sag', 'saga']\n",
    "\n",
    "best_logistic_model = None\n",
    "best_accuracy = 0\n",
    "best_roc_auc = 0\n",
    "best_slover = ''\n",
    "for solver in solver_list:\n",
    "    model = LogisticRegression(solver=solver, random_state=12345)\n",
    "    model.fit(features_train, target_train)\n",
    "    accuracy = model.score(features_valid, target_valid)\n",
    "    probabilities_valid = model.predict_proba(features_valid)\n",
    "    probabilities_one_valid = probabilities_valid[:, 1]\n",
    "    auc_roc = roc_auc_score(target_valid, probabilities_one_valid)\n",
    "    if auc_roc > best_roc_auc:\n",
    "        best_logistic_model = model\n",
    "        best_accuracy = accuracy\n",
    "        best_slover = solver\n",
    "        best_roc_auc = auc_roc\n",
    "\n",
    "print('Значения на валидационной выборке:')\n",
    "print(\"Лучшее значение AUC-ROC:\", round(best_roc_auc, 3))\n",
    "print(\"Accuracy модели:\", round(best_accuracy, 3))\n",
    "print(\"Алгоритм в задаче оптимизации:\", best_slover)"
   ]
  },
  {
   "cell_type": "markdown",
   "id": "6217ac35",
   "metadata": {},
   "source": [
    "Как видим, добились хорошего значения AUC-ROC"
   ]
  },
  {
   "cell_type": "markdown",
   "id": "3399f847",
   "metadata": {},
   "source": [
    "### Дерево решений"
   ]
  },
  {
   "cell_type": "markdown",
   "id": "38bb05ce",
   "metadata": {},
   "source": [
    "Попробуем модель дерево решений, с разной глубиной деревьев"
   ]
  },
  {
   "cell_type": "code",
   "execution_count": 77,
   "id": "52d1ac97",
   "metadata": {},
   "outputs": [
    {
     "name": "stdout",
     "output_type": "stream",
     "text": [
      "При max_depth = 1 AUC-ROC: 0.677\n",
      "При max_depth = 2 AUC-ROC: 0.767\n",
      "При max_depth = 3 AUC-ROC: 0.819\n",
      "При max_depth = 4 AUC-ROC: 0.843\n",
      "При max_depth = 5 AUC-ROC: 0.848\n",
      "При max_depth = 6 AUC-ROC: 0.845\n",
      "При max_depth = 7 AUC-ROC: 0.844\n",
      "При max_depth = 8 AUC-ROC: 0.844\n",
      "При max_depth = 9 AUC-ROC: 0.832\n",
      "\n",
      "Значения на валидационной выборке:\n",
      "Лучшее значение AUC-ROC: 0.848\n",
      "Accuracy модели: 0.8\n",
      "Глубина дерева: 5\n"
     ]
    }
   ],
   "source": [
    "best_tree_model = None\n",
    "best_accuracy = 0\n",
    "best_roc_auc = 0\n",
    "best_depth = 0\n",
    "for depth in range(1, 10):\n",
    "    model = DecisionTreeClassifier(random_state=12345, max_depth=depth)\n",
    "    model.fit(features_train, target_train)\n",
    "\n",
    "    predictions_valid = model.predict(features_valid)\n",
    "    accuracy = accuracy_score(target_valid, predictions_valid)\n",
    "    probabilities_valid = model.predict_proba(features_valid)\n",
    "    probabilities_one_valid = probabilities_valid[:, 1]\n",
    "    auc_roc = roc_auc_score(target_valid, probabilities_one_valid)\n",
    "    print(f\"При max_depth = {depth} AUC-ROC:\", round(auc_roc, 3))\n",
    "    if auc_roc > best_roc_auc:\n",
    "        best_tree_model = model\n",
    "        best_roc_auc = auc_roc\n",
    "        best_accuracy = accuracy\n",
    "        best_depth = depth\n",
    "print()\n",
    "print('Значения на валидационной выборке:')\n",
    "print(\"Лучшее значение AUC-ROC:\", round(best_roc_auc, 3))\n",
    "print(\"Accuracy модели:\", round(best_accuracy, 3))\n",
    "print(\"Глубина дерева:\", best_depth)"
   ]
  },
  {
   "cell_type": "markdown",
   "id": "d791d776",
   "metadata": {},
   "source": [
    "Добились отличного результата на алгоритме дерева решений"
   ]
  },
  {
   "cell_type": "markdown",
   "id": "3092bde0",
   "metadata": {},
   "source": [
    "### Проверка на дисбаланс"
   ]
  },
  {
   "cell_type": "markdown",
   "id": "fc791831",
   "metadata": {},
   "source": [
    "Проверим адекватность модели"
   ]
  },
  {
   "cell_type": "code",
   "execution_count": 78,
   "id": "25dc193b",
   "metadata": {},
   "outputs": [],
   "source": [
    "data = pd.get_dummies(df, drop_first=True)"
   ]
  },
  {
   "cell_type": "code",
   "execution_count": 79,
   "id": "2fc7aad6",
   "metadata": {},
   "outputs": [],
   "source": [
    "predicted_valid = best_tree_model.predict(features_valid)"
   ]
  },
  {
   "cell_type": "markdown",
   "id": "36d6e71f",
   "metadata": {},
   "source": [
    "Выведем частоты целевого признака"
   ]
  },
  {
   "cell_type": "code",
   "execution_count": 80,
   "id": "5a2ff646",
   "metadata": {},
   "outputs": [
    {
     "name": "stdout",
     "output_type": "stream",
     "text": [
      "Точность: 0.7998580553584103\n"
     ]
    }
   ],
   "source": [
    "accuracy_valid = accuracy_score(predicted_valid, target_valid)\n",
    "print(\"Точность:\", accuracy_valid)"
   ]
  },
  {
   "cell_type": "code",
   "execution_count": 81,
   "id": "99d8e0b2",
   "metadata": {},
   "outputs": [
    {
     "name": "stdout",
     "output_type": "stream",
     "text": [
      "1    0.73463\n",
      "0    0.26537\n",
      "Name: is_active, dtype: float64\n"
     ]
    },
    {
     "data": {
      "text/plain": [
       "<AxesSubplot:>"
      ]
     },
     "execution_count": 81,
     "metadata": {},
     "output_type": "execute_result"
    },
    {
     "data": {
      "image/png": "[encoded data removed]",
      "text/plain": [
       "<Figure size 1080x504 with 1 Axes>"
      ]
     },
     "metadata": {},
     "output_type": "display_data"
    }
   ],
   "source": [
    "class_frequency = data['is_active'].value_counts(normalize=True)\n",
    "print(class_frequency)\n",
    "class_frequency.plot(kind='bar')"
   ]
  },
  {
   "cell_type": "markdown",
   "id": "8c56c2bb",
   "metadata": {},
   "source": [
    "Выведем частоты классов в результатах предсказаний логистической регрессии"
   ]
  },
  {
   "cell_type": "code",
   "execution_count": 82,
   "id": "700b588d",
   "metadata": {
    "scrolled": false
   },
   "outputs": [
    {
     "name": "stdout",
     "output_type": "stream",
     "text": [
      "1    0.756565\n",
      "0    0.243435\n",
      "dtype: float64\n"
     ]
    },
    {
     "data": {
      "text/plain": [
       "<AxesSubplot:>"
      ]
     },
     "execution_count": 82,
     "metadata": {},
     "output_type": "execute_result"
    },
    {
     "data": {
      "image/png": "[encoded data removed]",
      "text/plain": [
       "<Figure size 1080x504 with 1 Axes>"
      ]
     },
     "metadata": {},
     "output_type": "display_data"
    }
   ],
   "source": [
    "predicted_valid = pd.Series(model.predict(features_valid))\n",
    "\n",
    "class_frequency = predicted_valid.value_counts(normalize=True)\n",
    "print(class_frequency)\n",
    "\n",
    "class_frequency.plot(kind='bar')"
   ]
  },
  {
   "cell_type": "markdown",
   "id": "a9ae1922",
   "metadata": {},
   "source": [
    "Создадим константную модель: любому объекту она прогнозирует класс «1»."
   ]
  },
  {
   "cell_type": "code",
   "execution_count": 83,
   "id": "d51664db",
   "metadata": {},
   "outputs": [
    {
     "name": "stdout",
     "output_type": "stream",
     "text": [
      "0.7346301292063041\n"
     ]
    }
   ],
   "source": [
    "target_pred_constant = pd.Series([1]*len(target))\n",
    "print(accuracy_score(target, target_pred_constant))"
   ]
  },
  {
   "cell_type": "code",
   "execution_count": 84,
   "id": "6dd04dff",
   "metadata": {},
   "outputs": [
    {
     "name": "stdout",
     "output_type": "stream",
     "text": [
      "[[226 156]\n",
      " [117 910]]\n"
     ]
    }
   ],
   "source": [
    "print(confusion_matrix(target_valid, predicted_valid))"
   ]
  },
  {
   "cell_type": "markdown",
   "id": "8a1b274d",
   "metadata": {},
   "source": [
    "False Positive = 156, а значит модель часто предсказывает отрицательные ответы, где на самом деле положительные ответы.\n",
    "\n",
    "То есть на клиента, который остается, предсказание будет, что он перестанет быть клиентом"
   ]
  },
  {
   "cell_type": "code",
   "execution_count": 85,
   "id": "791c86bc",
   "metadata": {},
   "outputs": [
    {
     "name": "stdout",
     "output_type": "stream",
     "text": [
      "Recall = 0.89\n",
      "Precision = 0.85\n"
     ]
    }
   ],
   "source": [
    "print('Recall =', round(recall_score(target_valid, predicted_valid), 2))\n",
    "print('Precision =', round(precision_score(target_valid, predicted_valid), 2))"
   ]
  },
  {
   "cell_type": "markdown",
   "id": "b640cde6",
   "metadata": {},
   "source": [
    "Но Recall и Precision не сильно различаются, поэтому можно считать, что дисбаланс классов отсутствует."
   ]
  },
  {
   "cell_type": "markdown",
   "id": "b7f9a59a",
   "metadata": {},
   "source": [
    "### Случайный лес"
   ]
  },
  {
   "cell_type": "markdown",
   "id": "89cbdbbf",
   "metadata": {},
   "source": [
    "Попробуем модель случайного леса с количеством деревьев равным 40 при разной глубине дерева"
   ]
  },
  {
   "cell_type": "code",
   "execution_count": 86,
   "id": "f7aa3f97",
   "metadata": {
    "scrolled": true
   },
   "outputs": [
    {
     "name": "stdout",
     "output_type": "stream",
     "text": [
      "При max_depth = 1 AUC-ROC = 0.829\n",
      "При max_depth = 2 AUC-ROC = 0.833\n",
      "При max_depth = 3 AUC-ROC = 0.845\n",
      "При max_depth = 4 AUC-ROC = 0.855\n",
      "При max_depth = 5 AUC-ROC = 0.858\n",
      "При max_depth = 6 AUC-ROC = 0.859\n",
      "При max_depth = 7 AUC-ROC = 0.858\n",
      "При max_depth = 8 AUC-ROC = 0.859\n",
      "При max_depth = 9 AUC-ROC = 0.857\n",
      "При max_depth = 10 AUC-ROC = 0.86\n",
      "При max_depth = 11 AUC-ROC = 0.857\n",
      "При max_depth = 12 AUC-ROC = 0.853\n",
      "При max_depth = 13 AUC-ROC = 0.856\n",
      "При max_depth = 14 AUC-ROC = 0.85\n",
      "При max_depth = 15 AUC-ROC = 0.844\n",
      "При max_depth = 16 AUC-ROC = 0.843\n",
      "При max_depth = 17 AUC-ROC = 0.844\n",
      "При max_depth = 18 AUC-ROC = 0.838\n",
      "При max_depth = 19 AUC-ROC = 0.844\n",
      "При max_depth = 20 AUC-ROC = 0.836\n",
      "При max_depth = 21 AUC-ROC = 0.838\n",
      "При max_depth = 22 AUC-ROC = 0.843\n",
      "При max_depth = 23 AUC-ROC = 0.84\n",
      "При max_depth = 24 AUC-ROC = 0.841\n",
      "При max_depth = 25 AUC-ROC = 0.84\n",
      "При max_depth = 26 AUC-ROC = 0.84\n",
      "При max_depth = 27 AUC-ROC = 0.84\n",
      "При max_depth = 28 AUC-ROC = 0.84\n",
      "При max_depth = 29 AUC-ROC = 0.84\n",
      "\n",
      "Значения на валидационной выборке:\n",
      "Лучшее значение AUC-ROC: 0.86\n",
      "Accuracy модели: 0.813\n",
      "Глубина дерева: 10\n"
     ]
    }
   ],
   "source": [
    "best_forest_model = None\n",
    "best_result = 0\n",
    "best_roc_auc = 0\n",
    "best_accuracy = 0\n",
    "for depth in range(1, 30):\n",
    "    model = RandomForestClassifier(\n",
    "        n_estimators=40, max_depth=depth, random_state=12345)\n",
    "    model.fit(features_train, target_train)\n",
    "    predicted_valid = model.predict(features_valid)\n",
    "    probabilities_valid = model.predict_proba(features_valid)\n",
    "    probabilities_one_valid = probabilities_valid[:, 1]\n",
    "    auc_roc = roc_auc_score(target_valid, probabilities_one_valid)\n",
    "    result_accuracy = accuracy_score(target_valid, predicted_valid)\n",
    "    print(f'При max_depth = {depth} AUC-ROC =', round(auc_roc, 3))\n",
    "    if auc_roc > best_roc_auc:\n",
    "        best_forest_model = model\n",
    "        best_accuracy = result_accuracy\n",
    "        best_depth = depth\n",
    "        best_roc_auc = auc_roc\n",
    "print()\n",
    "print('Значения на валидационной выборке:')\n",
    "print(\"Лучшее значение AUC-ROC:\", round(best_roc_auc, 3))\n",
    "print(\"Accuracy модели:\", round(best_accuracy, 3))\n",
    "print(\"Глубина дерева:\", best_depth)"
   ]
  },
  {
   "cell_type": "markdown",
   "id": "9d5fbcc5",
   "metadata": {},
   "source": [
    "Получили ещё большее значение на валидационной выборке, чем на дереве решений"
   ]
  },
  {
   "cell_type": "markdown",
   "metadata": {},
   "source": [
    "График важности признаков:"
   ]
  },
  {
   "cell_type": "code",
   "execution_count": 87,
   "id": "66d14528",
   "metadata": {
    "scrolled": true
   },
   "outputs": [
    {
     "data": {
      "text/plain": [
       "<AxesSubplot:>"
      ]
     },
     "execution_count": 87,
     "metadata": {},
     "output_type": "execute_result"
    },
    {
     "data": {
      "image/png": "[encoded data removed]",
      "text/plain": [
       "<Figure size 1080x504 with 1 Axes>"
      ]
     },
     "metadata": {},
     "output_type": "display_data"
    }
   ],
   "source": [
    "feat_importances = pd.Series(best_forest_model.feature_importances_, index=features.columns)\n",
    "feat_importances.nlargest(20).plot(kind='barh')"
   ]
  },
  {
   "cell_type": "markdown",
   "id": "80c16d46",
   "metadata": {},
   "source": [
    "### Бустинг"
   ]
  },
  {
   "cell_type": "markdown",
   "id": "ff10c1b5",
   "metadata": {},
   "source": [
    "Подготовим данные для бустинга"
   ]
  },
  {
   "cell_type": "code",
   "execution_count": 88,
   "id": "66af8b4c",
   "metadata": {},
   "outputs": [],
   "source": [
    "df = df_total.copy()"
   ]
  },
  {
   "cell_type": "markdown",
   "metadata": {},
   "source": [
    "Переведём колонки в тип categorial"
   ]
  },
  {
   "cell_type": "code",
   "execution_count": 89,
   "id": "33a0a0a2",
   "metadata": {},
   "outputs": [],
   "source": [
    "categorical = ['type', 'paperless_billing', 'gender', 'senior_citizen', 'dependents',\n",
    "               'internet_service', 'streaming_movies', 'device_protection', 'tech_support', \n",
    "               'multiple_lines', 'partner', 'payment_method', 'online_backup', 'online_security', 'streaming_tv']\n",
    "numeric = ['monthly_charges', 'duration_contract']\n",
    "target_column = ['is_active', ]\n",
    "\n",
    "features_bust, target_bust, features_train_bust, target_train_bust, features_valid_bust, target_valid_bust, features_test_bust, target_test_bust \\\n",
    "= feature_prepare(df, target_column, numeric, categorical, False)"
   ]
  },
  {
   "cell_type": "code",
   "execution_count": 90,
   "id": "88539bcc",
   "metadata": {},
   "outputs": [
    {
     "name": "stdout",
     "output_type": "stream",
     "text": [
      "<class 'pandas.core.frame.DataFrame'>\n",
      "Int64Index: 7043 entries, 0 to 7042\n",
      "Data columns (total 19 columns):\n",
      " #   Column             Non-Null Count  Dtype  \n",
      "---  ------             --------------  -----  \n",
      " 0   type               7043 non-null   object \n",
      " 1   paperless_billing  7043 non-null   int64  \n",
      " 2   payment_method     7043 non-null   object \n",
      " 3   monthly_charges    7043 non-null   float64\n",
      " 4   total_charges      7043 non-null   float64\n",
      " 5   is_active          7043 non-null   int64  \n",
      " 6   duration_contract  7043 non-null   int64  \n",
      " 7   gender             7043 non-null   int64  \n",
      " 8   senior_citizen     7043 non-null   int64  \n",
      " 9   partner            7043 non-null   int64  \n",
      " 10  dependents         7043 non-null   int64  \n",
      " 11  internet_service   7043 non-null   object \n",
      " 12  online_security    7043 non-null   object \n",
      " 13  online_backup      7043 non-null   object \n",
      " 14  device_protection  7043 non-null   object \n",
      " 15  tech_support       7043 non-null   object \n",
      " 16  streaming_tv       7043 non-null   object \n",
      " 17  streaming_movies   7043 non-null   object \n",
      " 18  multiple_lines     7043 non-null   object \n",
      "dtypes: float64(2), int64(7), object(10)\n",
      "memory usage: 1.1+ MB\n"
     ]
    }
   ],
   "source": [
    "df.info()"
   ]
  },
  {
   "cell_type": "code",
   "execution_count": 91,
   "id": "46553bf7",
   "metadata": {},
   "outputs": [
    {
     "data": {
      "text/html": [
       "<div>\n",
       "<style scoped>\n",
       "    .dataframe tbody tr th:only-of-type {\n",
       "        vertical-align: middle;\n",
       "    }\n",
       "\n",
       "    .dataframe tbody tr th {\n",
       "        vertical-align: top;\n",
       "    }\n",
       "\n",
       "    .dataframe thead th {\n",
       "        text-align: right;\n",
       "    }\n",
       "</style>\n",
       "<table border=\"1\" class=\"dataframe\">\n",
       "  <thead>\n",
       "    <tr style=\"text-align: right;\">\n",
       "      <th></th>\n",
       "      <th>type</th>\n",
       "      <th>paperless_billing</th>\n",
       "      <th>gender</th>\n",
       "      <th>senior_citizen</th>\n",
       "      <th>dependents</th>\n",
       "      <th>internet_service</th>\n",
       "      <th>streaming_movies</th>\n",
       "      <th>device_protection</th>\n",
       "      <th>tech_support</th>\n",
       "      <th>multiple_lines</th>\n",
       "      <th>partner</th>\n",
       "      <th>payment_method</th>\n",
       "      <th>online_backup</th>\n",
       "      <th>online_security</th>\n",
       "      <th>streaming_tv</th>\n",
       "      <th>monthly_charges</th>\n",
       "      <th>duration_contract</th>\n",
       "      <th>is_active</th>\n",
       "    </tr>\n",
       "  </thead>\n",
       "  <tbody>\n",
       "    <tr>\n",
       "      <th>0</th>\n",
       "      <td>Month-to-month</td>\n",
       "      <td>1</td>\n",
       "      <td>0</td>\n",
       "      <td>0</td>\n",
       "      <td>0</td>\n",
       "      <td>DSL</td>\n",
       "      <td>0</td>\n",
       "      <td>0</td>\n",
       "      <td>0</td>\n",
       "      <td>No</td>\n",
       "      <td>1</td>\n",
       "      <td>Electronic check</td>\n",
       "      <td>1</td>\n",
       "      <td>0</td>\n",
       "      <td>0</td>\n",
       "      <td>29.85</td>\n",
       "      <td>31</td>\n",
       "      <td>1</td>\n",
       "    </tr>\n",
       "    <tr>\n",
       "      <th>1</th>\n",
       "      <td>One year</td>\n",
       "      <td>0</td>\n",
       "      <td>1</td>\n",
       "      <td>0</td>\n",
       "      <td>0</td>\n",
       "      <td>DSL</td>\n",
       "      <td>0</td>\n",
       "      <td>1</td>\n",
       "      <td>0</td>\n",
       "      <td>0</td>\n",
       "      <td>0</td>\n",
       "      <td>Mailed check</td>\n",
       "      <td>0</td>\n",
       "      <td>1</td>\n",
       "      <td>0</td>\n",
       "      <td>56.95</td>\n",
       "      <td>1036</td>\n",
       "      <td>1</td>\n",
       "    </tr>\n",
       "    <tr>\n",
       "      <th>2</th>\n",
       "      <td>Month-to-month</td>\n",
       "      <td>1</td>\n",
       "      <td>1</td>\n",
       "      <td>0</td>\n",
       "      <td>0</td>\n",
       "      <td>DSL</td>\n",
       "      <td>0</td>\n",
       "      <td>0</td>\n",
       "      <td>0</td>\n",
       "      <td>0</td>\n",
       "      <td>0</td>\n",
       "      <td>Mailed check</td>\n",
       "      <td>1</td>\n",
       "      <td>1</td>\n",
       "      <td>0</td>\n",
       "      <td>53.85</td>\n",
       "      <td>61</td>\n",
       "      <td>0</td>\n",
       "    </tr>\n",
       "    <tr>\n",
       "      <th>3</th>\n",
       "      <td>One year</td>\n",
       "      <td>0</td>\n",
       "      <td>1</td>\n",
       "      <td>0</td>\n",
       "      <td>0</td>\n",
       "      <td>DSL</td>\n",
       "      <td>0</td>\n",
       "      <td>1</td>\n",
       "      <td>1</td>\n",
       "      <td>No</td>\n",
       "      <td>0</td>\n",
       "      <td>Bank transfer (automatic)</td>\n",
       "      <td>0</td>\n",
       "      <td>1</td>\n",
       "      <td>0</td>\n",
       "      <td>42.30</td>\n",
       "      <td>1371</td>\n",
       "      <td>1</td>\n",
       "    </tr>\n",
       "    <tr>\n",
       "      <th>4</th>\n",
       "      <td>Month-to-month</td>\n",
       "      <td>1</td>\n",
       "      <td>0</td>\n",
       "      <td>0</td>\n",
       "      <td>0</td>\n",
       "      <td>Fiber optic</td>\n",
       "      <td>0</td>\n",
       "      <td>0</td>\n",
       "      <td>0</td>\n",
       "      <td>0</td>\n",
       "      <td>0</td>\n",
       "      <td>Electronic check</td>\n",
       "      <td>0</td>\n",
       "      <td>0</td>\n",
       "      <td>0</td>\n",
       "      <td>70.70</td>\n",
       "      <td>61</td>\n",
       "      <td>0</td>\n",
       "    </tr>\n",
       "  </tbody>\n",
       "</table>\n",
       "</div>"
      ],
      "text/plain": [
       "             type  paperless_billing  gender  senior_citizen  dependents  \\\n",
       "0  Month-to-month                  1       0               0           0   \n",
       "1        One year                  0       1               0           0   \n",
       "2  Month-to-month                  1       1               0           0   \n",
       "3        One year                  0       1               0           0   \n",
       "4  Month-to-month                  1       0               0           0   \n",
       "\n",
       "  internet_service streaming_movies device_protection tech_support  \\\n",
       "0              DSL                0                 0            0   \n",
       "1              DSL                0                 1            0   \n",
       "2              DSL                0                 0            0   \n",
       "3              DSL                0                 1            1   \n",
       "4      Fiber optic                0                 0            0   \n",
       "\n",
       "  multiple_lines  partner             payment_method online_backup  \\\n",
       "0             No        1           Electronic check             1   \n",
       "1              0        0               Mailed check             0   \n",
       "2              0        0               Mailed check             1   \n",
       "3             No        0  Bank transfer (automatic)             0   \n",
       "4              0        0           Electronic check             0   \n",
       "\n",
       "  online_security streaming_tv  monthly_charges  duration_contract  is_active  \n",
       "0               0            0            29.85                 31          1  \n",
       "1               1            0            56.95               1036          1  \n",
       "2               1            0            53.85                 61          0  \n",
       "3               1            0            42.30               1371          1  \n",
       "4               0            0            70.70                 61          0  "
      ]
     },
     "execution_count": 91,
     "metadata": {},
     "output_type": "execute_result"
    }
   ],
   "source": [
    "df[categorical + numeric + target_column].head()"
   ]
  },
  {
   "cell_type": "code",
   "execution_count": 92,
   "id": "6ceb77f9",
   "metadata": {},
   "outputs": [
    {
     "data": {
      "text/plain": [
       "monthly_charges       float64\n",
       "duration_contract     float64\n",
       "type                 category\n",
       "paperless_billing    category\n",
       "gender               category\n",
       "senior_citizen       category\n",
       "dependents           category\n",
       "internet_service     category\n",
       "streaming_movies     category\n",
       "device_protection    category\n",
       "tech_support         category\n",
       "multiple_lines       category\n",
       "partner              category\n",
       "payment_method       category\n",
       "online_backup        category\n",
       "online_security      category\n",
       "streaming_tv         category\n",
       "dtype: object"
      ]
     },
     "execution_count": 92,
     "metadata": {},
     "output_type": "execute_result"
    }
   ],
   "source": [
    "features_train_bust.dtypes"
   ]
  },
  {
   "cell_type": "markdown",
   "metadata": {},
   "source": [
    "Для автоматического подбора параметров модели воспользуемся GridSearchCV"
   ]
  },
  {
   "cell_type": "code",
   "execution_count": 93,
   "id": "a2604ea0",
   "metadata": {},
   "outputs": [
    {
     "name": "stdout",
     "output_type": "stream",
     "text": [
      "Значения на валидационной выборке:\n",
      "Значение AUC-ROC: 0.86\n",
      "Accuracy модели: 0.813\n",
      "LGBMClassifier(learning_rate=0.3, max_depth=5, num_leaves=40,\n",
      "               random_state=12345, reg_alpha=0.03)\n"
     ]
    }
   ],
   "source": [
    "param_grid = {'num_leaves':[20,40], \n",
    "              'max_depth':[5,10,20],\n",
    "              'learning_rate':[0.1,0.3],\n",
    "              'reg_alpha':[0,0.01,0.03]}\n",
    "\n",
    "model = LGBMClassifier(random_state=12345)\n",
    "\n",
    "lgbm = GridSearchCV(model, param_grid, cv=5, scoring='roc_auc')\n",
    "lgbm.fit(features_train_bust, target_train_bust)\n",
    "\n",
    "predictions_valid = lgbm.predict(features_valid_bust)\n",
    "probabilities_valid = lgbm.predict_proba(features_valid_bust)\n",
    "probabilities_one_valid = probabilities_valid[:, 1]\n",
    "\n",
    "roc_auc = roc_auc_score(target_valid_bust, probabilities_one_valid)\n",
    "accuracy = accuracy_score(target_valid_bust, predictions_valid)\n",
    "\n",
    "print('Значения на валидационной выборке:')\n",
    "print(\"Значение AUC-ROC:\", round(best_roc_auc, 3))\n",
    "print(\"Accuracy модели:\", round(best_accuracy, 3))\n",
    "print(lgbm.best_estimator_)"
   ]
  },
  {
   "cell_type": "markdown",
   "id": "3f2a21ec",
   "metadata": {},
   "source": [
    "Таблица важности для бустинга"
   ]
  },
  {
   "cell_type": "code",
   "execution_count": 94,
   "id": "ee812e31",
   "metadata": {},
   "outputs": [
    {
     "data": {
      "text/html": [
       "<div>\n",
       "<style scoped>\n",
       "    .dataframe tbody tr th:only-of-type {\n",
       "        vertical-align: middle;\n",
       "    }\n",
       "\n",
       "    .dataframe tbody tr th {\n",
       "        vertical-align: top;\n",
       "    }\n",
       "\n",
       "    .dataframe thead th {\n",
       "        text-align: right;\n",
       "    }\n",
       "</style>\n",
       "<table border=\"1\" class=\"dataframe\">\n",
       "  <thead>\n",
       "    <tr style=\"text-align: right;\">\n",
       "      <th></th>\n",
       "      <th>importance</th>\n",
       "      <th>feature</th>\n",
       "    </tr>\n",
       "  </thead>\n",
       "  <tbody>\n",
       "    <tr>\n",
       "      <th>0</th>\n",
       "      <td>22</td>\n",
       "      <td>streaming_movies_1.0</td>\n",
       "    </tr>\n",
       "    <tr>\n",
       "      <th>1</th>\n",
       "      <td>23</td>\n",
       "      <td>type_One year</td>\n",
       "    </tr>\n",
       "    <tr>\n",
       "      <th>2</th>\n",
       "      <td>26</td>\n",
       "      <td>device_protection_1.0</td>\n",
       "    </tr>\n",
       "    <tr>\n",
       "      <th>3</th>\n",
       "      <td>26</td>\n",
       "      <td>device_protection_No</td>\n",
       "    </tr>\n",
       "    <tr>\n",
       "      <th>4</th>\n",
       "      <td>27</td>\n",
       "      <td>internet_service_No</td>\n",
       "    </tr>\n",
       "    <tr>\n",
       "      <th>5</th>\n",
       "      <td>30</td>\n",
       "      <td>dependents</td>\n",
       "    </tr>\n",
       "    <tr>\n",
       "      <th>6</th>\n",
       "      <td>30</td>\n",
       "      <td>internet_service_Fiber optic</td>\n",
       "    </tr>\n",
       "    <tr>\n",
       "      <th>7</th>\n",
       "      <td>31</td>\n",
       "      <td>streaming_movies_No</td>\n",
       "    </tr>\n",
       "    <tr>\n",
       "      <th>8</th>\n",
       "      <td>33</td>\n",
       "      <td>gender</td>\n",
       "    </tr>\n",
       "    <tr>\n",
       "      <th>9</th>\n",
       "      <td>34</td>\n",
       "      <td>streaming_tv_No</td>\n",
       "    </tr>\n",
       "    <tr>\n",
       "      <th>10</th>\n",
       "      <td>35</td>\n",
       "      <td>type_Two year</td>\n",
       "    </tr>\n",
       "    <tr>\n",
       "      <th>11</th>\n",
       "      <td>43</td>\n",
       "      <td>partner</td>\n",
       "    </tr>\n",
       "    <tr>\n",
       "      <th>12</th>\n",
       "      <td>50</td>\n",
       "      <td>streaming_tv_1.0</td>\n",
       "    </tr>\n",
       "    <tr>\n",
       "      <th>13</th>\n",
       "      <td>53</td>\n",
       "      <td>senior_citizen</td>\n",
       "    </tr>\n",
       "    <tr>\n",
       "      <th>14</th>\n",
       "      <td>59</td>\n",
       "      <td>paperless_billing</td>\n",
       "    </tr>\n",
       "    <tr>\n",
       "      <th>15</th>\n",
       "      <td>517</td>\n",
       "      <td>monthly_charges</td>\n",
       "    </tr>\n",
       "    <tr>\n",
       "      <th>16</th>\n",
       "      <td>747</td>\n",
       "      <td>duration_contract</td>\n",
       "    </tr>\n",
       "  </tbody>\n",
       "</table>\n",
       "</div>"
      ],
      "text/plain": [
       "    importance                       feature\n",
       "0           22          streaming_movies_1.0\n",
       "1           23                 type_One year\n",
       "2           26         device_protection_1.0\n",
       "3           26          device_protection_No\n",
       "4           27           internet_service_No\n",
       "5           30                    dependents\n",
       "6           30  internet_service_Fiber optic\n",
       "7           31           streaming_movies_No\n",
       "8           33                        gender\n",
       "9           34               streaming_tv_No\n",
       "10          35                 type_Two year\n",
       "11          43                       partner\n",
       "12          50              streaming_tv_1.0\n",
       "13          53                senior_citizen\n",
       "14          59             paperless_billing\n",
       "15         517               monthly_charges\n",
       "16         747             duration_contract"
      ]
     },
     "execution_count": 94,
     "metadata": {},
     "output_type": "execute_result"
    }
   ],
   "source": [
    "pd.DataFrame(sorted(zip(lgbm.best_estimator_.feature_importances_, features_test.columns)),\n",
    "                           columns=['importance', 'feature'])"
   ]
  },
  {
   "cell_type": "markdown",
   "id": "5410808d",
   "metadata": {},
   "source": [
    "### Проверка модели на тестовой выборке"
   ]
  },
  {
   "cell_type": "code",
   "execution_count": 95,
   "id": "7262bdb7",
   "metadata": {},
   "outputs": [
    {
     "name": "stdout",
     "output_type": "stream",
     "text": [
      "Лучшая модель логистической регрессии:\n",
      "Accuracy наилучшей модели на тестовой выборке: 0.793\n",
      "AUC-ROC = 0.821\n"
     ]
    }
   ],
   "source": [
    "predictions_test = best_logistic_model.predict(features_test)\n",
    "acc = accuracy_score(target_test, predictions_test)\n",
    "print('Лучшая модель логистической регрессии:')\n",
    "print(\"Accuracy наилучшей модели на тестовой выборке:\", round(acc, 3))\n",
    "\n",
    "probabilities_test = best_logistic_model.predict_proba(features_test)\n",
    "probabilities_one_test = probabilities_test[:, 1]\n",
    "auc_roc = roc_auc_score(target_test, probabilities_one_test)\n",
    "print('AUC-ROC =', round(auc_roc, 3))"
   ]
  },
  {
   "cell_type": "code",
   "execution_count": 96,
   "id": "38d167c8",
   "metadata": {},
   "outputs": [
    {
     "name": "stdout",
     "output_type": "stream",
     "text": [
      "Лучшая модель дерева решений:\n",
      "Accuracy наилучшей модели на тестовой выборке: 0.793\n",
      "AUC-ROC = 0.838\n"
     ]
    }
   ],
   "source": [
    "predictions_test = best_tree_model.predict(features_test)\n",
    "acc = accuracy_score(target_test, predictions_test)\n",
    "print('Лучшая модель дерева решений:')\n",
    "print(\"Accuracy наилучшей модели на тестовой выборке:\", round(acc, 3))\n",
    "\n",
    "probabilities_test = best_tree_model.predict_proba(features_test)\n",
    "probabilities_one_test = probabilities_test[:, 1]\n",
    "auc_roc = roc_auc_score(target_test, probabilities_one_test)\n",
    "print('AUC-ROC =', round(auc_roc, 3))"
   ]
  },
  {
   "cell_type": "code",
   "execution_count": 97,
   "id": "53ad2136",
   "metadata": {},
   "outputs": [
    {
     "name": "stdout",
     "output_type": "stream",
     "text": [
      "Лучшая модель случайного леса:\n",
      "Accuracy наилучшей модели на тестовой выборке: 0.8\n",
      "AUC-ROC = 0.834\n"
     ]
    }
   ],
   "source": [
    "predictions_test = best_forest_model.predict(features_test)\n",
    "acc = accuracy_score(target_test, predictions_test)\n",
    "print('Лучшая модель случайного леса:')\n",
    "print(\"Accuracy наилучшей модели на тестовой выборке:\", round(acc, 3))\n",
    "\n",
    "probabilities_test = best_forest_model.predict_proba(features_test)\n",
    "probabilities_one_test = probabilities_test[:, 1]\n",
    "auc_roc = roc_auc_score(target_test, probabilities_one_test)\n",
    "print('AUC-ROC =', round(auc_roc, 3))"
   ]
  },
  {
   "cell_type": "code",
   "execution_count": 98,
   "id": "247f240c",
   "metadata": {},
   "outputs": [
    {
     "name": "stdout",
     "output_type": "stream",
     "text": [
      "Лучшая модель градиентного бустинга:\n",
      "Accuracy наилучшей модели на тестовой выборке: 0.8\n",
      "ROC-AUC: 0.889\n"
     ]
    }
   ],
   "source": [
    "predictions_test = lgbm.predict(features_test_bust)\n",
    "probabilities_test = lgbm.predict_proba(features_test_bust)\n",
    "probabilities_one_test = probabilities_test[:, 1]\n",
    "print('Лучшая модель градиентного бустинга:')\n",
    "\n",
    "auc_roc = roc_auc_score(target_test_bust, probabilities_one_test)\n",
    "accuracy = accuracy_score(target_test_bust, predictions_test)\n",
    "print(\"Accuracy наилучшей модели на тестовой выборке:\", round(acc, 3))\n",
    "print('ROC-AUC:', round(auc_roc, 3))"
   ]
  },
  {
   "cell_type": "markdown",
   "id": "e034eeb8",
   "metadata": {},
   "source": [
    "Как видим, на тестовой выборке получили похожие результаты, что и на валидационной выборке.\n",
    "\n",
    "Лучшей оказалась модель градиентного бустинга, у которой accuracy = 0.8, AUC-ROC = 0.889 при параметрах:\n",
    "- learning_rate=0.3\n",
    "- max_depth=5\n",
    "- num_leaves=40\n",
    "- random_state=12345\n",
    "- reg_alpha=0.03\n",
    "\n",
    "Таким образом данную модель можно использовать для предсказания оттока клиентов."
   ]
  },
  {
   "cell_type": "markdown",
   "metadata": {},
   "source": [
    "## Вывод"
   ]
  },
  {
   "cell_type": "markdown",
   "metadata": {},
   "source": [
    "В проекте было необходимо создать модель для прогнозирования оттока клиентов."
   ]
  },
  {
   "cell_type": "markdown",
   "metadata": {},
   "source": [
    "Выполнил все пункты плана, а именно:\n",
    "    \n",
    "1. Разделил данные на обучающую, тестовую и валидационную выборки, выделив target поле.\n",
    "2. Построил модели классификации данных. Использовал запланированные алгоритмы: логистическая регрессия, дерево решений, случайный лес и градиентный бустинг.\n",
    "3. Проверил метрики на валидационной и тестовой выборке.\n",
    "4. Общий вывод."
   ]
  },
  {
   "cell_type": "markdown",
   "metadata": {},
   "source": [
    "Главная трудность возникла после первой проверки. Пришел ответ от ML-специалиста, который написал, что нельзя использовать поле с датой в признаках модели. Но также он добавил, что можно использовать признак длительности контракта, но я этого комментария я не заметил сразу. Я же пытался добиться метрики roc-auc 0.85 без поля длительности контракта. Получилось добиться такого значения только на валидационной выборке. А когда понял, что можно использовать поле с длительностью контракта, алгоритм градиентного бустинга со 2-ого раза добился метрики больше 0.88. "
   ]
  },
  {
   "cell_type": "markdown",
   "metadata": {},
   "source": [
    "Ключевые шаги в решении задачи:\n",
    "- Подготовка данных\n",
    "- Анализ данных\n",
    "- Создание дополнительного поля длительности контракта - числовое поле, которое помогает прогнозированию\n",
    "- Определение корреляции числовых признаков\n",
    "- Правильное выделение target колонки\n",
    "- Разделение данных на выборки\n",
    "- Нормализация числовых данных и применение one hot encoding к категориальным данным\n",
    "- Моделирование на разных алгоритмах с перебором разных параметров"
   ]
  },
  {
   "cell_type": "markdown",
   "metadata": {},
   "source": [
    "Итоговая модель - градиентный бустинга (lgbm) со следующими параметрами:\n",
    "- learning_rate=0.3 - скорость обучения\n",
    "- max_depth=5 -  максимальная глубина дерева \n",
    "- num_leaves=40 - максимальное количество листьев дерева \n",
    "- reg_alpha=0.03 - коэффициент регуляризации L1 для весов"
   ]
  },
  {
   "cell_type": "markdown",
   "metadata": {},
   "source": [
    "Метрики: accuracy = 0.8, AUC-ROC = 0.889"
   ]
  },
  {
   "cell_type": "code",
   "execution_count": null,
   "metadata": {},
   "outputs": [],
   "source": []
  }
 ],
 "metadata": {
  "ExecuteTimeLog": [
   {
    "duration": 1513,
    "start_time": "2022-07-18T19:58:05.352Z"
   },
   {
    "duration": 308,
    "start_time": "2022-07-18T19:58:06.867Z"
   },
   {
    "duration": 3,
    "start_time": "2022-07-18T19:58:07.176Z"
   },
   {
    "duration": 59,
    "start_time": "2022-07-18T19:58:07.181Z"
   },
   {
    "duration": 2,
    "start_time": "2022-07-18T19:58:07.242Z"
   },
   {
    "duration": 5,
    "start_time": "2022-07-18T19:58:07.246Z"
   },
   {
    "duration": 5,
    "start_time": "2022-07-18T19:58:07.253Z"
   },
   {
    "duration": 5,
    "start_time": "2022-07-18T19:58:07.259Z"
   },
   {
    "duration": 8,
    "start_time": "2022-07-18T19:58:07.265Z"
   },
   {
    "duration": 5,
    "start_time": "2022-07-18T19:58:07.275Z"
   },
   {
    "duration": 6,
    "start_time": "2022-07-18T19:58:07.281Z"
   },
   {
    "duration": 7,
    "start_time": "2022-07-18T19:58:07.288Z"
   },
   {
    "duration": 6,
    "start_time": "2022-07-18T19:58:07.296Z"
   },
   {
    "duration": 5,
    "start_time": "2022-07-18T19:58:07.303Z"
   },
   {
    "duration": 59,
    "start_time": "2022-07-18T19:58:07.309Z"
   },
   {
    "duration": 8,
    "start_time": "2022-07-18T19:58:07.370Z"
   },
   {
    "duration": 3,
    "start_time": "2022-07-18T19:58:07.379Z"
   },
   {
    "duration": 7,
    "start_time": "2022-07-18T19:58:07.383Z"
   },
   {
    "duration": 7,
    "start_time": "2022-07-18T19:58:07.391Z"
   },
   {
    "duration": 9,
    "start_time": "2022-07-18T19:58:07.399Z"
   },
   {
    "duration": 34,
    "start_time": "2022-07-18T19:58:07.409Z"
   },
   {
    "duration": 9,
    "start_time": "2022-07-18T19:58:07.445Z"
   },
   {
    "duration": 6,
    "start_time": "2022-07-18T19:58:07.455Z"
   },
   {
    "duration": 11,
    "start_time": "2022-07-18T19:58:07.463Z"
   },
   {
    "duration": 6,
    "start_time": "2022-07-18T19:58:07.475Z"
   },
   {
    "duration": 7,
    "start_time": "2022-07-18T19:58:07.482Z"
   },
   {
    "duration": 11,
    "start_time": "2022-07-18T19:58:07.491Z"
   },
   {
    "duration": 40,
    "start_time": "2022-07-18T19:58:07.506Z"
   },
   {
    "duration": 11,
    "start_time": "2022-07-18T19:58:07.547Z"
   },
   {
    "duration": 10,
    "start_time": "2022-07-18T19:58:07.560Z"
   },
   {
    "duration": 9,
    "start_time": "2022-07-18T19:58:07.572Z"
   },
   {
    "duration": 4,
    "start_time": "2022-07-18T19:58:07.582Z"
   },
   {
    "duration": 4,
    "start_time": "2022-07-18T19:58:07.588Z"
   },
   {
    "duration": 8,
    "start_time": "2022-07-18T19:58:07.593Z"
   },
   {
    "duration": 59,
    "start_time": "2022-07-18T19:58:07.603Z"
   },
   {
    "duration": 12,
    "start_time": "2022-07-18T19:58:07.664Z"
   },
   {
    "duration": 14,
    "start_time": "2022-07-18T19:58:07.678Z"
   },
   {
    "duration": 3,
    "start_time": "2022-07-18T19:58:07.693Z"
   },
   {
    "duration": 228,
    "start_time": "2022-07-18T19:58:07.697Z"
   },
   {
    "duration": 3,
    "start_time": "2022-07-18T19:58:07.927Z"
   },
   {
    "duration": 16,
    "start_time": "2022-07-18T19:58:07.932Z"
   },
   {
    "duration": 7,
    "start_time": "2022-07-18T19:58:07.950Z"
   },
   {
    "duration": 8,
    "start_time": "2022-07-18T19:58:07.958Z"
   },
   {
    "duration": 6,
    "start_time": "2022-07-18T19:58:07.968Z"
   },
   {
    "duration": 22,
    "start_time": "2022-07-18T19:58:07.976Z"
   },
   {
    "duration": 3,
    "start_time": "2022-07-18T19:58:08.000Z"
   },
   {
    "duration": 39,
    "start_time": "2022-07-18T19:58:08.004Z"
   },
   {
    "duration": 3,
    "start_time": "2022-07-18T19:58:08.045Z"
   },
   {
    "duration": 1884,
    "start_time": "2022-07-18T19:58:08.049Z"
   },
   {
    "duration": 15,
    "start_time": "2022-07-18T19:58:09.935Z"
   },
   {
    "duration": 11,
    "start_time": "2022-07-18T19:58:09.952Z"
   },
   {
    "duration": 10,
    "start_time": "2022-07-18T19:58:09.965Z"
   },
   {
    "duration": 8,
    "start_time": "2022-07-18T19:58:09.977Z"
   },
   {
    "duration": 9,
    "start_time": "2022-07-18T19:58:09.987Z"
   },
   {
    "duration": 7,
    "start_time": "2022-07-18T19:58:09.997Z"
   },
   {
    "duration": 11,
    "start_time": "2022-07-18T19:58:10.005Z"
   },
   {
    "duration": 31,
    "start_time": "2022-07-18T19:58:10.017Z"
   },
   {
    "duration": 23,
    "start_time": "2022-07-18T19:58:10.049Z"
   },
   {
    "duration": 4,
    "start_time": "2022-07-18T19:58:10.073Z"
   },
   {
    "duration": 19,
    "start_time": "2022-07-18T19:58:10.079Z"
   },
   {
    "duration": 74,
    "start_time": "2022-07-18T19:58:10.099Z"
   },
   {
    "duration": 21,
    "start_time": "2022-07-18T19:58:10.175Z"
   },
   {
    "duration": 1847,
    "start_time": "2022-07-18T19:58:10.198Z"
   },
   {
    "duration": 8,
    "start_time": "2022-07-18T19:58:12.046Z"
   },
   {
    "duration": 14,
    "start_time": "2022-07-18T19:58:12.056Z"
   },
   {
    "duration": 13,
    "start_time": "2022-07-18T19:58:12.072Z"
   },
   {
    "duration": 25,
    "start_time": "2022-07-18T19:58:12.086Z"
   },
   {
    "duration": 29,
    "start_time": "2022-07-18T19:58:12.113Z"
   },
   {
    "duration": 5,
    "start_time": "2022-07-18T19:58:12.144Z"
   },
   {
    "duration": 8,
    "start_time": "2022-07-18T19:58:12.150Z"
   },
   {
    "duration": 17,
    "start_time": "2022-07-18T19:58:12.159Z"
   },
   {
    "duration": 15,
    "start_time": "2022-07-18T19:58:12.178Z"
   },
   {
    "duration": 51,
    "start_time": "2022-07-18T19:58:12.195Z"
   },
   {
    "duration": 8,
    "start_time": "2022-07-18T19:58:12.247Z"
   },
   {
    "duration": 4,
    "start_time": "2022-07-18T19:58:12.257Z"
   },
   {
    "duration": 1489,
    "start_time": "2022-07-18T19:58:12.263Z"
   },
   {
    "duration": 239,
    "start_time": "2022-07-18T19:58:13.843Z"
   },
   {
    "duration": 19,
    "start_time": "2022-07-18T19:58:14.083Z"
   },
   {
    "duration": 4,
    "start_time": "2022-07-18T19:58:14.103Z"
   },
   {
    "duration": 7,
    "start_time": "2022-07-18T19:58:14.109Z"
   },
   {
    "duration": 159,
    "start_time": "2022-07-18T19:58:14.117Z"
   },
   {
    "duration": 163,
    "start_time": "2022-07-18T19:58:14.281Z"
   },
   {
    "duration": 7,
    "start_time": "2022-07-18T19:58:14.446Z"
   },
   {
    "duration": 11,
    "start_time": "2022-07-18T19:58:14.455Z"
   },
   {
    "duration": 10,
    "start_time": "2022-07-18T19:58:14.468Z"
   },
   {
    "duration": 4496,
    "start_time": "2022-07-18T19:58:14.480Z"
   },
   {
    "duration": 303,
    "start_time": "2022-07-18T19:58:18.978Z"
   },
   {
    "duration": 3,
    "start_time": "2022-07-18T19:58:19.283Z"
   },
   {
    "duration": 72,
    "start_time": "2022-07-18T19:58:19.288Z"
   },
   {
    "duration": 12,
    "start_time": "2022-07-18T19:58:19.362Z"
   },
   {
    "duration": 16,
    "start_time": "2022-07-18T19:58:19.376Z"
   },
   {
    "duration": 7,
    "start_time": "2022-07-18T19:58:19.393Z"
   },
   {
    "duration": 485748,
    "start_time": "2022-07-18T19:58:19.402Z"
   },
   {
    "duration": 8,
    "start_time": "2022-07-18T20:06:25.151Z"
   },
   {
    "duration": 88,
    "start_time": "2022-07-18T20:06:25.161Z"
   },
   {
    "duration": 204,
    "start_time": "2022-07-18T20:06:25.251Z"
   },
   {
    "duration": 38,
    "start_time": "2022-07-18T20:06:25.457Z"
   },
   {
    "duration": 69,
    "start_time": "2022-07-18T20:06:25.497Z"
   }
  ],
  "kernelspec": {
   "display_name": "Python 3",
   "language": "python",
   "name": "python3"
  },
  "language_info": {
   "codemirror_mode": {
    "name": "ipython",
    "version": 3
   },
   "file_extension": ".py",
   "mimetype": "text/x-python",
   "name": "python",
   "nbconvert_exporter": "python",
   "pygments_lexer": "ipython3",
   "version": "3.6.8"
  },
  "toc": {
   "base_numbering": 1,
   "nav_menu": {},
   "number_sections": true,
   "sideBar": true,
   "skip_h1_title": true,
   "title_cell": "Содержание",
   "title_sidebar": "Contents",
   "toc_cell": true,
   "toc_position": {},
   "toc_section_display": true,
   "toc_window_display": true
  }
 },
 "nbformat": 4,
 "nbformat_minor": 2
}
