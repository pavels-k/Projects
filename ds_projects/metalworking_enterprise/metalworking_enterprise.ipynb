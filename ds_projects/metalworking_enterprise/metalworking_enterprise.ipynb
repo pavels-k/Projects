{
 "cells": [
  {
   "cell_type": "markdown",
   "metadata": {
    "toc": true
   },
   "source": [
    "<h1>Содержание<span class=\"tocSkip\"></span></h1>\n",
    "<div class=\"toc\"><ul class=\"toc-item\"><li><span><a href=\"#Подготовка-данных\" data-toc-modified-id=\"Подготовка-данных-1\"><span class=\"toc-item-num\">1&nbsp;&nbsp;</span>Подготовка данных</a></span><ul class=\"toc-item\"><li><span><a href=\"#Откроем-файлы-и-изучим-их\" data-toc-modified-id=\"Откроем-файлы-и-изучим-их-1.1\"><span class=\"toc-item-num\">1.1&nbsp;&nbsp;</span>Откроем файлы и изучим их</a></span></li><li><span><a href=\"#Рассчитаем-эффективность-обогащения\" data-toc-modified-id=\"Рассчитаем-эффективность-обогащения-1.2\"><span class=\"toc-item-num\">1.2&nbsp;&nbsp;</span>Рассчитаем эффективность обогащения</a></span></li><li><span><a href=\"#Проанализируем-признаки,-недоступные-в-тестовой-выборке\" data-toc-modified-id=\"Проанализируем-признаки,-недоступные-в-тестовой-выборке-1.3\"><span class=\"toc-item-num\">1.3&nbsp;&nbsp;</span>Проанализируем признаки, недоступные в тестовой выборке</a></span></li><li><span><a href=\"#Предобработка-данных\" data-toc-modified-id=\"Предобработка-данных-1.4\"><span class=\"toc-item-num\">1.4&nbsp;&nbsp;</span>Предобработка данных</a></span></li></ul></li><li><span><a href=\"#Анализ-данных\" data-toc-modified-id=\"Анализ-данных-2\"><span class=\"toc-item-num\">2&nbsp;&nbsp;</span>Анализ данных</a></span><ul class=\"toc-item\"><li><span><a href=\"#Посмотрим,-как-меняется-концентрация-металлов-(Au,-Ag,-Pb)-на-различных-этапах-очистки\" data-toc-modified-id=\"Посмотрим,-как-меняется-концентрация-металлов-(Au,-Ag,-Pb)-на-различных-этапах-очистки-2.1\"><span class=\"toc-item-num\">2.1&nbsp;&nbsp;</span>Посмотрим, как меняется концентрация металлов (Au, Ag, Pb) на различных этапах очистки</a></span></li><li><span><a href=\"#Сравним-распределения-размеров-гранул-сырья-на-обучающей-и-тестовой-выборках\" data-toc-modified-id=\"Сравним-распределения-размеров-гранул-сырья-на-обучающей-и-тестовой-выборках-2.2\"><span class=\"toc-item-num\">2.2&nbsp;&nbsp;</span>Сравним распределения размеров гранул сырья на обучающей и тестовой выборках</a></span></li><li><span><a href=\"#Исследуем-суммарную-концентрацию-всех-веществ-на-разных-стадиях:-в-сырье,-в-черновом-и-финальном-концентратах\" data-toc-modified-id=\"Исследуем-суммарную-концентрацию-всех-веществ-на-разных-стадиях:-в-сырье,-в-черновом-и-финальном-концентратах-2.3\"><span class=\"toc-item-num\">2.3&nbsp;&nbsp;</span>Исследуем суммарную концентрацию всех веществ на разных стадиях: в сырье, в черновом и финальном концентратах</a></span></li></ul></li><li><span><a href=\"#Модель\" data-toc-modified-id=\"Модель-3\"><span class=\"toc-item-num\">3&nbsp;&nbsp;</span>Модель</a></span><ul class=\"toc-item\"><li><span><a href=\"#Напишем-функцию-для-вычисления-итоговой-sMAPE\" data-toc-modified-id=\"Напишем-функцию-для-вычисления-итоговой-sMAPE-3.1\"><span class=\"toc-item-num\">3.1&nbsp;&nbsp;</span>Напишем функцию для вычисления итоговой sMAPE</a></span></li><li><span><a href=\"#Обучим-разные-модели-и-оценим-их-качество-кросс-валидацией.-Выберем-лучшую-модель-и-проверим-её-на-тестовой-выборке\" data-toc-modified-id=\"Обучим-разные-модели-и-оценим-их-качество-кросс-валидацией.-Выберем-лучшую-модель-и-проверим-её-на-тестовой-выборке-3.2\"><span class=\"toc-item-num\">3.2&nbsp;&nbsp;</span>Обучим разные модели и оценим их качество кросс-валидацией. Выберем лучшую модель и проверим её на тестовой выборке</a></span></li></ul></li><li><span><a href=\"#Чек-лист-готовности-проекта\" data-toc-modified-id=\"Чек-лист-готовности-проекта-4\"><span class=\"toc-item-num\">4&nbsp;&nbsp;</span>Чек-лист готовности проекта</a></span></li></ul></div>"
   ]
  },
  {
   "cell_type": "markdown",
   "metadata": {},
   "source": [
    "# Восстановление золота из руды"
   ]
  },
  {
   "cell_type": "markdown",
   "metadata": {},
   "source": [
    "Подготовьте прототип модели машинного обучения для «Цифры». Компания разрабатывает решения для эффективной работы промышленных предприятий.\n",
    "\n",
    "Модель должна предсказать коэффициент восстановления золота из золотосодержащей руды. Используйте данные с параметрами добычи и очистки. \n",
    "\n",
    "Модель поможет оптимизировать производство, чтобы не запускать предприятие с убыточными характеристиками.\n",
    "\n",
    "Вам нужно:\n",
    "\n",
    "1. Подготовить данные;\n",
    "2. Провести исследовательский анализ данных;\n",
    "3. Построить и обучить модель.\n",
    "\n",
    "Чтобы выполнить проект, обращайтесь к библиотекам *pandas*, *matplotlib* и *sklearn.* Вам поможет их документация."
   ]
  },
  {
   "cell_type": "markdown",
   "metadata": {},
   "source": [
    "## Подготовка данных"
   ]
  },
  {
   "cell_type": "markdown",
   "metadata": {},
   "source": [
    "### Откроем файлы и изучим их"
   ]
  },
  {
   "cell_type": "code",
   "execution_count": 1,
   "metadata": {},
   "outputs": [],
   "source": [
    "# Импорт библиотек\n",
    "import matplotlib.pyplot as plt\n",
    "import pandas as pd\n",
    "import seaborn as sns\n",
    "from sklearn.linear_model import LinearRegression\n",
    "from sklearn.metrics import make_scorer, mean_absolute_error\n",
    "from sklearn.model_selection import cross_val_score\n",
    "from sklearn.preprocessing import StandardScaler\n",
    "from sklearn.tree import DecisionTreeRegressor"
   ]
  },
  {
   "cell_type": "code",
   "execution_count": 2,
   "metadata": {},
   "outputs": [],
   "source": [
    "%matplotlib inline\n",
    "figsize = (10, 7)"
   ]
  },
  {
   "cell_type": "code",
   "execution_count": 3,
   "metadata": {},
   "outputs": [],
   "source": [
    "# Открываем файлы\n",
    "pth1 = 'datasets/gold_recovery_train_new.csv'\n",
    "pth2 = 'datasets/gold_recovery_test_new.csv'\n",
    "pth3 = 'datasets/gold_recovery_full_new.csv'\n",
    "\n",
    "df_train = pd.read_csv(pth1, sep=',')\n",
    "df_test = pd.read_csv(pth2, sep=',')\n",
    "df_full = pd.read_csv(pth3, sep=',')"
   ]
  },
  {
   "cell_type": "markdown",
   "metadata": {},
   "source": [
    "Посмотрим на данные"
   ]
  },
  {
   "cell_type": "code",
   "execution_count": 4,
   "metadata": {},
   "outputs": [
    {
     "data": {
      "text/html": [
       "<div>\n",
       "<style scoped>\n",
       "    .dataframe tbody tr th:only-of-type {\n",
       "        vertical-align: middle;\n",
       "    }\n",
       "\n",
       "    .dataframe tbody tr th {\n",
       "        vertical-align: top;\n",
       "    }\n",
       "\n",
       "    .dataframe thead th {\n",
       "        text-align: right;\n",
       "    }\n",
       "</style>\n",
       "<table border=\"1\" class=\"dataframe\">\n",
       "  <thead>\n",
       "    <tr style=\"text-align: right;\">\n",
       "      <th></th>\n",
       "      <th>date</th>\n",
       "      <th>final.output.concentrate_ag</th>\n",
       "      <th>final.output.concentrate_pb</th>\n",
       "      <th>final.output.concentrate_sol</th>\n",
       "      <th>final.output.concentrate_au</th>\n",
       "      <th>final.output.recovery</th>\n",
       "      <th>final.output.tail_ag</th>\n",
       "      <th>final.output.tail_pb</th>\n",
       "      <th>final.output.tail_sol</th>\n",
       "      <th>final.output.tail_au</th>\n",
       "      <th>...</th>\n",
       "      <th>secondary_cleaner.state.floatbank4_a_air</th>\n",
       "      <th>secondary_cleaner.state.floatbank4_a_level</th>\n",
       "      <th>secondary_cleaner.state.floatbank4_b_air</th>\n",
       "      <th>secondary_cleaner.state.floatbank4_b_level</th>\n",
       "      <th>secondary_cleaner.state.floatbank5_a_air</th>\n",
       "      <th>secondary_cleaner.state.floatbank5_a_level</th>\n",
       "      <th>secondary_cleaner.state.floatbank5_b_air</th>\n",
       "      <th>secondary_cleaner.state.floatbank5_b_level</th>\n",
       "      <th>secondary_cleaner.state.floatbank6_a_air</th>\n",
       "      <th>secondary_cleaner.state.floatbank6_a_level</th>\n",
       "    </tr>\n",
       "  </thead>\n",
       "  <tbody>\n",
       "    <tr>\n",
       "      <th>0</th>\n",
       "      <td>2016-01-15 00:00:00</td>\n",
       "      <td>6.055403</td>\n",
       "      <td>9.889648</td>\n",
       "      <td>5.507324</td>\n",
       "      <td>42.192020</td>\n",
       "      <td>70.541216</td>\n",
       "      <td>10.411962</td>\n",
       "      <td>0.895447</td>\n",
       "      <td>16.904297</td>\n",
       "      <td>2.143149</td>\n",
       "      <td>...</td>\n",
       "      <td>14.016835</td>\n",
       "      <td>-502.488007</td>\n",
       "      <td>12.099931</td>\n",
       "      <td>-504.715942</td>\n",
       "      <td>9.925633</td>\n",
       "      <td>-498.310211</td>\n",
       "      <td>8.079666</td>\n",
       "      <td>-500.470978</td>\n",
       "      <td>14.151341</td>\n",
       "      <td>-605.841980</td>\n",
       "    </tr>\n",
       "    <tr>\n",
       "      <th>1</th>\n",
       "      <td>2016-01-15 01:00:00</td>\n",
       "      <td>6.029369</td>\n",
       "      <td>9.968944</td>\n",
       "      <td>5.257781</td>\n",
       "      <td>42.701629</td>\n",
       "      <td>69.266198</td>\n",
       "      <td>10.462676</td>\n",
       "      <td>0.927452</td>\n",
       "      <td>16.634514</td>\n",
       "      <td>2.224930</td>\n",
       "      <td>...</td>\n",
       "      <td>13.992281</td>\n",
       "      <td>-505.503262</td>\n",
       "      <td>11.950531</td>\n",
       "      <td>-501.331529</td>\n",
       "      <td>10.039245</td>\n",
       "      <td>-500.169983</td>\n",
       "      <td>7.984757</td>\n",
       "      <td>-500.582168</td>\n",
       "      <td>13.998353</td>\n",
       "      <td>-599.787184</td>\n",
       "    </tr>\n",
       "    <tr>\n",
       "      <th>2</th>\n",
       "      <td>2016-01-15 02:00:00</td>\n",
       "      <td>6.055926</td>\n",
       "      <td>10.213995</td>\n",
       "      <td>5.383759</td>\n",
       "      <td>42.657501</td>\n",
       "      <td>68.116445</td>\n",
       "      <td>10.507046</td>\n",
       "      <td>0.953716</td>\n",
       "      <td>16.208849</td>\n",
       "      <td>2.257889</td>\n",
       "      <td>...</td>\n",
       "      <td>14.015015</td>\n",
       "      <td>-502.520901</td>\n",
       "      <td>11.912783</td>\n",
       "      <td>-501.133383</td>\n",
       "      <td>10.070913</td>\n",
       "      <td>-500.129135</td>\n",
       "      <td>8.013877</td>\n",
       "      <td>-500.517572</td>\n",
       "      <td>14.028663</td>\n",
       "      <td>-601.427363</td>\n",
       "    </tr>\n",
       "    <tr>\n",
       "      <th>3</th>\n",
       "      <td>2016-01-15 03:00:00</td>\n",
       "      <td>6.047977</td>\n",
       "      <td>9.977019</td>\n",
       "      <td>4.858634</td>\n",
       "      <td>42.689819</td>\n",
       "      <td>68.347543</td>\n",
       "      <td>10.422762</td>\n",
       "      <td>0.883763</td>\n",
       "      <td>16.532835</td>\n",
       "      <td>2.146849</td>\n",
       "      <td>...</td>\n",
       "      <td>14.036510</td>\n",
       "      <td>-500.857308</td>\n",
       "      <td>11.999550</td>\n",
       "      <td>-501.193686</td>\n",
       "      <td>9.970366</td>\n",
       "      <td>-499.201640</td>\n",
       "      <td>7.977324</td>\n",
       "      <td>-500.255908</td>\n",
       "      <td>14.005551</td>\n",
       "      <td>-599.996129</td>\n",
       "    </tr>\n",
       "    <tr>\n",
       "      <th>4</th>\n",
       "      <td>2016-01-15 04:00:00</td>\n",
       "      <td>6.148599</td>\n",
       "      <td>10.142511</td>\n",
       "      <td>4.939416</td>\n",
       "      <td>42.774141</td>\n",
       "      <td>66.927016</td>\n",
       "      <td>10.360302</td>\n",
       "      <td>0.792826</td>\n",
       "      <td>16.525686</td>\n",
       "      <td>2.055292</td>\n",
       "      <td>...</td>\n",
       "      <td>14.027298</td>\n",
       "      <td>-499.838632</td>\n",
       "      <td>11.953070</td>\n",
       "      <td>-501.053894</td>\n",
       "      <td>9.925709</td>\n",
       "      <td>-501.686727</td>\n",
       "      <td>7.894242</td>\n",
       "      <td>-500.356035</td>\n",
       "      <td>13.996647</td>\n",
       "      <td>-601.496691</td>\n",
       "    </tr>\n",
       "  </tbody>\n",
       "</table>\n",
       "<p>5 rows × 87 columns</p>\n",
       "</div>"
      ],
      "text/plain": [
       "                  date  final.output.concentrate_ag  \\\n",
       "0  2016-01-15 00:00:00                     6.055403   \n",
       "1  2016-01-15 01:00:00                     6.029369   \n",
       "2  2016-01-15 02:00:00                     6.055926   \n",
       "3  2016-01-15 03:00:00                     6.047977   \n",
       "4  2016-01-15 04:00:00                     6.148599   \n",
       "\n",
       "   final.output.concentrate_pb  final.output.concentrate_sol  \\\n",
       "0                     9.889648                      5.507324   \n",
       "1                     9.968944                      5.257781   \n",
       "2                    10.213995                      5.383759   \n",
       "3                     9.977019                      4.858634   \n",
       "4                    10.142511                      4.939416   \n",
       "\n",
       "   final.output.concentrate_au  final.output.recovery  final.output.tail_ag  \\\n",
       "0                    42.192020              70.541216             10.411962   \n",
       "1                    42.701629              69.266198             10.462676   \n",
       "2                    42.657501              68.116445             10.507046   \n",
       "3                    42.689819              68.347543             10.422762   \n",
       "4                    42.774141              66.927016             10.360302   \n",
       "\n",
       "   final.output.tail_pb  final.output.tail_sol  final.output.tail_au  ...  \\\n",
       "0              0.895447              16.904297              2.143149  ...   \n",
       "1              0.927452              16.634514              2.224930  ...   \n",
       "2              0.953716              16.208849              2.257889  ...   \n",
       "3              0.883763              16.532835              2.146849  ...   \n",
       "4              0.792826              16.525686              2.055292  ...   \n",
       "\n",
       "   secondary_cleaner.state.floatbank4_a_air  \\\n",
       "0                                 14.016835   \n",
       "1                                 13.992281   \n",
       "2                                 14.015015   \n",
       "3                                 14.036510   \n",
       "4                                 14.027298   \n",
       "\n",
       "   secondary_cleaner.state.floatbank4_a_level  \\\n",
       "0                                 -502.488007   \n",
       "1                                 -505.503262   \n",
       "2                                 -502.520901   \n",
       "3                                 -500.857308   \n",
       "4                                 -499.838632   \n",
       "\n",
       "   secondary_cleaner.state.floatbank4_b_air  \\\n",
       "0                                 12.099931   \n",
       "1                                 11.950531   \n",
       "2                                 11.912783   \n",
       "3                                 11.999550   \n",
       "4                                 11.953070   \n",
       "\n",
       "   secondary_cleaner.state.floatbank4_b_level  \\\n",
       "0                                 -504.715942   \n",
       "1                                 -501.331529   \n",
       "2                                 -501.133383   \n",
       "3                                 -501.193686   \n",
       "4                                 -501.053894   \n",
       "\n",
       "   secondary_cleaner.state.floatbank5_a_air  \\\n",
       "0                                  9.925633   \n",
       "1                                 10.039245   \n",
       "2                                 10.070913   \n",
       "3                                  9.970366   \n",
       "4                                  9.925709   \n",
       "\n",
       "   secondary_cleaner.state.floatbank5_a_level  \\\n",
       "0                                 -498.310211   \n",
       "1                                 -500.169983   \n",
       "2                                 -500.129135   \n",
       "3                                 -499.201640   \n",
       "4                                 -501.686727   \n",
       "\n",
       "   secondary_cleaner.state.floatbank5_b_air  \\\n",
       "0                                  8.079666   \n",
       "1                                  7.984757   \n",
       "2                                  8.013877   \n",
       "3                                  7.977324   \n",
       "4                                  7.894242   \n",
       "\n",
       "   secondary_cleaner.state.floatbank5_b_level  \\\n",
       "0                                 -500.470978   \n",
       "1                                 -500.582168   \n",
       "2                                 -500.517572   \n",
       "3                                 -500.255908   \n",
       "4                                 -500.356035   \n",
       "\n",
       "   secondary_cleaner.state.floatbank6_a_air  \\\n",
       "0                                 14.151341   \n",
       "1                                 13.998353   \n",
       "2                                 14.028663   \n",
       "3                                 14.005551   \n",
       "4                                 13.996647   \n",
       "\n",
       "   secondary_cleaner.state.floatbank6_a_level  \n",
       "0                                 -605.841980  \n",
       "1                                 -599.787184  \n",
       "2                                 -601.427363  \n",
       "3                                 -599.996129  \n",
       "4                                 -601.496691  \n",
       "\n",
       "[5 rows x 87 columns]"
      ]
     },
     "execution_count": 4,
     "metadata": {},
     "output_type": "execute_result"
    }
   ],
   "source": [
    "df_train.head()"
   ]
  },
  {
   "cell_type": "code",
   "execution_count": 5,
   "metadata": {},
   "outputs": [
    {
     "name": "stdout",
     "output_type": "stream",
     "text": [
      "<class 'pandas.core.frame.DataFrame'>\n",
      "RangeIndex: 14149 entries, 0 to 14148\n",
      "Data columns (total 87 columns):\n",
      " #   Column                                              Non-Null Count  Dtype  \n",
      "---  ------                                              --------------  -----  \n",
      " 0   date                                                14149 non-null  object \n",
      " 1   final.output.concentrate_ag                         14148 non-null  float64\n",
      " 2   final.output.concentrate_pb                         14148 non-null  float64\n",
      " 3   final.output.concentrate_sol                        13938 non-null  float64\n",
      " 4   final.output.concentrate_au                         14149 non-null  float64\n",
      " 5   final.output.recovery                               14149 non-null  float64\n",
      " 6   final.output.tail_ag                                14149 non-null  float64\n",
      " 7   final.output.tail_pb                                14049 non-null  float64\n",
      " 8   final.output.tail_sol                               14144 non-null  float64\n",
      " 9   final.output.tail_au                                14149 non-null  float64\n",
      " 10  primary_cleaner.input.sulfate                       14129 non-null  float64\n",
      " 11  primary_cleaner.input.depressant                    14117 non-null  float64\n",
      " 12  primary_cleaner.input.feed_size                     14149 non-null  float64\n",
      " 13  primary_cleaner.input.xanthate                      14049 non-null  float64\n",
      " 14  primary_cleaner.output.concentrate_ag               14149 non-null  float64\n",
      " 15  primary_cleaner.output.concentrate_pb               14063 non-null  float64\n",
      " 16  primary_cleaner.output.concentrate_sol              13863 non-null  float64\n",
      " 17  primary_cleaner.output.concentrate_au               14149 non-null  float64\n",
      " 18  primary_cleaner.output.tail_ag                      14148 non-null  float64\n",
      " 19  primary_cleaner.output.tail_pb                      14134 non-null  float64\n",
      " 20  primary_cleaner.output.tail_sol                     14103 non-null  float64\n",
      " 21  primary_cleaner.output.tail_au                      14149 non-null  float64\n",
      " 22  primary_cleaner.state.floatbank8_a_air              14145 non-null  float64\n",
      " 23  primary_cleaner.state.floatbank8_a_level            14148 non-null  float64\n",
      " 24  primary_cleaner.state.floatbank8_b_air              14145 non-null  float64\n",
      " 25  primary_cleaner.state.floatbank8_b_level            14148 non-null  float64\n",
      " 26  primary_cleaner.state.floatbank8_c_air              14147 non-null  float64\n",
      " 27  primary_cleaner.state.floatbank8_c_level            14148 non-null  float64\n",
      " 28  primary_cleaner.state.floatbank8_d_air              14146 non-null  float64\n",
      " 29  primary_cleaner.state.floatbank8_d_level            14148 non-null  float64\n",
      " 30  rougher.calculation.sulfate_to_au_concentrate       14148 non-null  float64\n",
      " 31  rougher.calculation.floatbank10_sulfate_to_au_feed  14148 non-null  float64\n",
      " 32  rougher.calculation.floatbank11_sulfate_to_au_feed  14148 non-null  float64\n",
      " 33  rougher.calculation.au_pb_ratio                     14149 non-null  float64\n",
      " 34  rougher.input.feed_ag                               14149 non-null  float64\n",
      " 35  rougher.input.feed_pb                               14049 non-null  float64\n",
      " 36  rougher.input.feed_rate                             14141 non-null  float64\n",
      " 37  rougher.input.feed_size                             14005 non-null  float64\n",
      " 38  rougher.input.feed_sol                              14071 non-null  float64\n",
      " 39  rougher.input.feed_au                               14149 non-null  float64\n",
      " 40  rougher.input.floatbank10_sulfate                   14120 non-null  float64\n",
      " 41  rougher.input.floatbank10_xanthate                  14141 non-null  float64\n",
      " 42  rougher.input.floatbank11_sulfate                   14113 non-null  float64\n",
      " 43  rougher.input.floatbank11_xanthate                  13721 non-null  float64\n",
      " 44  rougher.output.concentrate_ag                       14149 non-null  float64\n",
      " 45  rougher.output.concentrate_pb                       14149 non-null  float64\n",
      " 46  rougher.output.concentrate_sol                      14127 non-null  float64\n",
      " 47  rougher.output.concentrate_au                       14149 non-null  float64\n",
      " 48  rougher.output.recovery                             14149 non-null  float64\n",
      " 49  rougher.output.tail_ag                              14148 non-null  float64\n",
      " 50  rougher.output.tail_pb                              14149 non-null  float64\n",
      " 51  rougher.output.tail_sol                             14149 non-null  float64\n",
      " 52  rougher.output.tail_au                              14149 non-null  float64\n",
      " 53  rougher.state.floatbank10_a_air                     14148 non-null  float64\n",
      " 54  rougher.state.floatbank10_a_level                   14148 non-null  float64\n",
      " 55  rougher.state.floatbank10_b_air                     14148 non-null  float64\n",
      " 56  rougher.state.floatbank10_b_level                   14148 non-null  float64\n",
      " 57  rougher.state.floatbank10_c_air                     14148 non-null  float64\n",
      " 58  rougher.state.floatbank10_c_level                   14148 non-null  float64\n",
      " 59  rougher.state.floatbank10_d_air                     14149 non-null  float64\n",
      " 60  rougher.state.floatbank10_d_level                   14149 non-null  float64\n",
      " 61  rougher.state.floatbank10_e_air                     13713 non-null  float64\n",
      " 62  rougher.state.floatbank10_e_level                   14149 non-null  float64\n",
      " 63  rougher.state.floatbank10_f_air                     14149 non-null  float64\n",
      " 64  rougher.state.floatbank10_f_level                   14149 non-null  float64\n",
      " 65  secondary_cleaner.output.tail_ag                    14147 non-null  float64\n",
      " 66  secondary_cleaner.output.tail_pb                    14139 non-null  float64\n",
      " 67  secondary_cleaner.output.tail_sol                   12544 non-null  float64\n",
      " 68  secondary_cleaner.output.tail_au                    14149 non-null  float64\n",
      " 69  secondary_cleaner.state.floatbank2_a_air            13932 non-null  float64\n",
      " 70  secondary_cleaner.state.floatbank2_a_level          14148 non-null  float64\n",
      " 71  secondary_cleaner.state.floatbank2_b_air            14128 non-null  float64\n",
      " 72  secondary_cleaner.state.floatbank2_b_level          14148 non-null  float64\n",
      " 73  secondary_cleaner.state.floatbank3_a_air            14145 non-null  float64\n",
      " 74  secondary_cleaner.state.floatbank3_a_level          14148 non-null  float64\n",
      " 75  secondary_cleaner.state.floatbank3_b_air            14148 non-null  float64\n",
      " 76  secondary_cleaner.state.floatbank3_b_level          14148 non-null  float64\n",
      " 77  secondary_cleaner.state.floatbank4_a_air            14143 non-null  float64\n",
      " 78  secondary_cleaner.state.floatbank4_a_level          14148 non-null  float64\n",
      " 79  secondary_cleaner.state.floatbank4_b_air            14148 non-null  float64\n",
      " 80  secondary_cleaner.state.floatbank4_b_level          14148 non-null  float64\n",
      " 81  secondary_cleaner.state.floatbank5_a_air            14148 non-null  float64\n",
      " 82  secondary_cleaner.state.floatbank5_a_level          14148 non-null  float64\n",
      " 83  secondary_cleaner.state.floatbank5_b_air            14148 non-null  float64\n",
      " 84  secondary_cleaner.state.floatbank5_b_level          14148 non-null  float64\n",
      " 85  secondary_cleaner.state.floatbank6_a_air            14147 non-null  float64\n",
      " 86  secondary_cleaner.state.floatbank6_a_level          14148 non-null  float64\n",
      "dtypes: float64(86), object(1)\n",
      "memory usage: 9.4+ MB\n"
     ]
    }
   ],
   "source": [
    "df_train.info()"
   ]
  },
  {
   "cell_type": "code",
   "execution_count": 6,
   "metadata": {},
   "outputs": [
    {
     "name": "stdout",
     "output_type": "stream",
     "text": [
      "<class 'pandas.core.frame.DataFrame'>\n",
      "RangeIndex: 5290 entries, 0 to 5289\n",
      "Data columns (total 53 columns):\n",
      " #   Column                                      Non-Null Count  Dtype  \n",
      "---  ------                                      --------------  -----  \n",
      " 0   date                                        5290 non-null   object \n",
      " 1   primary_cleaner.input.sulfate               5286 non-null   float64\n",
      " 2   primary_cleaner.input.depressant            5285 non-null   float64\n",
      " 3   primary_cleaner.input.feed_size             5290 non-null   float64\n",
      " 4   primary_cleaner.input.xanthate              5286 non-null   float64\n",
      " 5   primary_cleaner.state.floatbank8_a_air      5290 non-null   float64\n",
      " 6   primary_cleaner.state.floatbank8_a_level    5290 non-null   float64\n",
      " 7   primary_cleaner.state.floatbank8_b_air      5290 non-null   float64\n",
      " 8   primary_cleaner.state.floatbank8_b_level    5290 non-null   float64\n",
      " 9   primary_cleaner.state.floatbank8_c_air      5290 non-null   float64\n",
      " 10  primary_cleaner.state.floatbank8_c_level    5290 non-null   float64\n",
      " 11  primary_cleaner.state.floatbank8_d_air      5290 non-null   float64\n",
      " 12  primary_cleaner.state.floatbank8_d_level    5290 non-null   float64\n",
      " 13  rougher.input.feed_ag                       5290 non-null   float64\n",
      " 14  rougher.input.feed_pb                       5290 non-null   float64\n",
      " 15  rougher.input.feed_rate                     5287 non-null   float64\n",
      " 16  rougher.input.feed_size                     5289 non-null   float64\n",
      " 17  rougher.input.feed_sol                      5269 non-null   float64\n",
      " 18  rougher.input.feed_au                       5290 non-null   float64\n",
      " 19  rougher.input.floatbank10_sulfate           5285 non-null   float64\n",
      " 20  rougher.input.floatbank10_xanthate          5290 non-null   float64\n",
      " 21  rougher.input.floatbank11_sulfate           5282 non-null   float64\n",
      " 22  rougher.input.floatbank11_xanthate          5265 non-null   float64\n",
      " 23  rougher.state.floatbank10_a_air             5290 non-null   float64\n",
      " 24  rougher.state.floatbank10_a_level           5290 non-null   float64\n",
      " 25  rougher.state.floatbank10_b_air             5290 non-null   float64\n",
      " 26  rougher.state.floatbank10_b_level           5290 non-null   float64\n",
      " 27  rougher.state.floatbank10_c_air             5290 non-null   float64\n",
      " 28  rougher.state.floatbank10_c_level           5290 non-null   float64\n",
      " 29  rougher.state.floatbank10_d_air             5290 non-null   float64\n",
      " 30  rougher.state.floatbank10_d_level           5290 non-null   float64\n",
      " 31  rougher.state.floatbank10_e_air             5290 non-null   float64\n",
      " 32  rougher.state.floatbank10_e_level           5290 non-null   float64\n",
      " 33  rougher.state.floatbank10_f_air             5290 non-null   float64\n",
      " 34  rougher.state.floatbank10_f_level           5290 non-null   float64\n",
      " 35  secondary_cleaner.state.floatbank2_a_air    5287 non-null   float64\n",
      " 36  secondary_cleaner.state.floatbank2_a_level  5290 non-null   float64\n",
      " 37  secondary_cleaner.state.floatbank2_b_air    5288 non-null   float64\n",
      " 38  secondary_cleaner.state.floatbank2_b_level  5290 non-null   float64\n",
      " 39  secondary_cleaner.state.floatbank3_a_air    5281 non-null   float64\n",
      " 40  secondary_cleaner.state.floatbank3_a_level  5290 non-null   float64\n",
      " 41  secondary_cleaner.state.floatbank3_b_air    5290 non-null   float64\n",
      " 42  secondary_cleaner.state.floatbank3_b_level  5290 non-null   float64\n",
      " 43  secondary_cleaner.state.floatbank4_a_air    5290 non-null   float64\n",
      " 44  secondary_cleaner.state.floatbank4_a_level  5290 non-null   float64\n",
      " 45  secondary_cleaner.state.floatbank4_b_air    5290 non-null   float64\n",
      " 46  secondary_cleaner.state.floatbank4_b_level  5290 non-null   float64\n",
      " 47  secondary_cleaner.state.floatbank5_a_air    5290 non-null   float64\n",
      " 48  secondary_cleaner.state.floatbank5_a_level  5290 non-null   float64\n",
      " 49  secondary_cleaner.state.floatbank5_b_air    5290 non-null   float64\n",
      " 50  secondary_cleaner.state.floatbank5_b_level  5290 non-null   float64\n",
      " 51  secondary_cleaner.state.floatbank6_a_air    5290 non-null   float64\n",
      " 52  secondary_cleaner.state.floatbank6_a_level  5290 non-null   float64\n",
      "dtypes: float64(52), object(1)\n",
      "memory usage: 2.1+ MB\n"
     ]
    }
   ],
   "source": [
    "df_test.info()"
   ]
  },
  {
   "cell_type": "code",
   "execution_count": 7,
   "metadata": {},
   "outputs": [
    {
     "name": "stdout",
     "output_type": "stream",
     "text": [
      "<class 'pandas.core.frame.DataFrame'>\n",
      "RangeIndex: 19439 entries, 0 to 19438\n",
      "Data columns (total 87 columns):\n",
      " #   Column                                              Non-Null Count  Dtype  \n",
      "---  ------                                              --------------  -----  \n",
      " 0   date                                                19439 non-null  object \n",
      " 1   final.output.concentrate_ag                         19438 non-null  float64\n",
      " 2   final.output.concentrate_pb                         19438 non-null  float64\n",
      " 3   final.output.concentrate_sol                        19228 non-null  float64\n",
      " 4   final.output.concentrate_au                         19439 non-null  float64\n",
      " 5   final.output.recovery                               19439 non-null  float64\n",
      " 6   final.output.tail_ag                                19438 non-null  float64\n",
      " 7   final.output.tail_pb                                19338 non-null  float64\n",
      " 8   final.output.tail_sol                               19433 non-null  float64\n",
      " 9   final.output.tail_au                                19439 non-null  float64\n",
      " 10  primary_cleaner.input.sulfate                       19415 non-null  float64\n",
      " 11  primary_cleaner.input.depressant                    19402 non-null  float64\n",
      " 12  primary_cleaner.input.feed_size                     19439 non-null  float64\n",
      " 13  primary_cleaner.input.xanthate                      19335 non-null  float64\n",
      " 14  primary_cleaner.output.concentrate_ag               19439 non-null  float64\n",
      " 15  primary_cleaner.output.concentrate_pb               19323 non-null  float64\n",
      " 16  primary_cleaner.output.concentrate_sol              19069 non-null  float64\n",
      " 17  primary_cleaner.output.concentrate_au               19439 non-null  float64\n",
      " 18  primary_cleaner.output.tail_ag                      19435 non-null  float64\n",
      " 19  primary_cleaner.output.tail_pb                      19418 non-null  float64\n",
      " 20  primary_cleaner.output.tail_sol                     19377 non-null  float64\n",
      " 21  primary_cleaner.output.tail_au                      19439 non-null  float64\n",
      " 22  primary_cleaner.state.floatbank8_a_air              19435 non-null  float64\n",
      " 23  primary_cleaner.state.floatbank8_a_level            19438 non-null  float64\n",
      " 24  primary_cleaner.state.floatbank8_b_air              19435 non-null  float64\n",
      " 25  primary_cleaner.state.floatbank8_b_level            19438 non-null  float64\n",
      " 26  primary_cleaner.state.floatbank8_c_air              19437 non-null  float64\n",
      " 27  primary_cleaner.state.floatbank8_c_level            19438 non-null  float64\n",
      " 28  primary_cleaner.state.floatbank8_d_air              19436 non-null  float64\n",
      " 29  primary_cleaner.state.floatbank8_d_level            19438 non-null  float64\n",
      " 30  rougher.calculation.sulfate_to_au_concentrate       19437 non-null  float64\n",
      " 31  rougher.calculation.floatbank10_sulfate_to_au_feed  19437 non-null  float64\n",
      " 32  rougher.calculation.floatbank11_sulfate_to_au_feed  19437 non-null  float64\n",
      " 33  rougher.calculation.au_pb_ratio                     19439 non-null  float64\n",
      " 34  rougher.input.feed_ag                               19439 non-null  float64\n",
      " 35  rougher.input.feed_pb                               19339 non-null  float64\n",
      " 36  rougher.input.feed_rate                             19428 non-null  float64\n",
      " 37  rougher.input.feed_size                             19294 non-null  float64\n",
      " 38  rougher.input.feed_sol                              19340 non-null  float64\n",
      " 39  rougher.input.feed_au                               19439 non-null  float64\n",
      " 40  rougher.input.floatbank10_sulfate                   19405 non-null  float64\n",
      " 41  rougher.input.floatbank10_xanthate                  19431 non-null  float64\n",
      " 42  rougher.input.floatbank11_sulfate                   19395 non-null  float64\n",
      " 43  rougher.input.floatbank11_xanthate                  18986 non-null  float64\n",
      " 44  rougher.output.concentrate_ag                       19439 non-null  float64\n",
      " 45  rougher.output.concentrate_pb                       19439 non-null  float64\n",
      " 46  rougher.output.concentrate_sol                      19416 non-null  float64\n",
      " 47  rougher.output.concentrate_au                       19439 non-null  float64\n",
      " 48  rougher.output.recovery                             19439 non-null  float64\n",
      " 49  rougher.output.tail_ag                              19438 non-null  float64\n",
      " 50  rougher.output.tail_pb                              19439 non-null  float64\n",
      " 51  rougher.output.tail_sol                             19439 non-null  float64\n",
      " 52  rougher.output.tail_au                              19439 non-null  float64\n",
      " 53  rougher.state.floatbank10_a_air                     19438 non-null  float64\n",
      " 54  rougher.state.floatbank10_a_level                   19438 non-null  float64\n",
      " 55  rougher.state.floatbank10_b_air                     19438 non-null  float64\n",
      " 56  rougher.state.floatbank10_b_level                   19438 non-null  float64\n",
      " 57  rougher.state.floatbank10_c_air                     19438 non-null  float64\n",
      " 58  rougher.state.floatbank10_c_level                   19438 non-null  float64\n",
      " 59  rougher.state.floatbank10_d_air                     19439 non-null  float64\n",
      " 60  rougher.state.floatbank10_d_level                   19439 non-null  float64\n",
      " 61  rougher.state.floatbank10_e_air                     19003 non-null  float64\n",
      " 62  rougher.state.floatbank10_e_level                   19439 non-null  float64\n",
      " 63  rougher.state.floatbank10_f_air                     19439 non-null  float64\n",
      " 64  rougher.state.floatbank10_f_level                   19439 non-null  float64\n",
      " 65  secondary_cleaner.output.tail_ag                    19437 non-null  float64\n",
      " 66  secondary_cleaner.output.tail_pb                    19427 non-null  float64\n",
      " 67  secondary_cleaner.output.tail_sol                   17691 non-null  float64\n",
      " 68  secondary_cleaner.output.tail_au                    19439 non-null  float64\n",
      " 69  secondary_cleaner.state.floatbank2_a_air            19219 non-null  float64\n",
      " 70  secondary_cleaner.state.floatbank2_a_level          19438 non-null  float64\n",
      " 71  secondary_cleaner.state.floatbank2_b_air            19416 non-null  float64\n",
      " 72  secondary_cleaner.state.floatbank2_b_level          19438 non-null  float64\n",
      " 73  secondary_cleaner.state.floatbank3_a_air            19426 non-null  float64\n",
      " 74  secondary_cleaner.state.floatbank3_a_level          19438 non-null  float64\n",
      " 75  secondary_cleaner.state.floatbank3_b_air            19438 non-null  float64\n",
      " 76  secondary_cleaner.state.floatbank3_b_level          19438 non-null  float64\n",
      " 77  secondary_cleaner.state.floatbank4_a_air            19433 non-null  float64\n",
      " 78  secondary_cleaner.state.floatbank4_a_level          19438 non-null  float64\n",
      " 79  secondary_cleaner.state.floatbank4_b_air            19438 non-null  float64\n",
      " 80  secondary_cleaner.state.floatbank4_b_level          19438 non-null  float64\n",
      " 81  secondary_cleaner.state.floatbank5_a_air            19438 non-null  float64\n",
      " 82  secondary_cleaner.state.floatbank5_a_level          19438 non-null  float64\n",
      " 83  secondary_cleaner.state.floatbank5_b_air            19438 non-null  float64\n",
      " 84  secondary_cleaner.state.floatbank5_b_level          19438 non-null  float64\n",
      " 85  secondary_cleaner.state.floatbank6_a_air            19437 non-null  float64\n",
      " 86  secondary_cleaner.state.floatbank6_a_level          19438 non-null  float64\n",
      "dtypes: float64(86), object(1)\n",
      "memory usage: 12.9+ MB\n"
     ]
    }
   ],
   "source": [
    "df_full.info()"
   ]
  },
  {
   "cell_type": "markdown",
   "metadata": {},
   "source": [
    "В тестовом датафрейме не наблюдаем столбцы с этапом output.\n",
    "\n",
    "В полном же датафрейме имеются target значения."
   ]
  },
  {
   "cell_type": "markdown",
   "metadata": {},
   "source": [
    "### Рассчитаем эффективность обогащения"
   ]
  },
  {
   "cell_type": "code",
   "execution_count": 8,
   "metadata": {},
   "outputs": [],
   "source": [
    "df_train['my_rougher_recovery'] = (\n",
    "    df_train['rougher.output.concentrate_au'] * (df_train['rougher.input.feed_au'] - df_train['rougher.output.tail_au'])) * 100 / (df_train['rougher.input.feed_au'] * (df_train['rougher.output.concentrate_au'] - df_train['rougher.output.tail_au']))"
   ]
  },
  {
   "cell_type": "code",
   "execution_count": 9,
   "metadata": {},
   "outputs": [
    {
     "data": {
      "text/html": [
       "<div>\n",
       "<style scoped>\n",
       "    .dataframe tbody tr th:only-of-type {\n",
       "        vertical-align: middle;\n",
       "    }\n",
       "\n",
       "    .dataframe tbody tr th {\n",
       "        vertical-align: top;\n",
       "    }\n",
       "\n",
       "    .dataframe thead th {\n",
       "        text-align: right;\n",
       "    }\n",
       "</style>\n",
       "<table border=\"1\" class=\"dataframe\">\n",
       "  <thead>\n",
       "    <tr style=\"text-align: right;\">\n",
       "      <th></th>\n",
       "      <th>my_rougher_recovery</th>\n",
       "      <th>rougher.output.recovery</th>\n",
       "    </tr>\n",
       "  </thead>\n",
       "  <tbody>\n",
       "    <tr>\n",
       "      <th>0</th>\n",
       "      <td>87.107763</td>\n",
       "      <td>87.107763</td>\n",
       "    </tr>\n",
       "    <tr>\n",
       "      <th>1</th>\n",
       "      <td>86.843261</td>\n",
       "      <td>86.843261</td>\n",
       "    </tr>\n",
       "    <tr>\n",
       "      <th>2</th>\n",
       "      <td>86.842308</td>\n",
       "      <td>86.842308</td>\n",
       "    </tr>\n",
       "    <tr>\n",
       "      <th>3</th>\n",
       "      <td>87.226430</td>\n",
       "      <td>87.226430</td>\n",
       "    </tr>\n",
       "    <tr>\n",
       "      <th>4</th>\n",
       "      <td>86.688794</td>\n",
       "      <td>86.688794</td>\n",
       "    </tr>\n",
       "  </tbody>\n",
       "</table>\n",
       "</div>"
      ],
      "text/plain": [
       "   my_rougher_recovery  rougher.output.recovery\n",
       "0            87.107763                87.107763\n",
       "1            86.843261                86.843261\n",
       "2            86.842308                86.842308\n",
       "3            87.226430                87.226430\n",
       "4            86.688794                86.688794"
      ]
     },
     "execution_count": 9,
     "metadata": {},
     "output_type": "execute_result"
    }
   ],
   "source": [
    "df_train[['my_rougher_recovery',\n",
    "          'rougher.output.recovery']].head()"
   ]
  },
  {
   "cell_type": "code",
   "execution_count": 10,
   "metadata": {},
   "outputs": [
    {
     "data": {
      "text/plain": [
       "1.1100347049376097e-14"
      ]
     },
     "execution_count": 10,
     "metadata": {},
     "output_type": "execute_result"
    }
   ],
   "source": [
    "mean_absolute_error(df_train['my_rougher_recovery'],\n",
    "                    df_train['rougher.output.recovery'])"
   ]
  },
  {
   "cell_type": "code",
   "execution_count": 11,
   "metadata": {},
   "outputs": [
    {
     "data": {
      "text/html": [
       "<div>\n",
       "<style scoped>\n",
       "    .dataframe tbody tr th:only-of-type {\n",
       "        vertical-align: middle;\n",
       "    }\n",
       "\n",
       "    .dataframe tbody tr th {\n",
       "        vertical-align: top;\n",
       "    }\n",
       "\n",
       "    .dataframe thead th {\n",
       "        text-align: right;\n",
       "    }\n",
       "</style>\n",
       "<table border=\"1\" class=\"dataframe\">\n",
       "  <thead>\n",
       "    <tr style=\"text-align: right;\">\n",
       "      <th></th>\n",
       "      <th>my_rougher_recovery</th>\n",
       "      <th>rougher.output.recovery</th>\n",
       "    </tr>\n",
       "  </thead>\n",
       "  <tbody>\n",
       "    <tr>\n",
       "      <th>1</th>\n",
       "      <td>86.843261</td>\n",
       "      <td>86.843261</td>\n",
       "    </tr>\n",
       "    <tr>\n",
       "      <th>5</th>\n",
       "      <td>88.156912</td>\n",
       "      <td>88.156912</td>\n",
       "    </tr>\n",
       "    <tr>\n",
       "      <th>6</th>\n",
       "      <td>88.168065</td>\n",
       "      <td>88.168065</td>\n",
       "    </tr>\n",
       "    <tr>\n",
       "      <th>7</th>\n",
       "      <td>87.668336</td>\n",
       "      <td>87.668336</td>\n",
       "    </tr>\n",
       "    <tr>\n",
       "      <th>8</th>\n",
       "      <td>87.035862</td>\n",
       "      <td>87.035862</td>\n",
       "    </tr>\n",
       "  </tbody>\n",
       "</table>\n",
       "</div>"
      ],
      "text/plain": [
       "   my_rougher_recovery  rougher.output.recovery\n",
       "1            86.843261                86.843261\n",
       "5            88.156912                88.156912\n",
       "6            88.168065                88.168065\n",
       "7            87.668336                87.668336\n",
       "8            87.035862                87.035862"
      ]
     },
     "execution_count": 11,
     "metadata": {},
     "output_type": "execute_result"
    }
   ],
   "source": [
    "df_train[df_train['my_rougher_recovery'] != df_train['rougher.output.recovery']][['my_rougher_recovery',\n",
    "                                                                                  'rougher.output.recovery']].head()"
   ]
  },
  {
   "cell_type": "markdown",
   "metadata": {},
   "source": [
    "Наблюдаются мизерные различия между рассчитанным значением и имеющимся столбцом rougher.output.recovery"
   ]
  },
  {
   "cell_type": "markdown",
   "metadata": {},
   "source": [
    "### Проанализируем признаки, недоступные в тестовой выборке"
   ]
  },
  {
   "cell_type": "code",
   "execution_count": 12,
   "metadata": {},
   "outputs": [],
   "source": [
    "train_columns = df_train.columns\n",
    "test_columns = df_test.columns"
   ]
  },
  {
   "cell_type": "code",
   "execution_count": 13,
   "metadata": {},
   "outputs": [],
   "source": [
    "# Вычтем множества по колонкам\n",
    "unique_train_columns = sorted(list(set(train_columns)-set(test_columns)))"
   ]
  },
  {
   "cell_type": "code",
   "execution_count": 14,
   "metadata": {},
   "outputs": [
    {
     "data": {
      "text/html": [
       "<div>\n",
       "<style scoped>\n",
       "    .dataframe tbody tr th:only-of-type {\n",
       "        vertical-align: middle;\n",
       "    }\n",
       "\n",
       "    .dataframe tbody tr th {\n",
       "        vertical-align: top;\n",
       "    }\n",
       "\n",
       "    .dataframe thead th {\n",
       "        text-align: right;\n",
       "    }\n",
       "</style>\n",
       "<table border=\"1\" class=\"dataframe\">\n",
       "  <thead>\n",
       "    <tr style=\"text-align: right;\">\n",
       "      <th></th>\n",
       "      <th>final.output.concentrate_ag</th>\n",
       "      <th>final.output.concentrate_au</th>\n",
       "      <th>final.output.concentrate_pb</th>\n",
       "      <th>final.output.concentrate_sol</th>\n",
       "      <th>final.output.recovery</th>\n",
       "      <th>final.output.tail_ag</th>\n",
       "      <th>final.output.tail_au</th>\n",
       "      <th>final.output.tail_pb</th>\n",
       "      <th>final.output.tail_sol</th>\n",
       "      <th>my_rougher_recovery</th>\n",
       "      <th>...</th>\n",
       "      <th>rougher.output.concentrate_sol</th>\n",
       "      <th>rougher.output.recovery</th>\n",
       "      <th>rougher.output.tail_ag</th>\n",
       "      <th>rougher.output.tail_au</th>\n",
       "      <th>rougher.output.tail_pb</th>\n",
       "      <th>rougher.output.tail_sol</th>\n",
       "      <th>secondary_cleaner.output.tail_ag</th>\n",
       "      <th>secondary_cleaner.output.tail_au</th>\n",
       "      <th>secondary_cleaner.output.tail_pb</th>\n",
       "      <th>secondary_cleaner.output.tail_sol</th>\n",
       "    </tr>\n",
       "  </thead>\n",
       "  <tbody>\n",
       "    <tr>\n",
       "      <th>0</th>\n",
       "      <td>6.055403</td>\n",
       "      <td>42.192020</td>\n",
       "      <td>9.889648</td>\n",
       "      <td>5.507324</td>\n",
       "      <td>70.541216</td>\n",
       "      <td>10.411962</td>\n",
       "      <td>2.143149</td>\n",
       "      <td>0.895447</td>\n",
       "      <td>16.904297</td>\n",
       "      <td>87.107763</td>\n",
       "      <td>...</td>\n",
       "      <td>28.029297</td>\n",
       "      <td>87.107763</td>\n",
       "      <td>5.008018</td>\n",
       "      <td>1.170244</td>\n",
       "      <td>0.508728</td>\n",
       "      <td>19.154297</td>\n",
       "      <td>14.500184</td>\n",
       "      <td>2.606185</td>\n",
       "      <td>4.694824</td>\n",
       "      <td>8.764648</td>\n",
       "    </tr>\n",
       "    <tr>\n",
       "      <th>1</th>\n",
       "      <td>6.029369</td>\n",
       "      <td>42.701629</td>\n",
       "      <td>9.968944</td>\n",
       "      <td>5.257781</td>\n",
       "      <td>69.266198</td>\n",
       "      <td>10.462676</td>\n",
       "      <td>2.224930</td>\n",
       "      <td>0.927452</td>\n",
       "      <td>16.634514</td>\n",
       "      <td>86.843261</td>\n",
       "      <td>...</td>\n",
       "      <td>28.067063</td>\n",
       "      <td>86.843261</td>\n",
       "      <td>4.955378</td>\n",
       "      <td>1.184827</td>\n",
       "      <td>0.536689</td>\n",
       "      <td>18.965234</td>\n",
       "      <td>14.265474</td>\n",
       "      <td>2.488248</td>\n",
       "      <td>4.592547</td>\n",
       "      <td>9.001494</td>\n",
       "    </tr>\n",
       "    <tr>\n",
       "      <th>2</th>\n",
       "      <td>6.055926</td>\n",
       "      <td>42.657501</td>\n",
       "      <td>10.213995</td>\n",
       "      <td>5.383759</td>\n",
       "      <td>68.116445</td>\n",
       "      <td>10.507046</td>\n",
       "      <td>2.257889</td>\n",
       "      <td>0.953716</td>\n",
       "      <td>16.208849</td>\n",
       "      <td>86.842308</td>\n",
       "      <td>...</td>\n",
       "      <td>27.454037</td>\n",
       "      <td>86.842308</td>\n",
       "      <td>4.843460</td>\n",
       "      <td>1.162562</td>\n",
       "      <td>0.546416</td>\n",
       "      <td>18.808533</td>\n",
       "      <td>14.115662</td>\n",
       "      <td>2.458187</td>\n",
       "      <td>4.624775</td>\n",
       "      <td>8.842896</td>\n",
       "    </tr>\n",
       "    <tr>\n",
       "      <th>3</th>\n",
       "      <td>6.047977</td>\n",
       "      <td>42.689819</td>\n",
       "      <td>9.977019</td>\n",
       "      <td>4.858634</td>\n",
       "      <td>68.347543</td>\n",
       "      <td>10.422762</td>\n",
       "      <td>2.146849</td>\n",
       "      <td>0.883763</td>\n",
       "      <td>16.532835</td>\n",
       "      <td>87.226430</td>\n",
       "      <td>...</td>\n",
       "      <td>27.341277</td>\n",
       "      <td>87.226430</td>\n",
       "      <td>4.655288</td>\n",
       "      <td>1.079755</td>\n",
       "      <td>0.542525</td>\n",
       "      <td>19.330200</td>\n",
       "      <td>13.732071</td>\n",
       "      <td>2.322062</td>\n",
       "      <td>4.482453</td>\n",
       "      <td>9.122857</td>\n",
       "    </tr>\n",
       "    <tr>\n",
       "      <th>4</th>\n",
       "      <td>6.148599</td>\n",
       "      <td>42.774141</td>\n",
       "      <td>10.142511</td>\n",
       "      <td>4.939416</td>\n",
       "      <td>66.927016</td>\n",
       "      <td>10.360302</td>\n",
       "      <td>2.055292</td>\n",
       "      <td>0.792826</td>\n",
       "      <td>16.525686</td>\n",
       "      <td>86.688794</td>\n",
       "      <td>...</td>\n",
       "      <td>27.041023</td>\n",
       "      <td>86.688794</td>\n",
       "      <td>4.552800</td>\n",
       "      <td>1.012642</td>\n",
       "      <td>0.515438</td>\n",
       "      <td>19.267422</td>\n",
       "      <td>14.079996</td>\n",
       "      <td>2.330448</td>\n",
       "      <td>4.470737</td>\n",
       "      <td>8.871028</td>\n",
       "    </tr>\n",
       "  </tbody>\n",
       "</table>\n",
       "<p>5 rows × 35 columns</p>\n",
       "</div>"
      ],
      "text/plain": [
       "   final.output.concentrate_ag  final.output.concentrate_au  \\\n",
       "0                     6.055403                    42.192020   \n",
       "1                     6.029369                    42.701629   \n",
       "2                     6.055926                    42.657501   \n",
       "3                     6.047977                    42.689819   \n",
       "4                     6.148599                    42.774141   \n",
       "\n",
       "   final.output.concentrate_pb  final.output.concentrate_sol  \\\n",
       "0                     9.889648                      5.507324   \n",
       "1                     9.968944                      5.257781   \n",
       "2                    10.213995                      5.383759   \n",
       "3                     9.977019                      4.858634   \n",
       "4                    10.142511                      4.939416   \n",
       "\n",
       "   final.output.recovery  final.output.tail_ag  final.output.tail_au  \\\n",
       "0              70.541216             10.411962              2.143149   \n",
       "1              69.266198             10.462676              2.224930   \n",
       "2              68.116445             10.507046              2.257889   \n",
       "3              68.347543             10.422762              2.146849   \n",
       "4              66.927016             10.360302              2.055292   \n",
       "\n",
       "   final.output.tail_pb  final.output.tail_sol  my_rougher_recovery  ...  \\\n",
       "0              0.895447              16.904297            87.107763  ...   \n",
       "1              0.927452              16.634514            86.843261  ...   \n",
       "2              0.953716              16.208849            86.842308  ...   \n",
       "3              0.883763              16.532835            87.226430  ...   \n",
       "4              0.792826              16.525686            86.688794  ...   \n",
       "\n",
       "   rougher.output.concentrate_sol  rougher.output.recovery  \\\n",
       "0                       28.029297                87.107763   \n",
       "1                       28.067063                86.843261   \n",
       "2                       27.454037                86.842308   \n",
       "3                       27.341277                87.226430   \n",
       "4                       27.041023                86.688794   \n",
       "\n",
       "   rougher.output.tail_ag  rougher.output.tail_au  rougher.output.tail_pb  \\\n",
       "0                5.008018                1.170244                0.508728   \n",
       "1                4.955378                1.184827                0.536689   \n",
       "2                4.843460                1.162562                0.546416   \n",
       "3                4.655288                1.079755                0.542525   \n",
       "4                4.552800                1.012642                0.515438   \n",
       "\n",
       "   rougher.output.tail_sol  secondary_cleaner.output.tail_ag  \\\n",
       "0                19.154297                         14.500184   \n",
       "1                18.965234                         14.265474   \n",
       "2                18.808533                         14.115662   \n",
       "3                19.330200                         13.732071   \n",
       "4                19.267422                         14.079996   \n",
       "\n",
       "   secondary_cleaner.output.tail_au  secondary_cleaner.output.tail_pb  \\\n",
       "0                          2.606185                          4.694824   \n",
       "1                          2.488248                          4.592547   \n",
       "2                          2.458187                          4.624775   \n",
       "3                          2.322062                          4.482453   \n",
       "4                          2.330448                          4.470737   \n",
       "\n",
       "   secondary_cleaner.output.tail_sol  \n",
       "0                           8.764648  \n",
       "1                           9.001494  \n",
       "2                           8.842896  \n",
       "3                           9.122857  \n",
       "4                           8.871028  \n",
       "\n",
       "[5 rows x 35 columns]"
      ]
     },
     "execution_count": 14,
     "metadata": {},
     "output_type": "execute_result"
    }
   ],
   "source": [
    "unique_train = df_train[unique_train_columns]\n",
    "unique_train.head()"
   ]
  },
  {
   "cell_type": "code",
   "execution_count": 15,
   "metadata": {},
   "outputs": [
    {
     "name": "stdout",
     "output_type": "stream",
     "text": [
      "<class 'pandas.core.frame.DataFrame'>\n",
      "RangeIndex: 14149 entries, 0 to 14148\n",
      "Data columns (total 35 columns):\n",
      " #   Column                                              Non-Null Count  Dtype  \n",
      "---  ------                                              --------------  -----  \n",
      " 0   final.output.concentrate_ag                         14148 non-null  float64\n",
      " 1   final.output.concentrate_au                         14149 non-null  float64\n",
      " 2   final.output.concentrate_pb                         14148 non-null  float64\n",
      " 3   final.output.concentrate_sol                        13938 non-null  float64\n",
      " 4   final.output.recovery                               14149 non-null  float64\n",
      " 5   final.output.tail_ag                                14149 non-null  float64\n",
      " 6   final.output.tail_au                                14149 non-null  float64\n",
      " 7   final.output.tail_pb                                14049 non-null  float64\n",
      " 8   final.output.tail_sol                               14144 non-null  float64\n",
      " 9   my_rougher_recovery                                 14149 non-null  float64\n",
      " 10  primary_cleaner.output.concentrate_ag               14149 non-null  float64\n",
      " 11  primary_cleaner.output.concentrate_au               14149 non-null  float64\n",
      " 12  primary_cleaner.output.concentrate_pb               14063 non-null  float64\n",
      " 13  primary_cleaner.output.concentrate_sol              13863 non-null  float64\n",
      " 14  primary_cleaner.output.tail_ag                      14148 non-null  float64\n",
      " 15  primary_cleaner.output.tail_au                      14149 non-null  float64\n",
      " 16  primary_cleaner.output.tail_pb                      14134 non-null  float64\n",
      " 17  primary_cleaner.output.tail_sol                     14103 non-null  float64\n",
      " 18  rougher.calculation.au_pb_ratio                     14149 non-null  float64\n",
      " 19  rougher.calculation.floatbank10_sulfate_to_au_feed  14148 non-null  float64\n",
      " 20  rougher.calculation.floatbank11_sulfate_to_au_feed  14148 non-null  float64\n",
      " 21  rougher.calculation.sulfate_to_au_concentrate       14148 non-null  float64\n",
      " 22  rougher.output.concentrate_ag                       14149 non-null  float64\n",
      " 23  rougher.output.concentrate_au                       14149 non-null  float64\n",
      " 24  rougher.output.concentrate_pb                       14149 non-null  float64\n",
      " 25  rougher.output.concentrate_sol                      14127 non-null  float64\n",
      " 26  rougher.output.recovery                             14149 non-null  float64\n",
      " 27  rougher.output.tail_ag                              14148 non-null  float64\n",
      " 28  rougher.output.tail_au                              14149 non-null  float64\n",
      " 29  rougher.output.tail_pb                              14149 non-null  float64\n",
      " 30  rougher.output.tail_sol                             14149 non-null  float64\n",
      " 31  secondary_cleaner.output.tail_ag                    14147 non-null  float64\n",
      " 32  secondary_cleaner.output.tail_au                    14149 non-null  float64\n",
      " 33  secondary_cleaner.output.tail_pb                    14139 non-null  float64\n",
      " 34  secondary_cleaner.output.tail_sol                   12544 non-null  float64\n",
      "dtypes: float64(35)\n",
      "memory usage: 3.8 MB\n"
     ]
    }
   ],
   "source": [
    "unique_train.info()"
   ]
  },
  {
   "cell_type": "markdown",
   "metadata": {},
   "source": [
    "Видим, что в тестовый блок не попали колонки, с типом параметра output и calculation"
   ]
  },
  {
   "cell_type": "markdown",
   "metadata": {},
   "source": [
    "### Предобработка данных"
   ]
  },
  {
   "cell_type": "markdown",
   "metadata": {},
   "source": [
    "В тестовом датафрейме отсутствуют target-поля, сделаем join к полному датафрейму по общему столбцу 'date' "
   ]
  },
  {
   "cell_type": "code",
   "execution_count": 16,
   "metadata": {},
   "outputs": [],
   "source": [
    "df_test = df_test.merge(df_full[[\n",
    "    'date', 'rougher.output.recovery', 'final.output.recovery']], on='date', how='left')"
   ]
  },
  {
   "cell_type": "markdown",
   "metadata": {},
   "source": [
    "Проверим пропуски"
   ]
  },
  {
   "cell_type": "code",
   "execution_count": 17,
   "metadata": {},
   "outputs": [
    {
     "data": {
      "text/html": [
       "<div>\n",
       "<style scoped>\n",
       "    .dataframe tbody tr th:only-of-type {\n",
       "        vertical-align: middle;\n",
       "    }\n",
       "\n",
       "    .dataframe tbody tr th {\n",
       "        vertical-align: top;\n",
       "    }\n",
       "\n",
       "    .dataframe thead th {\n",
       "        text-align: right;\n",
       "    }\n",
       "</style>\n",
       "<table border=\"1\" class=\"dataframe\">\n",
       "  <thead>\n",
       "    <tr style=\"text-align: right;\">\n",
       "      <th></th>\n",
       "      <th>date</th>\n",
       "      <th>final.output.concentrate_ag</th>\n",
       "      <th>final.output.concentrate_pb</th>\n",
       "      <th>final.output.concentrate_sol</th>\n",
       "      <th>final.output.concentrate_au</th>\n",
       "      <th>final.output.recovery</th>\n",
       "      <th>final.output.tail_ag</th>\n",
       "      <th>final.output.tail_pb</th>\n",
       "      <th>final.output.tail_sol</th>\n",
       "      <th>final.output.tail_au</th>\n",
       "      <th>...</th>\n",
       "      <th>secondary_cleaner.state.floatbank4_a_level</th>\n",
       "      <th>secondary_cleaner.state.floatbank4_b_air</th>\n",
       "      <th>secondary_cleaner.state.floatbank4_b_level</th>\n",
       "      <th>secondary_cleaner.state.floatbank5_a_air</th>\n",
       "      <th>secondary_cleaner.state.floatbank5_a_level</th>\n",
       "      <th>secondary_cleaner.state.floatbank5_b_air</th>\n",
       "      <th>secondary_cleaner.state.floatbank5_b_level</th>\n",
       "      <th>secondary_cleaner.state.floatbank6_a_air</th>\n",
       "      <th>secondary_cleaner.state.floatbank6_a_level</th>\n",
       "      <th>my_rougher_recovery</th>\n",
       "    </tr>\n",
       "  </thead>\n",
       "  <tbody>\n",
       "    <tr>\n",
       "      <th>47</th>\n",
       "      <td>2016-01-16 23:00:00</td>\n",
       "      <td>4.591462</td>\n",
       "      <td>10.628846</td>\n",
       "      <td>5.688961</td>\n",
       "      <td>46.663335</td>\n",
       "      <td>55.088448</td>\n",
       "      <td>10.694584</td>\n",
       "      <td>1.671644</td>\n",
       "      <td>17.910312</td>\n",
       "      <td>2.686782</td>\n",
       "      <td>...</td>\n",
       "      <td>-551.224653</td>\n",
       "      <td>11.971272</td>\n",
       "      <td>-550.095619</td>\n",
       "      <td>9.981163</td>\n",
       "      <td>-502.869109</td>\n",
       "      <td>7.941184</td>\n",
       "      <td>-500.623610</td>\n",
       "      <td>12.018837</td>\n",
       "      <td>-600.916665</td>\n",
       "      <td>-0.000000</td>\n",
       "    </tr>\n",
       "    <tr>\n",
       "      <th>48</th>\n",
       "      <td>2016-01-17 00:00:00</td>\n",
       "      <td>5.296830</td>\n",
       "      <td>10.597469</td>\n",
       "      <td>NaN</td>\n",
       "      <td>44.015642</td>\n",
       "      <td>41.962008</td>\n",
       "      <td>11.975654</td>\n",
       "      <td>1.846558</td>\n",
       "      <td>8.138408</td>\n",
       "      <td>2.889469</td>\n",
       "      <td>...</td>\n",
       "      <td>-549.388727</td>\n",
       "      <td>11.975967</td>\n",
       "      <td>-550.778624</td>\n",
       "      <td>9.989726</td>\n",
       "      <td>-499.607365</td>\n",
       "      <td>7.958252</td>\n",
       "      <td>-498.882560</td>\n",
       "      <td>11.967977</td>\n",
       "      <td>-599.440603</td>\n",
       "      <td>-0.000000</td>\n",
       "    </tr>\n",
       "    <tr>\n",
       "      <th>49</th>\n",
       "      <td>2016-01-17 02:00:00</td>\n",
       "      <td>8.162896</td>\n",
       "      <td>8.877528</td>\n",
       "      <td>NaN</td>\n",
       "      <td>40.715973</td>\n",
       "      <td>49.884856</td>\n",
       "      <td>10.381465</td>\n",
       "      <td>1.024030</td>\n",
       "      <td>12.974257</td>\n",
       "      <td>2.739224</td>\n",
       "      <td>...</td>\n",
       "      <td>-550.563329</td>\n",
       "      <td>11.999730</td>\n",
       "      <td>-550.549773</td>\n",
       "      <td>9.941869</td>\n",
       "      <td>-503.282068</td>\n",
       "      <td>8.018850</td>\n",
       "      <td>-500.970716</td>\n",
       "      <td>11.991078</td>\n",
       "      <td>-598.475929</td>\n",
       "      <td>-0.000000</td>\n",
       "    </tr>\n",
       "    <tr>\n",
       "      <th>65</th>\n",
       "      <td>2016-01-17 19:00:00</td>\n",
       "      <td>5.976553</td>\n",
       "      <td>10.996561</td>\n",
       "      <td>NaN</td>\n",
       "      <td>43.523390</td>\n",
       "      <td>62.514075</td>\n",
       "      <td>11.439665</td>\n",
       "      <td>1.255373</td>\n",
       "      <td>9.235768</td>\n",
       "      <td>2.770570</td>\n",
       "      <td>...</td>\n",
       "      <td>-550.369289</td>\n",
       "      <td>11.993860</td>\n",
       "      <td>-550.801872</td>\n",
       "      <td>10.019677</td>\n",
       "      <td>-502.134984</td>\n",
       "      <td>8.028135</td>\n",
       "      <td>-500.026321</td>\n",
       "      <td>11.999417</td>\n",
       "      <td>-601.306527</td>\n",
       "      <td>78.418271</td>\n",
       "    </tr>\n",
       "    <tr>\n",
       "      <th>66</th>\n",
       "      <td>2016-01-17 20:00:00</td>\n",
       "      <td>5.849873</td>\n",
       "      <td>10.630010</td>\n",
       "      <td>NaN</td>\n",
       "      <td>43.582899</td>\n",
       "      <td>61.819261</td>\n",
       "      <td>11.415898</td>\n",
       "      <td>1.373004</td>\n",
       "      <td>9.696283</td>\n",
       "      <td>2.816412</td>\n",
       "      <td>...</td>\n",
       "      <td>-549.905281</td>\n",
       "      <td>12.002873</td>\n",
       "      <td>-550.416734</td>\n",
       "      <td>9.960796</td>\n",
       "      <td>-497.271602</td>\n",
       "      <td>8.028384</td>\n",
       "      <td>-499.558407</td>\n",
       "      <td>11.978157</td>\n",
       "      <td>-598.788524</td>\n",
       "      <td>79.013981</td>\n",
       "    </tr>\n",
       "  </tbody>\n",
       "</table>\n",
       "<p>5 rows × 88 columns</p>\n",
       "</div>"
      ],
      "text/plain": [
       "                   date  final.output.concentrate_ag  \\\n",
       "47  2016-01-16 23:00:00                     4.591462   \n",
       "48  2016-01-17 00:00:00                     5.296830   \n",
       "49  2016-01-17 02:00:00                     8.162896   \n",
       "65  2016-01-17 19:00:00                     5.976553   \n",
       "66  2016-01-17 20:00:00                     5.849873   \n",
       "\n",
       "    final.output.concentrate_pb  final.output.concentrate_sol  \\\n",
       "47                    10.628846                      5.688961   \n",
       "48                    10.597469                           NaN   \n",
       "49                     8.877528                           NaN   \n",
       "65                    10.996561                           NaN   \n",
       "66                    10.630010                           NaN   \n",
       "\n",
       "    final.output.concentrate_au  final.output.recovery  final.output.tail_ag  \\\n",
       "47                    46.663335              55.088448             10.694584   \n",
       "48                    44.015642              41.962008             11.975654   \n",
       "49                    40.715973              49.884856             10.381465   \n",
       "65                    43.523390              62.514075             11.439665   \n",
       "66                    43.582899              61.819261             11.415898   \n",
       "\n",
       "    final.output.tail_pb  final.output.tail_sol  final.output.tail_au  ...  \\\n",
       "47              1.671644              17.910312              2.686782  ...   \n",
       "48              1.846558               8.138408              2.889469  ...   \n",
       "49              1.024030              12.974257              2.739224  ...   \n",
       "65              1.255373               9.235768              2.770570  ...   \n",
       "66              1.373004               9.696283              2.816412  ...   \n",
       "\n",
       "    secondary_cleaner.state.floatbank4_a_level  \\\n",
       "47                                 -551.224653   \n",
       "48                                 -549.388727   \n",
       "49                                 -550.563329   \n",
       "65                                 -550.369289   \n",
       "66                                 -549.905281   \n",
       "\n",
       "    secondary_cleaner.state.floatbank4_b_air  \\\n",
       "47                                 11.971272   \n",
       "48                                 11.975967   \n",
       "49                                 11.999730   \n",
       "65                                 11.993860   \n",
       "66                                 12.002873   \n",
       "\n",
       "    secondary_cleaner.state.floatbank4_b_level  \\\n",
       "47                                 -550.095619   \n",
       "48                                 -550.778624   \n",
       "49                                 -550.549773   \n",
       "65                                 -550.801872   \n",
       "66                                 -550.416734   \n",
       "\n",
       "    secondary_cleaner.state.floatbank5_a_air  \\\n",
       "47                                  9.981163   \n",
       "48                                  9.989726   \n",
       "49                                  9.941869   \n",
       "65                                 10.019677   \n",
       "66                                  9.960796   \n",
       "\n",
       "    secondary_cleaner.state.floatbank5_a_level  \\\n",
       "47                                 -502.869109   \n",
       "48                                 -499.607365   \n",
       "49                                 -503.282068   \n",
       "65                                 -502.134984   \n",
       "66                                 -497.271602   \n",
       "\n",
       "    secondary_cleaner.state.floatbank5_b_air  \\\n",
       "47                                  7.941184   \n",
       "48                                  7.958252   \n",
       "49                                  8.018850   \n",
       "65                                  8.028135   \n",
       "66                                  8.028384   \n",
       "\n",
       "    secondary_cleaner.state.floatbank5_b_level  \\\n",
       "47                                 -500.623610   \n",
       "48                                 -498.882560   \n",
       "49                                 -500.970716   \n",
       "65                                 -500.026321   \n",
       "66                                 -499.558407   \n",
       "\n",
       "    secondary_cleaner.state.floatbank6_a_air  \\\n",
       "47                                 12.018837   \n",
       "48                                 11.967977   \n",
       "49                                 11.991078   \n",
       "65                                 11.999417   \n",
       "66                                 11.978157   \n",
       "\n",
       "    secondary_cleaner.state.floatbank6_a_level  my_rougher_recovery  \n",
       "47                                 -600.916665            -0.000000  \n",
       "48                                 -599.440603            -0.000000  \n",
       "49                                 -598.475929            -0.000000  \n",
       "65                                 -601.306527            78.418271  \n",
       "66                                 -598.788524            79.013981  \n",
       "\n",
       "[5 rows x 88 columns]"
      ]
     },
     "execution_count": 17,
     "metadata": {},
     "output_type": "execute_result"
    }
   ],
   "source": [
    "df_train[df_train.isnull().any(1)].head()"
   ]
  },
  {
   "cell_type": "code",
   "execution_count": 18,
   "metadata": {},
   "outputs": [
    {
     "data": {
      "text/html": [
       "<div>\n",
       "<style scoped>\n",
       "    .dataframe tbody tr th:only-of-type {\n",
       "        vertical-align: middle;\n",
       "    }\n",
       "\n",
       "    .dataframe tbody tr th {\n",
       "        vertical-align: top;\n",
       "    }\n",
       "\n",
       "    .dataframe thead th {\n",
       "        text-align: right;\n",
       "    }\n",
       "</style>\n",
       "<table border=\"1\" class=\"dataframe\">\n",
       "  <thead>\n",
       "    <tr style=\"text-align: right;\">\n",
       "      <th></th>\n",
       "      <th>date</th>\n",
       "      <th>primary_cleaner.input.sulfate</th>\n",
       "      <th>primary_cleaner.input.depressant</th>\n",
       "      <th>primary_cleaner.input.feed_size</th>\n",
       "      <th>primary_cleaner.input.xanthate</th>\n",
       "      <th>primary_cleaner.state.floatbank8_a_air</th>\n",
       "      <th>primary_cleaner.state.floatbank8_a_level</th>\n",
       "      <th>primary_cleaner.state.floatbank8_b_air</th>\n",
       "      <th>primary_cleaner.state.floatbank8_b_level</th>\n",
       "      <th>primary_cleaner.state.floatbank8_c_air</th>\n",
       "      <th>...</th>\n",
       "      <th>secondary_cleaner.state.floatbank4_b_air</th>\n",
       "      <th>secondary_cleaner.state.floatbank4_b_level</th>\n",
       "      <th>secondary_cleaner.state.floatbank5_a_air</th>\n",
       "      <th>secondary_cleaner.state.floatbank5_a_level</th>\n",
       "      <th>secondary_cleaner.state.floatbank5_b_air</th>\n",
       "      <th>secondary_cleaner.state.floatbank5_b_level</th>\n",
       "      <th>secondary_cleaner.state.floatbank6_a_air</th>\n",
       "      <th>secondary_cleaner.state.floatbank6_a_level</th>\n",
       "      <th>rougher.output.recovery</th>\n",
       "      <th>final.output.recovery</th>\n",
       "    </tr>\n",
       "  </thead>\n",
       "  <tbody>\n",
       "    <tr>\n",
       "      <th>30</th>\n",
       "      <td>2016-09-02 06:59:59</td>\n",
       "      <td>NaN</td>\n",
       "      <td>NaN</td>\n",
       "      <td>7.1600</td>\n",
       "      <td>NaN</td>\n",
       "      <td>412.629243</td>\n",
       "      <td>-795.316337</td>\n",
       "      <td>413.703253</td>\n",
       "      <td>-787.396567</td>\n",
       "      <td>441.604260</td>\n",
       "      <td>...</td>\n",
       "      <td>4.625908</td>\n",
       "      <td>-678.347958</td>\n",
       "      <td>4.451592</td>\n",
       "      <td>-795.337422</td>\n",
       "      <td>3.544708</td>\n",
       "      <td>-800.024373</td>\n",
       "      <td>5.914889</td>\n",
       "      <td>-799.501783</td>\n",
       "      <td>0.000000</td>\n",
       "      <td>0.000000</td>\n",
       "    </tr>\n",
       "    <tr>\n",
       "      <th>31</th>\n",
       "      <td>2016-09-02 10:59:59</td>\n",
       "      <td>64.558863</td>\n",
       "      <td>0.061864</td>\n",
       "      <td>7.1095</td>\n",
       "      <td>0.520084</td>\n",
       "      <td>1433.954958</td>\n",
       "      <td>-499.688476</td>\n",
       "      <td>1553.150053</td>\n",
       "      <td>-500.878552</td>\n",
       "      <td>1517.894908</td>\n",
       "      <td>...</td>\n",
       "      <td>8.129055</td>\n",
       "      <td>-500.125308</td>\n",
       "      <td>8.031323</td>\n",
       "      <td>-486.756657</td>\n",
       "      <td>5.047491</td>\n",
       "      <td>-467.938124</td>\n",
       "      <td>10.047098</td>\n",
       "      <td>-499.813489</td>\n",
       "      <td>65.817436</td>\n",
       "      <td>96.148407</td>\n",
       "    </tr>\n",
       "    <tr>\n",
       "      <th>32</th>\n",
       "      <td>2016-09-02 11:59:59</td>\n",
       "      <td>112.768923</td>\n",
       "      <td>6.061414</td>\n",
       "      <td>6.1500</td>\n",
       "      <td>0.819723</td>\n",
       "      <td>1426.909049</td>\n",
       "      <td>-500.749720</td>\n",
       "      <td>1544.540348</td>\n",
       "      <td>-501.570124</td>\n",
       "      <td>1509.087281</td>\n",
       "      <td>...</td>\n",
       "      <td>8.100986</td>\n",
       "      <td>-501.032511</td>\n",
       "      <td>8.053520</td>\n",
       "      <td>-506.002857</td>\n",
       "      <td>5.025161</td>\n",
       "      <td>-447.918397</td>\n",
       "      <td>9.911242</td>\n",
       "      <td>-497.922919</td>\n",
       "      <td>71.035116</td>\n",
       "      <td>56.440734</td>\n",
       "    </tr>\n",
       "    <tr>\n",
       "      <th>33</th>\n",
       "      <td>2016-09-02 12:59:59</td>\n",
       "      <td>132.526641</td>\n",
       "      <td>8.257739</td>\n",
       "      <td>6.6715</td>\n",
       "      <td>0.803072</td>\n",
       "      <td>1419.081952</td>\n",
       "      <td>-499.519835</td>\n",
       "      <td>1530.869084</td>\n",
       "      <td>-499.749240</td>\n",
       "      <td>1494.243228</td>\n",
       "      <td>...</td>\n",
       "      <td>8.075180</td>\n",
       "      <td>-500.466176</td>\n",
       "      <td>8.077882</td>\n",
       "      <td>-509.265467</td>\n",
       "      <td>4.837108</td>\n",
       "      <td>-501.855340</td>\n",
       "      <td>9.891463</td>\n",
       "      <td>-504.150985</td>\n",
       "      <td>76.785779</td>\n",
       "      <td>58.476088</td>\n",
       "    </tr>\n",
       "    <tr>\n",
       "      <th>34</th>\n",
       "      <td>2016-09-02 13:59:59</td>\n",
       "      <td>138.109389</td>\n",
       "      <td>7.975929</td>\n",
       "      <td>7.6400</td>\n",
       "      <td>0.800642</td>\n",
       "      <td>1420.088768</td>\n",
       "      <td>-499.765691</td>\n",
       "      <td>1522.047015</td>\n",
       "      <td>-499.458234</td>\n",
       "      <td>1483.131191</td>\n",
       "      <td>...</td>\n",
       "      <td>8.049423</td>\n",
       "      <td>-500.135072</td>\n",
       "      <td>7.905382</td>\n",
       "      <td>-503.020886</td>\n",
       "      <td>4.925342</td>\n",
       "      <td>-500.552419</td>\n",
       "      <td>10.045443</td>\n",
       "      <td>-500.501492</td>\n",
       "      <td>73.364628</td>\n",
       "      <td>57.269791</td>\n",
       "    </tr>\n",
       "  </tbody>\n",
       "</table>\n",
       "<p>5 rows × 55 columns</p>\n",
       "</div>"
      ],
      "text/plain": [
       "                   date  primary_cleaner.input.sulfate  \\\n",
       "30  2016-09-02 06:59:59                            NaN   \n",
       "31  2016-09-02 10:59:59                      64.558863   \n",
       "32  2016-09-02 11:59:59                     112.768923   \n",
       "33  2016-09-02 12:59:59                     132.526641   \n",
       "34  2016-09-02 13:59:59                     138.109389   \n",
       "\n",
       "    primary_cleaner.input.depressant  primary_cleaner.input.feed_size  \\\n",
       "30                               NaN                           7.1600   \n",
       "31                          0.061864                           7.1095   \n",
       "32                          6.061414                           6.1500   \n",
       "33                          8.257739                           6.6715   \n",
       "34                          7.975929                           7.6400   \n",
       "\n",
       "    primary_cleaner.input.xanthate  primary_cleaner.state.floatbank8_a_air  \\\n",
       "30                             NaN                              412.629243   \n",
       "31                        0.520084                             1433.954958   \n",
       "32                        0.819723                             1426.909049   \n",
       "33                        0.803072                             1419.081952   \n",
       "34                        0.800642                             1420.088768   \n",
       "\n",
       "    primary_cleaner.state.floatbank8_a_level  \\\n",
       "30                               -795.316337   \n",
       "31                               -499.688476   \n",
       "32                               -500.749720   \n",
       "33                               -499.519835   \n",
       "34                               -499.765691   \n",
       "\n",
       "    primary_cleaner.state.floatbank8_b_air  \\\n",
       "30                              413.703253   \n",
       "31                             1553.150053   \n",
       "32                             1544.540348   \n",
       "33                             1530.869084   \n",
       "34                             1522.047015   \n",
       "\n",
       "    primary_cleaner.state.floatbank8_b_level  \\\n",
       "30                               -787.396567   \n",
       "31                               -500.878552   \n",
       "32                               -501.570124   \n",
       "33                               -499.749240   \n",
       "34                               -499.458234   \n",
       "\n",
       "    primary_cleaner.state.floatbank8_c_air  ...  \\\n",
       "30                              441.604260  ...   \n",
       "31                             1517.894908  ...   \n",
       "32                             1509.087281  ...   \n",
       "33                             1494.243228  ...   \n",
       "34                             1483.131191  ...   \n",
       "\n",
       "    secondary_cleaner.state.floatbank4_b_air  \\\n",
       "30                                  4.625908   \n",
       "31                                  8.129055   \n",
       "32                                  8.100986   \n",
       "33                                  8.075180   \n",
       "34                                  8.049423   \n",
       "\n",
       "    secondary_cleaner.state.floatbank4_b_level  \\\n",
       "30                                 -678.347958   \n",
       "31                                 -500.125308   \n",
       "32                                 -501.032511   \n",
       "33                                 -500.466176   \n",
       "34                                 -500.135072   \n",
       "\n",
       "    secondary_cleaner.state.floatbank5_a_air  \\\n",
       "30                                  4.451592   \n",
       "31                                  8.031323   \n",
       "32                                  8.053520   \n",
       "33                                  8.077882   \n",
       "34                                  7.905382   \n",
       "\n",
       "    secondary_cleaner.state.floatbank5_a_level  \\\n",
       "30                                 -795.337422   \n",
       "31                                 -486.756657   \n",
       "32                                 -506.002857   \n",
       "33                                 -509.265467   \n",
       "34                                 -503.020886   \n",
       "\n",
       "    secondary_cleaner.state.floatbank5_b_air  \\\n",
       "30                                  3.544708   \n",
       "31                                  5.047491   \n",
       "32                                  5.025161   \n",
       "33                                  4.837108   \n",
       "34                                  4.925342   \n",
       "\n",
       "    secondary_cleaner.state.floatbank5_b_level  \\\n",
       "30                                 -800.024373   \n",
       "31                                 -467.938124   \n",
       "32                                 -447.918397   \n",
       "33                                 -501.855340   \n",
       "34                                 -500.552419   \n",
       "\n",
       "    secondary_cleaner.state.floatbank6_a_air  \\\n",
       "30                                  5.914889   \n",
       "31                                 10.047098   \n",
       "32                                  9.911242   \n",
       "33                                  9.891463   \n",
       "34                                 10.045443   \n",
       "\n",
       "    secondary_cleaner.state.floatbank6_a_level  rougher.output.recovery  \\\n",
       "30                                 -799.501783                 0.000000   \n",
       "31                                 -499.813489                65.817436   \n",
       "32                                 -497.922919                71.035116   \n",
       "33                                 -504.150985                76.785779   \n",
       "34                                 -500.501492                73.364628   \n",
       "\n",
       "    final.output.recovery  \n",
       "30               0.000000  \n",
       "31              96.148407  \n",
       "32              56.440734  \n",
       "33              58.476088  \n",
       "34              57.269791  \n",
       "\n",
       "[5 rows x 55 columns]"
      ]
     },
     "execution_count": 18,
     "metadata": {},
     "output_type": "execute_result"
    }
   ],
   "source": [
    "df_test[df_test.isnull().any(1)].head()"
   ]
  },
  {
   "cell_type": "markdown",
   "metadata": {},
   "source": [
    "Так как данные отсортированы по дате и времени, а также данные несильно отличаются в зависимости от времени, то можно воспользоваться методом ffill, который заполняет пропуски соседними данными."
   ]
  },
  {
   "cell_type": "code",
   "execution_count": 19,
   "metadata": {},
   "outputs": [],
   "source": [
    "df_train = df_train.ffill(axis=0)\n",
    "df_test = df_test.ffill(axis=0)"
   ]
  },
  {
   "cell_type": "code",
   "execution_count": 20,
   "metadata": {},
   "outputs": [
    {
     "data": {
      "text/html": [
       "<div>\n",
       "<style scoped>\n",
       "    .dataframe tbody tr th:only-of-type {\n",
       "        vertical-align: middle;\n",
       "    }\n",
       "\n",
       "    .dataframe tbody tr th {\n",
       "        vertical-align: top;\n",
       "    }\n",
       "\n",
       "    .dataframe thead th {\n",
       "        text-align: right;\n",
       "    }\n",
       "</style>\n",
       "<table border=\"1\" class=\"dataframe\">\n",
       "  <thead>\n",
       "    <tr style=\"text-align: right;\">\n",
       "      <th></th>\n",
       "      <th>date</th>\n",
       "      <th>final.output.concentrate_ag</th>\n",
       "      <th>final.output.concentrate_pb</th>\n",
       "      <th>final.output.concentrate_sol</th>\n",
       "      <th>final.output.concentrate_au</th>\n",
       "      <th>final.output.recovery</th>\n",
       "      <th>final.output.tail_ag</th>\n",
       "      <th>final.output.tail_pb</th>\n",
       "      <th>final.output.tail_sol</th>\n",
       "      <th>final.output.tail_au</th>\n",
       "      <th>...</th>\n",
       "      <th>secondary_cleaner.state.floatbank4_a_level</th>\n",
       "      <th>secondary_cleaner.state.floatbank4_b_air</th>\n",
       "      <th>secondary_cleaner.state.floatbank4_b_level</th>\n",
       "      <th>secondary_cleaner.state.floatbank5_a_air</th>\n",
       "      <th>secondary_cleaner.state.floatbank5_a_level</th>\n",
       "      <th>secondary_cleaner.state.floatbank5_b_air</th>\n",
       "      <th>secondary_cleaner.state.floatbank5_b_level</th>\n",
       "      <th>secondary_cleaner.state.floatbank6_a_air</th>\n",
       "      <th>secondary_cleaner.state.floatbank6_a_level</th>\n",
       "      <th>my_rougher_recovery</th>\n",
       "    </tr>\n",
       "  </thead>\n",
       "  <tbody>\n",
       "  </tbody>\n",
       "</table>\n",
       "<p>0 rows × 88 columns</p>\n",
       "</div>"
      ],
      "text/plain": [
       "Empty DataFrame\n",
       "Columns: [date, final.output.concentrate_ag, final.output.concentrate_pb, final.output.concentrate_sol, final.output.concentrate_au, final.output.recovery, final.output.tail_ag, final.output.tail_pb, final.output.tail_sol, final.output.tail_au, primary_cleaner.input.sulfate, primary_cleaner.input.depressant, primary_cleaner.input.feed_size, primary_cleaner.input.xanthate, primary_cleaner.output.concentrate_ag, primary_cleaner.output.concentrate_pb, primary_cleaner.output.concentrate_sol, primary_cleaner.output.concentrate_au, primary_cleaner.output.tail_ag, primary_cleaner.output.tail_pb, primary_cleaner.output.tail_sol, primary_cleaner.output.tail_au, primary_cleaner.state.floatbank8_a_air, primary_cleaner.state.floatbank8_a_level, primary_cleaner.state.floatbank8_b_air, primary_cleaner.state.floatbank8_b_level, primary_cleaner.state.floatbank8_c_air, primary_cleaner.state.floatbank8_c_level, primary_cleaner.state.floatbank8_d_air, primary_cleaner.state.floatbank8_d_level, rougher.calculation.sulfate_to_au_concentrate, rougher.calculation.floatbank10_sulfate_to_au_feed, rougher.calculation.floatbank11_sulfate_to_au_feed, rougher.calculation.au_pb_ratio, rougher.input.feed_ag, rougher.input.feed_pb, rougher.input.feed_rate, rougher.input.feed_size, rougher.input.feed_sol, rougher.input.feed_au, rougher.input.floatbank10_sulfate, rougher.input.floatbank10_xanthate, rougher.input.floatbank11_sulfate, rougher.input.floatbank11_xanthate, rougher.output.concentrate_ag, rougher.output.concentrate_pb, rougher.output.concentrate_sol, rougher.output.concentrate_au, rougher.output.recovery, rougher.output.tail_ag, rougher.output.tail_pb, rougher.output.tail_sol, rougher.output.tail_au, rougher.state.floatbank10_a_air, rougher.state.floatbank10_a_level, rougher.state.floatbank10_b_air, rougher.state.floatbank10_b_level, rougher.state.floatbank10_c_air, rougher.state.floatbank10_c_level, rougher.state.floatbank10_d_air, rougher.state.floatbank10_d_level, rougher.state.floatbank10_e_air, rougher.state.floatbank10_e_level, rougher.state.floatbank10_f_air, rougher.state.floatbank10_f_level, secondary_cleaner.output.tail_ag, secondary_cleaner.output.tail_pb, secondary_cleaner.output.tail_sol, secondary_cleaner.output.tail_au, secondary_cleaner.state.floatbank2_a_air, secondary_cleaner.state.floatbank2_a_level, secondary_cleaner.state.floatbank2_b_air, secondary_cleaner.state.floatbank2_b_level, secondary_cleaner.state.floatbank3_a_air, secondary_cleaner.state.floatbank3_a_level, secondary_cleaner.state.floatbank3_b_air, secondary_cleaner.state.floatbank3_b_level, secondary_cleaner.state.floatbank4_a_air, secondary_cleaner.state.floatbank4_a_level, secondary_cleaner.state.floatbank4_b_air, secondary_cleaner.state.floatbank4_b_level, secondary_cleaner.state.floatbank5_a_air, secondary_cleaner.state.floatbank5_a_level, secondary_cleaner.state.floatbank5_b_air, secondary_cleaner.state.floatbank5_b_level, secondary_cleaner.state.floatbank6_a_air, secondary_cleaner.state.floatbank6_a_level, my_rougher_recovery]\n",
       "Index: []\n",
       "\n",
       "[0 rows x 88 columns]"
      ]
     },
     "execution_count": 20,
     "metadata": {},
     "output_type": "execute_result"
    }
   ],
   "source": [
    "df_train[df_train.isnull().any(1)]"
   ]
  },
  {
   "cell_type": "markdown",
   "metadata": {},
   "source": [
    "## Анализ данных"
   ]
  },
  {
   "cell_type": "markdown",
   "metadata": {},
   "source": [
    "### Посмотрим, как меняется концентрация металлов (Au, Ag, Pb) на различных этапах очистки"
   ]
  },
  {
   "cell_type": "markdown",
   "metadata": {},
   "source": [
    "Выделим автоматически названия колонок с концентрацией"
   ]
  },
  {
   "cell_type": "code",
   "execution_count": 21,
   "metadata": {},
   "outputs": [
    {
     "data": {
      "text/plain": [
       "Index(['date', 'primary_cleaner.input.sulfate',\n",
       "       'primary_cleaner.input.depressant', 'primary_cleaner.input.feed_size',\n",
       "       'primary_cleaner.input.xanthate',\n",
       "       'primary_cleaner.state.floatbank8_a_air',\n",
       "       'primary_cleaner.state.floatbank8_a_level',\n",
       "       'primary_cleaner.state.floatbank8_b_air',\n",
       "       'primary_cleaner.state.floatbank8_b_level',\n",
       "       'primary_cleaner.state.floatbank8_c_air',\n",
       "       'primary_cleaner.state.floatbank8_c_level',\n",
       "       'primary_cleaner.state.floatbank8_d_air',\n",
       "       'primary_cleaner.state.floatbank8_d_level', 'rougher.input.feed_ag',\n",
       "       'rougher.input.feed_pb', 'rougher.input.feed_rate',\n",
       "       'rougher.input.feed_size', 'rougher.input.feed_sol',\n",
       "       'rougher.input.feed_au', 'rougher.input.floatbank10_sulfate',\n",
       "       'rougher.input.floatbank10_xanthate',\n",
       "       'rougher.input.floatbank11_sulfate',\n",
       "       'rougher.input.floatbank11_xanthate', 'rougher.state.floatbank10_a_air',\n",
       "       'rougher.state.floatbank10_a_level', 'rougher.state.floatbank10_b_air',\n",
       "       'rougher.state.floatbank10_b_level', 'rougher.state.floatbank10_c_air',\n",
       "       'rougher.state.floatbank10_c_level', 'rougher.state.floatbank10_d_air',\n",
       "       'rougher.state.floatbank10_d_level', 'rougher.state.floatbank10_e_air',\n",
       "       'rougher.state.floatbank10_e_level', 'rougher.state.floatbank10_f_air',\n",
       "       'rougher.state.floatbank10_f_level',\n",
       "       'secondary_cleaner.state.floatbank2_a_air',\n",
       "       'secondary_cleaner.state.floatbank2_a_level',\n",
       "       'secondary_cleaner.state.floatbank2_b_air',\n",
       "       'secondary_cleaner.state.floatbank2_b_level',\n",
       "       'secondary_cleaner.state.floatbank3_a_air',\n",
       "       'secondary_cleaner.state.floatbank3_a_level',\n",
       "       'secondary_cleaner.state.floatbank3_b_air',\n",
       "       'secondary_cleaner.state.floatbank3_b_level',\n",
       "       'secondary_cleaner.state.floatbank4_a_air',\n",
       "       'secondary_cleaner.state.floatbank4_a_level',\n",
       "       'secondary_cleaner.state.floatbank4_b_air',\n",
       "       'secondary_cleaner.state.floatbank4_b_level',\n",
       "       'secondary_cleaner.state.floatbank5_a_air',\n",
       "       'secondary_cleaner.state.floatbank5_a_level',\n",
       "       'secondary_cleaner.state.floatbank5_b_air',\n",
       "       'secondary_cleaner.state.floatbank5_b_level',\n",
       "       'secondary_cleaner.state.floatbank6_a_air',\n",
       "       'secondary_cleaner.state.floatbank6_a_level'],\n",
       "      dtype='object')"
      ]
     },
     "execution_count": 21,
     "metadata": {},
     "output_type": "execute_result"
    }
   ],
   "source": [
    "test_columns"
   ]
  },
  {
   "cell_type": "code",
   "execution_count": 22,
   "metadata": {},
   "outputs": [],
   "source": [
    "concentrate_columns = list(\n",
    "    filter(lambda x: 'concentrate' in x.lower(), list(train_columns)))"
   ]
  },
  {
   "cell_type": "code",
   "execution_count": 23,
   "metadata": {},
   "outputs": [
    {
     "name": "stdout",
     "output_type": "stream",
     "text": [
      "<class 'pandas.core.frame.DataFrame'>\n",
      "RangeIndex: 14149 entries, 0 to 14148\n",
      "Data columns (total 13 columns):\n",
      " #   Column                                         Non-Null Count  Dtype  \n",
      "---  ------                                         --------------  -----  \n",
      " 0   final.output.concentrate_ag                    14149 non-null  float64\n",
      " 1   final.output.concentrate_pb                    14149 non-null  float64\n",
      " 2   final.output.concentrate_sol                   14149 non-null  float64\n",
      " 3   final.output.concentrate_au                    14149 non-null  float64\n",
      " 4   primary_cleaner.output.concentrate_ag          14149 non-null  float64\n",
      " 5   primary_cleaner.output.concentrate_pb          14149 non-null  float64\n",
      " 6   primary_cleaner.output.concentrate_sol         14149 non-null  float64\n",
      " 7   primary_cleaner.output.concentrate_au          14149 non-null  float64\n",
      " 8   rougher.calculation.sulfate_to_au_concentrate  14149 non-null  float64\n",
      " 9   rougher.output.concentrate_ag                  14149 non-null  float64\n",
      " 10  rougher.output.concentrate_pb                  14149 non-null  float64\n",
      " 11  rougher.output.concentrate_sol                 14149 non-null  float64\n",
      " 12  rougher.output.concentrate_au                  14149 non-null  float64\n",
      "dtypes: float64(13)\n",
      "memory usage: 1.4 MB\n"
     ]
    }
   ],
   "source": [
    "df_train[concentrate_columns].info()"
   ]
  },
  {
   "cell_type": "code",
   "execution_count": 24,
   "metadata": {},
   "outputs": [],
   "source": [
    "final_concentrate_columns = sorted(list(filter(lambda x: 'final' in x.lower(\n",
    ") and '_sol' not in x.lower(), list(concentrate_columns))))\n",
    "primary_concentrate_columns = sorted(list(filter(lambda x: 'primary' in x.lower(\n",
    ") and '_sol' not in x.lower(), list(concentrate_columns))))\n",
    "rougher_concentrate_columns = sorted(list(filter(lambda x: 'rougher' in x.lower(\n",
    ") and '_sol' not in x.lower() and 'sulfa' not in x.lower(), list(concentrate_columns))))"
   ]
  },
  {
   "cell_type": "markdown",
   "metadata": {},
   "source": [
    "Выделим названия колонок по этапам "
   ]
  },
  {
   "cell_type": "code",
   "execution_count": 25,
   "metadata": {},
   "outputs": [
    {
     "name": "stdout",
     "output_type": "stream",
     "text": [
      "['final.output.concentrate_ag', 'final.output.concentrate_au', 'final.output.concentrate_pb'] \n",
      "\n",
      "['primary_cleaner.output.concentrate_ag', 'primary_cleaner.output.concentrate_au', 'primary_cleaner.output.concentrate_pb'] \n",
      "\n",
      "['rougher.output.concentrate_ag', 'rougher.output.concentrate_au', 'rougher.output.concentrate_pb'] \n",
      "\n"
     ]
    }
   ],
   "source": [
    "print(final_concentrate_columns, '\\n')\n",
    "print(primary_concentrate_columns, '\\n')\n",
    "print(rougher_concentrate_columns, '\\n')"
   ]
  },
  {
   "cell_type": "markdown",
   "metadata": {},
   "source": [
    "Построим график по значениям одной из колонки"
   ]
  },
  {
   "cell_type": "code",
   "execution_count": 26,
   "metadata": {},
   "outputs": [
    {
     "data": {
      "image/png": "[encoded data removed]",
      "text/plain": [
       "<Figure size 720x504 with 1 Axes>"
      ]
     },
     "metadata": {
      "needs_background": "light"
     },
     "output_type": "display_data"
    }
   ],
   "source": [
    "plot = df_train.set_index(\n",
    "    'date')[final_concentrate_columns[0]].plot(figsize=figsize)\n",
    "plt.ylabel(final_concentrate_columns[0])\n",
    "plt.title('Концентрация серебра на выходе')\n",
    "plt.show()"
   ]
  },
  {
   "cell_type": "markdown",
   "metadata": {},
   "source": [
    "График неинформативен, выведем средние значения по этапам"
   ]
  },
  {
   "cell_type": "code",
   "execution_count": 27,
   "metadata": {},
   "outputs": [
    {
     "data": {
      "text/plain": [
       "<matplotlib.legend.Legend at 0x7fd60b149e48>"
      ]
     },
     "execution_count": 27,
     "metadata": {},
     "output_type": "execute_result"
    },
    {
     "data": {
      "image/png": "[encoded data removed]",
      "text/plain": [
       "<Figure size 720x504 with 1 Axes>"
      ]
     },
     "metadata": {
      "needs_background": "light"
     },
     "output_type": "display_data"
    }
   ],
   "source": [
    "plt.figure(figsize=figsize)\n",
    "sns.histplot(df_train.set_index('date')[final_concentrate_columns[0]],\n",
    "             label=final_concentrate_columns[0])\n",
    "plt.title('Концентрация серебра на выходе')\n",
    "plt.legend()"
   ]
  },
  {
   "cell_type": "code",
   "execution_count": 28,
   "metadata": {},
   "outputs": [
    {
     "data": {
      "text/plain": [
       "5.141920924857091"
      ]
     },
     "execution_count": 28,
     "metadata": {},
     "output_type": "execute_result"
    }
   ],
   "source": [
    "df_train[final_concentrate_columns[0]].mean()"
   ]
  },
  {
   "cell_type": "code",
   "execution_count": 29,
   "metadata": {},
   "outputs": [
    {
     "data": {
      "text/plain": [
       "['final.output.concentrate_ag',\n",
       " 'final.output.concentrate_au',\n",
       " 'final.output.concentrate_pb']"
      ]
     },
     "execution_count": 29,
     "metadata": {},
     "output_type": "execute_result"
    }
   ],
   "source": [
    "final_concentrate_columns"
   ]
  },
  {
   "cell_type": "code",
   "execution_count": 30,
   "metadata": {},
   "outputs": [],
   "source": [
    "dict_mean = {'final': [], 'primary': [], 'rougher': []}\n",
    "for i in range(len(final_concentrate_columns)):\n",
    "    dict_mean['final'].append(df_train[final_concentrate_columns[i]].mean())\n",
    "    dict_mean['primary'].append(\n",
    "        df_train[primary_concentrate_columns[i]].mean())\n",
    "    dict_mean['rougher'].append(\n",
    "        df_train[rougher_concentrate_columns[i]].mean())"
   ]
  },
  {
   "cell_type": "code",
   "execution_count": 31,
   "metadata": {},
   "outputs": [
    {
     "data": {
      "text/plain": [
       "{'final': [5.141920924857091, 44.00379162105571, 10.132847758146394],\n",
       " 'primary': [8.200915815165981, 32.386835978391346, 9.568544006770484],\n",
       " 'rougher': [11.775812314356036, 19.43995785143646, 7.664554751481546]}"
      ]
     },
     "execution_count": 31,
     "metadata": {},
     "output_type": "execute_result"
    }
   ],
   "source": [
    "dict_mean"
   ]
  },
  {
   "cell_type": "code",
   "execution_count": 32,
   "metadata": {},
   "outputs": [],
   "source": [
    "conc_mean = pd.DataFrame({'final': dict_mean['final'], 'primary': dict_mean['primary'],\n",
    "                          'rougher': dict_mean['rougher']}, index=['Ag', 'Au', 'Pb'])"
   ]
  },
  {
   "cell_type": "code",
   "execution_count": 33,
   "metadata": {},
   "outputs": [
    {
     "data": {
      "text/html": [
       "<div>\n",
       "<style scoped>\n",
       "    .dataframe tbody tr th:only-of-type {\n",
       "        vertical-align: middle;\n",
       "    }\n",
       "\n",
       "    .dataframe tbody tr th {\n",
       "        vertical-align: top;\n",
       "    }\n",
       "\n",
       "    .dataframe thead th {\n",
       "        text-align: right;\n",
       "    }\n",
       "</style>\n",
       "<table border=\"1\" class=\"dataframe\">\n",
       "  <thead>\n",
       "    <tr style=\"text-align: right;\">\n",
       "      <th></th>\n",
       "      <th>rougher</th>\n",
       "      <th>primary</th>\n",
       "      <th>final</th>\n",
       "    </tr>\n",
       "  </thead>\n",
       "  <tbody>\n",
       "    <tr>\n",
       "      <th>Ag</th>\n",
       "      <td>11.775812</td>\n",
       "      <td>8.200916</td>\n",
       "      <td>5.141921</td>\n",
       "    </tr>\n",
       "    <tr>\n",
       "      <th>Au</th>\n",
       "      <td>19.439958</td>\n",
       "      <td>32.386836</td>\n",
       "      <td>44.003792</td>\n",
       "    </tr>\n",
       "    <tr>\n",
       "      <th>Pb</th>\n",
       "      <td>7.664555</td>\n",
       "      <td>9.568544</td>\n",
       "      <td>10.132848</td>\n",
       "    </tr>\n",
       "  </tbody>\n",
       "</table>\n",
       "</div>"
      ],
      "text/plain": [
       "      rougher    primary      final\n",
       "Ag  11.775812   8.200916   5.141921\n",
       "Au  19.439958  32.386836  44.003792\n",
       "Pb   7.664555   9.568544  10.132848"
      ]
     },
     "execution_count": 33,
     "metadata": {},
     "output_type": "execute_result"
    }
   ],
   "source": [
    "conc_mean = conc_mean.reindex(columns=['rougher', 'primary', 'final'])\n",
    "conc_mean"
   ]
  },
  {
   "cell_type": "markdown",
   "metadata": {},
   "source": [
    "Видим, что концентрация золота (Au) сильно увеличилась.\n",
    "\n",
    "Концентрация серебра (Ag) сильно уменьшилась.\n",
    "\n",
    "Концентрация свинца (Pb) увеличилась."
   ]
  },
  {
   "cell_type": "markdown",
   "metadata": {},
   "source": [
    "### Сравним распределения размеров гранул сырья на обучающей и тестовой выборках"
   ]
  },
  {
   "cell_type": "code",
   "execution_count": 34,
   "metadata": {},
   "outputs": [
    {
     "name": "stdout",
     "output_type": "stream",
     "text": [
      "train:\n"
     ]
    },
    {
     "data": {
      "text/html": [
       "<div>\n",
       "<style scoped>\n",
       "    .dataframe tbody tr th:only-of-type {\n",
       "        vertical-align: middle;\n",
       "    }\n",
       "\n",
       "    .dataframe tbody tr th {\n",
       "        vertical-align: top;\n",
       "    }\n",
       "\n",
       "    .dataframe thead th {\n",
       "        text-align: right;\n",
       "    }\n",
       "</style>\n",
       "<table border=\"1\" class=\"dataframe\">\n",
       "  <thead>\n",
       "    <tr style=\"text-align: right;\">\n",
       "      <th></th>\n",
       "      <th>index</th>\n",
       "      <th>0</th>\n",
       "    </tr>\n",
       "  </thead>\n",
       "  <tbody>\n",
       "    <tr>\n",
       "      <th>0</th>\n",
       "      <td>primary_cleaner.input.feed_size</td>\n",
       "      <td>7.322310</td>\n",
       "    </tr>\n",
       "    <tr>\n",
       "      <th>1</th>\n",
       "      <td>rougher.input.feed_size</td>\n",
       "      <td>60.239856</td>\n",
       "    </tr>\n",
       "  </tbody>\n",
       "</table>\n",
       "</div>"
      ],
      "text/plain": [
       "                             index          0\n",
       "0  primary_cleaner.input.feed_size   7.322310\n",
       "1          rougher.input.feed_size  60.239856"
      ]
     },
     "metadata": {},
     "output_type": "display_data"
    },
    {
     "name": "stdout",
     "output_type": "stream",
     "text": [
      "\n",
      "test:\n"
     ]
    },
    {
     "data": {
      "text/html": [
       "<div>\n",
       "<style scoped>\n",
       "    .dataframe tbody tr th:only-of-type {\n",
       "        vertical-align: middle;\n",
       "    }\n",
       "\n",
       "    .dataframe tbody tr th {\n",
       "        vertical-align: top;\n",
       "    }\n",
       "\n",
       "    .dataframe thead th {\n",
       "        text-align: right;\n",
       "    }\n",
       "</style>\n",
       "<table border=\"1\" class=\"dataframe\">\n",
       "  <thead>\n",
       "    <tr style=\"text-align: right;\">\n",
       "      <th></th>\n",
       "      <th>index</th>\n",
       "      <th>0</th>\n",
       "    </tr>\n",
       "  </thead>\n",
       "  <tbody>\n",
       "    <tr>\n",
       "      <th>0</th>\n",
       "      <td>primary_cleaner.input.feed_size</td>\n",
       "      <td>7.266339</td>\n",
       "    </tr>\n",
       "    <tr>\n",
       "      <th>1</th>\n",
       "      <td>rougher.input.feed_size</td>\n",
       "      <td>55.952754</td>\n",
       "    </tr>\n",
       "  </tbody>\n",
       "</table>\n",
       "</div>"
      ],
      "text/plain": [
       "                             index          0\n",
       "0  primary_cleaner.input.feed_size   7.266339\n",
       "1          rougher.input.feed_size  55.952754"
      ]
     },
     "metadata": {},
     "output_type": "display_data"
    }
   ],
   "source": [
    "feed_size = ['primary_cleaner.input.feed_size', 'rougher.input.feed_size']\n",
    "print('train:')\n",
    "display(df_train[feed_size].mean().reset_index())\n",
    "\n",
    "print('\\ntest:')\n",
    "display(df_test[feed_size].mean().reset_index())"
   ]
  },
  {
   "cell_type": "markdown",
   "metadata": {},
   "source": [
    "Построим гистограммы с автоматическим определением количества блоков "
   ]
  },
  {
   "cell_type": "code",
   "execution_count": 35,
   "metadata": {},
   "outputs": [
    {
     "data": {
      "text/plain": [
       "Text(0.5, 1.0, 'Размер гранул сырья на обучающей выборке')"
      ]
     },
     "execution_count": 35,
     "metadata": {},
     "output_type": "execute_result"
    },
    {
     "data": {
      "image/png": "[encoded data removed]",
      "text/plain": [
       "<Figure size 432x288 with 1 Axes>"
      ]
     },
     "metadata": {
      "needs_background": "light"
     },
     "output_type": "display_data"
    }
   ],
   "source": [
    "df_train[feed_size].plot().hist(x=feed_size, bins='auto')\n",
    "plt.title('Размер гранул сырья на обучающей выборке')"
   ]
  },
  {
   "cell_type": "code",
   "execution_count": 36,
   "metadata": {},
   "outputs": [
    {
     "data": {
      "text/plain": [
       "Text(0.5, 1.0, 'Размер гранул сырья на тестовой выборке')"
      ]
     },
     "execution_count": 36,
     "metadata": {},
     "output_type": "execute_result"
    },
    {
     "data": {
      "image/png": "[encoded data removed]",
      "text/plain": [
       "<Figure size 432x288 with 1 Axes>"
      ]
     },
     "metadata": {
      "needs_background": "light"
     },
     "output_type": "display_data"
    }
   ],
   "source": [
    "df_test[feed_size].plot().hist(x=feed_size, bins='auto')\n",
    "plt.title('Размер гранул сырья на тестовой выборке')"
   ]
  },
  {
   "cell_type": "markdown",
   "metadata": {},
   "source": [
    "Воспользуемся библиотекой seaborn для построения гистограммы на одном графике"
   ]
  },
  {
   "cell_type": "code",
   "execution_count": 37,
   "metadata": {},
   "outputs": [
    {
     "data": {
      "text/plain": [
       "<matplotlib.legend.Legend at 0x7fd60b201940>"
      ]
     },
     "execution_count": 37,
     "metadata": {},
     "output_type": "execute_result"
    },
    {
     "data": {
      "image/png": "[encoded data removed]",
      "text/plain": [
       "<Figure size 720x504 with 1 Axes>"
      ]
     },
     "metadata": {
      "needs_background": "light"
     },
     "output_type": "display_data"
    }
   ],
   "source": [
    "plt.figure(figsize=figsize)\n",
    "\n",
    "sns.histplot(df_train['rougher.input.feed_size'],\n",
    "             label='train').set_title('Размеры гранул сырья')\n",
    "sns.histplot(df_test['rougher.input.feed_size'], label='test', color='r')\n",
    "plt.legend()"
   ]
  },
  {
   "cell_type": "markdown",
   "metadata": {},
   "source": [
    "Видим, что распределения на тестовой и обучающей выборках похожи"
   ]
  },
  {
   "cell_type": "markdown",
   "metadata": {},
   "source": [
    "### Исследуем суммарную концентрацию всех веществ на разных стадиях: в сырье, в черновом и финальном концентратах"
   ]
  },
  {
   "cell_type": "code",
   "execution_count": 38,
   "metadata": {},
   "outputs": [],
   "source": [
    "# Сумма концентраций на разных этапах\n",
    "def sum_concentrate(df):\n",
    "    df_sum_conc = pd.DataFrame()\n",
    "\n",
    "    df_sum_conc['rougher_input'] = df['rougher.input.feed_au'] + df[\n",
    "        'rougher.input.feed_ag'] + df['rougher.input.feed_pb']\n",
    "\n",
    "    df_sum_conc['rougher_output'] = df['rougher.output.concentrate_au'] + df[\n",
    "        'rougher.output.concentrate_ag'] + df['rougher.output.concentrate_pb']\n",
    "\n",
    "    df_sum_conc['primary_output'] = df['primary_cleaner.output.concentrate_au'] + df[\n",
    "        'primary_cleaner.output.concentrate_ag'] + df['primary_cleaner.output.concentrate_pb']\n",
    "\n",
    "    df_sum_conc['final_output'] = df['final.output.concentrate_au'] + df[\n",
    "        'final.output.concentrate_ag'] + df['final.output.concentrate_pb']\n",
    "    return df_sum_conc"
   ]
  },
  {
   "cell_type": "code",
   "execution_count": 39,
   "metadata": {},
   "outputs": [],
   "source": [
    "df_sum_conc = sum_concentrate(df_train)"
   ]
  },
  {
   "cell_type": "code",
   "execution_count": 40,
   "metadata": {},
   "outputs": [],
   "source": [
    "def graph_concentrate(df_sum_conc):\n",
    "\n",
    "    plt.figure(figsize=figsize)\n",
    "\n",
    "    sns.histplot(df_sum_conc['rougher_input'], label='rougher_input').set_title(\n",
    "        'rougher_input')\n",
    "    sns.histplot(df_sum_conc['rougher_output'],\n",
    "                 label='rougher_output', color='y')\n",
    "    sns.histplot(df_sum_conc['primary_output'],\n",
    "                 label='primary_output', color='g')\n",
    "    sns.histplot(df_sum_conc['final_output'],\n",
    "                 label='final_output', color='r')\n",
    "\n",
    "    plt.legend()"
   ]
  },
  {
   "cell_type": "code",
   "execution_count": 41,
   "metadata": {},
   "outputs": [
    {
     "data": {
      "image/png": "[encoded data removed]",
      "text/plain": [
       "<Figure size 720x504 with 1 Axes>"
      ]
     },
     "metadata": {
      "needs_background": "light"
     },
     "output_type": "display_data"
    }
   ],
   "source": [
    "graph_concentrate(df_sum_conc)"
   ]
  },
  {
   "cell_type": "markdown",
   "metadata": {},
   "source": [
    "Видим нулевые значения концентрации, удалим их по всем колонкам с концентрациями.\n",
    "\n",
    "Поставим фильтр, который будет больше 0.1, т.к. имеются значения, которые попали в интервал [0, 0.1]"
   ]
  },
  {
   "cell_type": "code",
   "execution_count": 42,
   "metadata": {},
   "outputs": [
    {
     "data": {
      "text/html": [
       "<div>\n",
       "<style scoped>\n",
       "    .dataframe tbody tr th:only-of-type {\n",
       "        vertical-align: middle;\n",
       "    }\n",
       "\n",
       "    .dataframe tbody tr th {\n",
       "        vertical-align: top;\n",
       "    }\n",
       "\n",
       "    .dataframe thead th {\n",
       "        text-align: right;\n",
       "    }\n",
       "</style>\n",
       "<table border=\"1\" class=\"dataframe\">\n",
       "  <thead>\n",
       "    <tr style=\"text-align: right;\">\n",
       "      <th></th>\n",
       "      <th>date</th>\n",
       "      <th>final.output.concentrate_ag</th>\n",
       "      <th>final.output.concentrate_pb</th>\n",
       "      <th>final.output.concentrate_sol</th>\n",
       "      <th>final.output.concentrate_au</th>\n",
       "      <th>final.output.recovery</th>\n",
       "      <th>final.output.tail_ag</th>\n",
       "      <th>final.output.tail_pb</th>\n",
       "      <th>final.output.tail_sol</th>\n",
       "      <th>final.output.tail_au</th>\n",
       "      <th>...</th>\n",
       "      <th>secondary_cleaner.state.floatbank4_a_level</th>\n",
       "      <th>secondary_cleaner.state.floatbank4_b_air</th>\n",
       "      <th>secondary_cleaner.state.floatbank4_b_level</th>\n",
       "      <th>secondary_cleaner.state.floatbank5_a_air</th>\n",
       "      <th>secondary_cleaner.state.floatbank5_a_level</th>\n",
       "      <th>secondary_cleaner.state.floatbank5_b_air</th>\n",
       "      <th>secondary_cleaner.state.floatbank5_b_level</th>\n",
       "      <th>secondary_cleaner.state.floatbank6_a_air</th>\n",
       "      <th>secondary_cleaner.state.floatbank6_a_level</th>\n",
       "      <th>my_rougher_recovery</th>\n",
       "    </tr>\n",
       "  </thead>\n",
       "  <tbody>\n",
       "  </tbody>\n",
       "</table>\n",
       "<p>0 rows × 88 columns</p>\n",
       "</div>"
      ],
      "text/plain": [
       "Empty DataFrame\n",
       "Columns: [date, final.output.concentrate_ag, final.output.concentrate_pb, final.output.concentrate_sol, final.output.concentrate_au, final.output.recovery, final.output.tail_ag, final.output.tail_pb, final.output.tail_sol, final.output.tail_au, primary_cleaner.input.sulfate, primary_cleaner.input.depressant, primary_cleaner.input.feed_size, primary_cleaner.input.xanthate, primary_cleaner.output.concentrate_ag, primary_cleaner.output.concentrate_pb, primary_cleaner.output.concentrate_sol, primary_cleaner.output.concentrate_au, primary_cleaner.output.tail_ag, primary_cleaner.output.tail_pb, primary_cleaner.output.tail_sol, primary_cleaner.output.tail_au, primary_cleaner.state.floatbank8_a_air, primary_cleaner.state.floatbank8_a_level, primary_cleaner.state.floatbank8_b_air, primary_cleaner.state.floatbank8_b_level, primary_cleaner.state.floatbank8_c_air, primary_cleaner.state.floatbank8_c_level, primary_cleaner.state.floatbank8_d_air, primary_cleaner.state.floatbank8_d_level, rougher.calculation.sulfate_to_au_concentrate, rougher.calculation.floatbank10_sulfate_to_au_feed, rougher.calculation.floatbank11_sulfate_to_au_feed, rougher.calculation.au_pb_ratio, rougher.input.feed_ag, rougher.input.feed_pb, rougher.input.feed_rate, rougher.input.feed_size, rougher.input.feed_sol, rougher.input.feed_au, rougher.input.floatbank10_sulfate, rougher.input.floatbank10_xanthate, rougher.input.floatbank11_sulfate, rougher.input.floatbank11_xanthate, rougher.output.concentrate_ag, rougher.output.concentrate_pb, rougher.output.concentrate_sol, rougher.output.concentrate_au, rougher.output.recovery, rougher.output.tail_ag, rougher.output.tail_pb, rougher.output.tail_sol, rougher.output.tail_au, rougher.state.floatbank10_a_air, rougher.state.floatbank10_a_level, rougher.state.floatbank10_b_air, rougher.state.floatbank10_b_level, rougher.state.floatbank10_c_air, rougher.state.floatbank10_c_level, rougher.state.floatbank10_d_air, rougher.state.floatbank10_d_level, rougher.state.floatbank10_e_air, rougher.state.floatbank10_e_level, rougher.state.floatbank10_f_air, rougher.state.floatbank10_f_level, secondary_cleaner.output.tail_ag, secondary_cleaner.output.tail_pb, secondary_cleaner.output.tail_sol, secondary_cleaner.output.tail_au, secondary_cleaner.state.floatbank2_a_air, secondary_cleaner.state.floatbank2_a_level, secondary_cleaner.state.floatbank2_b_air, secondary_cleaner.state.floatbank2_b_level, secondary_cleaner.state.floatbank3_a_air, secondary_cleaner.state.floatbank3_a_level, secondary_cleaner.state.floatbank3_b_air, secondary_cleaner.state.floatbank3_b_level, secondary_cleaner.state.floatbank4_a_air, secondary_cleaner.state.floatbank4_a_level, secondary_cleaner.state.floatbank4_b_air, secondary_cleaner.state.floatbank4_b_level, secondary_cleaner.state.floatbank5_a_air, secondary_cleaner.state.floatbank5_a_level, secondary_cleaner.state.floatbank5_b_air, secondary_cleaner.state.floatbank5_b_level, secondary_cleaner.state.floatbank6_a_air, secondary_cleaner.state.floatbank6_a_level, my_rougher_recovery]\n",
       "Index: []\n",
       "\n",
       "[0 rows x 88 columns]"
      ]
     },
     "execution_count": 42,
     "metadata": {},
     "output_type": "execute_result"
    }
   ],
   "source": [
    "df_train[df_train.isnull().any(1)]"
   ]
  },
  {
   "cell_type": "code",
   "execution_count": 43,
   "metadata": {},
   "outputs": [],
   "source": [
    "df_train = df_train.where((df_train['rougher.input.feed_au'] > 0.1) & (\n",
    "    df_train['rougher.input.feed_ag'] > 0.1) & (df_train['rougher.input.feed_pb'] > 0.1))\n",
    "\n",
    "df_train = df_train.where((df_train['rougher.output.concentrate_au'] > 0.1) & (\n",
    "    df_train['rougher.output.concentrate_ag'] > 0.1) & (df_train['rougher.output.concentrate_pb'] > 0.1))\n",
    "\n",
    "df_train = df_train.where((df_train['primary_cleaner.output.concentrate_au'] > 0.1) & (\n",
    "    df_train['primary_cleaner.output.concentrate_ag'] > 0.1) & (df_train['primary_cleaner.output.concentrate_pb'] > 0.1))\n",
    "\n",
    "df_train = df_train.where((df_train['final.output.concentrate_au'] > 0.1) & (\n",
    "    df_train['final.output.concentrate_ag'] > 0.1) & (df_train['final.output.concentrate_pb'] > 0.1))"
   ]
  },
  {
   "cell_type": "code",
   "execution_count": 44,
   "metadata": {},
   "outputs": [],
   "source": [
    "df_train = df_train.reset_index(drop=True)"
   ]
  },
  {
   "cell_type": "code",
   "execution_count": 45,
   "metadata": {},
   "outputs": [
    {
     "data": {
      "text/html": [
       "<div>\n",
       "<style scoped>\n",
       "    .dataframe tbody tr th:only-of-type {\n",
       "        vertical-align: middle;\n",
       "    }\n",
       "\n",
       "    .dataframe tbody tr th {\n",
       "        vertical-align: top;\n",
       "    }\n",
       "\n",
       "    .dataframe thead th {\n",
       "        text-align: right;\n",
       "    }\n",
       "</style>\n",
       "<table border=\"1\" class=\"dataframe\">\n",
       "  <thead>\n",
       "    <tr style=\"text-align: right;\">\n",
       "      <th></th>\n",
       "      <th>date</th>\n",
       "      <th>final.output.concentrate_ag</th>\n",
       "      <th>final.output.concentrate_pb</th>\n",
       "      <th>final.output.concentrate_sol</th>\n",
       "      <th>final.output.concentrate_au</th>\n",
       "      <th>final.output.recovery</th>\n",
       "      <th>final.output.tail_ag</th>\n",
       "      <th>final.output.tail_pb</th>\n",
       "      <th>final.output.tail_sol</th>\n",
       "      <th>final.output.tail_au</th>\n",
       "      <th>...</th>\n",
       "      <th>secondary_cleaner.state.floatbank4_a_level</th>\n",
       "      <th>secondary_cleaner.state.floatbank4_b_air</th>\n",
       "      <th>secondary_cleaner.state.floatbank4_b_level</th>\n",
       "      <th>secondary_cleaner.state.floatbank5_a_air</th>\n",
       "      <th>secondary_cleaner.state.floatbank5_a_level</th>\n",
       "      <th>secondary_cleaner.state.floatbank5_b_air</th>\n",
       "      <th>secondary_cleaner.state.floatbank5_b_level</th>\n",
       "      <th>secondary_cleaner.state.floatbank6_a_air</th>\n",
       "      <th>secondary_cleaner.state.floatbank6_a_level</th>\n",
       "      <th>my_rougher_recovery</th>\n",
       "    </tr>\n",
       "  </thead>\n",
       "  <tbody>\n",
       "    <tr>\n",
       "      <th>0</th>\n",
       "      <td>2016-01-15 00:00:00</td>\n",
       "      <td>6.055403</td>\n",
       "      <td>9.889648</td>\n",
       "      <td>5.507324</td>\n",
       "      <td>42.192020</td>\n",
       "      <td>70.541216</td>\n",
       "      <td>10.411962</td>\n",
       "      <td>0.895447</td>\n",
       "      <td>16.904297</td>\n",
       "      <td>2.143149</td>\n",
       "      <td>...</td>\n",
       "      <td>-502.488007</td>\n",
       "      <td>12.099931</td>\n",
       "      <td>-504.715942</td>\n",
       "      <td>9.925633</td>\n",
       "      <td>-498.310211</td>\n",
       "      <td>8.079666</td>\n",
       "      <td>-500.470978</td>\n",
       "      <td>14.151341</td>\n",
       "      <td>-605.841980</td>\n",
       "      <td>87.107763</td>\n",
       "    </tr>\n",
       "    <tr>\n",
       "      <th>1</th>\n",
       "      <td>2016-01-15 01:00:00</td>\n",
       "      <td>6.029369</td>\n",
       "      <td>9.968944</td>\n",
       "      <td>5.257781</td>\n",
       "      <td>42.701629</td>\n",
       "      <td>69.266198</td>\n",
       "      <td>10.462676</td>\n",
       "      <td>0.927452</td>\n",
       "      <td>16.634514</td>\n",
       "      <td>2.224930</td>\n",
       "      <td>...</td>\n",
       "      <td>-505.503262</td>\n",
       "      <td>11.950531</td>\n",
       "      <td>-501.331529</td>\n",
       "      <td>10.039245</td>\n",
       "      <td>-500.169983</td>\n",
       "      <td>7.984757</td>\n",
       "      <td>-500.582168</td>\n",
       "      <td>13.998353</td>\n",
       "      <td>-599.787184</td>\n",
       "      <td>86.843261</td>\n",
       "    </tr>\n",
       "    <tr>\n",
       "      <th>2</th>\n",
       "      <td>2016-01-15 02:00:00</td>\n",
       "      <td>6.055926</td>\n",
       "      <td>10.213995</td>\n",
       "      <td>5.383759</td>\n",
       "      <td>42.657501</td>\n",
       "      <td>68.116445</td>\n",
       "      <td>10.507046</td>\n",
       "      <td>0.953716</td>\n",
       "      <td>16.208849</td>\n",
       "      <td>2.257889</td>\n",
       "      <td>...</td>\n",
       "      <td>-502.520901</td>\n",
       "      <td>11.912783</td>\n",
       "      <td>-501.133383</td>\n",
       "      <td>10.070913</td>\n",
       "      <td>-500.129135</td>\n",
       "      <td>8.013877</td>\n",
       "      <td>-500.517572</td>\n",
       "      <td>14.028663</td>\n",
       "      <td>-601.427363</td>\n",
       "      <td>86.842308</td>\n",
       "    </tr>\n",
       "    <tr>\n",
       "      <th>3</th>\n",
       "      <td>2016-01-15 03:00:00</td>\n",
       "      <td>6.047977</td>\n",
       "      <td>9.977019</td>\n",
       "      <td>4.858634</td>\n",
       "      <td>42.689819</td>\n",
       "      <td>68.347543</td>\n",
       "      <td>10.422762</td>\n",
       "      <td>0.883763</td>\n",
       "      <td>16.532835</td>\n",
       "      <td>2.146849</td>\n",
       "      <td>...</td>\n",
       "      <td>-500.857308</td>\n",
       "      <td>11.999550</td>\n",
       "      <td>-501.193686</td>\n",
       "      <td>9.970366</td>\n",
       "      <td>-499.201640</td>\n",
       "      <td>7.977324</td>\n",
       "      <td>-500.255908</td>\n",
       "      <td>14.005551</td>\n",
       "      <td>-599.996129</td>\n",
       "      <td>87.226430</td>\n",
       "    </tr>\n",
       "    <tr>\n",
       "      <th>4</th>\n",
       "      <td>2016-01-15 04:00:00</td>\n",
       "      <td>6.148599</td>\n",
       "      <td>10.142511</td>\n",
       "      <td>4.939416</td>\n",
       "      <td>42.774141</td>\n",
       "      <td>66.927016</td>\n",
       "      <td>10.360302</td>\n",
       "      <td>0.792826</td>\n",
       "      <td>16.525686</td>\n",
       "      <td>2.055292</td>\n",
       "      <td>...</td>\n",
       "      <td>-499.838632</td>\n",
       "      <td>11.953070</td>\n",
       "      <td>-501.053894</td>\n",
       "      <td>9.925709</td>\n",
       "      <td>-501.686727</td>\n",
       "      <td>7.894242</td>\n",
       "      <td>-500.356035</td>\n",
       "      <td>13.996647</td>\n",
       "      <td>-601.496691</td>\n",
       "      <td>86.688794</td>\n",
       "    </tr>\n",
       "  </tbody>\n",
       "</table>\n",
       "<p>5 rows × 88 columns</p>\n",
       "</div>"
      ],
      "text/plain": [
       "                  date  final.output.concentrate_ag  \\\n",
       "0  2016-01-15 00:00:00                     6.055403   \n",
       "1  2016-01-15 01:00:00                     6.029369   \n",
       "2  2016-01-15 02:00:00                     6.055926   \n",
       "3  2016-01-15 03:00:00                     6.047977   \n",
       "4  2016-01-15 04:00:00                     6.148599   \n",
       "\n",
       "   final.output.concentrate_pb  final.output.concentrate_sol  \\\n",
       "0                     9.889648                      5.507324   \n",
       "1                     9.968944                      5.257781   \n",
       "2                    10.213995                      5.383759   \n",
       "3                     9.977019                      4.858634   \n",
       "4                    10.142511                      4.939416   \n",
       "\n",
       "   final.output.concentrate_au  final.output.recovery  final.output.tail_ag  \\\n",
       "0                    42.192020              70.541216             10.411962   \n",
       "1                    42.701629              69.266198             10.462676   \n",
       "2                    42.657501              68.116445             10.507046   \n",
       "3                    42.689819              68.347543             10.422762   \n",
       "4                    42.774141              66.927016             10.360302   \n",
       "\n",
       "   final.output.tail_pb  final.output.tail_sol  final.output.tail_au  ...  \\\n",
       "0              0.895447              16.904297              2.143149  ...   \n",
       "1              0.927452              16.634514              2.224930  ...   \n",
       "2              0.953716              16.208849              2.257889  ...   \n",
       "3              0.883763              16.532835              2.146849  ...   \n",
       "4              0.792826              16.525686              2.055292  ...   \n",
       "\n",
       "   secondary_cleaner.state.floatbank4_a_level  \\\n",
       "0                                 -502.488007   \n",
       "1                                 -505.503262   \n",
       "2                                 -502.520901   \n",
       "3                                 -500.857308   \n",
       "4                                 -499.838632   \n",
       "\n",
       "   secondary_cleaner.state.floatbank4_b_air  \\\n",
       "0                                 12.099931   \n",
       "1                                 11.950531   \n",
       "2                                 11.912783   \n",
       "3                                 11.999550   \n",
       "4                                 11.953070   \n",
       "\n",
       "   secondary_cleaner.state.floatbank4_b_level  \\\n",
       "0                                 -504.715942   \n",
       "1                                 -501.331529   \n",
       "2                                 -501.133383   \n",
       "3                                 -501.193686   \n",
       "4                                 -501.053894   \n",
       "\n",
       "   secondary_cleaner.state.floatbank5_a_air  \\\n",
       "0                                  9.925633   \n",
       "1                                 10.039245   \n",
       "2                                 10.070913   \n",
       "3                                  9.970366   \n",
       "4                                  9.925709   \n",
       "\n",
       "   secondary_cleaner.state.floatbank5_a_level  \\\n",
       "0                                 -498.310211   \n",
       "1                                 -500.169983   \n",
       "2                                 -500.129135   \n",
       "3                                 -499.201640   \n",
       "4                                 -501.686727   \n",
       "\n",
       "   secondary_cleaner.state.floatbank5_b_air  \\\n",
       "0                                  8.079666   \n",
       "1                                  7.984757   \n",
       "2                                  8.013877   \n",
       "3                                  7.977324   \n",
       "4                                  7.894242   \n",
       "\n",
       "   secondary_cleaner.state.floatbank5_b_level  \\\n",
       "0                                 -500.470978   \n",
       "1                                 -500.582168   \n",
       "2                                 -500.517572   \n",
       "3                                 -500.255908   \n",
       "4                                 -500.356035   \n",
       "\n",
       "   secondary_cleaner.state.floatbank6_a_air  \\\n",
       "0                                 14.151341   \n",
       "1                                 13.998353   \n",
       "2                                 14.028663   \n",
       "3                                 14.005551   \n",
       "4                                 13.996647   \n",
       "\n",
       "   secondary_cleaner.state.floatbank6_a_level  my_rougher_recovery  \n",
       "0                                 -605.841980            87.107763  \n",
       "1                                 -599.787184            86.843261  \n",
       "2                                 -601.427363            86.842308  \n",
       "3                                 -599.996129            87.226430  \n",
       "4                                 -601.496691            86.688794  \n",
       "\n",
       "[5 rows x 88 columns]"
      ]
     },
     "execution_count": 45,
     "metadata": {},
     "output_type": "execute_result"
    }
   ],
   "source": [
    "df_train.head()"
   ]
  },
  {
   "cell_type": "code",
   "execution_count": 46,
   "metadata": {},
   "outputs": [
    {
     "data": {
      "text/html": [
       "<div>\n",
       "<style scoped>\n",
       "    .dataframe tbody tr th:only-of-type {\n",
       "        vertical-align: middle;\n",
       "    }\n",
       "\n",
       "    .dataframe tbody tr th {\n",
       "        vertical-align: top;\n",
       "    }\n",
       "\n",
       "    .dataframe thead th {\n",
       "        text-align: right;\n",
       "    }\n",
       "</style>\n",
       "<table border=\"1\" class=\"dataframe\">\n",
       "  <thead>\n",
       "    <tr style=\"text-align: right;\">\n",
       "      <th></th>\n",
       "      <th>date</th>\n",
       "      <th>final.output.concentrate_ag</th>\n",
       "      <th>final.output.concentrate_pb</th>\n",
       "      <th>final.output.concentrate_sol</th>\n",
       "      <th>final.output.concentrate_au</th>\n",
       "      <th>final.output.recovery</th>\n",
       "      <th>final.output.tail_ag</th>\n",
       "      <th>final.output.tail_pb</th>\n",
       "      <th>final.output.tail_sol</th>\n",
       "      <th>final.output.tail_au</th>\n",
       "      <th>...</th>\n",
       "      <th>secondary_cleaner.state.floatbank4_a_level</th>\n",
       "      <th>secondary_cleaner.state.floatbank4_b_air</th>\n",
       "      <th>secondary_cleaner.state.floatbank4_b_level</th>\n",
       "      <th>secondary_cleaner.state.floatbank5_a_air</th>\n",
       "      <th>secondary_cleaner.state.floatbank5_a_level</th>\n",
       "      <th>secondary_cleaner.state.floatbank5_b_air</th>\n",
       "      <th>secondary_cleaner.state.floatbank5_b_level</th>\n",
       "      <th>secondary_cleaner.state.floatbank6_a_air</th>\n",
       "      <th>secondary_cleaner.state.floatbank6_a_level</th>\n",
       "      <th>my_rougher_recovery</th>\n",
       "    </tr>\n",
       "  </thead>\n",
       "  <tbody>\n",
       "    <tr>\n",
       "      <th>19</th>\n",
       "      <td>NaN</td>\n",
       "      <td>NaN</td>\n",
       "      <td>NaN</td>\n",
       "      <td>NaN</td>\n",
       "      <td>NaN</td>\n",
       "      <td>NaN</td>\n",
       "      <td>NaN</td>\n",
       "      <td>NaN</td>\n",
       "      <td>NaN</td>\n",
       "      <td>NaN</td>\n",
       "      <td>...</td>\n",
       "      <td>NaN</td>\n",
       "      <td>NaN</td>\n",
       "      <td>NaN</td>\n",
       "      <td>NaN</td>\n",
       "      <td>NaN</td>\n",
       "      <td>NaN</td>\n",
       "      <td>NaN</td>\n",
       "      <td>NaN</td>\n",
       "      <td>NaN</td>\n",
       "      <td>NaN</td>\n",
       "    </tr>\n",
       "    <tr>\n",
       "      <th>22</th>\n",
       "      <td>NaN</td>\n",
       "      <td>NaN</td>\n",
       "      <td>NaN</td>\n",
       "      <td>NaN</td>\n",
       "      <td>NaN</td>\n",
       "      <td>NaN</td>\n",
       "      <td>NaN</td>\n",
       "      <td>NaN</td>\n",
       "      <td>NaN</td>\n",
       "      <td>NaN</td>\n",
       "      <td>...</td>\n",
       "      <td>NaN</td>\n",
       "      <td>NaN</td>\n",
       "      <td>NaN</td>\n",
       "      <td>NaN</td>\n",
       "      <td>NaN</td>\n",
       "      <td>NaN</td>\n",
       "      <td>NaN</td>\n",
       "      <td>NaN</td>\n",
       "      <td>NaN</td>\n",
       "      <td>NaN</td>\n",
       "    </tr>\n",
       "    <tr>\n",
       "      <th>30</th>\n",
       "      <td>NaN</td>\n",
       "      <td>NaN</td>\n",
       "      <td>NaN</td>\n",
       "      <td>NaN</td>\n",
       "      <td>NaN</td>\n",
       "      <td>NaN</td>\n",
       "      <td>NaN</td>\n",
       "      <td>NaN</td>\n",
       "      <td>NaN</td>\n",
       "      <td>NaN</td>\n",
       "      <td>...</td>\n",
       "      <td>NaN</td>\n",
       "      <td>NaN</td>\n",
       "      <td>NaN</td>\n",
       "      <td>NaN</td>\n",
       "      <td>NaN</td>\n",
       "      <td>NaN</td>\n",
       "      <td>NaN</td>\n",
       "      <td>NaN</td>\n",
       "      <td>NaN</td>\n",
       "      <td>NaN</td>\n",
       "    </tr>\n",
       "    <tr>\n",
       "      <th>45</th>\n",
       "      <td>NaN</td>\n",
       "      <td>NaN</td>\n",
       "      <td>NaN</td>\n",
       "      <td>NaN</td>\n",
       "      <td>NaN</td>\n",
       "      <td>NaN</td>\n",
       "      <td>NaN</td>\n",
       "      <td>NaN</td>\n",
       "      <td>NaN</td>\n",
       "      <td>NaN</td>\n",
       "      <td>...</td>\n",
       "      <td>NaN</td>\n",
       "      <td>NaN</td>\n",
       "      <td>NaN</td>\n",
       "      <td>NaN</td>\n",
       "      <td>NaN</td>\n",
       "      <td>NaN</td>\n",
       "      <td>NaN</td>\n",
       "      <td>NaN</td>\n",
       "      <td>NaN</td>\n",
       "      <td>NaN</td>\n",
       "    </tr>\n",
       "    <tr>\n",
       "      <th>46</th>\n",
       "      <td>NaN</td>\n",
       "      <td>NaN</td>\n",
       "      <td>NaN</td>\n",
       "      <td>NaN</td>\n",
       "      <td>NaN</td>\n",
       "      <td>NaN</td>\n",
       "      <td>NaN</td>\n",
       "      <td>NaN</td>\n",
       "      <td>NaN</td>\n",
       "      <td>NaN</td>\n",
       "      <td>...</td>\n",
       "      <td>NaN</td>\n",
       "      <td>NaN</td>\n",
       "      <td>NaN</td>\n",
       "      <td>NaN</td>\n",
       "      <td>NaN</td>\n",
       "      <td>NaN</td>\n",
       "      <td>NaN</td>\n",
       "      <td>NaN</td>\n",
       "      <td>NaN</td>\n",
       "      <td>NaN</td>\n",
       "    </tr>\n",
       "  </tbody>\n",
       "</table>\n",
       "<p>5 rows × 88 columns</p>\n",
       "</div>"
      ],
      "text/plain": [
       "   date  final.output.concentrate_ag  final.output.concentrate_pb  \\\n",
       "19  NaN                          NaN                          NaN   \n",
       "22  NaN                          NaN                          NaN   \n",
       "30  NaN                          NaN                          NaN   \n",
       "45  NaN                          NaN                          NaN   \n",
       "46  NaN                          NaN                          NaN   \n",
       "\n",
       "    final.output.concentrate_sol  final.output.concentrate_au  \\\n",
       "19                           NaN                          NaN   \n",
       "22                           NaN                          NaN   \n",
       "30                           NaN                          NaN   \n",
       "45                           NaN                          NaN   \n",
       "46                           NaN                          NaN   \n",
       "\n",
       "    final.output.recovery  final.output.tail_ag  final.output.tail_pb  \\\n",
       "19                    NaN                   NaN                   NaN   \n",
       "22                    NaN                   NaN                   NaN   \n",
       "30                    NaN                   NaN                   NaN   \n",
       "45                    NaN                   NaN                   NaN   \n",
       "46                    NaN                   NaN                   NaN   \n",
       "\n",
       "    final.output.tail_sol  final.output.tail_au  ...  \\\n",
       "19                    NaN                   NaN  ...   \n",
       "22                    NaN                   NaN  ...   \n",
       "30                    NaN                   NaN  ...   \n",
       "45                    NaN                   NaN  ...   \n",
       "46                    NaN                   NaN  ...   \n",
       "\n",
       "    secondary_cleaner.state.floatbank4_a_level  \\\n",
       "19                                         NaN   \n",
       "22                                         NaN   \n",
       "30                                         NaN   \n",
       "45                                         NaN   \n",
       "46                                         NaN   \n",
       "\n",
       "    secondary_cleaner.state.floatbank4_b_air  \\\n",
       "19                                       NaN   \n",
       "22                                       NaN   \n",
       "30                                       NaN   \n",
       "45                                       NaN   \n",
       "46                                       NaN   \n",
       "\n",
       "    secondary_cleaner.state.floatbank4_b_level  \\\n",
       "19                                         NaN   \n",
       "22                                         NaN   \n",
       "30                                         NaN   \n",
       "45                                         NaN   \n",
       "46                                         NaN   \n",
       "\n",
       "    secondary_cleaner.state.floatbank5_a_air  \\\n",
       "19                                       NaN   \n",
       "22                                       NaN   \n",
       "30                                       NaN   \n",
       "45                                       NaN   \n",
       "46                                       NaN   \n",
       "\n",
       "    secondary_cleaner.state.floatbank5_a_level  \\\n",
       "19                                         NaN   \n",
       "22                                         NaN   \n",
       "30                                         NaN   \n",
       "45                                         NaN   \n",
       "46                                         NaN   \n",
       "\n",
       "    secondary_cleaner.state.floatbank5_b_air  \\\n",
       "19                                       NaN   \n",
       "22                                       NaN   \n",
       "30                                       NaN   \n",
       "45                                       NaN   \n",
       "46                                       NaN   \n",
       "\n",
       "    secondary_cleaner.state.floatbank5_b_level  \\\n",
       "19                                         NaN   \n",
       "22                                         NaN   \n",
       "30                                         NaN   \n",
       "45                                         NaN   \n",
       "46                                         NaN   \n",
       "\n",
       "    secondary_cleaner.state.floatbank6_a_air  \\\n",
       "19                                       NaN   \n",
       "22                                       NaN   \n",
       "30                                       NaN   \n",
       "45                                       NaN   \n",
       "46                                       NaN   \n",
       "\n",
       "    secondary_cleaner.state.floatbank6_a_level  my_rougher_recovery  \n",
       "19                                         NaN                  NaN  \n",
       "22                                         NaN                  NaN  \n",
       "30                                         NaN                  NaN  \n",
       "45                                         NaN                  NaN  \n",
       "46                                         NaN                  NaN  \n",
       "\n",
       "[5 rows x 88 columns]"
      ]
     },
     "execution_count": 46,
     "metadata": {},
     "output_type": "execute_result"
    }
   ],
   "source": [
    "df_train[df_train.isnull().any(1)].head()"
   ]
  },
  {
   "cell_type": "markdown",
   "metadata": {},
   "source": [
    "Удалим образовавшиеся NaN значения"
   ]
  },
  {
   "cell_type": "code",
   "execution_count": 47,
   "metadata": {},
   "outputs": [],
   "source": [
    "df_train = df_train.dropna()"
   ]
  },
  {
   "cell_type": "code",
   "execution_count": 48,
   "metadata": {},
   "outputs": [
    {
     "data": {
      "image/png": "[encoded data removed]",
      "text/plain": [
       "<Figure size 720x504 with 1 Axes>"
      ]
     },
     "metadata": {
      "needs_background": "light"
     },
     "output_type": "display_data"
    }
   ],
   "source": [
    "df_sum_conc = sum_concentrate(df_train)\n",
    "graph_concentrate(df_sum_conc)"
   ]
  },
  {
   "cell_type": "markdown",
   "metadata": {},
   "source": [
    "Теперь наблюдаем нормальные распределения по разным концентратам без выбросов"
   ]
  },
  {
   "cell_type": "markdown",
   "metadata": {},
   "source": [
    "## Модель"
   ]
  },
  {
   "cell_type": "markdown",
   "metadata": {},
   "source": [
    "### Напишем функцию для вычисления итоговой sMAPE"
   ]
  },
  {
   "cell_type": "code",
   "execution_count": 49,
   "metadata": {},
   "outputs": [],
   "source": [
    "def smape(y, y_o):\n",
    "    smape_val = (100 * (abs(y - y_o)/((abs(y) + abs(y_o)) / 2))).sum() / len(y)\n",
    "    return smape_val"
   ]
  },
  {
   "cell_type": "code",
   "execution_count": 50,
   "metadata": {},
   "outputs": [],
   "source": [
    "def smape_total(rougher, final):\n",
    "    final_val = (0.25 * rougher) + (0.75 * final)\n",
    "    return final_val"
   ]
  },
  {
   "cell_type": "markdown",
   "metadata": {},
   "source": [
    "### Обучим разные модели и оценим их качество кросс-валидацией. Выберем лучшую модель и проверим её на тестовой выборке"
   ]
  },
  {
   "cell_type": "markdown",
   "metadata": {},
   "source": [
    "Нужно спрогнозировать сразу две величины:\n",
    "    \n",
    "Эффективность обогащения чернового концентрата **rougher.output.recovery**\n",
    "\n",
    "Эффективность обогащения финального концентрата **final.output.recovery**"
   ]
  },
  {
   "cell_type": "markdown",
   "metadata": {},
   "source": [
    "Оставим в обучающем датафрейме только те данные, которые есть и в тестовом "
   ]
  },
  {
   "cell_type": "code",
   "execution_count": 51,
   "metadata": {},
   "outputs": [],
   "source": [
    "test_columns = df_test.columns\n",
    "df_train = df_train[test_columns]"
   ]
  },
  {
   "cell_type": "code",
   "execution_count": 52,
   "metadata": {},
   "outputs": [
    {
     "data": {
      "text/html": [
       "<div>\n",
       "<style scoped>\n",
       "    .dataframe tbody tr th:only-of-type {\n",
       "        vertical-align: middle;\n",
       "    }\n",
       "\n",
       "    .dataframe tbody tr th {\n",
       "        vertical-align: top;\n",
       "    }\n",
       "\n",
       "    .dataframe thead th {\n",
       "        text-align: right;\n",
       "    }\n",
       "</style>\n",
       "<table border=\"1\" class=\"dataframe\">\n",
       "  <thead>\n",
       "    <tr style=\"text-align: right;\">\n",
       "      <th></th>\n",
       "      <th>date</th>\n",
       "      <th>primary_cleaner.input.sulfate</th>\n",
       "      <th>primary_cleaner.input.depressant</th>\n",
       "      <th>primary_cleaner.input.feed_size</th>\n",
       "      <th>primary_cleaner.input.xanthate</th>\n",
       "      <th>primary_cleaner.state.floatbank8_a_air</th>\n",
       "      <th>primary_cleaner.state.floatbank8_a_level</th>\n",
       "      <th>primary_cleaner.state.floatbank8_b_air</th>\n",
       "      <th>primary_cleaner.state.floatbank8_b_level</th>\n",
       "      <th>primary_cleaner.state.floatbank8_c_air</th>\n",
       "      <th>...</th>\n",
       "      <th>secondary_cleaner.state.floatbank4_b_air</th>\n",
       "      <th>secondary_cleaner.state.floatbank4_b_level</th>\n",
       "      <th>secondary_cleaner.state.floatbank5_a_air</th>\n",
       "      <th>secondary_cleaner.state.floatbank5_a_level</th>\n",
       "      <th>secondary_cleaner.state.floatbank5_b_air</th>\n",
       "      <th>secondary_cleaner.state.floatbank5_b_level</th>\n",
       "      <th>secondary_cleaner.state.floatbank6_a_air</th>\n",
       "      <th>secondary_cleaner.state.floatbank6_a_level</th>\n",
       "      <th>rougher.output.recovery</th>\n",
       "      <th>final.output.recovery</th>\n",
       "    </tr>\n",
       "  </thead>\n",
       "  <tbody>\n",
       "  </tbody>\n",
       "</table>\n",
       "<p>0 rows × 55 columns</p>\n",
       "</div>"
      ],
      "text/plain": [
       "Empty DataFrame\n",
       "Columns: [date, primary_cleaner.input.sulfate, primary_cleaner.input.depressant, primary_cleaner.input.feed_size, primary_cleaner.input.xanthate, primary_cleaner.state.floatbank8_a_air, primary_cleaner.state.floatbank8_a_level, primary_cleaner.state.floatbank8_b_air, primary_cleaner.state.floatbank8_b_level, primary_cleaner.state.floatbank8_c_air, primary_cleaner.state.floatbank8_c_level, primary_cleaner.state.floatbank8_d_air, primary_cleaner.state.floatbank8_d_level, rougher.input.feed_ag, rougher.input.feed_pb, rougher.input.feed_rate, rougher.input.feed_size, rougher.input.feed_sol, rougher.input.feed_au, rougher.input.floatbank10_sulfate, rougher.input.floatbank10_xanthate, rougher.input.floatbank11_sulfate, rougher.input.floatbank11_xanthate, rougher.state.floatbank10_a_air, rougher.state.floatbank10_a_level, rougher.state.floatbank10_b_air, rougher.state.floatbank10_b_level, rougher.state.floatbank10_c_air, rougher.state.floatbank10_c_level, rougher.state.floatbank10_d_air, rougher.state.floatbank10_d_level, rougher.state.floatbank10_e_air, rougher.state.floatbank10_e_level, rougher.state.floatbank10_f_air, rougher.state.floatbank10_f_level, secondary_cleaner.state.floatbank2_a_air, secondary_cleaner.state.floatbank2_a_level, secondary_cleaner.state.floatbank2_b_air, secondary_cleaner.state.floatbank2_b_level, secondary_cleaner.state.floatbank3_a_air, secondary_cleaner.state.floatbank3_a_level, secondary_cleaner.state.floatbank3_b_air, secondary_cleaner.state.floatbank3_b_level, secondary_cleaner.state.floatbank4_a_air, secondary_cleaner.state.floatbank4_a_level, secondary_cleaner.state.floatbank4_b_air, secondary_cleaner.state.floatbank4_b_level, secondary_cleaner.state.floatbank5_a_air, secondary_cleaner.state.floatbank5_a_level, secondary_cleaner.state.floatbank5_b_air, secondary_cleaner.state.floatbank5_b_level, secondary_cleaner.state.floatbank6_a_air, secondary_cleaner.state.floatbank6_a_level, rougher.output.recovery, final.output.recovery]\n",
       "Index: []\n",
       "\n",
       "[0 rows x 55 columns]"
      ]
     },
     "execution_count": 52,
     "metadata": {},
     "output_type": "execute_result"
    }
   ],
   "source": [
    "df_train[df_train.isnull().any(1)]"
   ]
  },
  {
   "cell_type": "code",
   "execution_count": 53,
   "metadata": {},
   "outputs": [
    {
     "name": "stdout",
     "output_type": "stream",
     "text": [
      "(13591, 55)\n",
      "(5290, 55)\n"
     ]
    }
   ],
   "source": [
    "print(df_train.shape)\n",
    "print(df_test.shape)"
   ]
  },
  {
   "cell_type": "markdown",
   "metadata": {},
   "source": [
    "Удалим категориальный столбец date "
   ]
  },
  {
   "cell_type": "code",
   "execution_count": 54,
   "metadata": {},
   "outputs": [],
   "source": [
    "df_train = df_train.drop('date', axis=1)\n",
    "df_test = df_test.drop('date', axis=1)"
   ]
  },
  {
   "cell_type": "markdown",
   "metadata": {},
   "source": [
    "Выделим выборки - признаки и таргеты"
   ]
  },
  {
   "cell_type": "code",
   "execution_count": 55,
   "metadata": {},
   "outputs": [],
   "source": [
    "features_train = df_train.drop(\n",
    "    ['rougher.output.recovery', 'final.output.recovery'], axis=1)\n",
    "\n",
    "target_train = df_train[['rougher.output.recovery',\n",
    "                         'final.output.recovery']]\n",
    "\n",
    "features_test = df_test.drop(\n",
    "    ['rougher.output.recovery', 'final.output.recovery'], axis=1)\n",
    "\n",
    "target_test = df_test[['rougher.output.recovery',\n",
    "                       'final.output.recovery']]"
   ]
  },
  {
   "cell_type": "code",
   "execution_count": 56,
   "metadata": {},
   "outputs": [
    {
     "data": {
      "text/html": [
       "<div>\n",
       "<style scoped>\n",
       "    .dataframe tbody tr th:only-of-type {\n",
       "        vertical-align: middle;\n",
       "    }\n",
       "\n",
       "    .dataframe tbody tr th {\n",
       "        vertical-align: top;\n",
       "    }\n",
       "\n",
       "    .dataframe thead th {\n",
       "        text-align: right;\n",
       "    }\n",
       "</style>\n",
       "<table border=\"1\" class=\"dataframe\">\n",
       "  <thead>\n",
       "    <tr style=\"text-align: right;\">\n",
       "      <th></th>\n",
       "      <th>rougher.output.recovery</th>\n",
       "      <th>final.output.recovery</th>\n",
       "    </tr>\n",
       "  </thead>\n",
       "  <tbody>\n",
       "    <tr>\n",
       "      <th>0</th>\n",
       "      <td>89.993421</td>\n",
       "      <td>70.273583</td>\n",
       "    </tr>\n",
       "    <tr>\n",
       "      <th>1</th>\n",
       "      <td>88.089657</td>\n",
       "      <td>68.910432</td>\n",
       "    </tr>\n",
       "    <tr>\n",
       "      <th>2</th>\n",
       "      <td>88.412756</td>\n",
       "      <td>68.143213</td>\n",
       "    </tr>\n",
       "    <tr>\n",
       "      <th>3</th>\n",
       "      <td>87.360133</td>\n",
       "      <td>67.776393</td>\n",
       "    </tr>\n",
       "    <tr>\n",
       "      <th>4</th>\n",
       "      <td>83.236367</td>\n",
       "      <td>61.467078</td>\n",
       "    </tr>\n",
       "  </tbody>\n",
       "</table>\n",
       "</div>"
      ],
      "text/plain": [
       "   rougher.output.recovery  final.output.recovery\n",
       "0                89.993421              70.273583\n",
       "1                88.089657              68.910432\n",
       "2                88.412756              68.143213\n",
       "3                87.360133              67.776393\n",
       "4                83.236367              61.467078"
      ]
     },
     "execution_count": 56,
     "metadata": {},
     "output_type": "execute_result"
    }
   ],
   "source": [
    "target_test.head()"
   ]
  },
  {
   "cell_type": "code",
   "execution_count": 57,
   "metadata": {},
   "outputs": [
    {
     "name": "stdout",
     "output_type": "stream",
     "text": [
      "(13591, 52)\n",
      "(13591, 2)\n",
      "(5290, 52)\n",
      "(5290, 2)\n"
     ]
    }
   ],
   "source": [
    "print(features_train.shape)\n",
    "print(target_train.shape)\n",
    "print(features_test.shape)\n",
    "print(target_test.shape)"
   ]
  },
  {
   "cell_type": "code",
   "execution_count": 58,
   "metadata": {},
   "outputs": [
    {
     "data": {
      "text/html": [
       "<div>\n",
       "<style scoped>\n",
       "    .dataframe tbody tr th:only-of-type {\n",
       "        vertical-align: middle;\n",
       "    }\n",
       "\n",
       "    .dataframe tbody tr th {\n",
       "        vertical-align: top;\n",
       "    }\n",
       "\n",
       "    .dataframe thead th {\n",
       "        text-align: right;\n",
       "    }\n",
       "</style>\n",
       "<table border=\"1\" class=\"dataframe\">\n",
       "  <thead>\n",
       "    <tr style=\"text-align: right;\">\n",
       "      <th></th>\n",
       "      <th>primary_cleaner.input.sulfate</th>\n",
       "      <th>primary_cleaner.input.depressant</th>\n",
       "      <th>primary_cleaner.input.feed_size</th>\n",
       "      <th>primary_cleaner.input.xanthate</th>\n",
       "      <th>primary_cleaner.state.floatbank8_a_air</th>\n",
       "      <th>primary_cleaner.state.floatbank8_a_level</th>\n",
       "      <th>primary_cleaner.state.floatbank8_b_air</th>\n",
       "      <th>primary_cleaner.state.floatbank8_b_level</th>\n",
       "      <th>primary_cleaner.state.floatbank8_c_air</th>\n",
       "      <th>primary_cleaner.state.floatbank8_c_level</th>\n",
       "      <th>...</th>\n",
       "      <th>secondary_cleaner.state.floatbank4_a_air</th>\n",
       "      <th>secondary_cleaner.state.floatbank4_a_level</th>\n",
       "      <th>secondary_cleaner.state.floatbank4_b_air</th>\n",
       "      <th>secondary_cleaner.state.floatbank4_b_level</th>\n",
       "      <th>secondary_cleaner.state.floatbank5_a_air</th>\n",
       "      <th>secondary_cleaner.state.floatbank5_a_level</th>\n",
       "      <th>secondary_cleaner.state.floatbank5_b_air</th>\n",
       "      <th>secondary_cleaner.state.floatbank5_b_level</th>\n",
       "      <th>secondary_cleaner.state.floatbank6_a_air</th>\n",
       "      <th>secondary_cleaner.state.floatbank6_a_level</th>\n",
       "    </tr>\n",
       "  </thead>\n",
       "  <tbody>\n",
       "  </tbody>\n",
       "</table>\n",
       "<p>0 rows × 52 columns</p>\n",
       "</div>"
      ],
      "text/plain": [
       "Empty DataFrame\n",
       "Columns: [primary_cleaner.input.sulfate, primary_cleaner.input.depressant, primary_cleaner.input.feed_size, primary_cleaner.input.xanthate, primary_cleaner.state.floatbank8_a_air, primary_cleaner.state.floatbank8_a_level, primary_cleaner.state.floatbank8_b_air, primary_cleaner.state.floatbank8_b_level, primary_cleaner.state.floatbank8_c_air, primary_cleaner.state.floatbank8_c_level, primary_cleaner.state.floatbank8_d_air, primary_cleaner.state.floatbank8_d_level, rougher.input.feed_ag, rougher.input.feed_pb, rougher.input.feed_rate, rougher.input.feed_size, rougher.input.feed_sol, rougher.input.feed_au, rougher.input.floatbank10_sulfate, rougher.input.floatbank10_xanthate, rougher.input.floatbank11_sulfate, rougher.input.floatbank11_xanthate, rougher.state.floatbank10_a_air, rougher.state.floatbank10_a_level, rougher.state.floatbank10_b_air, rougher.state.floatbank10_b_level, rougher.state.floatbank10_c_air, rougher.state.floatbank10_c_level, rougher.state.floatbank10_d_air, rougher.state.floatbank10_d_level, rougher.state.floatbank10_e_air, rougher.state.floatbank10_e_level, rougher.state.floatbank10_f_air, rougher.state.floatbank10_f_level, secondary_cleaner.state.floatbank2_a_air, secondary_cleaner.state.floatbank2_a_level, secondary_cleaner.state.floatbank2_b_air, secondary_cleaner.state.floatbank2_b_level, secondary_cleaner.state.floatbank3_a_air, secondary_cleaner.state.floatbank3_a_level, secondary_cleaner.state.floatbank3_b_air, secondary_cleaner.state.floatbank3_b_level, secondary_cleaner.state.floatbank4_a_air, secondary_cleaner.state.floatbank4_a_level, secondary_cleaner.state.floatbank4_b_air, secondary_cleaner.state.floatbank4_b_level, secondary_cleaner.state.floatbank5_a_air, secondary_cleaner.state.floatbank5_a_level, secondary_cleaner.state.floatbank5_b_air, secondary_cleaner.state.floatbank5_b_level, secondary_cleaner.state.floatbank6_a_air, secondary_cleaner.state.floatbank6_a_level]\n",
       "Index: []\n",
       "\n",
       "[0 rows x 52 columns]"
      ]
     },
     "execution_count": 58,
     "metadata": {},
     "output_type": "execute_result"
    }
   ],
   "source": [
    "features_train[features_train.isnull().any(1)]"
   ]
  },
  {
   "cell_type": "markdown",
   "metadata": {},
   "source": [
    "Нормируем признаки"
   ]
  },
  {
   "cell_type": "code",
   "execution_count": 59,
   "metadata": {},
   "outputs": [
    {
     "data": {
      "text/plain": [
       "StandardScaler()"
      ]
     },
     "execution_count": 59,
     "metadata": {},
     "output_type": "execute_result"
    }
   ],
   "source": [
    "scaler = StandardScaler()\n",
    "scaler.fit(features_train)"
   ]
  },
  {
   "cell_type": "code",
   "execution_count": 60,
   "metadata": {},
   "outputs": [],
   "source": [
    "features_train = scaler.transform(features_train)\n",
    "features_test = scaler.transform(features_test)"
   ]
  },
  {
   "cell_type": "code",
   "execution_count": 61,
   "metadata": {},
   "outputs": [],
   "source": [
    "smape_score = make_scorer(smape, greater_is_better=False)"
   ]
  },
  {
   "cell_type": "markdown",
   "metadata": {},
   "source": [
    "Воспользуемся линейной регрессией"
   ]
  },
  {
   "cell_type": "code",
   "execution_count": 62,
   "metadata": {},
   "outputs": [
    {
     "name": "stdout",
     "output_type": "stream",
     "text": [
      "sMAPE itog = -10.08\n"
     ]
    }
   ],
   "source": [
    "model = LinearRegression()\n",
    "scores_rougher = cross_val_score(\n",
    "    model, features_train, target_train['rougher.output.recovery'], cv=5, scoring=smape_score)\n",
    "\n",
    "scores_final = cross_val_score(\n",
    "    model, features_train, target_train['final.output.recovery'], cv=5, scoring=smape_score)\n",
    "\n",
    "\n",
    "score_rougher = scores_rougher.mean()\n",
    "scores_final = scores_final.mean()\n",
    "\n",
    "smape_itog = smape_total(score_rougher, scores_final)\n",
    "\n",
    "print(f'sMAPE itog =', round(smape_itog, 2))"
   ]
  },
  {
   "cell_type": "markdown",
   "metadata": {},
   "source": [
    "Воспользуемся деревом решений, пройдя по разным глубинам"
   ]
  },
  {
   "cell_type": "code",
   "execution_count": 63,
   "metadata": {},
   "outputs": [
    {
     "name": "stdout",
     "output_type": "stream",
     "text": [
      "Depth = 1, sMAPE itog = -9.09\n",
      "Depth = 2, sMAPE itog = -8.73\n",
      "Depth = 3, sMAPE itog = -8.62\n",
      "Depth = 4, sMAPE itog = -9.08\n",
      "Depth = 5, sMAPE itog = -9.5\n",
      "Depth = 6, sMAPE itog = -9.63\n",
      "Depth = 7, sMAPE itog = -10.47\n",
      "Depth = 8, sMAPE itog = -11.51\n",
      "Depth = 9, sMAPE itog = -11.73\n",
      "Depth = 10, sMAPE itog = -13.18\n",
      "Depth = 11, sMAPE itog = -13.41\n",
      "Depth = 12, sMAPE itog = -14.05\n",
      "Depth = 13, sMAPE itog = -14.05\n",
      "Depth = 14, sMAPE itog = -14.49\n",
      "Depth = 15, sMAPE itog = -14.13\n",
      "Depth = 16, sMAPE itog = -14.35\n",
      "Depth = 17, sMAPE itog = -14.41\n",
      "Depth = 18, sMAPE itog = -14.31\n",
      "Depth = 19, sMAPE itog = -14.69\n"
     ]
    }
   ],
   "source": [
    "best_smape_itog = None\n",
    "best_score_rougher = 100\n",
    "best_score_final = 100\n",
    "for depth in range(1, 20, 1):\n",
    "    model = DecisionTreeRegressor(max_depth=depth, random_state=12345)\n",
    "\n",
    "    scores_rougher = cross_val_score(\n",
    "        model, features_train, target_train['rougher.output.recovery'], cv=5, scoring=smape_score)\n",
    "    \n",
    "    scores_final = cross_val_score(\n",
    "        model, features_train, target_train['final.output.recovery'], cv=5, scoring=smape_score)\n",
    "    \n",
    "\n",
    "    score_rougher = scores_rougher.mean()\n",
    "    score_final = scores_final.mean()\n",
    "    \n",
    "    smape_itog = smape_total(score_rougher, score_final)\n",
    "    \n",
    "    print(f'Depth = {depth}, sMAPE itog =', round(smape_itog, 2))\n",
    "\n",
    "    if abs(score_rougher) < abs(best_score_rougher):\n",
    "        best_score_rougher = score_rougher\n",
    "        best_rougher_model = model\n",
    "        best_rougher_depth = depth\n",
    "    if abs(score_final) < abs(best_score_final):\n",
    "        best_score_final = score_final\n",
    "        best_final_model = model\n",
    "        best_final_depth = depth"
   ]
  },
  {
   "cell_type": "markdown",
   "metadata": {},
   "source": [
    "sMAPE при лучших моделях для каждого таргета и глубины дерева:"
   ]
  },
  {
   "cell_type": "code",
   "execution_count": 64,
   "metadata": {},
   "outputs": [
    {
     "name": "stdout",
     "output_type": "stream",
     "text": [
      "-8.62\n",
      "3\n",
      "3\n"
     ]
    }
   ],
   "source": [
    "print(round(smape_total(best_score_rougher, best_score_final), 2))\n",
    "print(best_rougher_depth)\n",
    "print(best_final_depth)"
   ]
  },
  {
   "cell_type": "markdown",
   "metadata": {},
   "source": [
    "Проверим модель на тестовой выборке"
   ]
  },
  {
   "cell_type": "code",
   "execution_count": 65,
   "metadata": {},
   "outputs": [
    {
     "name": "stdout",
     "output_type": "stream",
     "text": [
      "rougher_score = 8.26\n"
     ]
    }
   ],
   "source": [
    "predicted_test = best_rougher_model.fit(features_train, target_train['rougher.output.recovery'])\n",
    "predicted_test= best_rougher_model.predict(features_test)\n",
    "\n",
    "rougher_score = smape(target_test['rougher.output.recovery'], predicted_test)\n",
    "print('rougher_score =', round(rougher_score, 2))"
   ]
  },
  {
   "cell_type": "code",
   "execution_count": 66,
   "metadata": {},
   "outputs": [
    {
     "name": "stdout",
     "output_type": "stream",
     "text": [
      "final_score = 9.98\n"
     ]
    }
   ],
   "source": [
    "predicted_test = best_final_model.fit(features_train, target_train['final.output.recovery'])\n",
    "predicted_test= best_final_model.predict(features_test)\n",
    "\n",
    "final_score = smape(target_test['final.output.recovery'], predicted_test)\n",
    "print('final_score =', round(final_score, 2))"
   ]
  },
  {
   "cell_type": "code",
   "execution_count": 67,
   "metadata": {},
   "outputs": [
    {
     "name": "stdout",
     "output_type": "stream",
     "text": [
      "Итоговое sMAPE на тестовой выборке 9.55\n"
     ]
    }
   ],
   "source": [
    "smape_itog = smape_total(rougher_score, final_score)\n",
    "\n",
    "print('Итоговое sMAPE на тестовой выборке', round(smape_itog, 2))"
   ]
  },
  {
   "cell_type": "markdown",
   "metadata": {},
   "source": [
    "Значение несильно отличается от обучающей выборки. \n",
    "\n",
    "Выбираем две модели DecisionTreeRegressor с глубиной дерева 3, такие модели на обучающей выборке показали результат лучше, чем у линейной регрессии."
   ]
  },
  {
   "cell_type": "markdown",
   "metadata": {},
   "source": [
    "\n",
    "## Чек-лист готовности проекта"
   ]
  },
  {
   "cell_type": "markdown",
   "metadata": {},
   "source": [
    "- [x]  Jupyter Notebook открыт\n",
    "- [x]  Весь код выполняется без ошибок\n",
    "- [x]  Ячейки с кодом расположены в порядке выполнения\n",
    "- [x]  Выполнен шаг 1: данные подготовлены\n",
    "    - [x]  Проверена формула вычисления эффективности обогащения\n",
    "    - [x]  Проанализированы признаки, недоступные в тестовой выборке\n",
    "    - [x]  Проведена предобработка данных\n",
    "- [x]  Выполнен шаг 2: данные проанализированы\n",
    "    - [x]  Исследовано изменение концентрации элементов на каждом этапе\n",
    "    - [x]  Проанализированы распределения размеров гранул на обучающей и тестовой выборках\n",
    "    - [x]  Исследованы суммарные концентрации\n",
    "- [x]  Выполнен шаг 3: построена модель прогнозирования\n",
    "    - [x]  Написана функция для вычисления итогового *sMAPE*\n",
    "    - [x]  Обучено и проверено несколько моделей\n",
    "    - [x]  Выбрана лучшая модель, её качество проверено на тестовой выборке"
   ]
  },
  {
   "cell_type": "code",
   "execution_count": null,
   "metadata": {},
   "outputs": [],
   "source": []
  }
 ],
 "metadata": {
  "ExecuteTimeLog": [
   {
    "duration": 2027,
    "start_time": "2022-03-27T00:26:26.146Z"
   },
   {
    "duration": 7,
    "start_time": "2022-03-27T00:26:28.175Z"
   },
   {
    "duration": 201,
    "start_time": "2022-03-27T00:26:28.184Z"
   },
   {
    "duration": 0,
    "start_time": "2022-03-27T00:26:28.390Z"
   },
   {
    "duration": 0,
    "start_time": "2022-03-27T00:26:28.392Z"
   },
   {
    "duration": 0,
    "start_time": "2022-03-27T00:26:28.394Z"
   },
   {
    "duration": 0,
    "start_time": "2022-03-27T00:26:28.397Z"
   },
   {
    "duration": 0,
    "start_time": "2022-03-27T00:26:28.399Z"
   },
   {
    "duration": 0,
    "start_time": "2022-03-27T00:26:28.401Z"
   },
   {
    "duration": 0,
    "start_time": "2022-03-27T00:26:28.403Z"
   },
   {
    "duration": 0,
    "start_time": "2022-03-27T00:26:28.405Z"
   },
   {
    "duration": 0,
    "start_time": "2022-03-27T00:26:28.407Z"
   },
   {
    "duration": 0,
    "start_time": "2022-03-27T00:26:28.409Z"
   },
   {
    "duration": 0,
    "start_time": "2022-03-27T00:26:28.411Z"
   },
   {
    "duration": 0,
    "start_time": "2022-03-27T00:26:28.413Z"
   },
   {
    "duration": 0,
    "start_time": "2022-03-27T00:26:28.415Z"
   },
   {
    "duration": 0,
    "start_time": "2022-03-27T00:26:28.417Z"
   },
   {
    "duration": 0,
    "start_time": "2022-03-27T00:26:28.419Z"
   },
   {
    "duration": 0,
    "start_time": "2022-03-27T00:26:28.422Z"
   },
   {
    "duration": 0,
    "start_time": "2022-03-27T00:26:28.424Z"
   },
   {
    "duration": 0,
    "start_time": "2022-03-27T00:26:28.425Z"
   },
   {
    "duration": 0,
    "start_time": "2022-03-27T00:26:28.467Z"
   },
   {
    "duration": 0,
    "start_time": "2022-03-27T00:26:28.469Z"
   },
   {
    "duration": 0,
    "start_time": "2022-03-27T00:26:28.471Z"
   },
   {
    "duration": 0,
    "start_time": "2022-03-27T00:26:28.473Z"
   },
   {
    "duration": 0,
    "start_time": "2022-03-27T00:26:28.475Z"
   },
   {
    "duration": 0,
    "start_time": "2022-03-27T00:26:28.477Z"
   },
   {
    "duration": 0,
    "start_time": "2022-03-27T00:26:28.479Z"
   },
   {
    "duration": 0,
    "start_time": "2022-03-27T00:26:28.481Z"
   },
   {
    "duration": 1,
    "start_time": "2022-03-27T00:26:28.482Z"
   },
   {
    "duration": 0,
    "start_time": "2022-03-27T00:26:28.484Z"
   },
   {
    "duration": 1,
    "start_time": "2022-03-27T00:26:28.485Z"
   },
   {
    "duration": 0,
    "start_time": "2022-03-27T00:26:28.487Z"
   },
   {
    "duration": 0,
    "start_time": "2022-03-27T00:26:28.489Z"
   },
   {
    "duration": 0,
    "start_time": "2022-03-27T00:26:28.490Z"
   },
   {
    "duration": 0,
    "start_time": "2022-03-27T00:26:28.492Z"
   },
   {
    "duration": 1,
    "start_time": "2022-03-27T00:26:28.493Z"
   },
   {
    "duration": 0,
    "start_time": "2022-03-27T00:26:28.495Z"
   },
   {
    "duration": 0,
    "start_time": "2022-03-27T00:26:28.497Z"
   },
   {
    "duration": 0,
    "start_time": "2022-03-27T00:26:28.499Z"
   },
   {
    "duration": 0,
    "start_time": "2022-03-27T00:26:28.500Z"
   },
   {
    "duration": 0,
    "start_time": "2022-03-27T00:26:28.502Z"
   },
   {
    "duration": 0,
    "start_time": "2022-03-27T00:26:28.504Z"
   },
   {
    "duration": 0,
    "start_time": "2022-03-27T00:26:28.567Z"
   },
   {
    "duration": 0,
    "start_time": "2022-03-27T00:26:28.569Z"
   },
   {
    "duration": 0,
    "start_time": "2022-03-27T00:26:28.571Z"
   },
   {
    "duration": 0,
    "start_time": "2022-03-27T00:26:28.572Z"
   },
   {
    "duration": 0,
    "start_time": "2022-03-27T00:26:28.574Z"
   },
   {
    "duration": 0,
    "start_time": "2022-03-27T00:26:28.576Z"
   },
   {
    "duration": 0,
    "start_time": "2022-03-27T00:26:28.577Z"
   },
   {
    "duration": 0,
    "start_time": "2022-03-27T00:26:28.579Z"
   },
   {
    "duration": 0,
    "start_time": "2022-03-27T00:26:28.581Z"
   },
   {
    "duration": 0,
    "start_time": "2022-03-27T00:26:28.583Z"
   },
   {
    "duration": 0,
    "start_time": "2022-03-27T00:26:28.584Z"
   },
   {
    "duration": 0,
    "start_time": "2022-03-27T00:26:28.586Z"
   },
   {
    "duration": 0,
    "start_time": "2022-03-27T00:26:28.587Z"
   },
   {
    "duration": 0,
    "start_time": "2022-03-27T00:26:28.588Z"
   },
   {
    "duration": 0,
    "start_time": "2022-03-27T00:26:28.590Z"
   },
   {
    "duration": 0,
    "start_time": "2022-03-27T00:26:28.591Z"
   },
   {
    "duration": 0,
    "start_time": "2022-03-27T00:26:28.592Z"
   },
   {
    "duration": 0,
    "start_time": "2022-03-27T00:26:28.593Z"
   },
   {
    "duration": 0,
    "start_time": "2022-03-27T00:26:28.595Z"
   },
   {
    "duration": 0,
    "start_time": "2022-03-27T00:26:28.596Z"
   },
   {
    "duration": 0,
    "start_time": "2022-03-27T00:26:28.597Z"
   },
   {
    "duration": 0,
    "start_time": "2022-03-27T00:26:28.599Z"
   },
   {
    "duration": 0,
    "start_time": "2022-03-27T00:26:28.600Z"
   },
   {
    "duration": 1834,
    "start_time": "2022-03-27T00:26:51.327Z"
   },
   {
    "duration": 7,
    "start_time": "2022-03-27T00:26:53.163Z"
   },
   {
    "duration": 822,
    "start_time": "2022-03-27T00:26:53.172Z"
   },
   {
    "duration": 35,
    "start_time": "2022-03-27T00:26:53.997Z"
   },
   {
    "duration": 41,
    "start_time": "2022-03-27T00:26:54.034Z"
   },
   {
    "duration": 18,
    "start_time": "2022-03-27T00:26:54.078Z"
   },
   {
    "duration": 23,
    "start_time": "2022-03-27T00:26:54.098Z"
   },
   {
    "duration": 10,
    "start_time": "2022-03-27T00:26:54.124Z"
   },
   {
    "duration": 49,
    "start_time": "2022-03-27T00:26:54.136Z"
   },
   {
    "duration": 6,
    "start_time": "2022-03-27T00:26:54.189Z"
   },
   {
    "duration": 23,
    "start_time": "2022-03-27T00:26:54.197Z"
   },
   {
    "duration": 3,
    "start_time": "2022-03-27T00:26:54.222Z"
   },
   {
    "duration": 42,
    "start_time": "2022-03-27T00:26:54.227Z"
   },
   {
    "duration": 31,
    "start_time": "2022-03-27T00:26:54.271Z"
   },
   {
    "duration": 18,
    "start_time": "2022-03-27T00:26:54.304Z"
   },
   {
    "duration": 44,
    "start_time": "2022-03-27T00:26:54.324Z"
   },
   {
    "duration": 34,
    "start_time": "2022-03-27T00:26:54.370Z"
   },
   {
    "duration": 34,
    "start_time": "2022-03-27T00:26:54.406Z"
   },
   {
    "duration": 14,
    "start_time": "2022-03-27T00:26:54.467Z"
   },
   {
    "duration": 20,
    "start_time": "2022-03-27T00:26:54.483Z"
   },
   {
    "duration": 5,
    "start_time": "2022-03-27T00:26:54.506Z"
   },
   {
    "duration": 5,
    "start_time": "2022-03-27T00:26:54.513Z"
   },
   {
    "duration": 59,
    "start_time": "2022-03-27T00:26:54.520Z"
   },
   {
    "duration": 6,
    "start_time": "2022-03-27T00:26:54.581Z"
   },
   {
    "duration": 6,
    "start_time": "2022-03-27T00:26:54.589Z"
   },
   {
    "duration": 351,
    "start_time": "2022-03-27T00:26:54.598Z"
   },
   {
    "duration": 18,
    "start_time": "2022-03-27T00:26:54.951Z"
   },
   {
    "duration": 12,
    "start_time": "2022-03-27T00:26:54.975Z"
   },
   {
    "duration": 11,
    "start_time": "2022-03-27T00:26:54.989Z"
   },
   {
    "duration": 12,
    "start_time": "2022-03-27T00:26:55.002Z"
   },
   {
    "duration": 10,
    "start_time": "2022-03-27T00:26:55.016Z"
   },
   {
    "duration": 42,
    "start_time": "2022-03-27T00:26:55.028Z"
   },
   {
    "duration": 24,
    "start_time": "2022-03-27T00:26:55.072Z"
   },
   {
    "duration": 377,
    "start_time": "2022-03-27T00:26:55.098Z"
   },
   {
    "duration": 292,
    "start_time": "2022-03-27T00:26:55.477Z"
   },
   {
    "duration": 1506,
    "start_time": "2022-03-27T00:26:55.771Z"
   },
   {
    "duration": 5,
    "start_time": "2022-03-27T00:26:57.280Z"
   },
   {
    "duration": 14,
    "start_time": "2022-03-27T00:26:57.288Z"
   },
   {
    "duration": 5,
    "start_time": "2022-03-27T00:26:57.305Z"
   },
   {
    "duration": 2447,
    "start_time": "2022-03-27T00:26:57.312Z"
   },
   {
    "duration": 25,
    "start_time": "2022-03-27T00:26:59.761Z"
   },
   {
    "duration": 142,
    "start_time": "2022-03-27T00:26:59.788Z"
   },
   {
    "duration": 8,
    "start_time": "2022-03-27T00:26:59.933Z"
   },
   {
    "duration": 43,
    "start_time": "2022-03-27T00:26:59.944Z"
   },
   {
    "duration": 33,
    "start_time": "2022-03-27T00:26:59.990Z"
   },
   {
    "duration": 44,
    "start_time": "2022-03-27T00:27:00.026Z"
   },
   {
    "duration": 2503,
    "start_time": "2022-03-27T00:27:00.072Z"
   },
   {
    "duration": 4,
    "start_time": "2022-03-27T00:27:02.577Z"
   },
   {
    "duration": 5,
    "start_time": "2022-03-27T00:27:02.584Z"
   },
   {
    "duration": 11,
    "start_time": "2022-03-27T00:27:02.592Z"
   },
   {
    "duration": 22,
    "start_time": "2022-03-27T00:27:02.605Z"
   },
   {
    "duration": 42,
    "start_time": "2022-03-27T00:27:02.629Z"
   },
   {
    "duration": 11,
    "start_time": "2022-03-27T00:27:02.674Z"
   },
   {
    "duration": 12,
    "start_time": "2022-03-27T00:27:02.687Z"
   },
   {
    "duration": 13,
    "start_time": "2022-03-27T00:27:02.701Z"
   },
   {
    "duration": 51,
    "start_time": "2022-03-27T00:27:02.717Z"
   },
   {
    "duration": 19,
    "start_time": "2022-03-27T00:27:02.770Z"
   },
   {
    "duration": 19,
    "start_time": "2022-03-27T00:27:02.792Z"
   },
   {
    "duration": 15,
    "start_time": "2022-03-27T00:27:02.813Z"
   },
   {
    "duration": 42,
    "start_time": "2022-03-27T00:27:02.829Z"
   },
   {
    "duration": 2800,
    "start_time": "2022-03-27T00:27:02.874Z"
   },
   {
    "duration": 102292,
    "start_time": "2022-03-27T00:27:05.767Z"
   },
   {
    "duration": 10,
    "start_time": "2022-03-27T00:28:48.061Z"
   },
   {
    "duration": 283,
    "start_time": "2022-03-27T00:28:48.072Z"
   },
   {
    "duration": 266,
    "start_time": "2022-03-27T00:28:48.357Z"
   },
   {
    "duration": 4,
    "start_time": "2022-03-27T00:28:48.626Z"
   },
   {
    "duration": 1656,
    "start_time": "2022-03-27T10:47:20.757Z"
   },
   {
    "duration": 5,
    "start_time": "2022-03-27T10:47:24.212Z"
   },
   {
    "duration": 606,
    "start_time": "2022-03-27T10:47:24.692Z"
   },
   {
    "duration": 21,
    "start_time": "2022-03-27T10:47:25.724Z"
   },
   {
    "duration": 17,
    "start_time": "2022-03-27T10:47:26.444Z"
   },
   {
    "duration": 13,
    "start_time": "2022-03-27T10:47:26.828Z"
   },
   {
    "duration": 17,
    "start_time": "2022-03-27T10:47:27.227Z"
   },
   {
    "duration": 8,
    "start_time": "2022-03-27T10:47:28.340Z"
   },
   {
    "duration": 16,
    "start_time": "2022-03-27T10:47:28.699Z"
   },
   {
    "duration": 5,
    "start_time": "2022-03-27T10:47:29.044Z"
   },
   {
    "duration": 11,
    "start_time": "2022-03-27T10:47:29.813Z"
   },
   {
    "duration": 3,
    "start_time": "2022-03-27T10:47:30.983Z"
   },
   {
    "duration": 3,
    "start_time": "2022-03-27T10:47:31.316Z"
   },
   {
    "duration": 20,
    "start_time": "2022-03-27T10:47:31.621Z"
   },
   {
    "duration": 11,
    "start_time": "2022-03-27T10:47:31.902Z"
   },
   {
    "duration": 15,
    "start_time": "2022-03-27T10:47:33.093Z"
   },
   {
    "duration": 21,
    "start_time": "2022-03-27T10:47:34.036Z"
   },
   {
    "duration": 20,
    "start_time": "2022-03-27T10:47:34.405Z"
   },
   {
    "duration": 15,
    "start_time": "2022-03-27T10:47:35.125Z"
   },
   {
    "duration": 17,
    "start_time": "2022-03-27T10:47:35.749Z"
   },
   {
    "duration": 5,
    "start_time": "2022-03-27T10:47:37.021Z"
   },
   {
    "duration": 3,
    "start_time": "2022-03-27T10:47:37.341Z"
   },
   {
    "duration": 10,
    "start_time": "2022-03-27T10:47:37.661Z"
   },
   {
    "duration": 4,
    "start_time": "2022-03-27T10:47:38.045Z"
   },
   {
    "duration": 3,
    "start_time": "2022-03-27T10:47:38.654Z"
   },
   {
    "duration": 197,
    "start_time": "2022-03-27T10:47:39.373Z"
   },
   {
    "duration": 186,
    "start_time": "2022-03-27T10:50:22.731Z"
   },
   {
    "duration": 616,
    "start_time": "2022-03-27T10:50:29.315Z"
   },
   {
    "duration": 294,
    "start_time": "2022-03-27T10:51:23.875Z"
   },
   {
    "duration": 1462,
    "start_time": "2022-03-27T10:54:43.522Z"
   },
   {
    "duration": 5,
    "start_time": "2022-03-27T10:54:44.986Z"
   },
   {
    "duration": 932,
    "start_time": "2022-03-27T10:54:44.993Z"
   },
   {
    "duration": 30,
    "start_time": "2022-03-27T10:54:45.927Z"
   },
   {
    "duration": 32,
    "start_time": "2022-03-27T10:54:45.959Z"
   },
   {
    "duration": 15,
    "start_time": "2022-03-27T10:54:45.993Z"
   },
   {
    "duration": 15,
    "start_time": "2022-03-27T10:54:46.010Z"
   },
   {
    "duration": 7,
    "start_time": "2022-03-27T10:54:46.026Z"
   },
   {
    "duration": 42,
    "start_time": "2022-03-27T10:54:46.034Z"
   },
   {
    "duration": 10,
    "start_time": "2022-03-27T10:54:46.098Z"
   },
   {
    "duration": 30,
    "start_time": "2022-03-27T10:54:46.110Z"
   },
   {
    "duration": 3,
    "start_time": "2022-03-27T10:54:46.142Z"
   },
   {
    "duration": 18,
    "start_time": "2022-03-27T10:54:46.147Z"
   },
   {
    "duration": 47,
    "start_time": "2022-03-27T10:54:46.167Z"
   },
   {
    "duration": 30,
    "start_time": "2022-03-27T10:54:46.216Z"
   },
   {
    "duration": 12,
    "start_time": "2022-03-27T10:54:46.248Z"
   },
   {
    "duration": 25,
    "start_time": "2022-03-27T10:54:46.262Z"
   },
   {
    "duration": 20,
    "start_time": "2022-03-27T10:54:46.288Z"
   },
   {
    "duration": 11,
    "start_time": "2022-03-27T10:54:46.310Z"
   },
   {
    "duration": 12,
    "start_time": "2022-03-27T10:54:46.323Z"
   },
   {
    "duration": 4,
    "start_time": "2022-03-27T10:54:46.337Z"
   },
   {
    "duration": 5,
    "start_time": "2022-03-27T10:54:46.343Z"
   },
   {
    "duration": 16,
    "start_time": "2022-03-27T10:54:46.350Z"
   },
   {
    "duration": 6,
    "start_time": "2022-03-27T10:54:46.367Z"
   },
   {
    "duration": 13,
    "start_time": "2022-03-27T10:54:46.374Z"
   },
   {
    "duration": 206,
    "start_time": "2022-03-27T10:54:46.388Z"
   },
   {
    "duration": 322,
    "start_time": "2022-03-27T10:54:46.595Z"
   },
   {
    "duration": 5,
    "start_time": "2022-03-27T10:54:46.921Z"
   },
   {
    "duration": 7,
    "start_time": "2022-03-27T10:54:46.927Z"
   },
   {
    "duration": 12,
    "start_time": "2022-03-27T10:54:46.936Z"
   },
   {
    "duration": 11,
    "start_time": "2022-03-27T10:54:46.949Z"
   },
   {
    "duration": 5,
    "start_time": "2022-03-27T10:54:46.961Z"
   },
   {
    "duration": 14,
    "start_time": "2022-03-27T10:54:46.968Z"
   },
   {
    "duration": 28,
    "start_time": "2022-03-27T10:54:46.983Z"
   },
   {
    "duration": 268,
    "start_time": "2022-03-27T10:54:47.012Z"
   },
   {
    "duration": 437,
    "start_time": "2022-03-27T10:54:47.282Z"
   },
   {
    "duration": 804,
    "start_time": "2022-03-27T10:54:47.721Z"
   },
   {
    "duration": 3,
    "start_time": "2022-03-27T10:54:48.527Z"
   },
   {
    "duration": 9,
    "start_time": "2022-03-27T10:54:48.532Z"
   },
   {
    "duration": 3,
    "start_time": "2022-03-27T10:54:48.543Z"
   },
   {
    "duration": 2205,
    "start_time": "2022-03-27T10:54:48.548Z"
   },
   {
    "duration": 27,
    "start_time": "2022-03-27T10:54:50.755Z"
   },
   {
    "duration": 131,
    "start_time": "2022-03-27T10:54:50.784Z"
   },
   {
    "duration": 7,
    "start_time": "2022-03-27T10:54:50.917Z"
   },
   {
    "duration": 22,
    "start_time": "2022-03-27T10:54:50.926Z"
   },
   {
    "duration": 33,
    "start_time": "2022-03-27T10:54:50.949Z"
   },
   {
    "duration": 10,
    "start_time": "2022-03-27T10:54:50.983Z"
   },
   {
    "duration": 1421,
    "start_time": "2022-03-27T10:54:50.994Z"
   },
   {
    "duration": 4,
    "start_time": "2022-03-27T10:54:52.417Z"
   },
   {
    "duration": 7,
    "start_time": "2022-03-27T10:54:52.423Z"
   },
   {
    "duration": 11,
    "start_time": "2022-03-27T10:54:52.432Z"
   },
   {
    "duration": 16,
    "start_time": "2022-03-27T10:54:52.444Z"
   },
   {
    "duration": 19,
    "start_time": "2022-03-27T10:54:52.462Z"
   },
   {
    "duration": 10,
    "start_time": "2022-03-27T10:54:52.483Z"
   },
   {
    "duration": 10,
    "start_time": "2022-03-27T10:54:52.495Z"
   },
   {
    "duration": 14,
    "start_time": "2022-03-27T10:54:52.507Z"
   },
   {
    "duration": 12,
    "start_time": "2022-03-27T10:54:52.522Z"
   },
   {
    "duration": 15,
    "start_time": "2022-03-27T10:54:52.535Z"
   },
   {
    "duration": 17,
    "start_time": "2022-03-27T10:54:52.552Z"
   },
   {
    "duration": 15,
    "start_time": "2022-03-27T10:54:52.571Z"
   },
   {
    "duration": 6,
    "start_time": "2022-03-27T10:54:52.588Z"
   },
   {
    "duration": 3589,
    "start_time": "2022-03-27T10:54:52.596Z"
   },
   {
    "duration": 79144,
    "start_time": "2022-03-27T10:54:56.187Z"
   },
   {
    "duration": 3,
    "start_time": "2022-03-27T10:56:15.332Z"
   },
   {
    "duration": 213,
    "start_time": "2022-03-27T10:56:15.337Z"
   },
   {
    "duration": 207,
    "start_time": "2022-03-27T10:56:15.551Z"
   },
   {
    "duration": 3,
    "start_time": "2022-03-27T10:56:15.759Z"
   }
  ],
  "kernelspec": {
   "display_name": "Python 3",
   "language": "python",
   "name": "python3"
  },
  "language_info": {
   "codemirror_mode": {
    "name": "ipython",
    "version": 3
   },
   "file_extension": ".py",
   "mimetype": "text/x-python",
   "name": "python",
   "nbconvert_exporter": "python",
   "pygments_lexer": "ipython3",
   "version": "3.6.8"
  },
  "toc": {
   "base_numbering": 1,
   "nav_menu": {},
   "number_sections": true,
   "sideBar": true,
   "skip_h1_title": true,
   "title_cell": "Содержание",
   "title_sidebar": "Contents",
   "toc_cell": true,
   "toc_position": {
    "height": "calc(100% - 180px)",
    "left": "10px",
    "top": "150px",
    "width": "368.391px"
   },
   "toc_section_display": true,
   "toc_window_display": true
  },
  "vscode": {
   "interpreter": {
    "hash": "05ece30799c2dcdac4c13b3af20453da19de8df0d9a1de52cff7e0b6e1e82bdd"
   }
  }
 },
 "nbformat": 4,
 "nbformat_minor": 2
}
